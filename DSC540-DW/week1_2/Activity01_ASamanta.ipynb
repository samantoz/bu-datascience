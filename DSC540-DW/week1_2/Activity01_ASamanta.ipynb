{
 "cells": [
  {
   "cell_type": "markdown",
   "metadata": {},
   "source": [
    "# Create a list of random numbers and then create another list from this one whose elements are divisible by three. Also repeat the experiment few times (at least three times) and calculate the arithimetic mean of the differenence of length of the two lists"
   ]
  },
  {
   "cell_type": "markdown",
   "metadata": {},
   "source": [
    "### Task-1\n",
    "\n",
    "Create a list of random numbers (at least 100 in length but we encourage you to play with the length)\n",
    "\n",
    "__Pay attention so that this list has as less number of duplicates as possible__"
   ]
  },
  {
   "cell_type": "code",
   "execution_count": 1,
   "metadata": {},
   "outputs": [],
   "source": [
    "### Write your code here below this comment\n",
    "\n",
    "import random\n",
    "list_1 = [random.randint(0, 30) for x in range (0, 100)]"
   ]
  },
  {
   "cell_type": "markdown",
   "metadata": {},
   "source": [
    "### Task-2\n",
    "\n",
    "Write a list comprehension to generate a second list from the one you just created. The condition of membership in the second list is divisibility by 3."
   ]
  },
  {
   "cell_type": "code",
   "execution_count": 2,
   "metadata": {},
   "outputs": [],
   "source": [
    "### Write your code bellow this comment\n",
    "\n",
    "list_2 = [x for x in list_1 if x % 3 == 0]"
   ]
  },
  {
   "cell_type": "markdown",
   "metadata": {},
   "source": [
    "### Task-3\n",
    "\n",
    "- Use the `len` function to measure the length of the first list and the second list\n",
    "- Store both in two different variables\n",
    "- Calculate the difference of length between them"
   ]
  },
  {
   "cell_type": "code",
   "execution_count": 3,
   "metadata": {},
   "outputs": [
    {
     "data": {
      "text/plain": [
       "64"
      ]
     },
     "execution_count": 3,
     "metadata": {},
     "output_type": "execute_result"
    }
   ],
   "source": [
    "### Write your code below this comment\n",
    "len_list_1 = len(list_1)\n",
    "len_list_2 = len(list_2)\n",
    "\n",
    "len_list_1 - len_list_2"
   ]
  },
  {
   "cell_type": "markdown",
   "metadata": {},
   "source": [
    "### Task-4\n",
    "\n",
    "- Pack `Task-2` and `Task-3` in a single while loop and perform them few times in such a way that at the end you have a list with difference of length\n",
    "- End the while loop when desired number of experiments are finished (at least three, please feel free to do more)\n",
    "- Calculate the arithmetic mean (common average) on the difference of length that you have. (How to sum all values of a list?)"
   ]
  },
  {
   "cell_type": "code",
   "execution_count": 4,
   "metadata": {},
   "outputs": [
    {
     "data": {
      "text/plain": [
       "[68, 68, 66, 64, 66, 61]"
      ]
     },
     "execution_count": 4,
     "metadata": {},
     "output_type": "execute_result"
    }
   ],
   "source": [
    "### Write your code below this comment.\n",
    "n = 5 # Number of experiments performed\n",
    "ctr = 0 # initializing the counter for the while loop\n",
    "\n",
    "difference = [] # empty list to include the difference in the length of the two lists\n",
    "\n",
    "# while loop\n",
    "while ctr <= n:\n",
    "    list_1 = [random.randint(0, 30) for x in range (0, 100)]\n",
    "    list_2 = [x for x in list_1 if x % 3 == 0]\n",
    "    \n",
    "    diff = len(list_1) - len(list_2)\n",
    "    \n",
    "    difference.append(diff)\n",
    "    \n",
    "    ctr = ctr + 1\n",
    "    \n",
    "difference"
   ]
  },
  {
   "cell_type": "code",
   "execution_count": 5,
   "metadata": {},
   "outputs": [
    {
     "data": {
      "text/plain": [
       "65.5"
      ]
     },
     "execution_count": 5,
     "metadata": {},
     "output_type": "execute_result"
    }
   ],
   "source": [
    "# Now calculate the mean difference of the length  \n",
    "mean_difference = sum(difference)/len(difference)\n",
    "mean_difference"
   ]
  },
  {
   "cell_type": "code",
   "execution_count": null,
   "metadata": {},
   "outputs": [],
   "source": []
  }
 ],
 "metadata": {
  "kernelspec": {
   "display_name": "Python 3",
   "language": "python",
   "name": "python3"
  },
  "language_info": {
   "codemirror_mode": {
    "name": "ipython",
    "version": 3
   },
   "file_extension": ".py",
   "mimetype": "text/x-python",
   "name": "python",
   "nbconvert_exporter": "python",
   "pygments_lexer": "ipython3",
   "version": "3.8.3"
  }
 },
 "nbformat": 4,
 "nbformat_minor": 4
}
