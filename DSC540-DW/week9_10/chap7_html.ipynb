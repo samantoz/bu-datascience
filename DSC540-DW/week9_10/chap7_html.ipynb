{
 "cells": [
  {
   "cell_type": "code",
   "execution_count": 1,
   "metadata": {},
   "outputs": [],
   "source": [
    "# Import the requests library\n",
    "import requests"
   ]
  },
  {
   "cell_type": "code",
   "execution_count": 2,
   "metadata": {},
   "outputs": [],
   "source": [
    "# Assign the web page url to a variable \n",
    "wiki_home = \"https://en.wikipedia.org/wiki/Main_page\""
   ]
  },
  {
   "cell_type": "code",
   "execution_count": 3,
   "metadata": {},
   "outputs": [],
   "source": [
    "# use the get method from the requests library to get a response\n",
    "response = requests.get(wiki_home)"
   ]
  },
  {
   "cell_type": "code",
   "execution_count": 4,
   "metadata": {},
   "outputs": [],
   "source": [
    "# create a status check function\n",
    "def status_check(r):\n",
    "    if r.status_code==200:\n",
    "        print(\"Success!\")\n",
    "        return 1\n",
    "    else:\n",
    "        print(\"Failed!\")\n",
    "        return -1"
   ]
  },
  {
   "cell_type": "code",
   "execution_count": 5,
   "metadata": {},
   "outputs": [
    {
     "name": "stdout",
     "output_type": "stream",
     "text": [
      "Success!\n"
     ]
    },
    {
     "data": {
      "text/plain": [
       "1"
      ]
     },
     "execution_count": 5,
     "metadata": {},
     "output_type": "execute_result"
    }
   ],
   "source": [
    "status_check(response)"
   ]
  },
  {
   "cell_type": "code",
   "execution_count": 6,
   "metadata": {},
   "outputs": [],
   "source": [
    "def encoding_check(r):\n",
    "    return(r.encoding)"
   ]
  },
  {
   "cell_type": "code",
   "execution_count": 7,
   "metadata": {},
   "outputs": [
    {
     "data": {
      "text/plain": [
       "'UTF-8'"
      ]
     },
     "execution_count": 7,
     "metadata": {},
     "output_type": "execute_result"
    }
   ],
   "source": [
    "encoding_check(response)"
   ]
  },
  {
   "cell_type": "code",
   "execution_count": 8,
   "metadata": {},
   "outputs": [],
   "source": [
    "def decode_content(r, encoding):\n",
    "    return(r.content.decode(encoding))\n",
    "\n",
    "contents = decode_content(response, encoding_check(response))"
   ]
  },
  {
   "cell_type": "code",
   "execution_count": 9,
   "metadata": {},
   "outputs": [
    {
     "data": {
      "text/plain": [
       "str"
      ]
     },
     "execution_count": 9,
     "metadata": {},
     "output_type": "execute_result"
    }
   ],
   "source": [
    "type(contents)"
   ]
  },
  {
   "cell_type": "code",
   "execution_count": 10,
   "metadata": {},
   "outputs": [
    {
     "data": {
      "text/plain": [
       "79120"
      ]
     },
     "execution_count": 10,
     "metadata": {},
     "output_type": "execute_result"
    }
   ],
   "source": [
    "len(contents)"
   ]
  },
  {
   "cell_type": "code",
   "execution_count": 11,
   "metadata": {},
   "outputs": [
    {
     "data": {
      "text/plain": [
       "'<!DOCTYPE html>\\n<html class=\"client-nojs\" lang=\"en\" dir=\"ltr\">\\n<head>\\n<meta charset=\"UTF-8\"/>\\n<title>Wikipedia, the free encyclopedia</title>\\n<script>document.documentElement.className=\"client-js\";RLCONF={\"wgBreakFrames\":!1,\"wgSeparatorTransformTable\":[\"\",\"\"],\"wgDigitTransformTable\":[\"\",\"\"],\"wgDefaultDateFormat\":\"dmy\",\"wgMonthNames\":[\"\",\"January\",\"February\",\"March\",\"April\",\"May\",\"June\",\"July\",\"August\",\"September\",\"October\",\"November\",\"December\"],\"wgRequestId\":\"ab9247cb-4b3a-4e81-b11c-ba9cee5502e6\",\"wgCSPNonce\":!1,\"wgCanonicalNamespace\":\"\",\"wgCanonicalSpecialPageName\":!1,\"wgNamespaceNumber\":0,\"wgPageName\":\"Main_Page\",\"wgTitle\":\"Main Page\",\"wgCurRevisionId\":969106986,\"wgRevisionId\":969106986,\"wgArticleId\":15580374,\"wgIsArticle\":!0,\"wgIsRedirect\":!1,\"wgAction\":\"view\",\"wgUserName\":null,\"wgUserGroups\":[\"*\"],\"wgCategories\":[],\"wgPageContentLanguage\":\"en\",\"wgPageContentModel\":\"wikitext\",\"wgRelevantPageName\":\"Main_Page\",\"wgRelevantArticleId\":15580374,\"wgIsProbablyEditable\":!1,\"wgRelevantPageIs'"
      ]
     },
     "execution_count": 11,
     "metadata": {},
     "output_type": "execute_result"
    }
   ],
   "source": [
    "# print the first 10000 characters\n",
    "contents[:1000]"
   ]
  },
  {
   "cell_type": "code",
   "execution_count": 12,
   "metadata": {},
   "outputs": [],
   "source": [
    "# import the BeautifulSoup package and then pass the whole string (HTML content) to a method for parsing\n",
    "from bs4 import BeautifulSoup\n",
    "soup = BeautifulSoup(contents, 'html.parser')"
   ]
  },
  {
   "cell_type": "code",
   "execution_count": 13,
   "metadata": {},
   "outputs": [],
   "source": [
    "txt_dump = soup.text"
   ]
  },
  {
   "cell_type": "code",
   "execution_count": 14,
   "metadata": {},
   "outputs": [
    {
     "data": {
      "text/plain": [
       "str"
      ]
     },
     "execution_count": 14,
     "metadata": {},
     "output_type": "execute_result"
    }
   ],
   "source": [
    "type(txt_dump)"
   ]
  },
  {
   "cell_type": "code",
   "execution_count": 15,
   "metadata": {},
   "outputs": [
    {
     "data": {
      "text/plain": [
       "9136"
      ]
     },
     "execution_count": 15,
     "metadata": {},
     "output_type": "execute_result"
    }
   ],
   "source": [
    "len(txt_dump)"
   ]
  },
  {
   "cell_type": "markdown",
   "metadata": {},
   "source": [
    "##### The length of the text dump is much smaller than the raw HTML's string length. This is because bs4 has parsed through the HTML and extracted only human readable text for further processing. "
   ]
  },
  {
   "cell_type": "code",
   "execution_count": 16,
   "metadata": {},
   "outputs": [
    {
     "data": {
      "text/plain": [
       "\"ree encyclopedia\\n\\xa0\\xa0(Redirected from Main page)\\n\\n\\nJump to navigation\\nJump to search\\n\\n\\n\\nWelcome to Wikipedia,\\nthe free encyclopedia that anyone can edit.\\n6,181,201 articles in English\\n\\n\\nArts\\nBiography\\nGeography\\nHistory\\nMathematics\\nScience\\nSociety\\nTechnology\\nAll portals\\n\\n\\n\\n\\n\\nFrom today's featured article\\n\\n\\nMounted Cetiosauriscus skeleton\\n\\nCetiosauriscus was a sauropod dinosaur that lived between 166 and 164\\xa0million years ago, during the Middle Jurassic. It was a herbivore with a moderately long tail and long forelimbs, compared to other sauropods. It has been estimated at about 15 metres (49\\xa0ft) long and between 4 and 10 tonnes (3.9 and 9.8 long tons; 4.4 and 11.0 short tons) in weight. Its only known fossil includes a hindlimb and most of the rear half of a skeleton. Found in Cambridgeshire, England, in the 1890s, it was described by Arthur Smith Woodward in 1905 as a new specimen of the s\""
      ]
     },
     "execution_count": 16,
     "metadata": {},
     "output_type": "execute_result"
    }
   ],
   "source": [
    "# print the initial portion of this text\n",
    "txt_dump[100:1000]"
   ]
  },
  {
   "cell_type": "code",
   "execution_count": 17,
   "metadata": {},
   "outputs": [
    {
     "name": "stdout",
     "output_type": "stream",
     "text": [
      "ree encyclopedia\n",
      "  (Redirected from Main page)\n",
      "\n",
      "\n",
      "Jump to navigation\n",
      "Jump to search\n",
      "\n",
      "\n",
      "\n",
      "Welcome to Wikipedia,\n",
      "the free encyclopedia that anyone can edit.\n",
      "6,181,201 articles in English\n",
      "\n",
      "\n",
      "Arts\n",
      "Biography\n",
      "Geography\n",
      "History\n",
      "Mathematics\n",
      "Science\n",
      "Society\n",
      "Technology\n",
      "All portals\n",
      "\n",
      "\n",
      "\n",
      "\n",
      "\n",
      "From today's featured article\n",
      "\n",
      "\n",
      "Mounted Cetiosauriscus skeleton\n",
      "\n",
      "Cetiosauriscus was a sauropod dinosaur that lived between 166 and 164 million years ago, during the Middle Jurassic. It was a herbivore with a moderately long tail and long forelimbs, compared to other sauropods. It has been estimated at about 15 metres (49 ft) long and between 4 and 10 tonnes (3.9 and 9.8 long tons; 4.4 and 11.0 short tons) in weight. Its only known fossil includes a hindlimb and most of the rear half of a skeleton. Found in Cambridgeshire, England, in the 1890s, it was described by Arthur Smith Woodward in 1905 as a new specimen of the s\n"
     ]
    }
   ],
   "source": [
    "print(txt_dump[100:1000])"
   ]
  },
  {
   "cell_type": "code",
   "execution_count": 18,
   "metadata": {},
   "outputs": [
    {
     "name": "stdout",
     "output_type": "stream",
     "text": [
      "\n",
      "\n",
      "\n",
      "Mounted Cetiosauriscus skeleton\n",
      "\n",
      "Cetiosauriscus was a sauropod dinosaur that lived between 166 and 164 million years ago, during the Middle Jurassic. It was a herbivore with a moderately long tail and long forelimbs, compared to other sauropods. It has been estimated at about 15 metres (49 ft) long and between 4 and 10 tonnes (3.9 and 9.8 long tons; 4.4 and 11.0 short tons) in weight. Its only known fossil includes a hindlimb and most of the rear half of a skeleton. Found in Cambridgeshire, England, in the 1890s, it was described by Arthur Smith Woodward in 1905 as a new specimen of the species Cetiosaurus leedsi, which was moved to the new genus Cetiosauriscus in 1927 by Friedrich von Huene. In 1980, Alan Charig proposed the current name Cetiosauriscus stewarti. The fossil was found in the marine deposits of the Oxford Clay Formation alongside many invertebrate groups, marine ichthyosaurs, plesiosaurs and crocodylians, a single pterosaur, and various dinosaurs, including an ankylosaur, stegosaurs, and an ornithopod. (Full article...)\n",
      "\n",
      "\n",
      "\n"
     ]
    }
   ],
   "source": [
    "# extracting text from sections\n",
    "idx1 = txt_dump.find(\"From today's featured article\")\n",
    "idx2 = txt_dump.find(\"Recently featured\")\n",
    "\n",
    "print(txt_dump[idx1 + len(\"From today's featured article\"):idx2])"
   ]
  },
  {
   "cell_type": "code",
   "execution_count": 19,
   "metadata": {},
   "outputs": [],
   "source": [
    "# using advanced bs4 techniques to extract relevant text\n",
    "# the find_all method returns a NavigableString class which has useful text method associated with it for extraction\n",
    "# create an empty list and append the text \n",
    "text_list=[] # Empty list\n",
    "\n",
    "for d in soup.find_all('div'):\n",
    "    if (d.get('id')=='mp-otd'):\n",
    "        for i in d.find_all('ul'):\n",
    "            text_list.append(i.text)"
   ]
  },
  {
   "cell_type": "code",
   "execution_count": 20,
   "metadata": {},
   "outputs": [
    {
     "name": "stdout",
     "output_type": "stream",
     "text": [
      "1453 – Ladislaus the Posthumous (pictured) was crowned King of Bohemia, although George of Poděbrady remained in control of the government.\n",
      "1707 – The Hōei earthquake ruptured all segments of the Nankai megathrust simultaneously – the only earthquake known to have done this.\n",
      "1918 – The Czechoslovak provisional government declared the country's independence from Austria-Hungary, forming the First Czechoslovak Republic in Prague.\n",
      "1940 – World War II: Italy invaded Greece after Greek prime minister Ioannis Metaxas rejected Benito Mussolini's ultimatum demanding the cession of Greek territory.\n",
      "1995 – A fire broke out on a Baku Metro train in Azerbaijan's capital, killing 289 people and injuring 270 others in the world's deadliest subway disaster.\n",
      "====================================================================================================\n",
      "Peter Tordenskjold  (b. 1691)Charlotte Turner Smith  (d. 1806)Carlos Guastavino  (d. 2000)\n",
      "====================================================================================================\n",
      "October 27\n",
      "October 28\n",
      "October 29\n",
      "====================================================================================================\n",
      "Archive\n",
      "By email\n",
      "List of days of the year\n",
      "====================================================================================================\n"
     ]
    }
   ],
   "source": [
    "for i in text_list:\n",
    "    print(i)\n",
    "    print(\"=\"*100)"
   ]
  },
  {
   "cell_type": "code",
   "execution_count": null,
   "metadata": {},
   "outputs": [],
   "source": []
  }
 ],
 "metadata": {
  "kernelspec": {
   "display_name": "Python 3",
   "language": "python",
   "name": "python3"
  },
  "language_info": {
   "codemirror_mode": {
    "name": "ipython",
    "version": 3
   },
   "file_extension": ".py",
   "mimetype": "text/x-python",
   "name": "python",
   "nbconvert_exporter": "python",
   "pygments_lexer": "ipython3",
   "version": "3.7.6"
  }
 },
 "nbformat": 4,
 "nbformat_minor": 4
}
