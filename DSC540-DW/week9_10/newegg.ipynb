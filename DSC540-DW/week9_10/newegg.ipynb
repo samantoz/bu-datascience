{
 "cells": [
  {
   "cell_type": "code",
   "execution_count": 1,
   "metadata": {},
   "outputs": [
    {
     "name": "stdout",
     "output_type": "stream",
     "text": [
      "Make :ASUS\n",
      "Product Name :ASUS ZenBook 14 Ultra Thin and Light Laptop, 4-Way NanoEdge 14\" FHD, Intel Core i7-10510U, 8 GB RAM, 512 GB PCIe SSD, NVIDIA GeForce MX250, Windows 10 Home, Utopia Blue, UX431FL-EH74\n",
      "Shipping :Free Shipping\n",
      "Price :849.99\n",
      "Make :Acer America\n",
      "Product Name :Acer Laptop Aspire 5 A515-55-576H Intel Core i5 10th Gen 1035G1 (1.00 GHz) 8 GB Memory 512 GB PCIe SSD Intel UHD Graphics 15.6\" Windows 10 Home 64-bit\n",
      "Shipping :Free Shipping\n",
      "Price :599.99\n",
      "Make :MSI\n",
      "Product Name :MSI Laptop Modern 14 B10MW-017 Intel Core i5 10th Gen 10210U (1.60 GHz) 8 GB Memory 256 GB NVMe SSD Intel UHD Graphics 14.0\" Windows 10 Pro 64-bit\n",
      "Shipping :$2.99 Shipping\n",
      "Price :699.00\n",
      "Make :ASUS\n",
      "Product Name :Refurbished: Asus VivoBook F412DA-WS33 AMD Ryzen 3 3250U 14\" Anti-Glare FHD 1920x1080 8 GB DDR4 RAM 256 GB SSD AMD Radeon™ Vega 3 Graphics Backlit Chiclet Keyboard Windows 10 S - Black\n",
      "Shipping :Free Shipping\n",
      "Price :389.99\n",
      "Make :ASUS\n",
      "Product Name :ASUS ZenBook 14 Ultra-Slim Laptop 14\" Full HD 4-Way NanoEdge Bezel, AMD R7 3700U CPU, 16 GB DDR4, 1 TB PCIe SSD, Windows 10 Pro - UM433DA-NH74, Icicle Silver\n",
      "Shipping :Free Shipping\n",
      "Price :819.99\n",
      "Make :ASUS\n",
      "Product Name :ASUS VivoBook S15 S512FL Thin and Light Laptop, 15.6\" FHD, Intel Core i7-10510U CPU, 8 GB RAM, 512 GB PCIe SSD, NVIDIA GeForce MX250 Graphics, FingerPrint, Windows 10 Home, S512FL-NB71, Silver-Metal\n",
      "Shipping :Free Shipping\n",
      "Price :759.99\n",
      "Make :ASUS\n",
      "Product Name :ASUS VivoBook 14 Laptop, 14\" FHD, AMD Ryzen 7-3700U, AMD Radeon RX Vega 10 Graphics, 8 GB DDR4 RAM, 512 GB PCIe SSD, Backlit KB, Fingerprint, Windows 10 Home, Slate Grey, F412DA-NH77\n",
      "Shipping :Free Shipping\n",
      "Price :569.99\n"
     ]
    }
   ],
   "source": [
    "# write the output to a csv file\n",
    "from urllib.request import urlopen as uReq\n",
    "from bs4 import BeautifulSoup as soup\n",
    "\n",
    "my_url = \"https://www.newegg.com/Laptops-Notebooks/Category/ID-223\"\n",
    "\n",
    "# Opening the connection and grabbing the page\n",
    "uClient = uReq(my_url)\n",
    "page_html = uClient.read()\n",
    "uClient.close()\n",
    "\n",
    "#html parsing\n",
    "page_soup = soup(page_html, \"html.parser\")\n",
    "\n",
    "#grabs each product\n",
    "containers = page_soup.findAll(\"div\",{\"class\":\"item-container\"})\n",
    "\n",
    "filename = \"laptops.csv\"\n",
    "f = open(filename,\"w\")\n",
    "\n",
    "headers = \"Make,Product_Desc,Shipping,Price\\n\"\n",
    "\n",
    "f.write(headers)\n",
    "\n",
    "for container in containers:\n",
    "    make = container.div.div.a.img[\"title\"]\n",
    "    \n",
    "    title_container = container.findAll(\"a\",{\"class\":\"item-title\"})\n",
    "    product_name = title_container[0].text\n",
    "    \n",
    "    shipping_container = container.findAll(\"li\",{\"class\":\"price-ship\"})\n",
    "    shipping = shipping_container[0].text.strip()\n",
    "    \n",
    "    price_container = container.findAll(\"li\",{\"class\":\"price-current\"})\n",
    "    price = price_container[0].strong.text + price_container[0].sup.text\n",
    "    print('Make :' + make)\n",
    "    print('Product Name :' + product_name)\n",
    "    print('Shipping :' + shipping)\n",
    "    print('Price :' + price)\n",
    "    # print(\"=\"*100)\n",
    "    f.write(make + \",\" + product_name.replace(\",\",\"|\") + \",\" + shipping + \",\" + price + \"\\n\")\n",
    "\n",
    "f.close()"
   ]
  },
  {
   "cell_type": "code",
   "execution_count": null,
   "metadata": {},
   "outputs": [],
   "source": []
  }
 ],
 "metadata": {
  "kernelspec": {
   "display_name": "Python 3",
   "language": "python",
   "name": "python3"
  },
  "language_info": {
   "codemirror_mode": {
    "name": "ipython",
    "version": 3
   },
   "file_extension": ".py",
   "mimetype": "text/x-python",
   "name": "python",
   "nbconvert_exporter": "python",
   "pygments_lexer": "ipython3",
   "version": "3.7.6"
  }
 },
 "nbformat": 4,
 "nbformat_minor": 4
}
