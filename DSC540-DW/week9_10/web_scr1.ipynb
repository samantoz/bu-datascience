{
 "cells": [
  {
   "cell_type": "code",
   "execution_count": 3,
   "metadata": {},
   "outputs": [],
   "source": [
    "from urllib.request import urlopen as uReq\n",
    "from bs4 import BeautifulSoup as soup"
   ]
  },
  {
   "cell_type": "code",
   "execution_count": 56,
   "metadata": {},
   "outputs": [
    {
     "data": {
      "text/plain": [
       "'https://www.newegg.com/Laptops-Notebooks/Category/ID-223'"
      ]
     },
     "execution_count": 56,
     "metadata": {},
     "output_type": "execute_result"
    }
   ],
   "source": [
    "# my_url = \"https://www.newegg.com/todays-deals?cm_sp=%20homepage_dailydeal-_-%20head_navigation-_-l\"\n",
    "my_url = \"https://www.newegg.com/Laptops-Notebooks/Category/ID-223\"\n",
    "my_url"
   ]
  },
  {
   "cell_type": "code",
   "execution_count": 57,
   "metadata": {},
   "outputs": [],
   "source": [
    "# Opening the connection and grabbing the page\n",
    "uClient = uReq(my_url)\n",
    "page_html = uClient.read()\n",
    "uClient.close()"
   ]
  },
  {
   "cell_type": "code",
   "execution_count": 58,
   "metadata": {},
   "outputs": [],
   "source": [
    "#html parsing\n",
    "page_soup = soup(page_html, \"html.parser\")"
   ]
  },
  {
   "cell_type": "code",
   "execution_count": 59,
   "metadata": {},
   "outputs": [
    {
     "data": {
      "text/plain": [
       "<h1 class=\"page-title-text\">Laptops / Notebooks</h1>"
      ]
     },
     "execution_count": 59,
     "metadata": {},
     "output_type": "execute_result"
    }
   ],
   "source": [
    "page_soup.h1"
   ]
  },
  {
   "cell_type": "code",
   "execution_count": 60,
   "metadata": {},
   "outputs": [
    {
     "data": {
      "text/plain": [
       "<p class=\"branding-testimonial-info\">I needed to switch over to Apple computer, phone and ipad because of software changes in my buisness.\n",
       "\n",
       "I was able to purchase a Macbook Air, Iphone 5se, and Ipad Air.\n",
       "These items were either open box or refurbished with a A rating.  Fabulous Prices, all worked and looked new.  I am a faithful user of a  popular on line store that deals in the same items, however I can not get these kind of deals especially at these condition and prices.<br/><a class=\"link-more\" href=\"https://www.newegg.com/d/Info/Testimonials\"><span>See All</span><i aria-label=\"more\" class=\"fa fa-caret-right\"></i></a></p>"
      ]
     },
     "execution_count": 60,
     "metadata": {},
     "output_type": "execute_result"
    }
   ],
   "source": [
    "page_soup.p"
   ]
  },
  {
   "cell_type": "code",
   "execution_count": 61,
   "metadata": {},
   "outputs": [
    {
     "data": {
      "text/plain": [
       "<header class=\"header2020\"><div class=\"header2020-inner\"><div class=\"header2020-hamburger menu-box is-gray-menu\"><i aria-label=\"Site Menu\" class=\"fas fa-bars\"></i></div><div class=\"header2020-logo\"><a class=\"header2020-logo-img\" href=\"https://www.newegg.com/\" title=\"Newegg.com - Computer Parts, Laptops, Electronics, HDTVs, Digital Cameras and More!\"><img alt=\"Newegg\" src=\"https://c1.neweggimages.com/webResource/Themes/Nest/logos/logo_424x210.png\"/></a></div><div class=\"header2020-search\"><div class=\"header2020-search-bar\"><div class=\"header2020-search-bar-inner\"><div class=\"header2020-search-box\"><input aria-label=\"Keywords, Model # or Item #\" autocomplete=\"off\" placeholder=\"Keywords, Model # or Item #\" title=\"Search Site\" type=\"search\" value=\"\"/></div><div class=\"header2020-search-button\"><button class=\"fas fa-search\"><span class=\"hid-text\">Search</span></button></div></div></div><div class=\"header2020-portals\"></div></div><div class=\"header2020-right\"><div class=\"display-flex justify-content-flex-end\"><div class=\"nav-complex\"><a class=\"nav-complex-inner\" href=\"https://secure.newegg.com/NewMyAccount/AccountLogin.aspx?nextpage=\"><i class=\"fas fa-user-circle\"></i></a></div><div class=\"nav-complex\"><a aria-label=\"Shopping Cart\" class=\"nav-complex-inner\" href=\"https://secure.newegg.com/Shopping/ShoppingCart.aspx?Submit=view\" title=\"Shopping Cart\"><i aria-label=\"icon of shopping cart\" class=\"fas fa-shopping-cart\"></i></a></div></div><div class=\"display-flex justify-content-flex-end\"><div class=\"header2020-links\"><a href=\"//www.neweggbusiness.com/ss/promotion/id-556?utm_medium=newegg&amp;utm_source=newegg-home&amp;cm_mmc=ref-newegg-_-newegg-home-_-na-_-na\" target=\"_blank\" title=\"Newegg Business\"><span class=\"header2020-b2b-newegg\">Newegg</span> <span class=\"header2020-b2b-business\">Business</span></a></div><div class=\"header2020-links\"><a title=\"Feedback\"><i class=\"fas fa-comment\"></i> <span>Feedback</span></a></div><div class=\"header2020-links menu-box is-gray-menu\"><a class=\"menu-box-trigger\" title=\"Customer Service\"><i aria-label=\"icon of Customer Service\" class=\"fas fa-question-circle\"></i> <span>Customer Service</span></a></div><div class=\"header2020-links\"><a class=\"open-popup\" title=\"Change Country\"><i class=\"flag us\"></i><span class=\"hid-text\">Change Country</span></a></div></div></div></div><div class=\"header2020-model-marker\"></div></header>"
      ]
     },
     "execution_count": 61,
     "metadata": {},
     "output_type": "execute_result"
    }
   ],
   "source": [
    "page_soup.body.header"
   ]
  },
  {
   "cell_type": "code",
   "execution_count": 62,
   "metadata": {},
   "outputs": [],
   "source": [
    "#grabs each product\n",
    "containers = page_soup.findAll(\"div\",{\"class\":\"item-container\"})"
   ]
  },
  {
   "cell_type": "code",
   "execution_count": 63,
   "metadata": {},
   "outputs": [
    {
     "data": {
      "text/plain": [
       "7"
      ]
     },
     "execution_count": 63,
     "metadata": {},
     "output_type": "execute_result"
    }
   ],
   "source": [
    "len(containers)"
   ]
  },
  {
   "cell_type": "code",
   "execution_count": 64,
   "metadata": {},
   "outputs": [
    {
     "data": {
      "text/plain": [
       "<div class=\"item-container\"><a class=\"item-img\" href=\"https://www.newegg.com/silver-asus-ux431fl-eh74/p/N82E16834235318?Item=N82E16834235318\"><img alt='ASUS ZenBook 14 Ultra Thin and Light Laptop, 4-Way NanoEdge 14\" FHD, Intel Core i7-10510U, 8 GB RAM, 512 GB PCIe SSD, NVIDIA GeForce MX250, Windows 10 Home, Utopia Blue, UX431FL-EH74' src=\"https://c1.neweggimages.com/ProductImageCompressAll300/34-235-318-S31.jpg\" title='ASUS ZenBook 14 Ultra Thin and Light Laptop, 4-Way NanoEdge 14\" FHD, Intel Core i7-10510U, 8 GB RAM, 512 GB PCIe SSD, NVIDIA GeForce MX250, Windows 10 Home, Utopia Blue, UX431FL-EH74'/></a><div class=\"item-info\"><div class=\"item-branding\"><a class=\"item-brand\" href=\"https://www.newegg.com/ASUS/BrandStore/ID-1315\"><img alt=\"ASUS\" src=\"https://c1.neweggimages.com/Brandimage_70x28/Brand1315.gif\" title=\"ASUS\"/></a><a class=\"item-rating\" href=\"https://www.newegg.com/silver-asus-ux431fl-eh74/p/N82E16834235318?IsFeedbackTab=true&amp;Item=N82E16834235318#scrollFullInfo\" title=\"Rating + 4\"><i class=\"rating rating-4\"></i><span class=\"item-rating-num\">(26)</span></a></div><a class=\"item-title\" href=\"https://www.newegg.com/silver-asus-ux431fl-eh74/p/N82E16834235318?Item=N82E16834235318\" title=\"View Details\">ASUS ZenBook 14 Ultra Thin and Light Laptop, 4-Way NanoEdge 14\" FHD, Intel Core i7-10510U, 8 GB RAM, 512 GB PCIe SSD, NVIDIA GeForce MX250, Windows 10 Home, Utopia Blue, UX431FL-EH74</a><ul class=\"item-features\"><li><strong>Type:</strong> Mainstream</li><li><strong>Resolution:</strong> 1920 x 1080</li><li><strong>Weight:</strong> 3.26 lbs.</li><li><strong>Graphics Card:</strong> NVIDIA GeForce MX250</li><li><strong>Model #: </strong>UX431FL-EH74</li><li><strong>Item #: </strong>N82E16834235318</li><li><strong>Return Policy: </strong><a href=\"https://kb.newegg.com/Article/Index/12/3?id=1167#44\" target=\"_blank\" title=\"Standard Return Policy(New Window)\">Standard Return Policy</a></li></ul></div><div class=\"item-action\"><ul class=\"price\"><li class=\"price-was\"><span class=\"price-was-data\">$899.99</span></li><li class=\"price-map\"> </li><li class=\"price-current\"><span class=\"price-current-label\"></span>$<strong>849</strong><sup>.99</sup> <span class=\"price-current-range\"><abbr title=\"to\">–</abbr></span></li><li class=\"price-save\"><span class=\"price-save-endtime\"><strong>Sale Ends in 3 Days (Sat)</strong> - </span><span class=\"price-save-label\">Save: </span><span class=\"price-save-percent\">6%</span></li><li class=\"price-note\"></li><li class=\"price-ship\">Free Shipping</li></ul><div class=\"item-operate hidden-action-button\"><div class=\"item-button-area\"><button class=\"btn btn-primary btn-mini\" title='Add ASUS ZenBook 14 Ultra Thin and Light Laptop, 4-Way NanoEdge 14\" FHD, Intel Core i7-10510U, 8 GB RAM, 512 GB PCIe SSD, NVIDIA GeForce MX250, Windows 10 Home, Utopia Blue, UX431FL-EH74 to cart'>Add to cart <i class=\"fas fa-caret-right\"></i></button></div><div class=\"item-compare-box\"><label class=\"form-checkbox\"><input autocomplete=\"off\" type=\"checkbox\"/><span class=\"form-checkbox-title\">Compare</span></label></div></div></div><div class=\"item-stock\" id=\"stock_34-235-318\"></div></div>"
      ]
     },
     "execution_count": 64,
     "metadata": {},
     "output_type": "execute_result"
    }
   ],
   "source": [
    "containers[0]"
   ]
  },
  {
   "cell_type": "code",
   "execution_count": 55,
   "metadata": {
    "collapsed": true,
    "jupyter": {
     "outputs_hidden": true
    }
   },
   "outputs": [
    {
     "data": {
      "text/plain": [
       "<div class=\"item-container items-grid-view show-item-stock\">\n",
       "<!--product image-->\n",
       "<a class=\"item-img\" href=\"https://www.newegg.com/abs-computer-technologies-ala210/p/N82E16883102981?Item=N82E16883102981&amp;cm_sp=Dailydeal_SS-_-83-102-981-_-10292020\">\n",
       "<div class=\"item-badges\">\n",
       "</div>\n",
       "<img alt=\"ABS Master Gaming PC - Ryzen 5 3600 - GeForce GTX 1660 Ti - 8GB DDR4 - 512GB SSD\" src=\"//c1.neweggimages.com/NeweggImage/ProductImageCompressAll300/83-102-981-06.jpg\" title=\"ABS Master Gaming PC - Ryzen 5 3600 - GeForce GTX 1660 Ti - 8GB DDR4 - 512GB SSD\">\n",
       "</img></a>\n",
       "<div class=\"item-info\">\n",
       "<!--brand info-->\n",
       "<div class=\"item-branding\">\n",
       "<a class=\"item-brand\" href=\"https://www.newegg.com/ABS/BrandStore/ID-8484\">\n",
       "<img alt=\"ABS\" src=\"//c1.neweggimages.com/Brandimage_70x28//Brand8484.gif\" title=\"ABS\">\n",
       "</img></a>\n",
       "<!--rating info-->\n",
       "<a class=\"item-rating\" href=\"https://www.newegg.com/abs-computer-technologies-ala210/p/N82E16883102981?Item=N82E16883102981&amp;SortField=1&amp;SummaryType=0&amp;PageSize=10&amp;SelectedRating=-1&amp;VideoOnlyMark=False&amp;cm_sp=Dailydeal_SS-_-83-102-981-_-10292020&amp;IsFeedbackTab=true#scrollFullInfo\" title=\"Rating + 4\"><i class=\"rating rating-4\"></i><span class=\"item-rating-num\">(53)</span></a>\n",
       "</div>\n",
       "<!--description info-->\n",
       "<a class=\"item-title\" href=\"https://www.newegg.com/abs-computer-technologies-ala210/p/N82E16883102981?Item=N82E16883102981&amp;cm_sp=Dailydeal_SS-_-83-102-981-_-10292020\" title=\"View Details\">ABS Master Gaming PC - Ryzen 5 3600 - GeForce GTX 1660 Ti - 8GB DDR4 - 512GB SSD</a>\n",
       "<!--promption info-->\n",
       "<p class=\"item-promo\"></p>\n",
       "<!--feature-->\n",
       "<ul class=\"item-features\">\n",
       "</ul>\n",
       "<div class=\"item-action\">\n",
       "<!--price-->\n",
       "<ul class=\"price\">\n",
       "<li class=\"price-was\">\n",
       "       $999.99\n",
       "            <span class=\"price-was-data\" style=\"display: none\">999.99</span>\n",
       "</li>\n",
       "<li class=\"price-map\">\n",
       "</li>\n",
       "<li class=\"price-current\">\n",
       "<span class=\"price-current-label\">\n",
       "</span>$<strong>699</strong><sup>.99</sup> \n",
       "            <span class=\"price-current-range\">\n",
       "<abbr title=\"to\">–</abbr>\n",
       "</span>\n",
       "</li>\n",
       "<li class=\"price-save\">\n",
       "<span class=\"price-save-endtime price-save-endtime-current\"></span>\n",
       "<span class=\"price-save-endtime price-save-endtime-another\" style=\"display:none;\"></span>\n",
       "<span class=\"price-save-label\">Save: </span>\n",
       "<span class=\"price-save-dollar\"></span>\n",
       "<span class=\"price-save-percent\">30%</span>\n",
       "            $300.00\n",
       "    </li>\n",
       "<li class=\"price-note\">\n",
       "</li>\n",
       "<li class=\"price-ship\">\n",
       "        Free Shipping\n",
       "    </li>\n",
       "<p class=\"item-msg\"><span data-sbn=\"negSBNMsg\" style=\"display:none\"><a class=\"shipped-by-newegg\" href=\"https://kb.newegg.com/knowledge-base/shipped-by-newegg/\">Shipped by Newegg</a></span></p>\n",
       "</ul>\n",
       "<!--egg point-->\n",
       "<!--financing-->\n",
       "<!--button-->\n",
       "<div class=\"item-operate\">\n",
       "<div class=\"item-button-area\">\n",
       "</div>\n",
       "</div>\n",
       "<!--ExtendWarranty PopUp-->\n",
       "<input class=\"open-popup\" id=\"ew_N82E16883102981\" type=\"hidden\">\n",
       "<input class=\"open-popup\" id=\"ew_MainItemFailedAddToCart_N82E16883102981\" type=\"hidden\"/>\n",
       "</input></div>\n",
       "</div>\n",
       "<div class=\"item-stock\" id=\"stock_83-102-981\">\n",
       "</div>\n",
       "</div>"
      ]
     },
     "execution_count": 55,
     "metadata": {},
     "output_type": "execute_result"
    }
   ],
   "source": [
    "container = containers[0]\n",
    "container"
   ]
  },
  {
   "cell_type": "code",
   "execution_count": 53,
   "metadata": {},
   "outputs": [
    {
     "ename": "AttributeError",
     "evalue": "'NoneType' object has no attribute 'a'",
     "output_type": "error",
     "traceback": [
      "\u001b[0;31m---------------------------------------------------------------------------\u001b[0m",
      "\u001b[0;31mAttributeError\u001b[0m                            Traceback (most recent call last)",
      "\u001b[0;32m<ipython-input-53-9360fd4347ad>\u001b[0m in \u001b[0;36m<module>\u001b[0;34m\u001b[0m\n\u001b[0;32m----> 1\u001b[0;31m \u001b[0mcontainer\u001b[0m\u001b[0;34m.\u001b[0m\u001b[0mdiv\u001b[0m\u001b[0;34m.\u001b[0m\u001b[0mdiv\u001b[0m\u001b[0;34m.\u001b[0m\u001b[0ma\u001b[0m\u001b[0;34m.\u001b[0m\u001b[0mimg\u001b[0m\u001b[0;34m[\u001b[0m\u001b[0;34m\"title\"\u001b[0m\u001b[0;34m]\u001b[0m\u001b[0;34m\u001b[0m\u001b[0;34m\u001b[0m\u001b[0m\n\u001b[0m",
      "\u001b[0;31mAttributeError\u001b[0m: 'NoneType' object has no attribute 'a'"
     ]
    }
   ],
   "source": [
    "container.div.div.a.img[\"title\"]"
   ]
  },
  {
   "cell_type": "code",
   "execution_count": 27,
   "metadata": {},
   "outputs": [
    {
     "data": {
      "text/plain": [
       "'ASUS ZenBook 14 Ultra Thin and Light Laptop, 4-Way NanoEdge 14\" FHD, Intel Core i7-10510U, 8 GB RAM, 512 GB PCIe SSD, NVIDIA GeForce MX250, Windows 10 Home, Utopia Blue, UX431FL-EH74'"
      ]
     },
     "execution_count": 27,
     "metadata": {},
     "output_type": "execute_result"
    }
   ],
   "source": [
    "title_container = container.findAll(\"a\",{\"class\":\"item-title\"})\n",
    "title_container[0].text"
   ]
  },
  {
   "cell_type": "code",
   "execution_count": 36,
   "metadata": {},
   "outputs": [
    {
     "data": {
      "text/plain": [
       "'569.99'"
      ]
     },
     "execution_count": 36,
     "metadata": {},
     "output_type": "execute_result"
    }
   ],
   "source": [
    "price_container = container.findAll(\"li\",{\"class\":\"price-current\"})\n",
    "price = price_container[0].strong.text + price_container[0].sup.text\n"
   ]
  },
  {
   "cell_type": "code",
   "execution_count": 48,
   "metadata": {},
   "outputs": [
    {
     "ename": "AttributeError",
     "evalue": "'NoneType' object has no attribute 'a'",
     "output_type": "error",
     "traceback": [
      "\u001b[0;31m---------------------------------------------------------------------------\u001b[0m",
      "\u001b[0;31mAttributeError\u001b[0m                            Traceback (most recent call last)",
      "\u001b[0;32m<ipython-input-48-84b8d6130b60>\u001b[0m in \u001b[0;36m<module>\u001b[0;34m\u001b[0m\n\u001b[1;32m      1\u001b[0m \u001b[0;32mfor\u001b[0m \u001b[0mcontainer\u001b[0m \u001b[0;32min\u001b[0m \u001b[0mcontainers\u001b[0m\u001b[0;34m:\u001b[0m\u001b[0;34m\u001b[0m\u001b[0;34m\u001b[0m\u001b[0m\n\u001b[0;32m----> 2\u001b[0;31m     \u001b[0mmake\u001b[0m \u001b[0;34m=\u001b[0m \u001b[0mcontainer\u001b[0m\u001b[0;34m.\u001b[0m\u001b[0mdiv\u001b[0m\u001b[0;34m.\u001b[0m\u001b[0mdiv\u001b[0m\u001b[0;34m.\u001b[0m\u001b[0ma\u001b[0m\u001b[0;34m.\u001b[0m\u001b[0mimg\u001b[0m\u001b[0;34m[\u001b[0m\u001b[0;34m\"title\"\u001b[0m\u001b[0;34m]\u001b[0m\u001b[0;34m\u001b[0m\u001b[0;34m\u001b[0m\u001b[0m\n\u001b[0m\u001b[1;32m      3\u001b[0m \u001b[0;34m\u001b[0m\u001b[0m\n\u001b[1;32m      4\u001b[0m     \u001b[0mtitle_container\u001b[0m \u001b[0;34m=\u001b[0m \u001b[0mcontainer\u001b[0m\u001b[0;34m.\u001b[0m\u001b[0mfindAll\u001b[0m\u001b[0;34m(\u001b[0m\u001b[0;34m\"a\"\u001b[0m\u001b[0;34m,\u001b[0m\u001b[0;34m{\u001b[0m\u001b[0;34m\"class\"\u001b[0m\u001b[0;34m:\u001b[0m\u001b[0;34m\"item-title\"\u001b[0m\u001b[0;34m}\u001b[0m\u001b[0;34m)\u001b[0m\u001b[0;34m\u001b[0m\u001b[0;34m\u001b[0m\u001b[0m\n\u001b[1;32m      5\u001b[0m     \u001b[0mproduct_name\u001b[0m \u001b[0;34m=\u001b[0m \u001b[0mtitle_container\u001b[0m\u001b[0;34m[\u001b[0m\u001b[0;36m0\u001b[0m\u001b[0;34m]\u001b[0m\u001b[0;34m.\u001b[0m\u001b[0mtext\u001b[0m\u001b[0;34m\u001b[0m\u001b[0;34m\u001b[0m\u001b[0m\n",
      "\u001b[0;31mAttributeError\u001b[0m: 'NoneType' object has no attribute 'a'"
     ]
    }
   ],
   "source": [
    "for container in containers:\n",
    "    make = container.div.div.a.img[\"title\"]\n",
    "    \n",
    "    title_container = container.findAll(\"a\",{\"class\":\"item-title\"})\n",
    "    product_name = title_container[0].text\n",
    "    \n",
    "    shipping_container = container.findAll(\"li\",{\"class\":\"price-ship\"})\n",
    "    shipping = shipping_container[0].text.strip()\n",
    "    \n",
    "    price_container = container.findAll(\"li\",{\"class\":\"price-current\"})\n",
    "    price = price_container[0].strong.text + price_container[0].sup.text\n",
    "    print('Make :' + make)\n",
    "    print('Product Name :' + product_name)\n",
    "    print('Shipping :' + shipping)\n",
    "    print('Price :' + price)\n",
    "    print(\"=\"*100)"
   ]
  },
  {
   "cell_type": "code",
   "execution_count": null,
   "metadata": {},
   "outputs": [],
   "source": []
  }
 ],
 "metadata": {
  "kernelspec": {
   "display_name": "Python 3",
   "language": "python",
   "name": "python3"
  },
  "language_info": {
   "codemirror_mode": {
    "name": "ipython",
    "version": 3
   },
   "file_extension": ".py",
   "mimetype": "text/x-python",
   "name": "python",
   "nbconvert_exporter": "python",
   "pygments_lexer": "ipython3",
   "version": "3.7.6"
  }
 },
 "nbformat": 4,
 "nbformat_minor": 4
}
