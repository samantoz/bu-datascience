{
 "cells": [
  {
   "cell_type": "markdown",
   "metadata": {},
   "source": [
    "# Exercises from Think Stats, 2nd Edition\n",
    "\n",
    "http://thinkstats2.com\n",
    "\n",
    "Copyright 2016 Allen B. Downey\n",
    "\n",
    "MIT License: https://opensource.org/licenses/MIT\n"
   ]
  },
  {
   "cell_type": "code",
   "execution_count": 9,
   "metadata": {},
   "outputs": [],
   "source": [
    "from __future__ import print_function, division\n",
    "\n",
    "%matplotlib inline\n",
    "\n",
    "import numpy as np\n",
    "\n",
    "import thinkstats2\n",
    "import thinkplot"
   ]
  },
  {
   "cell_type": "markdown",
   "metadata": {},
   "source": [
    "## Exercises"
   ]
  },
  {
   "cell_type": "markdown",
   "metadata": {},
   "source": [
    "**Exercise:**  In this chapter we used $\\bar{x}$ and median to estimate µ, and found that $\\bar{x}$ yields lower MSE. Also, we used $S^2$ and $S_{n-1}^2$ to estimate σ, and found that $S^2$ is biased and $S_{n-1}^2$ unbiased.\n",
    "Run similar experiments to see if $\\bar{x}$ and median are biased estimates of µ. Also check whether $S^2$ or $S_{n-1}^2$ yields a lower MSE."
   ]
  },
  {
   "cell_type": "markdown",
   "metadata": {},
   "source": [
    "### Experiment to show that using xbar and median to estimate µ, that  xbar  yields lower MSE"
   ]
  },
  {
   "cell_type": "code",
   "execution_count": 3,
   "metadata": {},
   "outputs": [],
   "source": [
    "# Solution goes here\n",
    "# Root mean squared error(RMSE) is one of several ways to summarize the average error of an estimation process.\n",
    "\n",
    "def RMSE(estimates, actual):\n",
    "    \"\"\"Computes the root mean squared error of a sequence of estimates.\n",
    "\n",
    "    estimate: sequence of numbers\n",
    "    actual: actual value\n",
    "\n",
    "    returns: float RMSE\n",
    "    \"\"\"\n",
    "    e2 = [(estimate-actual)**2 for estimate in estimates]\n",
    "    mse = np.mean(e2)\n",
    "    return np.sqrt(mse)"
   ]
  },
  {
   "cell_type": "markdown",
   "metadata": {},
   "source": [
    "The following function simulates experiments where we try to estimate the mean of a population based on a sample with size n=7. We run iters=100000 experiments and collect the mean and median of each sample."
   ]
  },
  {
   "cell_type": "code",
   "execution_count": 4,
   "metadata": {},
   "outputs": [
    {
     "name": "stdout",
     "output_type": "stream",
     "text": [
      "Estimate Mean\n",
      "rmse xbar 0.37745353507995033\n",
      "rmse median 0.4571596608617148\n"
     ]
    }
   ],
   "source": [
    "import random\n",
    "\n",
    "def Estimate_mean(n=7, iters=100000):\n",
    "    \"\"\"Evaluates RMSE of sample mean and median as estimators.\n",
    "\n",
    "    n: sample size\n",
    "    iters: number of iterations\n",
    "    \"\"\"\n",
    "    mu = 0\n",
    "    sigma = 1\n",
    "\n",
    "    means = []\n",
    "    medians = []\n",
    "    for _ in range(iters):\n",
    "        xs = [random.gauss(mu, sigma) for _ in range(n)]\n",
    "        xbar = np.mean(xs)\n",
    "        median = np.median(xs)\n",
    "        means.append(xbar)\n",
    "        medians.append(median)\n",
    "\n",
    "    print('Estimate Mean')\n",
    "    print('rmse xbar', RMSE(means, mu))\n",
    "    print('rmse median', RMSE(medians, mu))\n",
    "    \n",
    "Estimate_mean()"
   ]
  },
  {
   "cell_type": "markdown",
   "metadata": {},
   "source": [
    "RMSE using xbar to estimate the mean is 0.38 \n",
    "RMSE using median to estimate the mean is 0.46\n",
    "\n",
    "So the experiment shows that if we use xbar to estimate the mean of this distribution, it is 0.38 based on a sample with n = 7, we should expect to be off by 0.38 on average. \n",
    "On the other hand using the median to estimate the mean yields RMSE 0.46, which confirms that xbar yields lower RMSE, at least for this example.\n",
    "But using the median is more robust in the presence of outliers or large errors."
   ]
  },
  {
   "cell_type": "markdown",
   "metadata": {},
   "source": [
    "Used  𝑆2  and  𝑆2𝑛−1  to estimate σ, and found that  𝑆2  is biased and  𝑆2𝑛−1  unbiased."
   ]
  },
  {
   "cell_type": "markdown",
   "metadata": {},
   "source": [
    "The obvious way to estimate the variance of a population is to compute the variance of the sample,  𝑆2 , but that turns out to be a biased estimator; that is, in the long run, the average error doesn't converge to 0.\n",
    "\n",
    "The following function computes the mean error for a collection of estimates."
   ]
  },
  {
   "cell_type": "code",
   "execution_count": 5,
   "metadata": {},
   "outputs": [],
   "source": [
    "def MeanError(estimates, actual):\n",
    "    \"\"\"Computes the mean error of a sequence of estimates.\n",
    "\n",
    "    estimate: sequence of numbers\n",
    "    actual: actual value\n",
    "\n",
    "    returns: float mean error\n",
    "    \"\"\"\n",
    "    errors = [estimate-actual for estimate in estimates]\n",
    "    return np.mean(errors)"
   ]
  },
  {
   "cell_type": "markdown",
   "metadata": {},
   "source": [
    "The following function simulates experiments where we try to estimate the variance of a population based on a sample with size n=9. We run iters=1000 experiments and two estimates for each sample,  𝑆2  and  𝑆2𝑛−1 "
   ]
  },
  {
   "cell_type": "code",
   "execution_count": 6,
   "metadata": {},
   "outputs": [
    {
     "name": "stdout",
     "output_type": "stream",
     "text": [
      "mean error biased -0.14446628707146592\n",
      "mean error unbiased -0.0018773349167102518\n"
     ]
    }
   ],
   "source": [
    "def Estimate_var(n=7, iters=100000):\n",
    "    mu = 0\n",
    "    sigma = 1\n",
    "\n",
    "    estimates_biased = []\n",
    "    estimates_unbiased = []\n",
    "    for _ in range(iters):\n",
    "        xs = [random.gauss(mu, sigma) for i in range(n)]\n",
    "        biased = np.var(xs)\n",
    "        unbiased = np.var(xs, ddof=1)\n",
    "        estimates_biased.append(biased)\n",
    "        estimates_unbiased.append(unbiased)\n",
    "\n",
    "    print('mean error biased', MeanError(estimates_biased, sigma**2))\n",
    "    print('mean error unbiased', MeanError(estimates_unbiased, sigma**2))\n",
    "    \n",
    "Estimate_var()"
   ]
  },
  {
   "cell_type": "markdown",
   "metadata": {},
   "source": [
    "The mean error for  𝑆2 (biased) is non-zero(-.14), which suggests that it is biased. The mean error for  𝑆2𝑛−1(unbiased)  is (-.0014) which is 100 times smaller and close to zero. As # of iterations increases we expect it to get even smaller."
   ]
  },
  {
   "cell_type": "markdown",
   "metadata": {},
   "source": [
    "**Exercise:** Suppose you draw a sample with size n=10 from an exponential distribution with λ=2. Simulate this experiment 1000 times and plot the sampling distribution of the estimate L. Compute the standard error of the estimate and the 90% confidence interval."
   ]
  },
  {
   "cell_type": "markdown",
   "metadata": {},
   "source": [
    "The following function simulates experiments where we estimate the mean of a exponential distribution using xbar, and returns a list of estimates, one from each experiment.\n",
    "Generating the sample of n = 10 for a exponential distribution of lambda = 2. Simulating this 1000 times"
   ]
  },
  {
   "cell_type": "code",
   "execution_count": 7,
   "metadata": {},
   "outputs": [
    {
     "name": "stdout",
     "output_type": "stream",
     "text": [
      "rmse L - Standard error 0.8015493207531054\n",
      "mean error L 0.22515068714930428\n"
     ]
    }
   ],
   "source": [
    "def simulate_sample(n=10, iters=1000):\n",
    "    lam = 2\n",
    "\n",
    "    means = []\n",
    "    for _ in range(iters):\n",
    "        xs = np.random.exponential(1.0/lam, n)\n",
    "        L = 1 / np.mean(xs)\n",
    "        means.append(L)\n",
    "\n",
    "    print('rmse L - Standard error', RMSE(means, lam))\n",
    "    print('mean error L', MeanError(means, lam))\n",
    "    return means\n",
    "    \n",
    "xbars = simulate_sample()"
   ]
  },
  {
   "cell_type": "markdown",
   "metadata": {},
   "source": [
    "Here's the \"sampling distribution of the mean\" which shows how much we should expect 𝑥bar to vary from one experiment to the next."
   ]
  },
  {
   "cell_type": "code",
   "execution_count": 10,
   "metadata": {},
   "outputs": [
    {
     "data": {
      "image/png": "[encoded data removed]",
      "text/plain": [
       "<Figure size 432x288 with 1 Axes>"
      ]
     },
     "metadata": {
      "needs_background": "light"
     },
     "output_type": "display_data"
    }
   ],
   "source": [
    "cdf = thinkstats2.Cdf(xbars)\n",
    "thinkplot.Cdf(cdf)\n",
    "thinkplot.Config(xlabel='Sample mean',\n",
    "                 ylabel='CDF')"
   ]
  },
  {
   "cell_type": "code",
   "execution_count": 11,
   "metadata": {},
   "outputs": [
    {
     "data": {
      "text/plain": [
       "2.2251506871493043"
      ]
     },
     "execution_count": 11,
     "metadata": {},
     "output_type": "execute_result"
    }
   ],
   "source": [
    "np.mean(xbars)"
   ]
  },
  {
   "cell_type": "code",
   "execution_count": 12,
   "metadata": {},
   "outputs": [
    {
     "name": "stdout",
     "output_type": "stream",
     "text": [
      "confidence interval (1.2502597552474815, 3.655222590234591)\n"
     ]
    }
   ],
   "source": [
    "    ci = cdf.Percentile(5), cdf.Percentile(95)\n",
    "    print('confidence interval', ci)"
   ]
  },
  {
   "cell_type": "markdown",
   "metadata": {},
   "source": [
    "Repeat the experiment with a few different values of `n` and make a plot of standard error versus `n`."
   ]
  },
  {
   "cell_type": "markdown",
   "metadata": {},
   "source": [
    "## The 90% confidence interval is the range from the 5th to the 95th percentile. \n",
    "### In this example,for n = 10(sample size) the 90% CI is (1.26; 3.74) Standard err 0.79 \n",
    "### In this example,for n = 100(sample size) the 90% CI is (1.72; 2.39) Standard err 0.20 \n",
    "### In this example,for n = 1000(sample size) the 90% CI is (1.90; 2.11) Standard err 0.06 "
   ]
  },
  {
   "cell_type": "code",
   "execution_count": 45,
   "metadata": {},
   "outputs": [],
   "source": [
    "def simulate_sample1(n, iters=1000):\n",
    "    lam = 2\n",
    "\n",
    "    means = []\n",
    "    for _ in range(iters):\n",
    "        xs = np.random.exponential(1.0/lam, n)\n",
    "        L = 1 / np.mean(xs)\n",
    "        means.append(L)\n",
    "\n",
    "    rmse = RMSE(means, lam)\n",
    "    return rmse"
   ]
  },
  {
   "cell_type": "code",
   "execution_count": 50,
   "metadata": {},
   "outputs": [],
   "source": [
    "\n",
    "sample = []\n",
    "stde = []\n",
    "\n",
    "for n in [10,50,100,250,500,750,1000]:\n",
    "    se = simulate_sample1(n)\n",
    "    sample.append(n)\n",
    "    stde.append(se)\n",
    "    \n",
    "# sample , stde"
   ]
  },
  {
   "cell_type": "code",
   "execution_count": 57,
   "metadata": {},
   "outputs": [
    {
     "data": {
      "image/png": "[encoded data removed]",
      "text/plain": [
       "<Figure size 432x288 with 1 Axes>"
      ]
     },
     "metadata": {
      "needs_background": "light"
     },
     "output_type": "display_data"
    }
   ],
   "source": [
    "label = ''\n",
    "thinkplot.Plot(sample,stde, label=label)\n",
    "thinkplot.Config(xlabel='Sample Size(n)',\n",
    "                 ylabel='Standard Error(SE)',\n",
    "                 axis=[10,1000,0,1],\n",
    "                 legend=False)"
   ]
  },
  {
   "cell_type": "markdown",
   "metadata": {},
   "source": [
    "The above plot for the Standard Error against the sample size shows that as the sample size increases the standard error goes down. The rate of decrease of the standard error is rapid for the sample size upto 100 and then it gradually tapers down."
   ]
  }
 ],
 "metadata": {
  "kernelspec": {
   "display_name": "Python 3",
   "language": "python",
   "name": "python3"
  },
  "language_info": {
   "codemirror_mode": {
    "name": "ipython",
    "version": 3
   },
   "file_extension": ".py",
   "mimetype": "text/x-python",
   "name": "python",
   "nbconvert_exporter": "python",
   "pygments_lexer": "ipython3",
   "version": "3.7.6"
  }
 },
 "nbformat": 4,
 "nbformat_minor": 1
}
