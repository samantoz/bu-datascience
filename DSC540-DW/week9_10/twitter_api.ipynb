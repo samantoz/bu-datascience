{
 "cells": [
  {
   "cell_type": "code",
   "execution_count": 2,
   "metadata": {},
   "outputs": [],
   "source": [
    "import twitter"
   ]
  },
  {
   "cell_type": "code",
   "execution_count": 5,
   "metadata": {},
   "outputs": [],
   "source": [
    "api = twitter.Api(consumer_key=\"BRvmAZBaZr5bWhFtfxUTk8qUN\",\n",
    "                  consumer_secret=\"vaVx88ZPbkBIlxZquvRJuNKEILTEeJTexevWYXpUviFg4t5M5w\",\n",
    "                  access_token_key=\"2788379963-rW0KyJM2yZAhGIr9XWnuAfPuu3oirOhnWmGlfuL\",\n",
    "                  access_token_secret=\"DaPlKr9zY8SYGi2MhTmgeF7KoC4jvJCtKjYXpdKd33yYV\")"
   ]
  },
  {
   "cell_type": "markdown",
   "metadata": {},
   "source": [
    "### The twitter api and keys are defined here. So not including this cell in the submission."
   ]
  },
  {
   "cell_type": "code",
   "execution_count": 6,
   "metadata": {},
   "outputs": [
    {
     "name": "stdout",
     "output_type": "stream",
     "text": [
      "{\"created_at\": \"Sun Sep 28 02:47:24 +0000 2014\", \"default_profile\": true, \"favourites_count\": 11, \"followers_count\": 25, \"friends_count\": 207, \"geo_enabled\": true, \"id\": 2788379963, \"id_str\": \"2788379963\", \"listed_count\": 2, \"location\": \"Omaha, NE\", \"name\": \"Arindam Samanta\", \"profile_background_color\": \"C0DEED\", \"profile_background_image_url\": \"http://abs.twimg.com/images/themes/theme1/bg.png\", \"profile_background_image_url_https\": \"https://abs.twimg.com/images/themes/theme1/bg.png\", \"profile_image_url\": \"http://pbs.twimg.com/profile_images/774992810692993024/uZlzySIa_normal.jpg\", \"profile_image_url_https\": \"https://pbs.twimg.com/profile_images/774992810692993024/uZlzySIa_normal.jpg\", \"profile_link_color\": \"1DA1F2\", \"profile_sidebar_border_color\": \"C0DEED\", \"profile_sidebar_fill_color\": \"DDEEF6\", \"profile_text_color\": \"333333\", \"profile_use_background_image\": true, \"screen_name\": \"samantoz\", \"status\": {\"created_at\": \"Thu Oct 08 02:37:59 +0000 2020\", \"id\": 1314032262917353473, \"id_str\": \"1314032262917353473\", \"lang\": \"en\", \"retweet_count\": 6900, \"retweeted\": true, \"retweeted_status\": {\"created_at\": \"Thu Oct 08 02:17:55 +0000 2020\", \"favorite_count\": 79501, \"id\": 1314027210802630657, \"id_str\": \"1314027210802630657\", \"lang\": \"en\", \"retweet_count\": 6900, \"retweeted\": true, \"source\": \"<a href=\\\"http://twitter.com/download/iphone\\\" rel=\\\"nofollow\\\">Twitter for iPhone</a>\", \"text\": \"There\\u2019s a fly on Pence\\u2019s head.\"}, \"source\": \"<a href=\\\"http://twitter.com/download/android\\\" rel=\\\"nofollow\\\">Twitter for Android</a>\", \"text\": \"RT @AndrewYang: There\\u2019s a fly on Pence\\u2019s head.\"}, \"statuses_count\": 206}\n"
     ]
    }
   ],
   "source": [
    "print(api.VerifyCredentials())"
   ]
  },
  {
   "cell_type": "code",
   "execution_count": 7,
   "metadata": {},
   "outputs": [
    {
     "name": "stdout",
     "output_type": "stream",
     "text": [
      "['RT @AndrewYang: There’s a fly on Pence’s head.', 'RT @Twitter: The only thing we want going viral is this Tweet\\n\\n#WearAMask', 'RT @LeadKidAcademy: ##Montessori https://t.co/XRZH0X6Uh0', 'RT @LeadKidAcademy: “The hand is the instrument of intelligence. The child needs to manipulate objects and to gain experience by touching a…', 'RT @LeadKidAcademy: 4-year-old gives a lesson on the water cycle #Montessori #MontessoriChild https://t.co/BHohGqUN5f', \"RT @timesofindia: #Namaste: This is how French President Emmanuel Macron and German Chancellor Angela Merkel greeted each other at former's…\", 'RT @SrBachchan: T 3590 -I have tested CoviD positive ..  shifted to Hospital  .. hospital informing  authorities .. family and staff underg…', 'RT @juniorbachchan: Earlier today both my father and I tested positive for COVID 19. Both of us having mild symptoms have been admitted to…', 'RT @SrBachchan: T 3576 - Father .. Son .. Grandson .. some years ago ! \\nAnd the folded hands are unplanned , they just happened ❤️ https://…', 'RT @SrBachchan: T 3560 - Aao kal Mirza ki haveli pe! 🏡\\n\\n1 Day To Go!\\n\\nCatch #GiboSiboOnPrime on June 12 for its World Premiere, @primevideo…', 'RT @SrBachchan: T 3555 - Yes .. !! Phir se https://t.co/xwniUnxvXN', \"RT @SrBachchan: T 3544 -43 YEARS .. !!! .. 'Amar Akbar Anthony' is estimated to have made Rs 7.25 crore in those days. Inflation-adjusted,…\", 'RT @MichelleObama: I’m thrilled to give you a sneak peek of BECOMING before it premieres on Netflix on May 6. This movie tells my story, fr…', 'RT @MichelleObama: In the film BECOMING, you will get to know an extraordinary young woman, Shayla, and her family. Their love and sacrific…', 'RT @MichelleObama: I’m excited to share that on May 6, @Netflix will release BECOMING, a documentary directed by Nadia Hallgren that shares…', \"RT @CRC_MathStats: Attention #RStats fans! In the run-up to @rstudio conference 2020, we're giving away a signed copy of @rafalab's Introdu…\", \"RT @CRC_MathStats: Don't miss your chance to enter our #RStatsGiveaway! We'll be picking a winner this Friday #RProgramming https://t.co/hl…\", 'RT @MNHS_Orch: Congrats 2019 MNHS National Merit Scholars!  Love seeing so many of our music students represented!  Coincidence?  We think…', \"RT @CRC_MathStats: Calling all #RStats enthusiasts! We're giving away a signed copy of #FeatureEngineering &amp; Selection by Max Kuhn &amp; Kjell…\", 'RT @SrBachchan: T 3532 - On the auspicious festive week our love and prayers to all ..\\nइस शुभ अवसर पे हमारी शुभकामनाएँ  🙏💕 https://t.co/DcH…']\n"
     ]
    }
   ],
   "source": [
    "#Download user timeline for my twitter handle\n",
    "statuses = api.GetUserTimeline(screen_name='samantoz')\n",
    "print([s.text for s in statuses])"
   ]
  },
  {
   "cell_type": "code",
   "execution_count": 41,
   "metadata": {},
   "outputs": [
    {
     "ename": "TwitterError",
     "evalue": "[{'message': 'Rate limit exceeded', 'code': 88}]",
     "output_type": "error",
     "traceback": [
      "\u001b[0;31m---------------------------------------------------------------------------\u001b[0m",
      "\u001b[0;31mTwitterError\u001b[0m                              Traceback (most recent call last)",
      "\u001b[0;32m<ipython-input-41-e1a72c33850b>\u001b[0m in \u001b[0;36m<module>\u001b[0;34m\u001b[0m\n\u001b[1;32m      1\u001b[0m \u001b[0;31m#down load followers and followed\u001b[0m\u001b[0;34m\u001b[0m\u001b[0;34m\u001b[0m\u001b[0;34m\u001b[0m\u001b[0m\n\u001b[1;32m      2\u001b[0m \u001b[0musers\u001b[0m \u001b[0;34m=\u001b[0m \u001b[0mapi\u001b[0m\u001b[0;34m.\u001b[0m\u001b[0mGetFriends\u001b[0m\u001b[0;34m(\u001b[0m\u001b[0;34m)\u001b[0m\u001b[0;34m\u001b[0m\u001b[0;34m\u001b[0m\u001b[0m\n\u001b[0;32m----> 3\u001b[0;31m \u001b[0mfollowers\u001b[0m \u001b[0;34m=\u001b[0m \u001b[0mapi\u001b[0m\u001b[0;34m.\u001b[0m\u001b[0mGetFollowers\u001b[0m\u001b[0;34m(\u001b[0m\u001b[0;34m)\u001b[0m\u001b[0;34m\u001b[0m\u001b[0;34m\u001b[0m\u001b[0m\n\u001b[0m\u001b[1;32m      4\u001b[0m \u001b[0;31m# search for a specific term across twitter\u001b[0m\u001b[0;34m\u001b[0m\u001b[0;34m\u001b[0m\u001b[0;34m\u001b[0m\u001b[0m\n\u001b[1;32m      5\u001b[0m \u001b[0mbu_search\u001b[0m \u001b[0;34m=\u001b[0m \u001b[0mapi\u001b[0m\u001b[0;34m.\u001b[0m\u001b[0mGetSearch\u001b[0m\u001b[0;34m(\u001b[0m\u001b[0mterm\u001b[0m\u001b[0;34m=\u001b[0m\u001b[0;34m'Bellevue University'\u001b[0m\u001b[0;34m,\u001b[0m \u001b[0msince\u001b[0m\u001b[0;34m=\u001b[0m\u001b[0;36m2019\u001b[0m\u001b[0;34m-\u001b[0m\u001b[0;36m1\u001b[0m\u001b[0;34m-\u001b[0m\u001b[0;36m1\u001b[0m\u001b[0;34m,\u001b[0m \u001b[0mcount\u001b[0m\u001b[0;34m=\u001b[0m\u001b[0;36m100\u001b[0m\u001b[0;34m)\u001b[0m\u001b[0;34m\u001b[0m\u001b[0;34m\u001b[0m\u001b[0m\n",
      "\u001b[0;32m~/anaconda3/lib/python3.8/site-packages/twitter/api.py\u001b[0m in \u001b[0;36mGetFollowers\u001b[0;34m(self, user_id, screen_name, cursor, count, total_count, skip_status, include_user_entities)\u001b[0m\n\u001b[1;32m   2719\u001b[0m         \"\"\"\n\u001b[1;32m   2720\u001b[0m         \u001b[0murl\u001b[0m \u001b[0;34m=\u001b[0m \u001b[0;34m'%s/followers/list.json'\u001b[0m \u001b[0;34m%\u001b[0m \u001b[0mself\u001b[0m\u001b[0;34m.\u001b[0m\u001b[0mbase_url\u001b[0m\u001b[0;34m\u001b[0m\u001b[0;34m\u001b[0m\u001b[0m\n\u001b[0;32m-> 2721\u001b[0;31m         return self._GetFriendsFollowers(url,\n\u001b[0m\u001b[1;32m   2722\u001b[0m                                          \u001b[0muser_id\u001b[0m\u001b[0;34m,\u001b[0m\u001b[0;34m\u001b[0m\u001b[0;34m\u001b[0m\u001b[0m\n\u001b[1;32m   2723\u001b[0m                                          \u001b[0mscreen_name\u001b[0m\u001b[0;34m,\u001b[0m\u001b[0;34m\u001b[0m\u001b[0;34m\u001b[0m\u001b[0m\n",
      "\u001b[0;32m~/anaconda3/lib/python3.8/site-packages/twitter/api.py\u001b[0m in \u001b[0;36m_GetFriendsFollowers\u001b[0;34m(self, url, user_id, screen_name, cursor, count, total_count, skip_status, include_user_entities)\u001b[0m\n\u001b[1;32m   2662\u001b[0m                 \u001b[0;32mbreak\u001b[0m\u001b[0;34m\u001b[0m\u001b[0;34m\u001b[0m\u001b[0m\n\u001b[1;32m   2663\u001b[0m \u001b[0;34m\u001b[0m\u001b[0m\n\u001b[0;32m-> 2664\u001b[0;31m             next_cursor, previous_cursor, data = self._GetFriendsFollowersPaged(\n\u001b[0m\u001b[1;32m   2665\u001b[0m                 \u001b[0murl\u001b[0m\u001b[0;34m,\u001b[0m\u001b[0;34m\u001b[0m\u001b[0;34m\u001b[0m\u001b[0m\n\u001b[1;32m   2666\u001b[0m                 \u001b[0muser_id\u001b[0m\u001b[0;34m,\u001b[0m\u001b[0;34m\u001b[0m\u001b[0;34m\u001b[0m\u001b[0m\n",
      "\u001b[0;32m~/anaconda3/lib/python3.8/site-packages/twitter/api.py\u001b[0m in \u001b[0;36m_GetFriendsFollowersPaged\u001b[0;34m(self, url, user_id, screen_name, cursor, count, skip_status, include_user_entities)\u001b[0m\n\u001b[1;32m   2497\u001b[0m \u001b[0;34m\u001b[0m\u001b[0m\n\u001b[1;32m   2498\u001b[0m         \u001b[0mresp\u001b[0m \u001b[0;34m=\u001b[0m \u001b[0mself\u001b[0m\u001b[0;34m.\u001b[0m\u001b[0m_RequestUrl\u001b[0m\u001b[0;34m(\u001b[0m\u001b[0murl\u001b[0m\u001b[0;34m,\u001b[0m \u001b[0;34m'GET'\u001b[0m\u001b[0;34m,\u001b[0m \u001b[0mdata\u001b[0m\u001b[0;34m=\u001b[0m\u001b[0mparameters\u001b[0m\u001b[0;34m)\u001b[0m\u001b[0;34m\u001b[0m\u001b[0;34m\u001b[0m\u001b[0m\n\u001b[0;32m-> 2499\u001b[0;31m         \u001b[0mdata\u001b[0m \u001b[0;34m=\u001b[0m \u001b[0mself\u001b[0m\u001b[0;34m.\u001b[0m\u001b[0m_ParseAndCheckTwitter\u001b[0m\u001b[0;34m(\u001b[0m\u001b[0mresp\u001b[0m\u001b[0;34m.\u001b[0m\u001b[0mcontent\u001b[0m\u001b[0;34m.\u001b[0m\u001b[0mdecode\u001b[0m\u001b[0;34m(\u001b[0m\u001b[0;34m'utf-8'\u001b[0m\u001b[0;34m)\u001b[0m\u001b[0;34m)\u001b[0m\u001b[0;34m\u001b[0m\u001b[0;34m\u001b[0m\u001b[0m\n\u001b[0m\u001b[1;32m   2500\u001b[0m \u001b[0;34m\u001b[0m\u001b[0m\n\u001b[1;32m   2501\u001b[0m         \u001b[0;32mif\u001b[0m \u001b[0;34m'users'\u001b[0m \u001b[0;32min\u001b[0m \u001b[0mdata\u001b[0m\u001b[0;34m:\u001b[0m\u001b[0;34m\u001b[0m\u001b[0;34m\u001b[0m\u001b[0m\n",
      "\u001b[0;32m~/anaconda3/lib/python3.8/site-packages/twitter/api.py\u001b[0m in \u001b[0;36m_ParseAndCheckTwitter\u001b[0;34m(self, json_data)\u001b[0m\n\u001b[1;32m   4906\u001b[0m                 \u001b[0;32mraise\u001b[0m \u001b[0mTwitterError\u001b[0m\u001b[0;34m(\u001b[0m\u001b[0;34m{\u001b[0m\u001b[0;34m'message'\u001b[0m\u001b[0;34m:\u001b[0m \u001b[0;34m\"Unauthorized\"\u001b[0m\u001b[0;34m}\u001b[0m\u001b[0;34m)\u001b[0m\u001b[0;34m\u001b[0m\u001b[0;34m\u001b[0m\u001b[0m\n\u001b[1;32m   4907\u001b[0m             \u001b[0;32mraise\u001b[0m \u001b[0mTwitterError\u001b[0m\u001b[0;34m(\u001b[0m\u001b[0;34m{\u001b[0m\u001b[0;34m'Unknown error'\u001b[0m\u001b[0;34m:\u001b[0m \u001b[0;34m'{0}'\u001b[0m\u001b[0;34m.\u001b[0m\u001b[0mformat\u001b[0m\u001b[0;34m(\u001b[0m\u001b[0mjson_data\u001b[0m\u001b[0;34m)\u001b[0m\u001b[0;34m}\u001b[0m\u001b[0;34m)\u001b[0m\u001b[0;34m\u001b[0m\u001b[0;34m\u001b[0m\u001b[0m\n\u001b[0;32m-> 4908\u001b[0;31m         \u001b[0mself\u001b[0m\u001b[0;34m.\u001b[0m\u001b[0m_CheckForTwitterError\u001b[0m\u001b[0;34m(\u001b[0m\u001b[0mdata\u001b[0m\u001b[0;34m)\u001b[0m\u001b[0;34m\u001b[0m\u001b[0;34m\u001b[0m\u001b[0m\n\u001b[0m\u001b[1;32m   4909\u001b[0m         \u001b[0;32mreturn\u001b[0m \u001b[0mdata\u001b[0m\u001b[0;34m\u001b[0m\u001b[0;34m\u001b[0m\u001b[0m\n\u001b[1;32m   4910\u001b[0m \u001b[0;34m\u001b[0m\u001b[0m\n",
      "\u001b[0;32m~/anaconda3/lib/python3.8/site-packages/twitter/api.py\u001b[0m in \u001b[0;36m_CheckForTwitterError\u001b[0;34m(data)\u001b[0m\n\u001b[1;32m   4926\u001b[0m             \u001b[0;32mraise\u001b[0m \u001b[0mTwitterError\u001b[0m\u001b[0;34m(\u001b[0m\u001b[0mdata\u001b[0m\u001b[0;34m[\u001b[0m\u001b[0;34m'error'\u001b[0m\u001b[0;34m]\u001b[0m\u001b[0;34m)\u001b[0m\u001b[0;34m\u001b[0m\u001b[0;34m\u001b[0m\u001b[0m\n\u001b[1;32m   4927\u001b[0m         \u001b[0;32mif\u001b[0m \u001b[0;34m'errors'\u001b[0m \u001b[0;32min\u001b[0m \u001b[0mdata\u001b[0m\u001b[0;34m:\u001b[0m\u001b[0;34m\u001b[0m\u001b[0;34m\u001b[0m\u001b[0m\n\u001b[0;32m-> 4928\u001b[0;31m             \u001b[0;32mraise\u001b[0m \u001b[0mTwitterError\u001b[0m\u001b[0;34m(\u001b[0m\u001b[0mdata\u001b[0m\u001b[0;34m[\u001b[0m\u001b[0;34m'errors'\u001b[0m\u001b[0;34m]\u001b[0m\u001b[0;34m)\u001b[0m\u001b[0;34m\u001b[0m\u001b[0;34m\u001b[0m\u001b[0m\n\u001b[0m\u001b[1;32m   4929\u001b[0m \u001b[0;34m\u001b[0m\u001b[0m\n\u001b[1;32m   4930\u001b[0m     \u001b[0;32mdef\u001b[0m \u001b[0m_RequestChunkedUpload\u001b[0m\u001b[0;34m(\u001b[0m\u001b[0mself\u001b[0m\u001b[0;34m,\u001b[0m \u001b[0murl\u001b[0m\u001b[0;34m,\u001b[0m \u001b[0mheaders\u001b[0m\u001b[0;34m,\u001b[0m \u001b[0mdata\u001b[0m\u001b[0;34m)\u001b[0m\u001b[0;34m:\u001b[0m\u001b[0;34m\u001b[0m\u001b[0;34m\u001b[0m\u001b[0m\n",
      "\u001b[0;31mTwitterError\u001b[0m: [{'message': 'Rate limit exceeded', 'code': 88}]"
     ]
    }
   ],
   "source": [
    "#down load followers and followed\n",
    "users = api.GetFriends()\n",
    "followers = api.GetFollowers()\n",
    "# search for a specific term across twitter\n",
    "bu_search = api.GetSearch(term='Bellevue University', since=2019-1-1, count=100)"
   ]
  },
  {
   "cell_type": "code",
   "execution_count": 40,
   "metadata": {},
   "outputs": [
    {
     "ename": "TwitterError",
     "evalue": "[{'message': 'Rate limit exceeded', 'code': 88}]",
     "output_type": "error",
     "traceback": [
      "\u001b[0;31m---------------------------------------------------------------------------\u001b[0m",
      "\u001b[0;31mTwitterError\u001b[0m                              Traceback (most recent call last)",
      "\u001b[0;32m<ipython-input-40-a535189ae7cf>\u001b[0m in \u001b[0;36m<module>\u001b[0;34m\u001b[0m\n\u001b[1;32m      1\u001b[0m \u001b[0;31m# Followers\u001b[0m\u001b[0;34m\u001b[0m\u001b[0;34m\u001b[0m\u001b[0;34m\u001b[0m\u001b[0m\n\u001b[0;32m----> 2\u001b[0;31m \u001b[0mfollowers\u001b[0m \u001b[0;34m=\u001b[0m \u001b[0mapi\u001b[0m\u001b[0;34m.\u001b[0m\u001b[0mGetFollowers\u001b[0m\u001b[0;34m(\u001b[0m\u001b[0;34m)\u001b[0m\u001b[0;34m\u001b[0m\u001b[0;34m\u001b[0m\u001b[0m\n\u001b[0m\u001b[1;32m      3\u001b[0m \u001b[0mmy_followers\u001b[0m\u001b[0;34m=\u001b[0m\u001b[0;34m[\u001b[0m\u001b[0;34m]\u001b[0m\u001b[0;34m\u001b[0m\u001b[0;34m\u001b[0m\u001b[0m\n\u001b[1;32m      4\u001b[0m \u001b[0;32mfor\u001b[0m \u001b[0mf\u001b[0m \u001b[0;32min\u001b[0m \u001b[0mfollowers\u001b[0m\u001b[0;34m:\u001b[0m\u001b[0;34m\u001b[0m\u001b[0;34m\u001b[0m\u001b[0m\n\u001b[1;32m      5\u001b[0m     \u001b[0mmy_followers\u001b[0m\u001b[0;34m.\u001b[0m\u001b[0mappend\u001b[0m\u001b[0;34m(\u001b[0m\u001b[0mf\u001b[0m\u001b[0;34m)\u001b[0m\u001b[0;34m\u001b[0m\u001b[0;34m\u001b[0m\u001b[0m\n",
      "\u001b[0;32m~/anaconda3/lib/python3.8/site-packages/twitter/api.py\u001b[0m in \u001b[0;36mGetFollowers\u001b[0;34m(self, user_id, screen_name, cursor, count, total_count, skip_status, include_user_entities)\u001b[0m\n\u001b[1;32m   2719\u001b[0m         \"\"\"\n\u001b[1;32m   2720\u001b[0m         \u001b[0murl\u001b[0m \u001b[0;34m=\u001b[0m \u001b[0;34m'%s/followers/list.json'\u001b[0m \u001b[0;34m%\u001b[0m \u001b[0mself\u001b[0m\u001b[0;34m.\u001b[0m\u001b[0mbase_url\u001b[0m\u001b[0;34m\u001b[0m\u001b[0;34m\u001b[0m\u001b[0m\n\u001b[0;32m-> 2721\u001b[0;31m         return self._GetFriendsFollowers(url,\n\u001b[0m\u001b[1;32m   2722\u001b[0m                                          \u001b[0muser_id\u001b[0m\u001b[0;34m,\u001b[0m\u001b[0;34m\u001b[0m\u001b[0;34m\u001b[0m\u001b[0m\n\u001b[1;32m   2723\u001b[0m                                          \u001b[0mscreen_name\u001b[0m\u001b[0;34m,\u001b[0m\u001b[0;34m\u001b[0m\u001b[0;34m\u001b[0m\u001b[0m\n",
      "\u001b[0;32m~/anaconda3/lib/python3.8/site-packages/twitter/api.py\u001b[0m in \u001b[0;36m_GetFriendsFollowers\u001b[0;34m(self, url, user_id, screen_name, cursor, count, total_count, skip_status, include_user_entities)\u001b[0m\n\u001b[1;32m   2662\u001b[0m                 \u001b[0;32mbreak\u001b[0m\u001b[0;34m\u001b[0m\u001b[0;34m\u001b[0m\u001b[0m\n\u001b[1;32m   2663\u001b[0m \u001b[0;34m\u001b[0m\u001b[0m\n\u001b[0;32m-> 2664\u001b[0;31m             next_cursor, previous_cursor, data = self._GetFriendsFollowersPaged(\n\u001b[0m\u001b[1;32m   2665\u001b[0m                 \u001b[0murl\u001b[0m\u001b[0;34m,\u001b[0m\u001b[0;34m\u001b[0m\u001b[0;34m\u001b[0m\u001b[0m\n\u001b[1;32m   2666\u001b[0m                 \u001b[0muser_id\u001b[0m\u001b[0;34m,\u001b[0m\u001b[0;34m\u001b[0m\u001b[0;34m\u001b[0m\u001b[0m\n",
      "\u001b[0;32m~/anaconda3/lib/python3.8/site-packages/twitter/api.py\u001b[0m in \u001b[0;36m_GetFriendsFollowersPaged\u001b[0;34m(self, url, user_id, screen_name, cursor, count, skip_status, include_user_entities)\u001b[0m\n\u001b[1;32m   2497\u001b[0m \u001b[0;34m\u001b[0m\u001b[0m\n\u001b[1;32m   2498\u001b[0m         \u001b[0mresp\u001b[0m \u001b[0;34m=\u001b[0m \u001b[0mself\u001b[0m\u001b[0;34m.\u001b[0m\u001b[0m_RequestUrl\u001b[0m\u001b[0;34m(\u001b[0m\u001b[0murl\u001b[0m\u001b[0;34m,\u001b[0m \u001b[0;34m'GET'\u001b[0m\u001b[0;34m,\u001b[0m \u001b[0mdata\u001b[0m\u001b[0;34m=\u001b[0m\u001b[0mparameters\u001b[0m\u001b[0;34m)\u001b[0m\u001b[0;34m\u001b[0m\u001b[0;34m\u001b[0m\u001b[0m\n\u001b[0;32m-> 2499\u001b[0;31m         \u001b[0mdata\u001b[0m \u001b[0;34m=\u001b[0m \u001b[0mself\u001b[0m\u001b[0;34m.\u001b[0m\u001b[0m_ParseAndCheckTwitter\u001b[0m\u001b[0;34m(\u001b[0m\u001b[0mresp\u001b[0m\u001b[0;34m.\u001b[0m\u001b[0mcontent\u001b[0m\u001b[0;34m.\u001b[0m\u001b[0mdecode\u001b[0m\u001b[0;34m(\u001b[0m\u001b[0;34m'utf-8'\u001b[0m\u001b[0;34m)\u001b[0m\u001b[0;34m)\u001b[0m\u001b[0;34m\u001b[0m\u001b[0;34m\u001b[0m\u001b[0m\n\u001b[0m\u001b[1;32m   2500\u001b[0m \u001b[0;34m\u001b[0m\u001b[0m\n\u001b[1;32m   2501\u001b[0m         \u001b[0;32mif\u001b[0m \u001b[0;34m'users'\u001b[0m \u001b[0;32min\u001b[0m \u001b[0mdata\u001b[0m\u001b[0;34m:\u001b[0m\u001b[0;34m\u001b[0m\u001b[0;34m\u001b[0m\u001b[0m\n",
      "\u001b[0;32m~/anaconda3/lib/python3.8/site-packages/twitter/api.py\u001b[0m in \u001b[0;36m_ParseAndCheckTwitter\u001b[0;34m(self, json_data)\u001b[0m\n\u001b[1;32m   4906\u001b[0m                 \u001b[0;32mraise\u001b[0m \u001b[0mTwitterError\u001b[0m\u001b[0;34m(\u001b[0m\u001b[0;34m{\u001b[0m\u001b[0;34m'message'\u001b[0m\u001b[0;34m:\u001b[0m \u001b[0;34m\"Unauthorized\"\u001b[0m\u001b[0;34m}\u001b[0m\u001b[0;34m)\u001b[0m\u001b[0;34m\u001b[0m\u001b[0;34m\u001b[0m\u001b[0m\n\u001b[1;32m   4907\u001b[0m             \u001b[0;32mraise\u001b[0m \u001b[0mTwitterError\u001b[0m\u001b[0;34m(\u001b[0m\u001b[0;34m{\u001b[0m\u001b[0;34m'Unknown error'\u001b[0m\u001b[0;34m:\u001b[0m \u001b[0;34m'{0}'\u001b[0m\u001b[0;34m.\u001b[0m\u001b[0mformat\u001b[0m\u001b[0;34m(\u001b[0m\u001b[0mjson_data\u001b[0m\u001b[0;34m)\u001b[0m\u001b[0;34m}\u001b[0m\u001b[0;34m)\u001b[0m\u001b[0;34m\u001b[0m\u001b[0;34m\u001b[0m\u001b[0m\n\u001b[0;32m-> 4908\u001b[0;31m         \u001b[0mself\u001b[0m\u001b[0;34m.\u001b[0m\u001b[0m_CheckForTwitterError\u001b[0m\u001b[0;34m(\u001b[0m\u001b[0mdata\u001b[0m\u001b[0;34m)\u001b[0m\u001b[0;34m\u001b[0m\u001b[0;34m\u001b[0m\u001b[0m\n\u001b[0m\u001b[1;32m   4909\u001b[0m         \u001b[0;32mreturn\u001b[0m \u001b[0mdata\u001b[0m\u001b[0;34m\u001b[0m\u001b[0;34m\u001b[0m\u001b[0m\n\u001b[1;32m   4910\u001b[0m \u001b[0;34m\u001b[0m\u001b[0m\n",
      "\u001b[0;32m~/anaconda3/lib/python3.8/site-packages/twitter/api.py\u001b[0m in \u001b[0;36m_CheckForTwitterError\u001b[0;34m(data)\u001b[0m\n\u001b[1;32m   4926\u001b[0m             \u001b[0;32mraise\u001b[0m \u001b[0mTwitterError\u001b[0m\u001b[0;34m(\u001b[0m\u001b[0mdata\u001b[0m\u001b[0;34m[\u001b[0m\u001b[0;34m'error'\u001b[0m\u001b[0;34m]\u001b[0m\u001b[0;34m)\u001b[0m\u001b[0;34m\u001b[0m\u001b[0;34m\u001b[0m\u001b[0m\n\u001b[1;32m   4927\u001b[0m         \u001b[0;32mif\u001b[0m \u001b[0;34m'errors'\u001b[0m \u001b[0;32min\u001b[0m \u001b[0mdata\u001b[0m\u001b[0;34m:\u001b[0m\u001b[0;34m\u001b[0m\u001b[0;34m\u001b[0m\u001b[0m\n\u001b[0;32m-> 4928\u001b[0;31m             \u001b[0;32mraise\u001b[0m \u001b[0mTwitterError\u001b[0m\u001b[0;34m(\u001b[0m\u001b[0mdata\u001b[0m\u001b[0;34m[\u001b[0m\u001b[0;34m'errors'\u001b[0m\u001b[0;34m]\u001b[0m\u001b[0;34m)\u001b[0m\u001b[0;34m\u001b[0m\u001b[0;34m\u001b[0m\u001b[0m\n\u001b[0m\u001b[1;32m   4929\u001b[0m \u001b[0;34m\u001b[0m\u001b[0m\n\u001b[1;32m   4930\u001b[0m     \u001b[0;32mdef\u001b[0m \u001b[0m_RequestChunkedUpload\u001b[0m\u001b[0;34m(\u001b[0m\u001b[0mself\u001b[0m\u001b[0;34m,\u001b[0m \u001b[0murl\u001b[0m\u001b[0;34m,\u001b[0m \u001b[0mheaders\u001b[0m\u001b[0;34m,\u001b[0m \u001b[0mdata\u001b[0m\u001b[0;34m)\u001b[0m\u001b[0;34m:\u001b[0m\u001b[0;34m\u001b[0m\u001b[0;34m\u001b[0m\u001b[0m\n",
      "\u001b[0;31mTwitterError\u001b[0m: [{'message': 'Rate limit exceeded', 'code': 88}]"
     ]
    }
   ],
   "source": [
    "# Followers\n",
    "\n",
    "my_followers=[]\n",
    "for f in followers:\n",
    "    my_followers.append(f)\n",
    "    \n",
    "my_followers[0]"
   ]
  },
  {
   "cell_type": "code",
   "execution_count": 24,
   "metadata": {},
   "outputs": [
    {
     "data": {
      "text/plain": [
       "[User(ID=901599205474525184, ScreenName=Prosanta4967),\n",
       " User(ID=1144634925699739648, ScreenName=Eleanoressays),\n",
       " User(ID=1023716080668352512, ScreenName=BhaskarSadhukh8),\n",
       " User(ID=5449422, ScreenName=teedubya),\n",
       " User(ID=1011239086022160386, ScreenName=JoydevMondol5),\n",
       " User(ID=198148361, ScreenName=apu_chatterjee),\n",
       " User(ID=949408454820683776, ScreenName=TalkCrypto2Me),\n",
       " User(ID=946732543046545409, ScreenName=hodlerfashion),\n",
       " User(ID=901601384189054976, ScreenName=Prosant47604035),\n",
       " User(ID=2271590108, ScreenName=NirbhikS),\n",
       " User(ID=847761334120759296, ScreenName=MonideepaChakr4),\n",
       " User(ID=839676900012355584, ScreenName=HildaQuiones4),\n",
       " User(ID=140651458, ScreenName=gtriparna),\n",
       " User(ID=794270746952531973, ScreenName=r_anandkiruba),\n",
       " User(ID=125021089, ScreenName=anilkblr),\n",
       " User(ID=276525191, ScreenName=mmmrtk),\n",
       " User(ID=744564705692368896, ScreenName=Partha_basu_in),\n",
       " User(ID=741342650985533441, ScreenName=Ashoksahoo99),\n",
       " User(ID=3953866932, ScreenName=ShamikBanerje10),\n",
       " User(ID=3236738562, ScreenName=ChetanRakesh),\n",
       " User(ID=2495426521, ScreenName=DataIndrani),\n",
       " User(ID=1054231118, ScreenName=sharpNilanjan),\n",
       " User(ID=2950652577, ScreenName=wumecor),\n",
       " User(ID=2831594244, ScreenName=manzanoaletta4),\n",
       " User(ID=41353254, ScreenName=SandipNanda)]"
      ]
     },
     "execution_count": 24,
     "metadata": {},
     "output_type": "execute_result"
    }
   ],
   "source": [
    "followers"
   ]
  },
  {
   "cell_type": "code",
   "execution_count": 13,
   "metadata": {},
   "outputs": [
    {
     "data": {
      "text/plain": [
       "[Status(ID=1323302298353692672, ScreenName=bellevue_lori, Created=Mon Nov 02 16:33:48 +0000 2020, Text='RT @AlanTonelson: Wow!  #NorthKorea’s Kim Chaek University of #Technology ranked eighth in the world at the International Collegiate #Progr…'),\n",
       " Status(ID=1323268649059274752, ScreenName=FremontTribune, Created=Mon Nov 02 14:20:05 +0000 2020, Text='The Lady Warriors basketball team picked up a pair of wins at the Bellevue Classic this past weekend improving to 3… https://t.co/btE2eHUWIE'),\n",
       " Status(ID=1323254632525766656, ScreenName=SeminarioMedInt, Created=Mon Nov 02 13:24:23 +0000 2020, Text='Otro pionero que hizo historia en el trabajo social sanitario fue:\\nDolors Colom Masfret se diplomó en Trabajo Socia… https://t.co/OGp0oqXQMt'),\n",
       " Status(ID=1323014481128075270, ScreenName=omahamagazine, Created=Sun Nov 01 21:30:07 +0000 2020, Text='The @UNOmaha which was originally located in the Redick Mansion, near 24th and Pratt streets, was the brainchild of… https://t.co/2GXmpa93qT'),\n",
       " Status(ID=1322923301774249986, ScreenName=midlandad, Created=Sun Nov 01 15:27:48 +0000 2020, Text='RT @MUCoachGilbert: Wow!!  Bellevue University punched us in the face right away.  We got dominated in every aspect, down double digits at…'),\n",
       " Status(ID=1322756006506565632, ScreenName=Midland_WBB, Created=Sun Nov 01 04:23:02 +0000 2020, Text='RT @MUCoachGilbert: Wow!!  Bellevue University punched us in the face right away.  We got dominated in every aspect, down double digits at…'),\n",
       " Status(ID=1322750629744386048, ScreenName=_MUSAAC, Created=Sun Nov 01 04:01:40 +0000 2020, Text='RT @MUCoachGilbert: #GPACscores  Midland University 77 @ Bellevue University 69'),\n",
       " Status(ID=1322740116251693056, ScreenName=dkraft00, Created=Sun Nov 01 03:19:53 +0000 2020, Text='RT @MUCoachGilbert: Wow!!  Bellevue University punched us in the face right away.  We got dominated in every aspect, down double digits at…'),\n",
       " Status(ID=1322729659247767552, ScreenName=HaaseLexis, Created=Sun Nov 01 02:38:20 +0000 2020, Text='RT @MUCoachGilbert: #GPACscores  Midland University 77 @ Bellevue University 69'),\n",
       " Status(ID=1322729325301518337, ScreenName=69NiceBot69, Created=Sun Nov 01 02:37:00 +0000 2020, Text='RT @MUCoachGilbert: #GPACscores  Midland University 77 @ Bellevue University 69'),\n",
       " Status(ID=1322727912563302400, ScreenName=MUCoachGilbert, Created=Sun Nov 01 02:31:24 +0000 2020, Text='#GPACscores  Midland University 77 @ Bellevue University 69'),\n",
       " Status(ID=1322727648619945984, ScreenName=MUCoachGilbert, Created=Sun Nov 01 02:30:21 +0000 2020, Text='Wow!!  Bellevue University punched us in the face right away.  We got dominated in every aspect, down double digits… https://t.co/fPzYj7oVtB'),\n",
       " Status(ID=1322263351066611715, ScreenName=TadDorsey1, Created=Fri Oct 30 19:45:24 +0000 2020, Text=\"RT @DoaneAthletics: Men's Basketball final - Lost 76-37 to (RV)Bellevue University\"),\n",
       " Status(ID=1322257997930860547, ScreenName=DoaneAthletics, Created=Fri Oct 30 19:24:07 +0000 2020, Text=\"Men's Basketball final - Lost 76-37 to (RV)Bellevue University\"),\n",
       " Status(ID=1322216231538216965, ScreenName=Midland_WBB, Created=Fri Oct 30 16:38:09 +0000 2020, Text='RT @MUCoachGilbert: Game Day!!!  We take on Presentation at 5:30pm in the first game of the Bruin Classic @ Bellevue University!!  I am exc…'),\n",
       " Status(ID=1322210566388277248, ScreenName=dkraft00, Created=Fri Oct 30 16:15:39 +0000 2020, Text='RT @MUCoachGilbert: Game Day!!!  We take on Presentation at 5:30pm in the first game of the Bruin Classic @ Bellevue University!!  I am exc…'),\n",
       " Status(ID=1322201098908741634, ScreenName=jdspn_radio, Created=Fri Oct 30 15:38:01 +0000 2020, Text='RT @DSUBasketball: Don’t miss our early morning tip off in the Bellevue University Classic!  10 A.M mountain time #hawksareup \\n\\nhttps://t.c…'),\n",
       " Status(ID=1322198057539305472, ScreenName=MUCoachGilbert, Created=Fri Oct 30 15:25:56 +0000 2020, Text='Game Day!!!  We take on Presentation at 5:30pm in the first game of the Bruin Classic @ Bellevue University!!  I am… https://t.co/Uoh4oRPiwN'),\n",
       " Status(ID=1322191938439860228, ScreenName=JimNekuda, Created=Fri Oct 30 15:01:37 +0000 2020, Text='https://t.co/9tOrQVvUKF'),\n",
       " Status(ID=1322186606418268161, ScreenName=DSUBasketball, Created=Fri Oct 30 14:40:26 +0000 2020, Text='Don’t miss our early morning tip off in the Bellevue University Classic!  10 A.M mountain time #hawksareup \\n\\nhttps://t.co/sYi1A2Kvhu'),\n",
       " Status(ID=1322124880695955456, ScreenName=justdees45, Created=Fri Oct 30 10:35:10 +0000 2020, Text=\"RT @BellevueU: Ball is life. Welcome Aminah to the Bellevue University Women's Basketball team (recently picked to WIN the 2020-21 NSAA Wom…\"),\n",
       " Status(ID=1321812349737562113, ScreenName=IMRAweb, Created=Thu Oct 29 13:53:16 +0000 2020, Text='L to R: Greg ASHLEY (Director at Bellevue University, Omaha, Nebraska) and Sergey YABLONSKY (St. Petersburg State U… https://t.co/C7RESvpv8g'),\n",
       " Status(ID=1321661356798562304, ScreenName=topherjaims, Created=Thu Oct 29 03:53:17 +0000 2020, Text='@CamTalksTech Bellevue University'),\n",
       " Status(ID=1321596931467026432, ScreenName=DaveDenly, Created=Wed Oct 28 23:37:17 +0000 2020, Text=\"RT @BellevueU: Ball is life. Welcome Aminah to the Bellevue University Women's Basketball team (recently picked to WIN the 2020-21 NSAA Wom…\"),\n",
       " Status(ID=1321595299387875329, ScreenName=BellevueWBB, Created=Wed Oct 28 23:30:48 +0000 2020, Text=\"RT @BellevueU: Ball is life. Welcome Aminah to the Bellevue University Women's Basketball team (recently picked to WIN the 2020-21 NSAA Wom…\"),\n",
       " Status(ID=1321594421352275970, ScreenName=browngw78, Created=Wed Oct 28 23:27:18 +0000 2020, Text=\"RT @BellevueU: Ball is life. Welcome Aminah to the Bellevue University Women's Basketball team (recently picked to WIN the 2020-21 NSAA Wom…\"),\n",
       " Status(ID=1321592098844483585, ScreenName=Cheyenneisback_, Created=Wed Oct 28 23:18:05 +0000 2020, Text=\"RT @BellevueU: Ball is life. Welcome Aminah to the Bellevue University Women's Basketball team (recently picked to WIN the 2020-21 NSAA Wom…\"),\n",
       " Status(ID=1321592014635491333, ScreenName=kaziahtee23, Created=Wed Oct 28 23:17:44 +0000 2020, Text=\"RT @BellevueU: Ball is life. Welcome Aminah to the Bellevue University Women's Basketball team (recently picked to WIN the 2020-21 NSAA Wom…\"),\n",
       " Status(ID=1321573483126657032, ScreenName=galpal_, Created=Wed Oct 28 22:04:06 +0000 2020, Text=\"RT @BellevueU: Ball is life. Welcome Aminah to the Bellevue University Women's Basketball team (recently picked to WIN the 2020-21 NSAA Wom…\"),\n",
       " Status(ID=1321573008847327235, ScreenName=thinmanx11, Created=Wed Oct 28 22:02:13 +0000 2020, Text=\"RT @BellevueU: Ball is life. Welcome Aminah to the Bellevue University Women's Basketball team (recently picked to WIN the 2020-21 NSAA Wom…\"),\n",
       " Status(ID=1321572722338660363, ScreenName=BellevueU, Created=Wed Oct 28 22:01:05 +0000 2020, Text=\"Ball is life. Welcome Aminah to the Bellevue University Women's Basketball team (recently picked to WIN the 2020-21… https://t.co/hjjrItzCaR\"),\n",
       " Status(ID=1321233461043224577, ScreenName=kwucoyotes, Created=Tue Oct 27 23:32:59 +0000 2020, Text=\"Women's Basketball - Lost 77-54 to Bellevue University #kcacscores\"),\n",
       " Status(ID=1321168225460047872, ScreenName=RootedInRights, Created=Tue Oct 27 19:13:45 +0000 2020, Text='RT @disrightswa: All locations below have ample space to keep staff and voters safe. \\n• Bellevue College \\n• Federal Way Performing Arts and…'),\n",
       " Status(ID=1321127469764669442, ScreenName=disrightswa, Created=Tue Oct 27 16:31:48 +0000 2020, Text='All locations below have ample space to keep staff and voters safe. \\n• Bellevue College \\n• Federal Way Performing A… https://t.co/S1N9D6ivL8'),\n",
       " Status(ID=1321120844186324992, ScreenName=EllaleeLA, Created=Tue Oct 27 16:05:29 +0000 2020, Text='@Bellevue_Bands throwback to when we went to Ohio Wesleyan University. @marchingbishops https://t.co/ArXAidvFNJ'),\n",
       " Status(ID=1320884324976218114, ScreenName=TheFORSe_Radio, Created=Tue Oct 27 00:25:38 +0000 2020, Text='RT @ForsythTechCC: Our partner, Bellevue University is hosting a virtual \"Trick or Treat Trivia\" night! It\\'s Wednesday, October 28th! RSVP…'),\n",
       " Status(ID=1320865284094332931, ScreenName=thinmanx11, Created=Mon Oct 26 23:09:58 +0000 2020, Text='RT @BellevueU: Appreciation tweet to the Bellevue University alum who tagged us in this video. #Repost #HappyMonday #BruinPride https://t.c…'),\n",
       " Status(ID=1320854263090872322, ScreenName=BellevueU, Created=Mon Oct 26 22:26:11 +0000 2020, Text='Appreciation tweet to the Bellevue University alum who tagged us in this video. #Repost #HappyMonday #BruinPride https://t.co/5wxyM67M7l'),\n",
       " Status(ID=1320750721415942145, ScreenName=ValarieMartin50, Created=Mon Oct 26 15:34:45 +0000 2020, Text='Super proud of Allie Ostermann in her college basketball debut for Tabor College.  7 points and 5 boards  in 19 min… https://t.co/kcxUhAUdni'),\n",
       " Status(ID=1320679874651148288, ScreenName=CherylH800, Created=Mon Oct 26 10:53:13 +0000 2020, Text=\"Augusta University's Bellevue Hall is reportedly haunted by Emily Galt. She was in love with a soldier who died in… https://t.co/9ixxJC2V2z\"),\n",
       " Status(ID=1320616965275340801, ScreenName=BrennaRich13, Created=Mon Oct 26 06:43:15 +0000 2020, Text='RT @coachshowman: Game time change for Tuesday 10/27!  @KwuWbb will host Bellevue University at 5pm inside Mabee Arena! Go Yotes! 🏀🐺'),\n",
       " Status(ID=1320515359678451713, ScreenName=DSherwoodSJ, Created=Sun Oct 25 23:59:30 +0000 2020, Text='RT @coachshowman: Game time change for Tuesday 10/27!  @KwuWbb will host Bellevue University at 5pm inside Mabee Arena! Go Yotes! 🏀🐺'),\n",
       " Status(ID=1320514024837160962, ScreenName=coachshowman, Created=Sun Oct 25 23:54:12 +0000 2020, Text='Game time change for Tuesday 10/27!  @KwuWbb will host Bellevue University at 5pm inside Mabee Arena! Go Yotes! 🏀🐺')]"
      ]
     },
     "execution_count": 13,
     "metadata": {},
     "output_type": "execute_result"
    }
   ],
   "source": []
  },
  {
   "cell_type": "code",
   "execution_count": null,
   "metadata": {},
   "outputs": [],
   "source": []
  }
 ],
 "metadata": {
  "kernelspec": {
   "display_name": "Python 3",
   "language": "python",
   "name": "python3"
  },
  "language_info": {
   "codemirror_mode": {
    "name": "ipython",
    "version": 3
   },
   "file_extension": ".py",
   "mimetype": "text/x-python",
   "name": "python",
   "nbconvert_exporter": "python",
   "pygments_lexer": "ipython3",
   "version": "3.8.3"
  }
 },
 "nbformat": 4,
 "nbformat_minor": 4
}
