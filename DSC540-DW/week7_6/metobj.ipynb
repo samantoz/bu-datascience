{
 "cells": [
  {
   "cell_type": "code",
   "execution_count": 107,
   "metadata": {},
   "outputs": [],
   "source": [
    "# import zip_longest from itertools\n",
    "from itertools import zip_longest\n",
    "import pandas as pd\n"
   ]
  },
  {
   "cell_type": "code",
   "execution_count": 143,
   "metadata": {},
   "outputs": [
    {
     "data": {
      "text/plain": [
       "['12108 MetObjects.csv']"
      ]
     },
     "execution_count": 143,
     "metadata": {},
     "output_type": "execute_result"
    }
   ],
   "source": [
    "# Print the number of lines in the file from the shell script\n",
    "no_of_lines = ! wc -l \"MetObjects.csv\"\n",
    "no_of_lines"
   ]
  },
  {
   "cell_type": "code",
   "execution_count": 98,
   "metadata": {},
   "outputs": [],
   "source": [
    "def return_dict_from_csv_line(header, line):\n",
    "    # zip them\n",
    "    zipped_line = zip_longest(header, line, fillvalue=None)\n",
    "    # Use dict comprehension to generate the final dict\n",
    "    ret_dict = {kv[0]: kv[1] for kv in zipped_line}\n",
    "    return ret_dict"
   ]
  },
  {
   "cell_type": "code",
   "execution_count": 216,
   "metadata": {},
   "outputs": [],
   "source": [
    "lines=[]\n",
    "with open(\"MetObjects.csv\", \"r\", encoding=\"latin1\") as fd:\n",
    "    first_line = fd.readline()\n",
    "    header = first_line.replace(\"\\n\",\"\").split(\",\")\n",
    "    for i, line in enumerate(fd):\n",
    "        line = line.replace(\"\\n\", \"\").split(\",\")\n",
    "        d = return_dict_from_csv_line(header, line)\n",
    "        lines.append(d)"
   ]
  },
  {
   "cell_type": "code",
   "execution_count": 217,
   "metadata": {},
   "outputs": [],
   "source": [
    "# Reading the first line into a dataframe\n",
    "\n",
    "with open(\"MetObjects.csv\", \"r\", encoding=\"latin1\") as fd:\n",
    "    first_line = fd.readline()\n",
    "    header = first_line.replace(\"\\n\", \"\").split(\",\")\n",
    "col_header = header"
   ]
  },
  {
   "cell_type": "code",
   "execution_count": 159,
   "metadata": {},
   "outputs": [
    {
     "data": {
      "text/plain": [
       "['\"Object Number',\n",
       " 'Is Highlight',\n",
       " 'Is Public Domain',\n",
       " 'Object ID',\n",
       " 'Department',\n",
       " 'Object Name',\n",
       " 'Title',\n",
       " 'Culture',\n",
       " 'Period',\n",
       " 'Dynasty',\n",
       " 'Reign',\n",
       " 'Portfolio',\n",
       " 'Artist Role',\n",
       " 'Artist Prefix',\n",
       " 'Artist Display Name',\n",
       " 'Artist Display Bio',\n",
       " 'Artist Suffix',\n",
       " 'Artist Alpha Sort',\n",
       " 'Artist Nationality',\n",
       " 'Artist Begin Date',\n",
       " 'Artist End Date',\n",
       " 'Object Date',\n",
       " 'Object Begin Date',\n",
       " 'Object End Date',\n",
       " 'Medium',\n",
       " 'Dimensions',\n",
       " 'Credit Line',\n",
       " 'Geography Type',\n",
       " 'City',\n",
       " 'State',\n",
       " 'County',\n",
       " 'Country',\n",
       " 'Region',\n",
       " 'Subregion',\n",
       " 'Locale',\n",
       " 'Locus',\n",
       " 'Excavation',\n",
       " 'River',\n",
       " 'Classification',\n",
       " 'Rights and Reproduction',\n",
       " 'Link Resource',\n",
       " 'Metadata Date',\n",
       " 'Repository',\n",
       " 'Tags\"']"
      ]
     },
     "execution_count": 159,
     "metadata": {},
     "output_type": "execute_result"
    }
   ],
   "source": [
    "col_header"
   ]
  },
  {
   "cell_type": "code",
   "execution_count": 227,
   "metadata": {},
   "outputs": [
    {
     "name": "stdout",
     "output_type": "stream",
     "text": [
      "(12108, 44)\n"
     ]
    }
   ],
   "source": [
    "metobj_df = pd.DataFrame(data = lines, columns=col_header)\n",
    "print(metobj_df.shape)"
   ]
  },
  {
   "cell_type": "code",
   "execution_count": 226,
   "metadata": {},
   "outputs": [
    {
     "data": {
      "text/plain": [
       "<bound method NDFrame.describe of           \"Object Number Is Highlight Is Public Domain Object ID  \\\n",
       "0            \"1979.486.1        False            False         1   \n",
       "1            \"1980.264.5        False            False         2   \n",
       "2              \"67.265.9        False            False         3   \n",
       "3             \"67.265.10        False            False         4   \n",
       "4             \"67.265.11        False            False         5   \n",
       "...                  ...          ...              ...       ...   \n",
       "12103  \"1974.356.1 recto        False            False     11814   \n",
       "12104          \"54.143.8        False            False     11815   \n",
       "12105        \"1976.201.4        False            False     11816   \n",
       "12106            \"64.118        False            False     11817   \n",
       "12107                  4         None             None      None   \n",
       "\n",
       "              Department Object Name                                Title  \\\n",
       "0      The American Wing        Coin         One-dollar Liberty Head Coin   \n",
       "1      The American Wing        Coin         Ten-dollar Liberty Head Coin   \n",
       "2      The American Wing        Coin           Two-and-a-Half Dollar Coin   \n",
       "3      The American Wing        Coin           Two-and-a-Half Dollar Coin   \n",
       "4      The American Wing        Coin           Two-and-a-Half Dollar Coin   \n",
       "...                  ...         ...                                  ...   \n",
       "12103  The American Wing  Watercolor      \"\"Rialto Bridge (Covered Bridge   \n",
       "12104  The American Wing  Watercolor                            The Rider   \n",
       "12105  The American Wing  Watercolor              \"\"Umbrellas in the Rain   \n",
       "12106  The American Wing  Watercolor  Worship of Moloch (The Golden Idol)   \n",
       "12107               None        None                                 None   \n",
       "\n",
       "          Culture    Period Dynasty  ... Locale Locus Excavation River  \\\n",
       "0                                    ...                                 \n",
       "1                                    ...                                 \n",
       "2                                    ...                                 \n",
       "3                                    ...                                 \n",
       "4                                    ...                                 \n",
       "...           ...       ...     ...  ...    ...   ...        ...   ...   \n",
       "12103   Venice)\"\"  American          ...                                 \n",
       "12104    American                    ...                                 \n",
       "12105    Venice\"\"  American          ...                                 \n",
       "12106    American                    ...                                 \n",
       "12107        None      None    None  ...   None  None       None  None   \n",
       "\n",
       "      Classification Rights and Reproduction Link Resource Metadata Date  \\\n",
       "0                                                                          \n",
       "1                                                    Metal                 \n",
       "2                                                    Metal                 \n",
       "3                                                    Metal                 \n",
       "4                                                    Metal                 \n",
       "...              ...                     ...           ...           ...   \n",
       "12103                                                                      \n",
       "12104                                                                      \n",
       "12105                                                                      \n",
       "12106                                             Drawings                 \n",
       "12107           None                    None          None          None   \n",
       "\n",
       "                                              Repository  \\\n",
       "0                                                          \n",
       "1       http://www.metmuseum.org/art/collection/search/2   \n",
       "2       http://www.metmuseum.org/art/collection/search/3   \n",
       "3       http://www.metmuseum.org/art/collection/search/4   \n",
       "4       http://www.metmuseum.org/art/collection/search/5   \n",
       "...                                                  ...   \n",
       "12103                                                      \n",
       "12104                                           Drawings   \n",
       "12105                                                      \n",
       "12106  http://www.metmuseum.org/art/collection/search...   \n",
       "12107                                               None   \n",
       "\n",
       "                          Tags\"  \n",
       "0                         Metal  \n",
       "1                                \n",
       "2                                \n",
       "3                                \n",
       "4                                \n",
       "...                         ...  \n",
       "12103                            \n",
       "12104                            \n",
       "12105                  Drawings  \n",
       "12106  2019-02-01T10:50:49.477Z  \n",
       "12107                      None  \n",
       "\n",
       "[12108 rows x 44 columns]>"
      ]
     },
     "execution_count": 226,
     "metadata": {},
     "output_type": "execute_result"
    }
   ],
   "source": [
    "metobj_df.describe"
   ]
  },
  {
   "cell_type": "code",
   "execution_count": 229,
   "metadata": {},
   "outputs": [
    {
     "data": {
      "text/plain": [
       "(12108, 44)"
      ]
     },
     "execution_count": 229,
     "metadata": {},
     "output_type": "execute_result"
    }
   ],
   "source": [
    "# Filter out missing data\n",
    "# Using how = all will drop rows that are all NA\n",
    "# So after using the parameter it did not drop a single row\n",
    "metobj_df_1 = metobj_df.dropna(how='all')\n",
    "metobj_df_1.shape"
   ]
  },
  {
   "cell_type": "code",
   "execution_count": 230,
   "metadata": {},
   "outputs": [],
   "source": [
    "# Removing duplicates\n",
    "# After dropping the duplicates the new row count\n",
    "metobj_df_1 = metobj_df.drop_duplicates()"
   ]
  },
  {
   "cell_type": "code",
   "execution_count": 245,
   "metadata": {},
   "outputs": [
    {
     "name": "stdout",
     "output_type": "stream",
     "text": [
      "The row count before dropping duplicates is: 12108.\n",
      "The row count after dropping the duplicates is: 11923.\n"
     ]
    }
   ],
   "source": [
    "bef4 = metobj_df.shape[0]\n",
    "aftr = metobj_df_1.shape[0]\n",
    "print(\"The row count before dropping duplicates is: {}.\"\"\\n\"\"The row count after dropping the duplicates is: {}.\".format(bef4,aftr))"
   ]
  },
  {
   "cell_type": "code",
   "execution_count": 233,
   "metadata": {},
   "outputs": [],
   "source": [
    "# So all rows that were duplicate are dropped from the actual dataframe \n",
    "# The new data frame with no duplicates is metobj_df_1\n",
    "metobj_dedup = metobj_df_1"
   ]
  },
  {
   "cell_type": "code",
   "execution_count": 234,
   "metadata": {},
   "outputs": [
    {
     "data": {
      "text/plain": [
       "(11923, 44)"
      ]
     },
     "execution_count": 234,
     "metadata": {},
     "output_type": "execute_result"
    }
   ],
   "source": [
    "metobj_dedup.shape"
   ]
  },
  {
   "cell_type": "code",
   "execution_count": 246,
   "metadata": {},
   "outputs": [
    {
     "data": {
      "text/plain": [
       "Int64Index([    0,     1,     2,     3,     4,     5,     6,     7,     8,\n",
       "                9,\n",
       "            ...\n",
       "            12098, 12099, 12100, 12101, 12102, 12103, 12104, 12105, 12106,\n",
       "            12107],\n",
       "           dtype='int64', length=11923)"
      ]
     },
     "execution_count": 246,
     "metadata": {},
     "output_type": "execute_result"
    }
   ],
   "source": [
    "metobj_dedup.index"
   ]
  },
  {
   "cell_type": "code",
   "execution_count": null,
   "metadata": {},
   "outputs": [],
   "source": []
  }
 ],
 "metadata": {
  "kernelspec": {
   "display_name": "Python 3",
   "language": "python",
   "name": "python3"
  },
  "language_info": {
   "codemirror_mode": {
    "name": "ipython",
    "version": 3
   },
   "file_extension": ".py",
   "mimetype": "text/x-python",
   "name": "python",
   "nbconvert_exporter": "python",
   "pygments_lexer": "ipython3",
   "version": "3.8.3"
  }
 },
 "nbformat": 4,
 "nbformat_minor": 4
}
