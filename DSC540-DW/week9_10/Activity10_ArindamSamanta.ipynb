{
 "cells": [
  {
   "cell_type": "code",
   "execution_count": 11,
   "metadata": {},
   "outputs": [],
   "source": [
    "import urllib.request, urllib.parse, urllib.error\n",
    "import json"
   ]
  },
  {
   "cell_type": "code",
   "execution_count": 12,
   "metadata": {},
   "outputs": [],
   "source": [
    "# Open the APIKeys.json file\n",
    "with open('APIkeys.json') as f:\n",
    "    keys = json.load(f)\n",
    "    omdbapi = keys['OMDBapi']"
   ]
  },
  {
   "cell_type": "code",
   "execution_count": 13,
   "metadata": {},
   "outputs": [],
   "source": [
    "#Creating the service url\n",
    "serviceurl = 'http://www.omdbapi.com/?'\n",
    "# creating the variable to hold the last portion of the url\n",
    "apikey = '&apikey='+omdbapi"
   ]
  },
  {
   "cell_type": "code",
   "execution_count": 14,
   "metadata": {},
   "outputs": [],
   "source": [
    "# creating a utility function to print the movie data from a JSON file.\n",
    "def print_json(json_data):\n",
    "    list_keys=['Title','Year','Rated','Released','Runtime','Genre','Director','Writer','Actors','Plot','Language','Country','Awards','Ratings','Metascore','imdbRating','imdbVotes','imdbID']\n",
    "    print(\"-\"*50)\n",
    "    for k in list_keys:\n",
    "        if k in list(json_data.keys()):\n",
    "            print(f\"{k}: {json_data[k]}\")\n",
    "    print(\"-\"*50)"
   ]
  },
  {
   "cell_type": "code",
   "execution_count": 15,
   "metadata": {},
   "outputs": [],
   "source": [
    "# Writing a utility function to download a poster of the movie based on the information from the json dataset.\n",
    "def save_poster(json_data):\n",
    "    import os\n",
    "    title = json_data['Title']\n",
    "    poster_url = json_data['Poster']\n",
    "    # Splits the poster url by '-' and picks up the last string as the file extension\n",
    "    poster_file_extension = poster_url.split(',')[-1]\n",
    "    # Reads the image file from web\n",
    "    poster_data = urllib.request.urlopen(poster_url).read()\n",
    "    \n",
    "    savelocation = os.getcwd()+'\\\\'+'Posters'+'\\\\'\n",
    "    # Creates new directory if the directory does not exist.\n",
    "    if not os.path.isdir(savelocation):\n",
    "        os.mkdir(savelocation)\n",
    "        \n",
    "    filename=savelocation+str(title)+','+poster_file_extension\n",
    "    f.open(filename,'wb')\n",
    "    f.write(poster_data)\n",
    "    f.close()"
   ]
  },
  {
   "cell_type": "code",
   "execution_count": 16,
   "metadata": {},
   "outputs": [],
   "source": [
    "def search_movie(title):\n",
    "    try:\n",
    "        url = serviceurl + urllib.parse.urlencode({'t':str(title)})+apikey\n",
    "        print(f'Retrieving the data of \"[title]\" now...')\n",
    "        print(url)\n",
    "        uh = urllib.request.urlopen(url)\n",
    "        data = uh.read()\n",
    "        json_data=json.loads(data)\n",
    "        \n",
    "        if json_data['Response']=='True':\n",
    "            print_json(json_data)\n",
    "            #Asks user whether to download the poster of the movie\n",
    "            if json_data['Poster']!='N/A':\n",
    "                save_poster(json_data)\n",
    "        else:\n",
    "            print(\"Error encountered: \",json_data['Error'])\n",
    "            \n",
    "    except urllib.error.URLError as e:\n",
    "        print(f\"ERROR: {e.reason}\")"
   ]
  },
  {
   "cell_type": "code",
   "execution_count": 17,
   "metadata": {},
   "outputs": [
    {
     "name": "stdout",
     "output_type": "stream",
     "text": [
      "Retrieving the data of \"[title]\" now...\n",
      "http://www.omdbapi.com/?t=Titanic&apikey=bceefabc\n",
      "--------------------------------------------------\n",
      "Title: Titanic\n",
      "Year: 1997\n",
      "Rated: PG-13\n",
      "Released: 19 Dec 1997\n",
      "Runtime: 194 min\n",
      "Genre: Drama, Romance\n",
      "Director: James Cameron\n",
      "Writer: James Cameron\n",
      "Actors: Leonardo DiCaprio, Kate Winslet, Billy Zane, Kathy Bates\n",
      "Plot: A seventeen-year-old aristocrat falls in love with a kind but poor artist aboard the luxurious, ill-fated R.M.S. Titanic.\n",
      "Language: English, Swedish, Italian, French\n",
      "Country: USA, Mexico, Australia, Canada\n",
      "Awards: Won 11 Oscars. Another 112 wins & 83 nominations.\n",
      "Ratings: [{'Source': 'Internet Movie Database', 'Value': '7.8/10'}, {'Source': 'Rotten Tomatoes', 'Value': '89%'}, {'Source': 'Metacritic', 'Value': '75/100'}]\n",
      "Metascore: 75\n",
      "imdbRating: 7.8\n",
      "imdbVotes: 1,029,426\n",
      "imdbID: tt0120338\n",
      "--------------------------------------------------\n"
     ]
    },
    {
     "ename": "AttributeError",
     "evalue": "'_io.TextIOWrapper' object has no attribute 'open'",
     "output_type": "error",
     "traceback": [
      "\u001b[0;31m---------------------------------------------------------------------------\u001b[0m",
      "\u001b[0;31mAttributeError\u001b[0m                            Traceback (most recent call last)",
      "\u001b[0;32m<ipython-input-17-7b9a8ae4145e>\u001b[0m in \u001b[0;36m<module>\u001b[0;34m\u001b[0m\n\u001b[0;32m----> 1\u001b[0;31m \u001b[0msearch_movie\u001b[0m\u001b[0;34m(\u001b[0m\u001b[0;34m\"Titanic\"\u001b[0m\u001b[0;34m)\u001b[0m\u001b[0;34m\u001b[0m\u001b[0;34m\u001b[0m\u001b[0m\n\u001b[0m",
      "\u001b[0;32m<ipython-input-16-cd3f299225f2>\u001b[0m in \u001b[0;36msearch_movie\u001b[0;34m(title)\u001b[0m\n\u001b[1;32m     12\u001b[0m             \u001b[0;31m#Asks user whether to download the poster of the movie\u001b[0m\u001b[0;34m\u001b[0m\u001b[0;34m\u001b[0m\u001b[0;34m\u001b[0m\u001b[0m\n\u001b[1;32m     13\u001b[0m             \u001b[0;32mif\u001b[0m \u001b[0mjson_data\u001b[0m\u001b[0;34m[\u001b[0m\u001b[0;34m'Poster'\u001b[0m\u001b[0;34m]\u001b[0m\u001b[0;34m!=\u001b[0m\u001b[0;34m'N/A'\u001b[0m\u001b[0;34m:\u001b[0m\u001b[0;34m\u001b[0m\u001b[0;34m\u001b[0m\u001b[0m\n\u001b[0;32m---> 14\u001b[0;31m                 \u001b[0msave_poster\u001b[0m\u001b[0;34m(\u001b[0m\u001b[0mjson_data\u001b[0m\u001b[0;34m)\u001b[0m\u001b[0;34m\u001b[0m\u001b[0;34m\u001b[0m\u001b[0m\n\u001b[0m\u001b[1;32m     15\u001b[0m         \u001b[0;32melse\u001b[0m\u001b[0;34m:\u001b[0m\u001b[0;34m\u001b[0m\u001b[0;34m\u001b[0m\u001b[0m\n\u001b[1;32m     16\u001b[0m             \u001b[0mprint\u001b[0m\u001b[0;34m(\u001b[0m\u001b[0;34m\"Error encountered: \"\u001b[0m\u001b[0;34m,\u001b[0m\u001b[0mjson_data\u001b[0m\u001b[0;34m[\u001b[0m\u001b[0;34m'Error'\u001b[0m\u001b[0;34m]\u001b[0m\u001b[0;34m)\u001b[0m\u001b[0;34m\u001b[0m\u001b[0;34m\u001b[0m\u001b[0m\n",
      "\u001b[0;32m<ipython-input-15-6e6e5336f5bf>\u001b[0m in \u001b[0;36msave_poster\u001b[0;34m(json_data)\u001b[0m\n\u001b[1;32m     15\u001b[0m \u001b[0;34m\u001b[0m\u001b[0m\n\u001b[1;32m     16\u001b[0m     \u001b[0mfilename\u001b[0m\u001b[0;34m=\u001b[0m\u001b[0msavelocation\u001b[0m\u001b[0;34m+\u001b[0m\u001b[0mstr\u001b[0m\u001b[0;34m(\u001b[0m\u001b[0mtitle\u001b[0m\u001b[0;34m)\u001b[0m\u001b[0;34m+\u001b[0m\u001b[0;34m','\u001b[0m\u001b[0;34m+\u001b[0m\u001b[0mposter_file_extension\u001b[0m\u001b[0;34m\u001b[0m\u001b[0;34m\u001b[0m\u001b[0m\n\u001b[0;32m---> 17\u001b[0;31m     \u001b[0mf\u001b[0m\u001b[0;34m.\u001b[0m\u001b[0mopen\u001b[0m\u001b[0;34m(\u001b[0m\u001b[0mfilename\u001b[0m\u001b[0;34m,\u001b[0m\u001b[0;34m'wb'\u001b[0m\u001b[0;34m)\u001b[0m\u001b[0;34m\u001b[0m\u001b[0;34m\u001b[0m\u001b[0m\n\u001b[0m\u001b[1;32m     18\u001b[0m     \u001b[0mf\u001b[0m\u001b[0;34m.\u001b[0m\u001b[0mwrite\u001b[0m\u001b[0;34m(\u001b[0m\u001b[0mposter_data\u001b[0m\u001b[0;34m)\u001b[0m\u001b[0;34m\u001b[0m\u001b[0;34m\u001b[0m\u001b[0m\n\u001b[1;32m     19\u001b[0m     \u001b[0mf\u001b[0m\u001b[0;34m.\u001b[0m\u001b[0mclose\u001b[0m\u001b[0;34m(\u001b[0m\u001b[0;34m)\u001b[0m\u001b[0;34m\u001b[0m\u001b[0;34m\u001b[0m\u001b[0m\n",
      "\u001b[0;31mAttributeError\u001b[0m: '_io.TextIOWrapper' object has no attribute 'open'"
     ]
    }
   ],
   "source": [
    "search_movie(\"Titanic\")"
   ]
  },
  {
   "cell_type": "code",
   "execution_count": null,
   "metadata": {},
   "outputs": [],
   "source": []
  }
 ],
 "metadata": {
  "kernelspec": {
   "display_name": "Python 3",
   "language": "python",
   "name": "python3"
  },
  "language_info": {
   "codemirror_mode": {
    "name": "ipython",
    "version": 3
   },
   "file_extension": ".py",
   "mimetype": "text/x-python",
   "name": "python",
   "nbconvert_exporter": "python",
   "pygments_lexer": "ipython3",
   "version": "3.8.3"
  }
 },
 "nbformat": 4,
 "nbformat_minor": 4
}
