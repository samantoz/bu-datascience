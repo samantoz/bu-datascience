{
 "cells": [
  {
   "cell_type": "markdown",
   "metadata": {},
   "source": [
    "# Exercises from Think Stats, 2nd Edition\n",
    "\n",
    "http://thinkstats2.com\n",
    "\n",
    "Copyright 2016 Allen B. Downey\n",
    "\n",
    "MIT License: https://opensource.org/licenses/MIT\n"
   ]
  },
  {
   "cell_type": "code",
   "execution_count": 1,
   "metadata": {},
   "outputs": [],
   "source": [
    "from __future__ import print_function, division\n",
    "\n",
    "%matplotlib inline\n",
    "\n",
    "import numpy as np\n",
    "\n",
    "import random\n",
    "\n",
    "import thinkstats2\n",
    "import thinkplot\n"
   ]
  },
  {
   "cell_type": "markdown",
   "metadata": {},
   "source": [
    "## Hypothesis testing"
   ]
  },
  {
   "cell_type": "markdown",
   "metadata": {},
   "source": [
    "## Exercises"
   ]
  },
  {
   "cell_type": "markdown",
   "metadata": {},
   "source": [
    "**Exercise:** As sample size increases, the power of a hypothesis test increases, which means it is more likely to be positive if the effect is real. Conversely, as sample size decreases, the test is less likely to be positive even if the effect is real.\n",
    "\n",
    "To investigate this behavior, run the tests in this chapter with different subsets of the NSFG data. You can use `thinkstats2.SampleRows` to select a random subset of the rows in a DataFrame.\n",
    "\n",
    "What happens to the p-values of these tests as sample size decreases? What is the smallest sample size that yields a positive test?"
   ]
  },
  {
   "cell_type": "code",
   "execution_count": 2,
   "metadata": {},
   "outputs": [],
   "source": [
    "# So we are going to test in the below class by taking the difference of the means between two groups.\n",
    "# The mean pregnancy lengths of the first babies and the other."
   ]
  },
  {
   "cell_type": "code",
   "execution_count": 3,
   "metadata": {},
   "outputs": [],
   "source": [
    "class DiffMeansPermute(thinkstats2.HypothesisTest):\n",
    "\n",
    "    def TestStatistic(self, data):\n",
    "        group1, group2 = data\n",
    "        test_stat = abs(group1.mean() - group2.mean())\n",
    "        return test_stat\n",
    "    \n",
    "    def MakeModel(self):\n",
    "        group1, group2 = self.data\n",
    "        self.n, self.m = len(group1), len(group2)\n",
    "        self.pool = np.hstack((group1, group2))\n",
    "\n",
    "    def RunModel(self):\n",
    "        np.random.shuffle(self.pool)\n",
    "        data = self.pool[:self.n], self.pool[self.n:]\n",
    "        return data"
   ]
  },
  {
   "cell_type": "code",
   "execution_count": 4,
   "metadata": {},
   "outputs": [],
   "source": [
    "# The below class is to measure the standard deviation between the 2 groups"
   ]
  },
  {
   "cell_type": "code",
   "execution_count": 5,
   "metadata": {},
   "outputs": [],
   "source": [
    "class DiffStdPermute(DiffMeansPermute):\n",
    "\n",
    "    def TestStatistic(self, data):\n",
    "        group1, group2 = data\n",
    "        test_stat = group1.std() - group2.std()\n",
    "        return test_stat"
   ]
  },
  {
   "cell_type": "markdown",
   "metadata": {},
   "source": [
    "We use the chi-squared statistic to test the statistical significance of the pregnancy lengths of first babies and the others especially in the range between 35 and 43 weeks"
   ]
  },
  {
   "cell_type": "code",
   "execution_count": 6,
   "metadata": {},
   "outputs": [],
   "source": [
    "class DiffChisquaredPermute(thinkstats2.HypothesisTest):\n",
    "\n",
    "    def TestStatistic(self, data):\n",
    "        firsts, others = data\n",
    "        stat = self.ChiSquared(firsts) + self.ChiSquared(others)\n",
    "        return stat\n",
    "    \n",
    "    def ChiSquared(self, lengths):\n",
    "        hist = thinkstats2.Hist(lengths)\n",
    "        observed = np.array(hist.Freqs(self.values))\n",
    "        expected = self.expected_probs * len(lengths)\n",
    "        stat = sum((observed - expected)**2 / expected)\n",
    "        return stat\n",
    "    \n",
    "    def MakeModel(self):\n",
    "        firsts, others = self.data\n",
    "        self.n = len(firsts)\n",
    "        self.pool = np.hstack((firsts, others))\n",
    "\n",
    "        pmf = thinkstats2.Pmf(self.pool)\n",
    "        self.values = range(35, 44)\n",
    "        self.expected_probs = np.array(pmf.Probs(self.values))\n",
    "    \n",
    "    def RunModel(self):\n",
    "        xs, ys = self.data\n",
    "        xs = np.random.permutation(xs)\n",
    "        return xs, ys"
   ]
  },
  {
   "cell_type": "code",
   "execution_count": 7,
   "metadata": {},
   "outputs": [],
   "source": [
    "# The below class is to calculate the correlation"
   ]
  },
  {
   "cell_type": "code",
   "execution_count": 8,
   "metadata": {},
   "outputs": [],
   "source": [
    "class DiffCorrelationPermute(thinkstats2.HypothesisTest):\n",
    "\n",
    "    def TestStatistic(self, data):\n",
    "        xs, ys = data\n",
    "        test_stat = abs(thinkstats2.Corr(xs, ys))\n",
    "        return test_stat\n",
    "    \n",
    "    \n",
    "    def RunModel(self):\n",
    "        xs, ys = self.data\n",
    "        xs = np.random.permutation(xs)\n",
    "        return xs, ys"
   ]
  },
  {
   "cell_type": "code",
   "execution_count": 9,
   "metadata": {},
   "outputs": [],
   "source": [
    "# importing the NSFG data\n",
    "import first\n",
    "## Populating 3 dataframes from the NSFG file\n",
    "live,first_birth,other_birth = first.MakeFrames()"
   ]
  },
  {
   "cell_type": "markdown",
   "metadata": {},
   "source": [
    "The below function run_sample is used to run the different tests for different statistics for the same sample records."
   ]
  },
  {
   "cell_type": "code",
   "execution_count": 10,
   "metadata": {},
   "outputs": [],
   "source": [
    "def run_sample(sample, iters=1000):\n",
    "    \n",
    "    n = len(sample)\n",
    "    firsts = sample[sample.birthord == 1]\n",
    "    others = sample[sample.birthord != 1]\n",
    "    \n",
    "    ## Statitics is the difference in the mean pregnancy lengths for first and other births   \n",
    "    data = firsts.prglngth.values, others.prglngth.values\n",
    "    Null_ht_mean = DiffMeansPermute(data)\n",
    "    p_mean = Null_ht_mean.PValue(iters = iters)\n",
    "\n",
    "    ## Difference in the chi-squared lengths of pregnancies for first and other births   \n",
    "    data = firsts.prglngth.values, others.prglngth.values\n",
    "    Null_ht_chisq = DiffChisquaredPermute(data)\n",
    "    p_chisq = Null_ht_chisq.PValue(iters = iters)\n",
    "\n",
    "    \n",
    "    \n",
    "    ## Statitics is the difference in the standard deviation\n",
    "    ## Null hypothesis is that the std is higher for first babies\n",
    "    data = firsts.prglngth.values, others.prglngth.values\n",
    "    Null_ht_sd = DiffStdPermute(data)\n",
    "    p_std = Null_ht_sd.PValue(iters = iters)\n",
    "\n",
    "    ## Null hypothesis is that there is no correlation between mother's weight and child's birth weight\n",
    "    ## Test STatistics used here is Pearson's correlation\n",
    "    ## We will be doing a two sided test\n",
    "    live_sample = live.dropna(subset=['agepreg', 'totalwgt_lb'])\n",
    "    data = live_sample.agepreg.values, live_sample.totalwgt_lb.values\n",
    "    Null_ht_corr = DiffCorrelationPermute(data)\n",
    "    p_corr = Null_ht_corr.PValue(iters = iters)    \n",
    "  \n",
    "    \n",
    "    print ('%d\\t%0.2f\\t%0.2f\\t%0.2f\\t%0.2f\\t' % (n,p_mean, p_chisq, p_std,p_corr ))\n",
    "    # print(Null_ht_corr.actual, Null_ht_corr.MaxTestStat())\n",
    "    # print(Null_ht_chisq.actual, Null_ht_chisq.MaxTestStat())"
   ]
  },
  {
   "cell_type": "code",
   "execution_count": 11,
   "metadata": {},
   "outputs": [
    {
     "name": "stdout",
     "output_type": "stream",
     "text": [
      "==============================================\n",
      "sample\tpmean\tpchi-sq\tpstd\tpcorr\n",
      "==============================================\n",
      "9148\t0.17\t1.00\t0.10\t0.00\t\n",
      "4574\t0.11\t1.00\t0.25\t0.00\t\n",
      "2287\t0.86\t1.00\t0.04\t0.00\t\n",
      "1143\t0.51\t1.00\t0.78\t0.00\t\n",
      "571\t0.04\t1.00\t0.94\t0.00\t\n",
      "285\t0.84\t1.00\t0.15\t0.00\t\n",
      "142\t0.65\t1.00\t0.45\t0.00\t\n",
      "==============================================\n"
     ]
    }
   ],
   "source": [
    "# looping through the sample\n",
    "print('==============================================')\n",
    "print('sample\\tpmean\\tpchi-sq\\tpstd\\tpcorr')\n",
    "print('==============================================')\n",
    "n = len(live)\n",
    "for _ in range(7):\n",
    "    sample = thinkstats2.SampleRows(live, n)\n",
    "    run_sample(sample)\n",
    "    n //= 2\n",
    "\n",
    "print('==============================================')"
   ]
  },
  {
   "cell_type": "code",
   "execution_count": 12,
   "metadata": {},
   "outputs": [],
   "source": [
    "\n",
    "# sample ---> sample size for each of the 1000 iterations\n",
    "# pmean  ---> difference in the mean pregnancy lengths\n",
    "# pchi-sq --> difference in the chi-squared lengths of pregnancies\n",
    "# pstd -----> difference in the standard deviations of the pregnancy lengths\n",
    "# pcorr ----> correlation between mother's weight and child's birth weight\n",
    "\n",
    "# Correlation Test:\n",
    "# The reported p-value is 0, which means that in 1000 trials we didn't see a correlation, under the null hypothesis, \n",
    "# that exceeded the observed correlation. That means that the p-value is probably smaller than  1/1000 ,\n",
    "# but it is not actually 0.\n",
    "\n",
    "# Chi-Squared Test:\n",
    "# The chi-squared p-value stays 1 for the entire population or the samples because the actual value is > 1\n",
    "# We conclude here that the observed chi-squared statistic is unlikely under the null hypothesis. \n",
    "# So the result is statistically significant.\n",
    "\n",
    "# Mean and Standard Deviation:\n",
    "# As expected the mean and the standard deviation are behaving erratic. "
   ]
  },
  {
   "cell_type": "code",
   "execution_count": null,
   "metadata": {},
   "outputs": [],
   "source": []
  }
 ],
 "metadata": {
  "kernelspec": {
   "display_name": "Python 3",
   "language": "python",
   "name": "python3"
  },
  "language_info": {
   "codemirror_mode": {
    "name": "ipython",
    "version": 3
   },
   "file_extension": ".py",
   "mimetype": "text/x-python",
   "name": "python",
   "nbconvert_exporter": "python",
   "pygments_lexer": "ipython3",
   "version": "3.7.6"
  }
 },
 "nbformat": 4,
 "nbformat_minor": 1
}
