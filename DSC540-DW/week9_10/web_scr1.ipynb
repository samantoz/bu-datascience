{
 "cells": [
  {
   "cell_type": "code",
   "execution_count": 3,
   "metadata": {},
   "outputs": [],
   "source": [
    "from urllib.request import urlopen as uReq\n",
    "from bs4 import BeautifulSoup as soup"
   ]
  },
  {
   "cell_type": "code",
   "execution_count": 56,
   "metadata": {},
   "outputs": [
    {
     "data": {
      "text/plain": [
       "'https://www.newegg.com/Laptops-Notebooks/Category/ID-223'"
      ]
     },
     "execution_count": 56,
     "metadata": {},
     "output_type": "execute_result"
    }
   ],
   "source": [
    "# my_url = \"https://www.newegg.com/todays-deals?cm_sp=%20homepage_dailydeal-_-%20head_navigation-_-l\"\n",
    "my_url = \"https://www.newegg.com/Laptops-Notebooks/Category/ID-223\"\n",
    "my_url"
   ]
  },
  {
   "cell_type": "code",
   "execution_count": 57,
   "metadata": {},
   "outputs": [],
   "source": [
    "# Opening the connection and grabbing the page\n",
    "uClient = uReq(my_url)\n",
    "page_html = uClient.read()\n",
    "uClient.close()"
   ]
  },
  {
   "cell_type": "code",
   "execution_count": 58,
   "metadata": {},
   "outputs": [],
   "source": [
    "#html parsing\n",
    "page_soup = soup(page_html, \"html.parser\")"
   ]
  },
  {
   "cell_type": "code",
   "execution_count": 59,
   "metadata": {},
   "outputs": [
    {
     "data": {
      "text/plain": [
       "<h1 class=\"page-title-text\">Laptops / Notebooks</h1>"
      ]
     },
     "execution_count": 59,
     "metadata": {},
     "output_type": "execute_result"
    }
   ],
   "source": [
    "page_soup.h1"
   ]
  },
  {
   "cell_type": "code",
   "execution_count": 60,
   "metadata": {},
   "outputs": [
    {
     "data": {
      "text/plain": [
       "<p class=\"branding-testimonial-info\">I needed to switch over to Apple computer, phone and ipad because of software changes in my buisness.\n",
       "\n",
       "I was able to purchase a Macbook Air, Iphone 5se, and Ipad Air.\n",
       "These items were either open box or refurbished with a A rating.  Fabulous Prices, all worked and looked new.  I am a faithful user of a  popular on line store that deals in the same items, however I can not get these kind of deals especially at these condition and prices.<br/><a class=\"link-more\" href=\"https://www.newegg.com/d/Info/Testimonials\"><span>See All</span><i aria-label=\"more\" class=\"fa fa-caret-right\"></i></a></p>"
      ]
     },
     "execution_count": 60,
     "metadata": {},
     "output_type": "execute_result"
    }
   ],
   "source": [
    "page_soup.p"
   ]
  },
  {
   "cell_type": "code",
   "execution_count": 61,
   "metadata": {},
   "outputs": [
    {
     "data": {
      "text/plain": [
       "<header class=\"header2020\"><div class=\"header2020-inner\"><div class=\"header2020-hamburger menu-box is-gray-menu\"><i aria-label=\"Site Menu\" class=\"fas fa-bars\"></i></div><div class=\"header2020-logo\"><a class=\"header2020-logo-img\" href=\"https://www.newegg.com/\" title=\"Newegg.com - Computer Parts, Laptops, Electronics, HDTVs, Digital Cameras and More!\"><img alt=\"Newegg\" src=\"https://c1.neweggimages.com/webResource/Themes/Nest/logos/logo_424x210.png\"/></a></div><div class=\"header2020-search\"><div class=\"header2020-search-bar\"><div class=\"header2020-search-bar-inner\"><div class=\"header2020-search-box\"><input aria-label=\"Keywords, Model # or Item #\" autocomplete=\"off\" placeholder=\"Keywords, Model # or Item #\" title=\"Search Site\" type=\"search\" value=\"\"/></div><div class=\"header2020-search-button\"><button class=\"fas fa-search\"><span class=\"hid-text\">Search</span></button></div></div></div><div class=\"header2020-portals\"></div></div><div class=\"header2020-right\"><div class=\"display-flex justify-content-flex-end\"><div class=\"nav-complex\"><a class=\"nav-complex-inner\" href=\"https://secure.newegg.com/NewMyAccount/AccountLogin.aspx?nextpage=\"><i class=\"fas fa-user-circle\"></i></a></div><div class=\"nav-complex\"><a aria-label=\"Shopping Cart\" class=\"nav-complex-inner\" href=\"https://secure.newegg.com/Shopping/ShoppingCart.aspx?Submit=view\" title=\"Shopping Cart\"><i aria-label=\"icon of shopping cart\" class=\"fas fa-shopping-cart\"></i></a></div></div><div class=\"display-flex justify-content-flex-end\"><div class=\"header2020-links\"><a href=\"//www.neweggbusiness.com/ss/promotion/id-556?utm_medium=newegg&amp;utm_source=newegg-home&amp;cm_mmc=ref-newegg-_-newegg-home-_-na-_-na\" target=\"_blank\" title=\"Newegg Business\"><span class=\"header2020-b2b-newegg\">Newegg</span> <span class=\"header2020-b2b-business\">Business</span></a></div><div class=\"header2020-links\"><a title=\"Feedback\"><i class=\"fas fa-comment\"></i> <span>Feedback</span></a></div><div class=\"header2020-links menu-box is-gray-menu\"><a class=\"menu-box-trigger\" title=\"Customer Service\"><i aria-label=\"icon of Customer Service\" class=\"fas fa-question-circle\"></i> <span>Customer Service</span></a></div><div class=\"header2020-links\"><a class=\"open-popup\" title=\"Change Country\"><i class=\"flag us\"></i><span class=\"hid-text\">Change Country</span></a></div></div></div></div><div class=\"header2020-model-marker\"></div></header>"
      ]
     },
     "execution_count": 61,
     "metadata": {},
     "output_type": "execute_result"
    }
   ],
   "source": [
    "page_soup.body.header"
   ]
  },
  {
   "cell_type": "code",
   "execution_count": 62,
   "metadata": {},
   "outputs": [],
   "source": [
    "#grabs each product\n",
    "containers = page_soup.findAll(\"div\",{\"class\":\"item-container\"})"
   ]
  },
  {
   "cell_type": "code",
   "execution_count": 63,
   "metadata": {},
   "outputs": [
    {
     "data": {
      "text/plain": [
       "7"
      ]
     },
     "execution_count": 63,
     "metadata": {},
     "output_type": "execute_result"
    }
   ],
   "source": [
    "len(containers)"
   ]
  },
  {
   "cell_type": "code",
   "execution_count": 64,
   "metadata": {},
   "outputs": [
    {
     "data": {
      "text/plain": [
       "<div class=\"item-container\"><a class=\"item-img\" href=\"https://www.newegg.com/silver-asus-ux431fl-eh74/p/N82E16834235318?Item=N82E16834235318\"><img alt='ASUS ZenBook 14 Ultra Thin and Light Laptop, 4-Way NanoEdge 14\" FHD, Intel Core i7-10510U, 8 GB RAM, 512 GB PCIe SSD, NVIDIA GeForce MX250, Windows 10 Home, Utopia Blue, UX431FL-EH74' src=\"https://c1.neweggimages.com/ProductImageCompressAll300/34-235-318-S31.jpg\" title='ASUS ZenBook 14 Ultra Thin and Light Laptop, 4-Way NanoEdge 14\" FHD, Intel Core i7-10510U, 8 GB RAM, 512 GB PCIe SSD, NVIDIA GeForce MX250, Windows 10 Home, Utopia Blue, UX431FL-EH74'/></a><div class=\"item-info\"><div class=\"item-branding\"><a class=\"item-brand\" href=\"https://www.newegg.com/ASUS/BrandStore/ID-1315\"><img alt=\"ASUS\" src=\"https://c1.neweggimages.com/Brandimage_70x28/Brand1315.gif\" title=\"ASUS\"/></a><a class=\"item-rating\" href=\"https://www.newegg.com/silver-asus-ux431fl-eh74/p/N82E16834235318?IsFeedbackTab=true&amp;Item=N82E16834235318#scrollFullInfo\" title=\"Rating + 4\"><i class=\"rating rating-4\"></i><span class=\"item-rating-num\">(26)</span></a></div><a class=\"item-title\" href=\"https://www.newegg.com/silver-asus-ux431fl-eh74/p/N82E16834235318?Item=N82E16834235318\" title=\"View Details\">ASUS ZenBook 14 Ultra Thin and Light Laptop, 4-Way NanoEdge 14\" FHD, Intel Core i7-10510U, 8 GB RAM, 512 GB PCIe SSD, NVIDIA GeForce MX250, Windows 10 Home, Utopia Blue, UX431FL-EH74</a><ul class=\"item-features\"><li><strong>Type:</strong> Mainstream</li><li><strong>Resolution:</strong> 1920 x 1080</li><li><strong>Weight:</strong> 3.26 lbs.</li><li><strong>Graphics Card:</strong> NVIDIA GeForce MX250</li><li><strong>Model #: </strong>UX431FL-EH74</li><li><strong>Item #: </strong>N82E16834235318</li><li><strong>Return Policy: </strong><a href=\"https://kb.newegg.com/Article/Index/12/3?id=1167#44\" target=\"_blank\" title=\"Standard Return Policy(New Window)\">Standard Return Policy</a></li></ul></div><div class=\"item-action\"><ul class=\"price\"><li class=\"price-was\"><span class=\"price-was-data\">$899.99</span></li><li class=\"price-map\"> </li><li class=\"price-current\"><span class=\"price-current-label\"></span>$<strong>849</strong><sup>.99</sup> <span class=\"price-current-range\"><abbr title=\"to\">–</abbr></span></li><li class=\"price-save\"><span class=\"price-save-endtime\"><strong>Sale Ends in 3 Days (Sat)</strong> - </span><span class=\"price-save-label\">Save: </span><span class=\"price-save-percent\">6%</span></li><li class=\"price-note\"></li><li class=\"price-ship\">Free Shipping</li></ul><div class=\"item-operate hidden-action-button\"><div class=\"item-button-area\"><button class=\"btn btn-primary btn-mini\" title='Add ASUS ZenBook 14 Ultra Thin and Light Laptop, 4-Way NanoEdge 14\" FHD, Intel Core i7-10510U, 8 GB RAM, 512 GB PCIe SSD, NVIDIA GeForce MX250, Windows 10 Home, Utopia Blue, UX431FL-EH74 to cart'>Add to cart <i class=\"fas fa-caret-right\"></i></button></div><div class=\"item-compare-box\"><label class=\"form-checkbox\"><input autocomplete=\"off\" type=\"checkbox\"/><span class=\"form-checkbox-title\">Compare</span></label></div></div></div><div class=\"item-stock\" id=\"stock_34-235-318\"></div></div>"
      ]
     },
     "execution_count": 64,
     "metadata": {},
     "output_type": "execute_result"
    }
   ],
   "source": [
    "containers[0]"
   ]
  },
  {
   "cell_type": "code",
   "execution_count": 65,
   "metadata": {},
   "outputs": [
    {
     "data": {
      "text/plain": [
       "<div class=\"item-container\"><a class=\"item-img\" href=\"https://www.newegg.com/silver-asus-ux431fl-eh74/p/N82E16834235318?Item=N82E16834235318\"><img alt='ASUS ZenBook 14 Ultra Thin and Light Laptop, 4-Way NanoEdge 14\" FHD, Intel Core i7-10510U, 8 GB RAM, 512 GB PCIe SSD, NVIDIA GeForce MX250, Windows 10 Home, Utopia Blue, UX431FL-EH74' src=\"https://c1.neweggimages.com/ProductImageCompressAll300/34-235-318-S31.jpg\" title='ASUS ZenBook 14 Ultra Thin and Light Laptop, 4-Way NanoEdge 14\" FHD, Intel Core i7-10510U, 8 GB RAM, 512 GB PCIe SSD, NVIDIA GeForce MX250, Windows 10 Home, Utopia Blue, UX431FL-EH74'/></a><div class=\"item-info\"><div class=\"item-branding\"><a class=\"item-brand\" href=\"https://www.newegg.com/ASUS/BrandStore/ID-1315\"><img alt=\"ASUS\" src=\"https://c1.neweggimages.com/Brandimage_70x28/Brand1315.gif\" title=\"ASUS\"/></a><a class=\"item-rating\" href=\"https://www.newegg.com/silver-asus-ux431fl-eh74/p/N82E16834235318?IsFeedbackTab=true&amp;Item=N82E16834235318#scrollFullInfo\" title=\"Rating + 4\"><i class=\"rating rating-4\"></i><span class=\"item-rating-num\">(26)</span></a></div><a class=\"item-title\" href=\"https://www.newegg.com/silver-asus-ux431fl-eh74/p/N82E16834235318?Item=N82E16834235318\" title=\"View Details\">ASUS ZenBook 14 Ultra Thin and Light Laptop, 4-Way NanoEdge 14\" FHD, Intel Core i7-10510U, 8 GB RAM, 512 GB PCIe SSD, NVIDIA GeForce MX250, Windows 10 Home, Utopia Blue, UX431FL-EH74</a><ul class=\"item-features\"><li><strong>Type:</strong> Mainstream</li><li><strong>Resolution:</strong> 1920 x 1080</li><li><strong>Weight:</strong> 3.26 lbs.</li><li><strong>Graphics Card:</strong> NVIDIA GeForce MX250</li><li><strong>Model #: </strong>UX431FL-EH74</li><li><strong>Item #: </strong>N82E16834235318</li><li><strong>Return Policy: </strong><a href=\"https://kb.newegg.com/Article/Index/12/3?id=1167#44\" target=\"_blank\" title=\"Standard Return Policy(New Window)\">Standard Return Policy</a></li></ul></div><div class=\"item-action\"><ul class=\"price\"><li class=\"price-was\"><span class=\"price-was-data\">$899.99</span></li><li class=\"price-map\"> </li><li class=\"price-current\"><span class=\"price-current-label\"></span>$<strong>849</strong><sup>.99</sup> <span class=\"price-current-range\"><abbr title=\"to\">–</abbr></span></li><li class=\"price-save\"><span class=\"price-save-endtime\"><strong>Sale Ends in 3 Days (Sat)</strong> - </span><span class=\"price-save-label\">Save: </span><span class=\"price-save-percent\">6%</span></li><li class=\"price-note\"></li><li class=\"price-ship\">Free Shipping</li></ul><div class=\"item-operate hidden-action-button\"><div class=\"item-button-area\"><button class=\"btn btn-primary btn-mini\" title='Add ASUS ZenBook 14 Ultra Thin and Light Laptop, 4-Way NanoEdge 14\" FHD, Intel Core i7-10510U, 8 GB RAM, 512 GB PCIe SSD, NVIDIA GeForce MX250, Windows 10 Home, Utopia Blue, UX431FL-EH74 to cart'>Add to cart <i class=\"fas fa-caret-right\"></i></button></div><div class=\"item-compare-box\"><label class=\"form-checkbox\"><input autocomplete=\"off\" type=\"checkbox\"/><span class=\"form-checkbox-title\">Compare</span></label></div></div></div><div class=\"item-stock\" id=\"stock_34-235-318\"></div></div>"
      ]
     },
     "execution_count": 65,
     "metadata": {},
     "output_type": "execute_result"
    }
   ],
   "source": [
    "container = containers[0]\n",
    "container"
   ]
  },
  {
   "cell_type": "code",
   "execution_count": 66,
   "metadata": {},
   "outputs": [
    {
     "data": {
      "text/plain": [
       "'ASUS'"
      ]
     },
     "execution_count": 66,
     "metadata": {},
     "output_type": "execute_result"
    }
   ],
   "source": [
    "container.div.div.a.img[\"title\"]"
   ]
  },
  {
   "cell_type": "code",
   "execution_count": 67,
   "metadata": {},
   "outputs": [
    {
     "data": {
      "text/plain": [
       "'ASUS ZenBook 14 Ultra Thin and Light Laptop, 4-Way NanoEdge 14\" FHD, Intel Core i7-10510U, 8 GB RAM, 512 GB PCIe SSD, NVIDIA GeForce MX250, Windows 10 Home, Utopia Blue, UX431FL-EH74'"
      ]
     },
     "execution_count": 67,
     "metadata": {},
     "output_type": "execute_result"
    }
   ],
   "source": [
    "title_container = container.findAll(\"a\",{\"class\":\"item-title\"})\n",
    "title_container[0].text"
   ]
  },
  {
   "cell_type": "code",
   "execution_count": 68,
   "metadata": {},
   "outputs": [],
   "source": [
    "price_container = container.findAll(\"li\",{\"class\":\"price-current\"})\n",
    "price = price_container[0].strong.text + price_container[0].sup.text\n"
   ]
  },
  {
   "cell_type": "code",
   "execution_count": 70,
   "metadata": {},
   "outputs": [
    {
     "name": "stdout",
     "output_type": "stream",
     "text": [
      "Make :ASUS\n",
      "Product Name :ASUS ZenBook 14 Ultra Thin and Light Laptop, 4-Way NanoEdge 14\" FHD, Intel Core i7-10510U, 8 GB RAM, 512 GB PCIe SSD, NVIDIA GeForce MX250, Windows 10 Home, Utopia Blue, UX431FL-EH74\n",
      "Shipping :Free Shipping\n",
      "Price :849.99\n",
      "Make :Acer America\n",
      "Product Name :Acer Laptop Aspire 5 A515-55-576H Intel Core i5 10th Gen 1035G1 (1.00 GHz) 8 GB Memory 512 GB PCIe SSD Intel UHD Graphics 15.6\" Windows 10 Home 64-bit\n",
      "Shipping :Free Shipping\n",
      "Price :599.99\n",
      "Make :MSI\n",
      "Product Name :MSI Laptop Modern 14 B10MW-017 Intel Core i5 10th Gen 10210U (1.60 GHz) 8 GB Memory 256 GB NVMe SSD Intel UHD Graphics 14.0\" Windows 10 Pro 64-bit\n",
      "Shipping :Free Shipping\n",
      "Price :599.00\n",
      "Make :ASUS\n",
      "Product Name :Refurbished: Asus VivoBook F412DA-WS33 AMD Ryzen 3 3250U 14\" Anti-Glare FHD 1920x1080 8 GB DDR4 RAM 256 GB SSD AMD Radeon™ Vega 3 Graphics Backlit Chiclet Keyboard Windows 10 S - Black\n",
      "Shipping :Free Shipping\n",
      "Price :389.99\n",
      "Make :ASUS\n",
      "Product Name :ASUS ZenBook 14 Ultra-Slim Laptop 14\" Full HD 4-Way NanoEdge Bezel, AMD R7 3700U CPU, 16 GB DDR4, 1 TB PCIe SSD, Windows 10 Pro - UM433DA-NH74, Icicle Silver\n",
      "Shipping :Free Shipping\n",
      "Price :819.99\n",
      "Make :ASUS\n",
      "Product Name :ASUS VivoBook S15 S512FL Thin and Light Laptop, 15.6\" FHD, Intel Core i7-10510U CPU, 8 GB RAM, 512 GB PCIe SSD, NVIDIA GeForce MX250 Graphics, FingerPrint, Windows 10 Home, S512FL-NB71, Silver-Metal\n",
      "Shipping :Free Shipping\n",
      "Price :759.99\n",
      "Make :ASUS\n",
      "Product Name :ASUS VivoBook 14 Laptop, 14\" FHD, AMD Ryzen 7-3700U, AMD Radeon RX Vega 10 Graphics, 8 GB DDR4 RAM, 512 GB PCIe SSD, Backlit KB, Fingerprint, Windows 10 Home, Slate Grey, F412DA-NH77\n",
      "Shipping :Free Shipping\n",
      "Price :569.99\n"
     ]
    }
   ],
   "source": [
    "# write the output to a csv file\n",
    "filename = \"laptops.csv\"\n",
    "f = open(filename,\"w\")\n",
    "\n",
    "headers = \"Make,Product_Desc,Shipping,Price\\n\"\n",
    "\n",
    "f.write(headers)\n",
    "\n",
    "for container in containers:\n",
    "    make = container.div.div.a.img[\"title\"]\n",
    "    \n",
    "    title_container = container.findAll(\"a\",{\"class\":\"item-title\"})\n",
    "    product_name = title_container[0].text\n",
    "    \n",
    "    shipping_container = container.findAll(\"li\",{\"class\":\"price-ship\"})\n",
    "    shipping = shipping_container[0].text.strip()\n",
    "    \n",
    "    price_container = container.findAll(\"li\",{\"class\":\"price-current\"})\n",
    "    price = price_container[0].strong.text + price_container[0].sup.text\n",
    "    print('Make :' + make)\n",
    "    print('Product Name :' + product_name)\n",
    "    print('Shipping :' + shipping)\n",
    "    print('Price :' + price)\n",
    "    # print(\"=\"*100)\n",
    "    f.write(make + \",\" + product_name.replace(\",\",\"|\") + \",\" + shipping + \",\" + price + \"\\n\")\n",
    "\n",
    "f.close()\n",
    "    "
   ]
  },
  {
   "cell_type": "code",
   "execution_count": null,
   "metadata": {},
   "outputs": [],
   "source": []
  }
 ],
 "metadata": {
  "kernelspec": {
   "display_name": "Python 3",
   "language": "python",
   "name": "python3"
  },
  "language_info": {
   "codemirror_mode": {
    "name": "ipython",
    "version": 3
   },
   "file_extension": ".py",
   "mimetype": "text/x-python",
   "name": "python",
   "nbconvert_exporter": "python",
   "pygments_lexer": "ipython3",
   "version": "3.7.6"
  }
 },
 "nbformat": 4,
 "nbformat_minor": 4
}
