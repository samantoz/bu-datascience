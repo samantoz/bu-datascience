{
 "cells": [
  {
   "cell_type": "code",
   "execution_count": 1,
   "metadata": {},
   "outputs": [],
   "source": [
    "# import zip_longest from itertools\n",
    "from itertools import zip_longest\n",
    "import pandas as pd\n",
    "import io"
   ]
  },
  {
   "cell_type": "code",
   "execution_count": 2,
   "metadata": {},
   "outputs": [
    {
     "data": {
      "text/plain": [
       "[\"'wc' is not recognized as an internal or external command,\",\n",
       " 'operable program or batch file.']"
      ]
     },
     "execution_count": 2,
     "metadata": {},
     "output_type": "execute_result"
    }
   ],
   "source": [
    "# Print the number of lines in the file from the shell script\n",
    "no_of_lines = ! wc -l \"MetObjects.csv\"\n",
    "no_of_lines"
   ]
  },
  {
   "cell_type": "code",
   "execution_count": 3,
   "metadata": {},
   "outputs": [],
   "source": [
    "def return_dict_from_csv_line(header, line):\n",
    "    # zip them\n",
    "    zipped_line = zip_longest(header, line, fillvalue='NA')\n",
    "    # Use dict comprehension to generate the final dict\n",
    "    ret_dict = {kv[0]: kv[1] for kv in zipped_line}\n",
    "    return ret_dict"
   ]
  },
  {
   "cell_type": "code",
   "execution_count": 5,
   "metadata": {},
   "outputs": [
    {
     "data": {
      "text/plain": [
       "{'encoding': 'Windows-1252', 'confidence': 0.728850927952508, 'language': ''}"
      ]
     },
     "execution_count": 5,
     "metadata": {},
     "output_type": "execute_result"
    }
   ],
   "source": [
    "# Reading the encoding characterset for the dataset.\n",
    "# Although I tried to read using the Windows-1252 encoding but was not able to read, so used latin1 instead \n",
    "import chardet\n",
    "with open(\"MetObjects.csv\", 'rb') as rawdata:\n",
    "    result = chardet.detect(rawdata.read(100000))\n",
    "result"
   ]
  },
  {
   "cell_type": "code",
   "execution_count": 6,
   "metadata": {},
   "outputs": [],
   "source": [
    "# The above charset did not work so using latin1\n",
    "lines=[]\n",
    "with io.open(\"MetObjects.csv\", 'r', encoding='latin1') as fd:\n",
    "    first_line = fd.readline()\n",
    "    header = first_line.replace(\"\\n\",\"\").split(\",\")\n",
    "    for i, line in enumerate(fd):\n",
    "        line = line.replace(\"\\n\", \"\").split(\",\")\n",
    "        d = return_dict_from_csv_line(header, line)\n",
    "        lines.append(d)"
   ]
  },
  {
   "cell_type": "code",
   "execution_count": 9,
   "metadata": {},
   "outputs": [],
   "source": [
    "# Reading the first line into a dataframe\n",
    "# Using the same encoding here also\n",
    "with io.open(\"MetObjects.csv\", 'r', encoding='latin1') as fd:\n",
    "    first_line = fd.readline()\n",
    "    header = first_line.replace(\"\\n\", \"\").split(\",\")\n",
    "col_header = header"
   ]
  },
  {
   "cell_type": "code",
   "execution_count": 10,
   "metadata": {},
   "outputs": [
    {
     "data": {
      "text/plain": [
       "['\"Object Number',\n",
       " 'Is Highlight',\n",
       " 'Is Public Domain',\n",
       " 'Object ID',\n",
       " 'Department',\n",
       " 'Object Name',\n",
       " 'Title',\n",
       " 'Culture',\n",
       " 'Period',\n",
       " 'Dynasty',\n",
       " 'Reign',\n",
       " 'Portfolio',\n",
       " 'Artist Role',\n",
       " 'Artist Prefix',\n",
       " 'Artist Display Name',\n",
       " 'Artist Display Bio',\n",
       " 'Artist Suffix',\n",
       " 'Artist Alpha Sort',\n",
       " 'Artist Nationality',\n",
       " 'Artist Begin Date',\n",
       " 'Artist End Date',\n",
       " 'Object Date',\n",
       " 'Object Begin Date',\n",
       " 'Object End Date',\n",
       " 'Medium',\n",
       " 'Dimensions',\n",
       " 'Credit Line',\n",
       " 'Geography Type',\n",
       " 'City',\n",
       " 'State',\n",
       " 'County',\n",
       " 'Country',\n",
       " 'Region',\n",
       " 'Subregion',\n",
       " 'Locale',\n",
       " 'Locus',\n",
       " 'Excavation',\n",
       " 'River',\n",
       " 'Classification',\n",
       " 'Rights and Reproduction',\n",
       " 'Link Resource',\n",
       " 'Metadata Date',\n",
       " 'Repository',\n",
       " 'Tags\"']"
      ]
     },
     "execution_count": 10,
     "metadata": {},
     "output_type": "execute_result"
    }
   ],
   "source": [
    "col_header"
   ]
  },
  {
   "cell_type": "code",
   "execution_count": 11,
   "metadata": {},
   "outputs": [
    {
     "name": "stdout",
     "output_type": "stream",
     "text": [
      "(12108, 44)\n"
     ]
    }
   ],
   "source": [
    "metobj_df = pd.DataFrame(data = lines, columns=col_header)\n",
    "print(metobj_df.shape)"
   ]
  },
  {
   "cell_type": "code",
   "execution_count": 12,
   "metadata": {},
   "outputs": [
    {
     "data": {
      "text/plain": [
       "(12108, 44)"
      ]
     },
     "execution_count": 12,
     "metadata": {},
     "output_type": "execute_result"
    }
   ],
   "source": [
    "# Removing spaces from the dataframe columns\n",
    "metobj_df = metobj_df.rename(columns=lambda x: x.strip())\n",
    "metobj_df.shape"
   ]
  },
  {
   "cell_type": "code",
   "execution_count": 13,
   "metadata": {
    "collapsed": true,
    "jupyter": {
     "outputs_hidden": true
    }
   },
   "outputs": [
    {
     "data": {
      "text/plain": [
       "<bound method NDFrame.describe of           \"Object Number Is Highlight Is Public Domain Object ID  \\\n",
       "0            \"1979.486.1        False            False         1   \n",
       "1            \"1980.264.5        False            False         2   \n",
       "2              \"67.265.9        False            False         3   \n",
       "3             \"67.265.10        False            False         4   \n",
       "4             \"67.265.11        False            False         5   \n",
       "...                  ...          ...              ...       ...   \n",
       "12103  \"1974.356.1 recto        False            False     11814   \n",
       "12104          \"54.143.8        False            False     11815   \n",
       "12105        \"1976.201.4        False            False     11816   \n",
       "12106            \"64.118        False            False     11817   \n",
       "12107                  4           NA               NA        NA   \n",
       "\n",
       "              Department Object Name                                Title  \\\n",
       "0      The American Wing        Coin         One-dollar Liberty Head Coin   \n",
       "1      The American Wing        Coin         Ten-dollar Liberty Head Coin   \n",
       "2      The American Wing        Coin           Two-and-a-Half Dollar Coin   \n",
       "3      The American Wing        Coin           Two-and-a-Half Dollar Coin   \n",
       "4      The American Wing        Coin           Two-and-a-Half Dollar Coin   \n",
       "...                  ...         ...                                  ...   \n",
       "12103  The American Wing  Watercolor      \"\"Rialto Bridge (Covered Bridge   \n",
       "12104  The American Wing  Watercolor                            The Rider   \n",
       "12105  The American Wing  Watercolor              \"\"Umbrellas in the Rain   \n",
       "12106  The American Wing  Watercolor  Worship of Moloch (The Golden Idol)   \n",
       "12107                 NA          NA                                   NA   \n",
       "\n",
       "          Culture    Period Dynasty  ... Locale Locus Excavation River  \\\n",
       "0                                    ...                                 \n",
       "1                                    ...                                 \n",
       "2                                    ...                                 \n",
       "3                                    ...                                 \n",
       "4                                    ...                                 \n",
       "...           ...       ...     ...  ...    ...   ...        ...   ...   \n",
       "12103   Venice)\"\"  American          ...                                 \n",
       "12104    American                    ...                                 \n",
       "12105    Venice\"\"  American          ...                                 \n",
       "12106    American                    ...                                 \n",
       "12107          NA        NA      NA  ...     NA    NA         NA    NA   \n",
       "\n",
       "      Classification Rights and Reproduction Link Resource Metadata Date  \\\n",
       "0                                                                          \n",
       "1                                                    Metal                 \n",
       "2                                                    Metal                 \n",
       "3                                                    Metal                 \n",
       "4                                                    Metal                 \n",
       "...              ...                     ...           ...           ...   \n",
       "12103                                                                      \n",
       "12104                                                                      \n",
       "12105                                                                      \n",
       "12106                                             Drawings                 \n",
       "12107             NA                      NA            NA            NA   \n",
       "\n",
       "                                              Repository  \\\n",
       "0                                                          \n",
       "1       http://www.metmuseum.org/art/collection/search/2   \n",
       "2       http://www.metmuseum.org/art/collection/search/3   \n",
       "3       http://www.metmuseum.org/art/collection/search/4   \n",
       "4       http://www.metmuseum.org/art/collection/search/5   \n",
       "...                                                  ...   \n",
       "12103                                                      \n",
       "12104                                           Drawings   \n",
       "12105                                                      \n",
       "12106  http://www.metmuseum.org/art/collection/search...   \n",
       "12107                                                 NA   \n",
       "\n",
       "                          Tags\"  \n",
       "0                         Metal  \n",
       "1                                \n",
       "2                                \n",
       "3                                \n",
       "4                                \n",
       "...                         ...  \n",
       "12103                            \n",
       "12104                            \n",
       "12105                  Drawings  \n",
       "12106  2019-02-01T10:50:49.477Z  \n",
       "12107                        NA  \n",
       "\n",
       "[12108 rows x 44 columns]>"
      ]
     },
     "execution_count": 13,
     "metadata": {},
     "output_type": "execute_result"
    }
   ],
   "source": [
    "metobj_df.describe"
   ]
  },
  {
   "cell_type": "code",
   "execution_count": 14,
   "metadata": {},
   "outputs": [
    {
     "data": {
      "text/plain": [
       "(12108, 44)"
      ]
     },
     "execution_count": 14,
     "metadata": {},
     "output_type": "execute_result"
    }
   ],
   "source": [
    "# Filter out missing data\n",
    "# Using how = all will drop rows that are all NA\n",
    "# So after using the parameter it did not drop a single row\n",
    "metobj_df_1 = metobj_df.dropna(how='all')\n",
    "metobj_df_1.shape"
   ]
  },
  {
   "cell_type": "code",
   "execution_count": 15,
   "metadata": {},
   "outputs": [],
   "source": [
    "# Removing duplicates\n",
    "# After dropping the duplicates the new row count\n",
    "metobj_df_1 = metobj_df.drop_duplicates()"
   ]
  },
  {
   "cell_type": "code",
   "execution_count": 16,
   "metadata": {},
   "outputs": [
    {
     "name": "stdout",
     "output_type": "stream",
     "text": [
      "The row count before dropping duplicates is: 12108.\n",
      "The row count after dropping the duplicates is: 11923.\n"
     ]
    }
   ],
   "source": [
    "bef4 = metobj_df.shape[0]\n",
    "aftr = metobj_df_1.shape[0]\n",
    "print(\"The row count before dropping duplicates is: {}.\"\"\\n\"\"The row count after dropping the duplicates is: {}.\".format(bef4,aftr))"
   ]
  },
  {
   "cell_type": "code",
   "execution_count": 17,
   "metadata": {},
   "outputs": [],
   "source": [
    "# So all rows that were duplicate are dropped from the actual dataframe \n",
    "# The new data frame with no duplicates is metobj_df_1\n",
    "metobj_dedup = metobj_df_1"
   ]
  },
  {
   "cell_type": "code",
   "execution_count": 18,
   "metadata": {},
   "outputs": [
    {
     "data": {
      "text/plain": [
       "(11923, 44)"
      ]
     },
     "execution_count": 18,
     "metadata": {},
     "output_type": "execute_result"
    }
   ],
   "source": [
    "metobj_dedup.shape"
   ]
  },
  {
   "cell_type": "code",
   "execution_count": 19,
   "metadata": {
    "collapsed": true,
    "jupyter": {
     "outputs_hidden": true
    }
   },
   "outputs": [
    {
     "data": {
      "text/plain": [
       "array(['Coin', 'Peso', 'Centavos', 'Pesos', 'Bust', 'Clock', 'Vase', 'NA',\n",
       "       '', 'Side Chair', 'Figure', 'Advertisement', 'Ale glass',\n",
       "       'Andiron', 'Apothecary jar', 'Statuette', 'Frame',\n",
       "       'Architectural elements', 'Loggia elements', 'Bedroom',\n",
       "       'The American Wing', 'Argand lamp', 'Lamp shade', 'Armchair',\n",
       "       'Banister-back armchair', 'Drawing', 'Slat-back armchair',\n",
       "       'Spindle-back armchair', 'Teapot', 'Rocking chair',\n",
       "       'Reclining armchair', 'Folding armchair', 'Side chair',\n",
       "       'Revolving armchair', 'Furniture hardware', 'Astral lamp',\n",
       "       'Window', 'Aviary', 'Baking dish', 'Balcony', 'Ball', 'Wall panel',\n",
       "       'Baluster', 'Banjo clock', 'Bank', 'Baptismal basin',\n",
       "       'Baptismal bowl', 'Baptismal certificate', 'Bottle', 'Mug', 'Keg',\n",
       "       'Basin', 'Wash basin', 'Basin Stand', 'Basin stand', 'Basket',\n",
       "       'Door', 'Oil cruet', 'Beaker', 'Pulque beaker', 'Made in',\n",
       "       'Tumbler', 'Paris', 'Barnstable', 'Bean pot', 'Folding bedstead',\n",
       "       'Bedstead', 'Bell', 'Bell pull', 'Bellows', 'Bench', 'Sleigh seat',\n",
       "       'Painting', '\"\"Cameo medallion', 'Mask cast', 'Medallion',\n",
       "       '\"\"Painting', 'Portrait Panel', 'Plaque', '\"\"Bust', 'Berry dish',\n",
       "       'Spoon', 'Betty lamp', 'Bible', 'Bill holder', 'Fountain',\n",
       "       'Birdhouse', '\"\"Birth and baptismal certificate', '\"\"Certificate',\n",
       "       '\"\"Birth certificate', '\"\"Birth', 'Bitters bottle', 'Desk',\n",
       "       'Blotter', 'Bobbin and thread', 'Bobeche', '\"\"Bolt', 'Bonnet',\n",
       "       'Flask', 'Book', 'Bookcase', 'Bookend', 'Sculpture', 'Tile',\n",
       "       'Ring bottle', 'Sack bottle', 'Bottle corker', 'Bottle fragment',\n",
       "       'Bowl', 'Cup', 'Punch Bowl', 'Two-handled bowl', 'Albany', 'Dish',\n",
       "       'Sugar Bowl', 'Slop bowl', 'White Mills', 'Box', 'Trinket box',\n",
       "       'New York', 'Box cover', 'Foot scraper', 'Bracket clock',\n",
       "       'Hair jewelry', 'Brandy decanter', 'Brandy tumbler',\n",
       "       'Brandy Warmer', 'Brazier', 'Bread plate', 'Brick', 'Brooch',\n",
       "       'Buckle', 'Bud vase', 'Bulb pot', 'Windowpane ', 'Windowpane',\n",
       "       'Bureau Table', 'Bureau table', 'Butter Dish',\n",
       "       ' Elinor Irwin Holden', 'Knife', 'Butter mold', 'Butter pat',\n",
       "       'Butter Tester', 'Stamp', 'Button', 'Button mold', 'Medal',\n",
       "       'Cabinet', 'Commode', 'Cachepot', 'Cake plate', 'Cake stand',\n",
       "       'Cake tray', 'Calendar', 'Caliper and level', 'Cameo medallion',\n",
       "       'Locket', 'Campaign button', 'Candelabrum', 'Candlestick',\n",
       "       'Candle mold', 'Candle shade', 'Candle snuffer', 'Candle stand',\n",
       "       'South Yorkshire', 'Cane', 'Cane handle', 'Cann', 'Cap', 'Capias',\n",
       "       'Capital', 'Carafe', 'Card', 'Card table',\n",
       "       'Card and backgammon table', 'Carriage clock', 'Casement window',\n",
       "       'Caster', '\"\"Box', 'Trivet', 'Celery dish', 'Celery glass',\n",
       "       'Celery vase', 'Celestial globe', 'Cellaret', 'Center table',\n",
       "       'Cereal bowl', 'Chafing Dish', 'Chafing dish', 'Waste bowl',\n",
       "       'Spindle-back chair', 'Chair', 'Watercolor', 'Side chairs',\n",
       "       'Banister-back chair', 'Chair table', 'Plymouth County', 'Chalice',\n",
       "       'Chamber candlestick', 'Chamber table', 'Desk-on-frame',\n",
       "       'Champagne glass', 'Chandelier', 'Inkstand', 'Charger',\n",
       "       'Cheese Scoop', 'Chess set', 'Board chest', 'Chest',\n",
       "       'Blanket chest', 'Chest of drawers', 'Chest-with-drawers',\n",
       "       'Chest with drawers', 'Chiffonier', 'Chest-on-chest',\n",
       "       'Chest-on-frame', 'Guilford|Saybrook', 'Chest with drawer',\n",
       "       'Chest-with-drawer', 'Cheval glass', 'Steps', 'Ewer',\n",
       "       'Chocolate Pot', 'Stained glass window', 'Hanging light', 'Seal',\n",
       "       'Churn', 'Cigarette case', 'Clamp', 'Claret glass', 'Clasp',\n",
       "       'Necklace', 'Pin', 'Shelf clock', 'Clock bracket', 'Dial clock',\n",
       "       'Clothes press', 'Sign', 'Coal hod', 'Coaster', 'Coffee cup',\n",
       "       'Coffee cup saucer', 'Urn', 'Coffeepot', 'Philadelphia', 'Coffret',\n",
       "       'Perfume bottle', 'Cologne bottle', 'Column', 'Screen', 'Comb',\n",
       "       'Communion cup', 'Communion flagon', 'Compote',\n",
       "       'Sweetmeat compote', 'Block', 'Condiment dish', 'Jack',\n",
       "       'Console table', 'Manuscript', '\"\"Rattle', 'Cordial glass',\n",
       "       'Cordial', 'Corner cupboard', 'Corner shelves', 'Cornice', 'Couch',\n",
       "       'Daybed', 'Court staff', 'Cover', 'Dish cover', 'Jar cover',\n",
       "       'Ale pitcher', 'Bowl and tray', 'Butter dish', 'Cream pot',\n",
       "       'Cup and saucer', 'Jar', 'Sugar pot', 'Jewel box', 'Jug',\n",
       "       'Mustard pot', 'Pitcher', 'Platter', 'Goblet', 'Sauce Tureen',\n",
       "       'Snuff canister', 'Sugar bowl', 'Tobacco Jar', 'Toilet box',\n",
       "       'Tureen', 'Cradle', 'Cream jug', 'Cream pitcher', 'Creampot',\n",
       "       'Milk pitcher', '\"\"Drawing', 'Cruet', 'Cruet Stand', 'Cruet stand',\n",
       "       'Merseyside', 'Saucer', 'Salt', 'Staffordshire', 'Cup plate',\n",
       "       'Cupboard', 'Guilford', 'Curio cabinet', 'Curtain knob',\n",
       "       'Curtain pole', 'Curtain pole ends', 'Tieback', 'Curtain tieback',\n",
       "       'Cuspidor', 'Custard cup', 'Pipe', 'Decanter', 'Decanter Label',\n",
       "       'Stand', 'Desk and bookcase', 'Secretary and bookcase', ' 1967\"\"',\n",
       "       'GentlemanÕs secretary', 'Secretary',\n",
       "       ' in memory of Berry B. Tracy', 'Dessert plate', 'Die',\n",
       "       'Drop-leaf dining table', 'Dining Table', 'Dining table', 'Fork',\n",
       "       'Dinner plate', 'Plate', 'Dipper', 'Rowboat dish',\n",
       "       'Vegetable dish', 'Door and hardware', 'Door handle', 'Door hinge',\n",
       "       'Door knob', 'Doorknob', 'Knocker', 'Door lock', 'Door hardware',\n",
       "       'Doorway', 'Double cruet bottle', 'Egg cup', 'Dough board scraper',\n",
       "       'Dower chest', 'Dram Cup', 'Drapery tieback', 'Fraktur', 'Parlor ',\n",
       "       'Sword', 'Dresser', 'Dressing Glass', 'Dressing glass',\n",
       "       'Dressing stand', 'Dressing table', 'Dressing Table', 'Lowboy',\n",
       "       'Drop-leaf table', 'Drop-leaf Pembroke table', 'Drug bottle',\n",
       "       'Dust mop', 'Dust pan', 'Duster', 'Easel', 'Easy chair',\n",
       "       'Electric lamp', 'Elevator grille', 'Panel', 'Embroidery frame',\n",
       "       'Encaustic tile', 'Epergne', 'Keyhole plate', 'Escutcheon',\n",
       "       'Whatnot shelf', '\\x83tag\\x8fre', '\\x83tag\\x8fre shelves', 'Rack',\n",
       "       '\"\"Exterior Doorway from One West Broad Street', 'American',\n",
       "       'Eyeglass case', 'Eyeglasses', 'Fan', 'Fanlight', 'Fender',\n",
       "       'Figure group', 'Figural group', 'Finger bowl',\n",
       "       'Finger bowl and plate', 'Finger vase', 'Fire brush',\n",
       "       'Fire bucket', 'Fire grate', 'Fire plate', 'Firescreen', 'Shovel',\n",
       "       'Fire shovel', 'Fire tongs', 'Tongs', '\"\"Fire Tongs\"',\n",
       "       'Fire tool stand', 'Fireback', 'Fireboard', \"Fireman's helmet\",\n",
       "       \"Fireman's shield\", \"Fireman's trumpet\", 'Fireplace grate',\n",
       "       'Fireplace lining', 'Fireplace stand', 'Ice Cream Server',\n",
       "       'Fish Slice', 'Jamb stove', 'Flagon', 'Pocket bottle',\n",
       "       'Pint flask', 'Flax comb', 'Flip glass', 'Floor boards', '3757',\n",
       "       'Flower holder', 'Flower pot', '\"\"Flyleaf', 'Flyleaf',\n",
       "       'Folding screen', 'Footstool', 'Fountain base', 'Franklin stove',\n",
       "       'Stove', 'French door', 'Frieze', 'Fruit basket', 'Fruit bowl',\n",
       "       'Fruit dish', 'Solid Casting Pattern', 'Funeral spoon', 'Funnel',\n",
       "       'Garden bench', 'Garden settee', 'Garden table', 'Gas chandelier',\n",
       "       'Gas lamp', 'Gas lighting fixture', 'Sconce', 'Table',\n",
       "       'Gate-leg drop-leaf table', 'Gate-leg table', 'Gemel flask',\n",
       "       '\"\"Minature', 'Cameo', 'Girandole', 'Looking glass',\n",
       "       'Glass cutter', 'Fragment', 'Glass panel', 'Glass shade',\n",
       "       'Glassmaking mold', 'Globe', 'Glass Globe', 'Glove buttoner',\n",
       "       'Library', 'Graduation diploma', 'Grand harmonicon', 'Grate',\n",
       "       'Gridiron', 'Pierced wooden grill', 'Gun hook', 'Hairpin',\n",
       "       'Half-pint decanter', 'Hall lantern', 'Hand blotter', 'Candle',\n",
       "       'Hanger', 'Key cabinet', 'Hanging vase', 'Hasp', 'Coat of arms',\n",
       "       'Hat stand', 'Hearth jar', 'High chair', 'High chest of drawers',\n",
       "       'Probably made in|Possibly made in', 'High Chest of drawers',\n",
       "       'Hinge', 'Hitching post top', 'Hob grate', 'Holy water basin',\n",
       "       'Honey dish', 'Honey Dish', 'Trammel', 'Milk Pot',\n",
       "       'Hot water plate', 'Hot Water Pot', 'Hot water pot',\n",
       "       'Hurricane shade', 'Weather vane', 'Inkwell', 'Italian iron',\n",
       "       'Jagging wheel', 'Jagging Wheel', 'Jamb hook', 'Miniature',\n",
       "       'Chocolate jar', 'Toy', 'Jardiniere', 'Jardini\\x8fre and pedestal',\n",
       "       'Jelly glass', 'Business Card', 'Ticket', 'Joint stool', 'Kast',\n",
       "       'Longrifle', 'Kettle', 'Teakettle', 'Kettle stand', 'Key',\n",
       "       'Folding Key', 'Key cupboard', 'Knife box', 'Knife urn', 'Knob',\n",
       "       'Drawer pull', 'Label', 'Lace pattern', 'Ladle', 'Lamp',\n",
       "       'Pittsburgh', 'Chimney lamp', 'Lamp reflector', 'Lantern', 'Latch',\n",
       "       'Latch bar', '\"\"Latch lock', '\"\"Latch', 'Waste Bowl', 'Lavatory',\n",
       "       'Strainer', 'Lemonade glass', 'Letter', 'Letter Opener',\n",
       "       'Letter opener', 'Letter rack', 'Library table', 'Lid',\n",
       "       'Light fixture', 'Lighthouse clock', 'French press', 'Lintel',\n",
       "       'Liquor glass', 'Lock and key', 'Lock', 'Lock plate',\n",
       "       'Lolling armchair', 'Dorchester', 'Lorgnettes', '\"\"Love token',\n",
       "       'Luncheon plate', 'Lunette', 'Lyre clock', 'Mangle board',\n",
       "       'Mantel', 'Mantel clock', 'Mantel ', '\"\"Manuscript sampler',\n",
       "       'Case', 'Map', 'Ornament ', '\"\"Plaque', 'Marriage contract',\n",
       "       'Masonic Emblem', 'Match box holder', 'Match case', 'Match rack',\n",
       "       'Matchsafe', 'Quart measure', 'Gallon measure',\n",
       "       'Half-pint measure', 'Pint measure', 'Meat fork', 'Meat platter',\n",
       "       'Medal case', 'Marriage certificate', 'Membership certificate',\n",
       "       'Mourning picture', 'Milk bowl', 'Milk pan', 'Trinket chest',\n",
       "       'Iron', 'Saltcellar', 'Bed model', 'Chair model', 'Table model',\n",
       "       'Molasses jug', 'Monteith', 'Reclining Morris chair',\n",
       "       'Mosaic panel', 'Mosaic plaque', 'Curtain tie-back', 'Appliqu\\x8e',\n",
       "       'Ring', 'Baltimore', 'Tyg', 'Music cabinet', 'Music rack',\n",
       "       'Mustard Pot', 'Needle case', 'Newel post and three balusters ',\n",
       "       'Niddy noddy', 'Nightstand', 'Night table', 'Note pad holder',\n",
       "       'Nutmeg Grater', 'Nutmeg grater', 'Obelisk', 'Staff',\n",
       "       'Whale oil lamp', 'Oil lamp', 'Whale-oil lamp', 'Shade block',\n",
       "       'Ornament', 'Ottoman', 'Carrier', 'Oven', 'Overmantel',\n",
       "       'Oyster plate', 'Pan', 'Stained glass', 'Stained glass panel',\n",
       "       'Scrimshaw', 'Paneling', 'Mantelpiece', 'Fireplace wall paneling',\n",
       "       'Panels and door', 'Elevator cab panels', 'Pap Boat', 'Paper rack',\n",
       "       'Paper weight', 'Paperweight',\n",
       "       'Parallel rule with protractor and plotting scale', ' 1985\"\"',\n",
       "       'Parfait glass', 'Room', 'Salver', 'Pattern book', 'Pattern coin',\n",
       "       'Pattern', \"Paul Revere's autograph\", 'Pedestal', 'Peg board',\n",
       "       'Peg lamp', 'Pembroke table', 'Pen rack', 'Pen tray',\n",
       "       'Perfume flask', 'Perpetual calendar', 'Pharmacy jar',\n",
       "       'Piano stool', 'Pianoforte', 'Pickle dish', 'Pickle jar',\n",
       "       'Pie dish', '\"\"Plate\"', 'Pier glass', 'Pier looking glass',\n",
       "       'Pier table', ' Friends of the American Wing Fund',\n",
       "       '\"\"Rogers Fund', 'Piggin', 'Pint decanter', 'Pint mug', 'Pipe box',\n",
       "       'Pipe and tobacco box', 'Pipe tongs', 'Sauceboat', '\"\"Plan',\n",
       "       'Plant stand', 'Soup plate', 'Sauceboat plate', 'Plate warmer',\n",
       "       'Roast platter', 'Pocket flask', 'Pocket dlask', 'Pocketbook',\n",
       "       'Poker', 'Poodle', 'Porringer', 'Poughkeepsie', ' 1953\"\"',\n",
       "       'Boston|Newburyport', 'Portfolio', 'Portico clock', 'Posset pot',\n",
       "       'Pot', 'Pot fork', 'Presentation chalice', ' 1982\"\"', 'Press',\n",
       "       'Print', 'Punch bowl', 'Embroidery punch', 'Punch glass',\n",
       "       'Punch Pot', 'Quart decanter', 'Quart mug', 'Rack of drawers',\n",
       "       'Railing', 'Rainwater leader', 'Rattle', 'Reel', 'Relish Dish',\n",
       "       'Relish dish', 'Watch', 'Revolving chair', '\"\"Medal',\n",
       "       'Roasting rack', 'Platform rocking chair', 'Roll die', 'Roller',\n",
       "       'Parlor', 'Fireplace wall paneling ', 'Room ', 'Rose bowl',\n",
       "       'Roundabout armchair', 'Corner chair', 'Roundel', 'Rummer',\n",
       "       'Rummer tumbler', 'Salad bowl', 'Salad plate', 'Salt box',\n",
       "       'Salt Shovel', 'Tray', 'Sample board', 'Copper sheet',\n",
       "       'Soldering bar', 'Sand shaker', 'Sauce dish', 'Scarf pin',\n",
       "       'Scent bottle', 'Wall sconces', 'Secretary abattant',\n",
       "       'Plate section', 'Seed stand', 'Saucepan', 'Serving dish',\n",
       "       'Serving Fork', 'Serving ladle', 'Serving table', 'Settee',\n",
       "       'Settle', 'Windsor settee', 'Sewing box', 'Sewing steps',\n",
       "       'Shaving brush', 'Shaving Brush', 'Shaving dish', 'Shaving mug',\n",
       "       'Sheath', 'Sherbet dish', 'Sherbet glass', 'Sherry glass',\n",
       "       'Shoe buckle', 'Shutter tieback', 'Side panel', 'Side-light',\n",
       "       'Sideboard table', 'Sideboard', 'Sillabub cup', 'Sillabub glass',\n",
       "       'Siphoning Tube', 'Skewer', 'Skewer holder', 'Skillet',\n",
       "       'Cufflinks', 'Sleeve button', 'Slip Cup', 'Slip cup',\n",
       "       'Slipper chair', 'Sewing chair', \"Smoker's tongs\", 'Snuffbox',\n",
       "       '\"\"Snuffbox', 'Snuffer', 'Snuffer Stand', 'Soap box', 'Soap dish',\n",
       "       'Sofa', 'Solar lamp', 'Soldering iron', 'Solitaire game',\n",
       "       'Soup bowl', 'Soup dish', 'Spandrel panel ', 'Spatula', 'Cable',\n",
       "       'Spice cabinet', 'Spill vase', 'Bentside spinet',\n",
       "       '32 3/4 x 79 3/8 x 30 1/2 in. (83.2 x 201.6 x 77.5 cm)',\n",
       "       'Spinning implement', 'Spinning wheel', 'Spool stand',\n",
       "       'Marrow spoon', 'Spoon dish', 'Spoon holder',\n",
       "       'Spoons and spoon mold', 'Spoon board', 'Spoon rack', 'Spooner',\n",
       "       'Spur', 'Square planter', 'Sundial', 'Windows and Paneling',\n",
       "       'Staircase', 'Tilt-top stand', 'Standing cup', 'Standing lamp',\n",
       "       'Stencil', 'Stereopticon', 'Spinning wheel stick', 'Stock lock',\n",
       "       'Stool', 'Curule stool', 'Stopper', 'Stove board', 'Stove plate',\n",
       "       'Straw brush', 'Sugar Box', 'Sugar box', 'Sugar nippers',\n",
       "       'Sugar Shovel', 'Sundial mold', \"Surveyor's compass\",\n",
       "       'Semi circumferenter', 'Sweetmeat stand', 'Swift', 'Swinging lamp',\n",
       "       'Swinging stick', 'Syrup jug', 'Slate table', 'Slab table',\n",
       "       'Nesting table', 'Table spoon', 'Table Spoon', 'Tall clock',\n",
       "       'Reading', 'Tankard', 'Boston', 'New York|Albany', 'Taper winder',\n",
       "       'Tazza', 'Tea caddy', 'Tea canister', 'Tea chest', 'Tea table',\n",
       "       'Tilt-top tea table', ' Drue Heinz', 'Tea bowl', '\"\"Teakettle',\n",
       "       'Fairfield', 'Telegraph instrument', 'Terrestrial globe',\n",
       "       'T\\x90te-\\x88-t\\x90te', 'Tinder box', 'Toast rack', 'Toast Rack',\n",
       "       'Toaster', 'Toby jug', 'Toby mug', 'Toby pitcher',\n",
       "       'Toby snuff jar', 'Toddy Spoon', 'Token', 'Medal or plaque',\n",
       "       'Toothpick holder', 'Towel rack', 'Toy horse', 'Toy kitchen',\n",
       "       'Toy sled', 'Brandy tray', 'Trestle table', 'Whiskey tumbler',\n",
       "       'Umbrella stand', 'Presentation vase', 'Valance', 'Vase clock',\n",
       "       'Pilgrim vase', 'United States', 'Corning', 'Bough vase',\n",
       "       'Vigil light', 'Violin bottle', 'Wafer iron', 'Wainscot armchair',\n",
       "       'Joined armchair', 'Wall bracket', 'Wall clock', 'Wall cupboard',\n",
       "       'Wall mural and fountain', 'Wall plaque', 'Wall pocket',\n",
       "       'Wall sconce', '\"\"Watercolor', 'Wallpaper', 'Wallpaper panel',\n",
       "       'Walrus tusk', 'Warming pan', 'Warming Pan', 'Wash stand',\n",
       "       'Watch case', 'Watch stand', 'Water basin', 'Water bottle',\n",
       "       'Water carafe', 'Water cooler', 'Watercooler', 'Water goblet',\n",
       "       'Water pitcher', 'Wentworth house', 'Whimsy pitcher',\n",
       "       'Whiskey mug', 'Whiskey Mug', 'Whiskey taster', 'Whistle', 'Will',\n",
       "       '\"\"Stained glass window from St. Paul\\'s United Methodist Church',\n",
       "       'Window bench', 'Window seat', 'Window stool', 'Window Stool',\n",
       "       'Window cornice', 'Window guard', 'Window sash',\n",
       "       'Window with shutter', 'Windsor table', 'Windsor armchair',\n",
       "       'Wine bottle', 'Wine cooler', 'Wine glass', 'Wineglass',\n",
       "       'Wine goblet',\n",
       "       '\"\"Corner cupboard from a House in Lancaster County', 'Work bench',\n",
       "       'Work table', 'Worktable', 'Sewing table', 'Writing armchair',\n",
       "       'Writing table', 'Eagle', ' Bequest of Edward W. C. Arnold',\n",
       "       'Sketchbook', 'Length'], dtype=object)"
      ]
     },
     "execution_count": 19,
     "metadata": {},
     "output_type": "execute_result"
    }
   ],
   "source": [
    "# Verifying some sample data from the data frame\n",
    "metobj_dedup['Object Name'].unique()"
   ]
  },
  {
   "cell_type": "code",
   "execution_count": 88,
   "metadata": {},
   "outputs": [
    {
     "data": {
      "text/plain": [
       "10072"
      ]
     },
     "execution_count": 88,
     "metadata": {},
     "output_type": "execute_result"
    }
   ],
   "source": [
    "metobj_dedup['Object ID'].nunique()"
   ]
  },
  {
   "cell_type": "code",
   "execution_count": 89,
   "metadata": {},
   "outputs": [
    {
     "data": {
      "text/plain": [
       "0              Coin\n",
       "1              Coin\n",
       "2              Coin\n",
       "3              Coin\n",
       "4              Coin\n",
       "            ...    \n",
       "12103    Watercolor\n",
       "12104    Watercolor\n",
       "12105    Watercolor\n",
       "12106    Watercolor\n",
       "12107            NA\n",
       "Name: Object Name, Length: 11923, dtype: object"
      ]
     },
     "execution_count": 89,
     "metadata": {},
     "output_type": "execute_result"
    }
   ],
   "source": [
    "# Showing the various values in a coloum\n",
    "metobj_dedup['Object Name']"
   ]
  },
  {
   "cell_type": "code",
   "execution_count": 90,
   "metadata": {
    "collapsed": true,
    "jupyter": {
     "outputs_hidden": true
    }
   },
   "outputs": [
    {
     "data": {
      "text/plain": [
       "dict_keys(['', ' 1953\"\"', ' 1967\"\"', ' 1982\"\"', ' 1985\"\"', ' Bequest of Edward W. C. Arnold', ' Drue Heinz', ' Elinor Irwin Holden', ' Friends of the American Wing Fund', ' in memory of Berry B. Tracy', '\"\"Birth', '\"\"Birth and baptismal certificate', '\"\"Birth certificate', '\"\"Bolt', '\"\"Box', '\"\"Bust', '\"\"Cameo medallion', '\"\"Certificate', '\"\"Corner cupboard from a House in Lancaster County', '\"\"Drawing', '\"\"Exterior Doorway from One West Broad Street', '\"\"Fire Tongs\"', '\"\"Flyleaf', '\"\"Latch', '\"\"Latch lock', '\"\"Love token', '\"\"Manuscript sampler', '\"\"Medal', '\"\"Minature', '\"\"Painting', '\"\"Plan', '\"\"Plaque', '\"\"Plate\"', '\"\"Rattle', '\"\"Rogers Fund', '\"\"Snuffbox', '\"\"Stained glass window from St. Paul\\'s United Methodist Church', '\"\"Teakettle', '\"\"Watercolor', '32 3/4 x 79 3/8 x 30 1/2 in. (83.2 x 201.6 x 77.5 cm)', '3757', 'Advertisement', 'Albany', 'Ale glass', 'Ale pitcher', 'American', 'Andiron', 'Apothecary jar', 'Appliqu\\x8e', 'Architectural elements', 'Argand lamp', 'Armchair', 'Astral lamp', 'Aviary', 'Baking dish', 'Balcony', 'Ball', 'Baltimore', 'Baluster', 'Banister-back armchair', 'Banister-back chair', 'Banjo clock', 'Bank', 'Baptismal basin', 'Baptismal bowl', 'Baptismal certificate', 'Barnstable', 'Basin', 'Basin Stand', 'Basin stand', 'Basket', 'Beaker', 'Bean pot', 'Bed model', 'Bedroom', 'Bedstead', 'Bell', 'Bell pull', 'Bellows', 'Bench', 'Bentside spinet', 'Berry dish', 'Betty lamp', 'Bible', 'Bill holder', 'Birdhouse', 'Bitters bottle', 'Blanket chest', 'Block', 'Blotter', 'Board chest', 'Bobbin and thread', 'Bobeche', 'Bonnet', 'Book', 'Bookcase', 'Bookend', 'Boston', 'Boston|Newburyport', 'Bottle', 'Bottle corker', 'Bottle fragment', 'Bough vase', 'Bowl', 'Bowl and tray', 'Box', 'Box cover', 'Bracket clock', 'Brandy Warmer', 'Brandy decanter', 'Brandy tray', 'Brandy tumbler', 'Brazier', 'Bread plate', 'Brick', 'Brooch', 'Buckle', 'Bud vase', 'Bulb pot', 'Bureau Table', 'Bureau table', 'Business Card', 'Bust', 'Butter Dish', 'Butter Tester', 'Butter dish', 'Butter mold', 'Butter pat', 'Button', 'Button mold', 'Cabinet', 'Cable', 'Cachepot', 'Cake plate', 'Cake stand', 'Cake tray', 'Calendar', 'Caliper and level', 'Cameo', 'Cameo medallion', 'Campaign button', 'Candelabrum', 'Candle', 'Candle mold', 'Candle shade', 'Candle snuffer', 'Candle stand', 'Candlestick', 'Cane', 'Cane handle', 'Cann', 'Cap', 'Capias', 'Capital', 'Carafe', 'Card', 'Card and backgammon table', 'Card table', 'Carriage clock', 'Carrier', 'Case', 'Casement window', 'Caster', 'Celery dish', 'Celery glass', 'Celery vase', 'Celestial globe', 'Cellaret', 'Centavos', 'Center table', 'Cereal bowl', 'Chafing Dish', 'Chafing dish', 'Chair', 'Chair model', 'Chair table', 'Chalice', 'Chamber candlestick', 'Chamber table', 'Champagne glass', 'Chandelier', 'Charger', 'Cheese Scoop', 'Chess set', 'Chest', 'Chest of drawers', 'Chest with drawer', 'Chest with drawers', 'Chest-on-chest', 'Chest-on-frame', 'Chest-with-drawer', 'Chest-with-drawers', 'Cheval glass', 'Chiffonier', 'Chimney lamp', 'Chocolate Pot', 'Chocolate jar', 'Churn', 'Cigarette case', 'Clamp', 'Claret glass', 'Clasp', 'Clock', 'Clock bracket', 'Clothes press', 'Coal hod', 'Coaster', 'Coat of arms', 'Coffee cup', 'Coffee cup saucer', 'Coffeepot', 'Coffret', 'Coin', 'Cologne bottle', 'Column', 'Comb', 'Commode', 'Communion cup', 'Communion flagon', 'Compote', 'Condiment dish', 'Console table', 'Copper sheet', 'Cordial', 'Cordial glass', 'Corner chair', 'Corner cupboard', 'Corner shelves', 'Cornice', 'Corning', 'Couch', 'Court staff', 'Cover', 'Cradle', 'Cream jug', 'Cream pitcher', 'Cream pot', 'Creampot', 'Cruet', 'Cruet Stand', 'Cruet stand', 'Cufflinks', 'Cup', 'Cup and saucer', 'Cup plate', 'Cupboard', 'Curio cabinet', 'Curtain knob', 'Curtain pole', 'Curtain pole ends', 'Curtain tie-back', 'Curtain tieback', 'Curule stool', 'Cuspidor', 'Custard cup', 'Daybed', 'Decanter', 'Decanter Label', 'Desk', 'Desk and bookcase', 'Desk-on-frame', 'Dessert plate', 'Dial clock', 'Die', 'Dining Table', 'Dining table', 'Dinner plate', 'Dipper', 'Dish', 'Dish cover', 'Door', 'Door and hardware', 'Door handle', 'Door hardware', 'Door hinge', 'Door knob', 'Door lock', 'Doorknob', 'Doorway', 'Dorchester', 'Double cruet bottle', 'Dough board scraper', 'Dower chest', 'Dram Cup', 'Drapery tieback', 'Drawer pull', 'Drawing', 'Dresser', 'Dressing Glass', 'Dressing Table', 'Dressing glass', 'Dressing stand', 'Dressing table', 'Drop-leaf Pembroke table', 'Drop-leaf dining table', 'Drop-leaf table', 'Drug bottle', 'Dust mop', 'Dust pan', 'Duster', 'Eagle', 'Easel', 'Easy chair', 'Egg cup', 'Electric lamp', 'Elevator cab panels', 'Elevator grille', 'Embroidery frame', 'Embroidery punch', 'Encaustic tile', 'Epergne', 'Escutcheon', 'Ewer', 'Eyeglass case', 'Eyeglasses', 'Fairfield', 'Fan', 'Fanlight', 'Fender', 'Figural group', 'Figure', 'Figure group', 'Finger bowl', 'Finger bowl and plate', 'Finger vase', 'Fire brush', 'Fire bucket', 'Fire grate', 'Fire plate', 'Fire shovel', 'Fire tongs', 'Fire tool stand', 'Fireback', 'Fireboard', \"Fireman's helmet\", \"Fireman's shield\", \"Fireman's trumpet\", 'Fireplace grate', 'Fireplace lining', 'Fireplace stand', 'Fireplace wall paneling', 'Fireplace wall paneling ', 'Firescreen', 'Fish Slice', 'Flagon', 'Flask', 'Flax comb', 'Flip glass', 'Floor boards', 'Flower holder', 'Flower pot', 'Flyleaf', 'Folding Key', 'Folding armchair', 'Folding bedstead', 'Folding screen', 'Foot scraper', 'Footstool', 'Fork', 'Fountain', 'Fountain base', 'Fragment', 'Fraktur', 'Frame', 'Franklin stove', 'French door', 'French press', 'Frieze', 'Fruit basket', 'Fruit bowl', 'Fruit dish', 'Funeral spoon', 'Funnel', 'Furniture hardware', 'Gallon measure', 'Garden bench', 'Garden settee', 'Garden table', 'Gas chandelier', 'Gas lamp', 'Gas lighting fixture', 'Gate-leg drop-leaf table', 'Gate-leg table', 'Gemel flask', 'GentlemanÕs secretary', 'Girandole', 'Glass Globe', 'Glass cutter', 'Glass panel', 'Glass shade', 'Glassmaking mold', 'Globe', 'Glove buttoner', 'Goblet', 'Graduation diploma', 'Grand harmonicon', 'Grate', 'Gridiron', 'Guilford', 'Guilford|Saybrook', 'Gun hook', 'Hair jewelry', 'Hairpin', 'Half-pint decanter', 'Half-pint measure', 'Hall lantern', 'Hand blotter', 'Hanger', 'Hanging light', 'Hanging vase', 'Hasp', 'Hat stand', 'Hearth jar', 'High Chest of drawers', 'High chair', 'High chest of drawers', 'Hinge', 'Hitching post top', 'Hob grate', 'Holy water basin', 'Honey Dish', 'Honey dish', 'Hot Water Pot', 'Hot water plate', 'Hot water pot', 'Hurricane shade', 'Ice Cream Server', 'Inkstand', 'Inkwell', 'Iron', 'Italian iron', 'Jack', 'Jagging Wheel', 'Jagging wheel', 'Jamb hook', 'Jamb stove', 'Jar', 'Jar cover', 'Jardiniere', 'Jardini\\x8fre and pedestal', 'Jelly glass', 'Jewel box', 'Joined armchair', 'Joint stool', 'Jug', 'Kast', 'Keg', 'Kettle', 'Kettle stand', 'Key', 'Key cabinet', 'Key cupboard', 'Keyhole plate', 'Knife', 'Knife box', 'Knife urn', 'Knob', 'Knocker', 'Label', 'Lace pattern', 'Ladle', 'Lamp', 'Lamp reflector', 'Lamp shade', 'Lantern', 'Latch', 'Latch bar', 'Lavatory', 'Lemonade glass', 'Length', 'Letter', 'Letter Opener', 'Letter opener', 'Letter rack', 'Library', 'Library table', 'Lid', 'Light fixture', 'Lighthouse clock', 'Lintel', 'Liquor glass', 'Lock', 'Lock and key', 'Lock plate', 'Locket', 'Loggia elements', 'Lolling armchair', 'Longrifle', 'Looking glass', 'Lorgnettes', 'Lowboy', 'Luncheon plate', 'Lunette', 'Lyre clock', 'Made in', 'Mangle board', 'Mantel', 'Mantel ', 'Mantel clock', 'Mantelpiece', 'Manuscript', 'Map', 'Marriage certificate', 'Marriage contract', 'Marrow spoon', 'Mask cast', 'Masonic Emblem', 'Match box holder', 'Match case', 'Match rack', 'Matchsafe', 'Meat fork', 'Meat platter', 'Medal', 'Medal case', 'Medal or plaque', 'Medallion', 'Membership certificate', 'Merseyside', 'Milk Pot', 'Milk bowl', 'Milk pan', 'Milk pitcher', 'Miniature', 'Molasses jug', 'Monteith', 'Mosaic panel', 'Mosaic plaque', 'Mourning picture', 'Mug', 'Music cabinet', 'Music rack', 'Mustard Pot', 'Mustard pot', 'NA', 'Necklace', 'Needle case', 'Nesting table', 'New York', 'New York|Albany', 'Newel post and three balusters ', 'Niddy noddy', 'Night table', 'Nightstand', 'Note pad holder', 'Nutmeg Grater', 'Nutmeg grater', 'Obelisk', 'Oil cruet', 'Oil lamp', 'Ornament', 'Ornament ', 'Ottoman', 'Oven', 'Overmantel', 'Oyster plate', 'Painting', 'Pan', 'Panel', 'Paneling', 'Panels and door', 'Pap Boat', 'Paper rack', 'Paper weight', 'Paperweight', 'Parallel rule with protractor and plotting scale', 'Parfait glass', 'Paris', 'Parlor', 'Parlor ', 'Pattern', 'Pattern book', 'Pattern coin', \"Paul Revere's autograph\", 'Pedestal', 'Peg board', 'Peg lamp', 'Pembroke table', 'Pen rack', 'Pen tray', 'Perfume bottle', 'Perfume flask', 'Perpetual calendar', 'Peso', 'Pesos', 'Pharmacy jar', 'Philadelphia', 'Piano stool', 'Pianoforte', 'Pickle dish', 'Pickle jar', 'Pie dish', 'Pier glass', 'Pier looking glass', 'Pier table', 'Pierced wooden grill', 'Piggin', 'Pilgrim vase', 'Pin', 'Pint decanter', 'Pint flask', 'Pint measure', 'Pint mug', 'Pipe', 'Pipe and tobacco box', 'Pipe box', 'Pipe tongs', 'Pitcher', 'Pittsburgh', 'Plant stand', 'Plaque', 'Plate', 'Plate section', 'Plate warmer', 'Platform rocking chair', 'Platter', 'Plymouth County', 'Pocket bottle', 'Pocket dlask', 'Pocket flask', 'Pocketbook', 'Poker', 'Poodle', 'Porringer', 'Portfolio', 'Portico clock', 'Portrait Panel', 'Posset pot', 'Pot', 'Pot fork', 'Poughkeepsie', 'Presentation chalice', 'Presentation vase', 'Press', 'Print', 'Probably made in|Possibly made in', 'Pulque beaker', 'Punch Bowl', 'Punch Pot', 'Punch bowl', 'Punch glass', 'Quart decanter', 'Quart measure', 'Quart mug', 'Rack', 'Rack of drawers', 'Railing', 'Rainwater leader', 'Rattle', 'Reading', 'Reclining Morris chair', 'Reclining armchair', 'Reel', 'Relish Dish', 'Relish dish', 'Revolving armchair', 'Revolving chair', 'Ring', 'Ring bottle', 'Roast platter', 'Roasting rack', 'Rocking chair', 'Roll die', 'Roller', 'Room', 'Room ', 'Rose bowl', 'Roundabout armchair', 'Roundel', 'Rowboat dish', 'Rummer', 'Rummer tumbler', 'Sack bottle', 'Salad bowl', 'Salad plate', 'Salt', 'Salt Shovel', 'Salt box', 'Saltcellar', 'Salver', 'Sample board', 'Sand shaker', 'Sauce Tureen', 'Sauce dish', 'Sauceboat', 'Sauceboat plate', 'Saucepan', 'Saucer', 'Scarf pin', 'Scent bottle', 'Sconce', 'Screen', 'Scrimshaw', 'Sculpture', 'Seal', 'Secretary', 'Secretary abattant', 'Secretary and bookcase', 'Seed stand', 'Semi circumferenter', 'Serving Fork', 'Serving dish', 'Serving ladle', 'Serving table', 'Settee', 'Settle', 'Sewing box', 'Sewing chair', 'Sewing steps', 'Sewing table', 'Shade block', 'Shaving Brush', 'Shaving brush', 'Shaving dish', 'Shaving mug', 'Sheath', 'Shelf clock', 'Sherbet dish', 'Sherbet glass', 'Sherry glass', 'Shoe buckle', 'Shovel', 'Shutter tieback', 'Side Chair', 'Side chair', 'Side chairs', 'Side panel', 'Side-light', 'Sideboard', 'Sideboard table', 'Sign', 'Sillabub cup', 'Sillabub glass', 'Siphoning Tube', 'Sketchbook', 'Skewer', 'Skewer holder', 'Skillet', 'Slab table', 'Slat-back armchair', 'Slate table', 'Sleeve button', 'Sleigh seat', 'Slip Cup', 'Slip cup', 'Slipper chair', 'Slop bowl', \"Smoker's tongs\", 'Snuff canister', 'Snuffbox', 'Snuffer', 'Snuffer Stand', 'Soap box', 'Soap dish', 'Sofa', 'Solar lamp', 'Soldering bar', 'Soldering iron', 'Solid Casting Pattern', 'Solitaire game', 'Soup bowl', 'Soup dish', 'Soup plate', 'South Yorkshire', 'Spandrel panel ', 'Spatula', 'Spice cabinet', 'Spill vase', 'Spindle-back armchair', 'Spindle-back chair', 'Spinning implement', 'Spinning wheel', 'Spinning wheel stick', 'Spool stand', 'Spoon', 'Spoon board', 'Spoon dish', 'Spoon holder', 'Spoon rack', 'Spooner', 'Spoons and spoon mold', 'Spur', 'Square planter', 'Staff', 'Staffordshire', 'Stained glass', 'Stained glass panel', 'Stained glass window', 'Staircase', 'Stamp', 'Stand', 'Standing cup', 'Standing lamp', 'Statuette', 'Stencil', 'Steps', 'Stereopticon', 'Stock lock', 'Stool', 'Stopper', 'Stove', 'Stove board', 'Stove plate', 'Strainer', 'Straw brush', 'Sugar Bowl', 'Sugar Box', 'Sugar Shovel', 'Sugar bowl', 'Sugar box', 'Sugar nippers', 'Sugar pot', 'Sundial', 'Sundial mold', \"Surveyor's compass\", 'Sweetmeat compote', 'Sweetmeat stand', 'Swift', 'Swinging lamp', 'Swinging stick', 'Sword', 'Syrup jug', 'Table', 'Table Spoon', 'Table model', 'Table spoon', 'Tall clock', 'Tankard', 'Taper winder', 'Tazza', 'Tea bowl', 'Tea caddy', 'Tea canister', 'Tea chest', 'Tea table', 'Teakettle', 'Teapot', 'Telegraph instrument', 'Terrestrial globe', 'The American Wing', 'Ticket', 'Tieback', 'Tile', 'Tilt-top stand', 'Tilt-top tea table', 'Tinder box', 'Toast Rack', 'Toast rack', 'Toaster', 'Tobacco Jar', 'Toby jug', 'Toby mug', 'Toby pitcher', 'Toby snuff jar', 'Toddy Spoon', 'Toilet box', 'Token', 'Tongs', 'Toothpick holder', 'Towel rack', 'Toy', 'Toy horse', 'Toy kitchen', 'Toy sled', 'Trammel', 'Tray', 'Trestle table', 'Trinket box', 'Trinket chest', 'Trivet', 'Tumbler', 'Tureen', 'Two-handled bowl', 'Tyg', 'T\\x90te-\\x88-t\\x90te', 'Umbrella stand', 'United States', 'Urn', 'Valance', 'Vase', 'Vase clock', 'Vegetable dish', 'Vigil light', 'Violin bottle', 'Wafer iron', 'Wainscot armchair', 'Wall bracket', 'Wall clock', 'Wall cupboard', 'Wall mural and fountain', 'Wall panel', 'Wall plaque', 'Wall pocket', 'Wall sconce', 'Wall sconces', 'Wallpaper', 'Wallpaper panel', 'Walrus tusk', 'Warming Pan', 'Warming pan', 'Wash basin', 'Wash stand', 'Waste Bowl', 'Waste bowl', 'Watch', 'Watch case', 'Watch stand', 'Water basin', 'Water bottle', 'Water carafe', 'Water cooler', 'Water goblet', 'Water pitcher', 'Watercolor', 'Watercooler', 'Weather vane', 'Wentworth house', 'Whale oil lamp', 'Whale-oil lamp', 'Whatnot shelf', 'Whimsy pitcher', 'Whiskey Mug', 'Whiskey mug', 'Whiskey taster', 'Whiskey tumbler', 'Whistle', 'White Mills', 'Will', 'Window', 'Window Stool', 'Window bench', 'Window cornice', 'Window guard', 'Window sash', 'Window seat', 'Window stool', 'Window with shutter', 'Windowpane', 'Windowpane ', 'Windows and Paneling', 'Windsor armchair', 'Windsor settee', 'Windsor table', 'Wine bottle', 'Wine cooler', 'Wine glass', 'Wine goblet', 'Wineglass', 'Work bench', 'Work table', 'Worktable', 'Writing armchair', 'Writing table', '\\x83tag\\x8fre', '\\x83tag\\x8fre shelves'])"
      ]
     },
     "execution_count": 90,
     "metadata": {},
     "output_type": "execute_result"
    }
   ],
   "source": [
    "# After looking at the column values it looks like the data is not good here for Object name\n",
    "metobj_dedup.groupby('Object Name').groups.keys()"
   ]
  },
  {
   "cell_type": "code",
   "execution_count": 124,
   "metadata": {
    "collapsed": true,
    "jupyter": {
     "outputs_hidden": true
    }
   },
   "outputs": [
    {
     "data": {
      "text/plain": [
       "dict_keys(['', ' 1915\"\"', ' 1918\"\"', ' 1928\"\"', ' 1931\"\"', ' 1932\"\"', ' 1933\"\"', ' 1946\"\"', ' 1950\"\"', ' 1958\"\"', ' 1960\"\"', ' 1961\"\"', ' 1969\"\"', ' 1972\"\"', ' 1979\"\"', ' 1980\"\"', ' 1984\"\"', ' 2014\"\"', ' Alexander Orr Vietor', ' Friends of the American Wing and\"', ' Georgia\"\"', ' Joseph Pulitzer Bequest', ' Mr. and Mrs. Robert G. Goelet', ' Mrs. Russell\"', ' The Horace W. Goldsmith Foundation Gift', ' a founder of The Metropolitan Museum of Art', ' and Pictures', ' by exchange', ' glass with\"', ' in devoted memory of their grandmother', ' white pine\"\"', '\"\"Purchase', '10073', '1017', '10170', '1018', '1019', '1020', '1021', '1022', '1029', '1048', '1049', '10752', '1080', '1081', '1082', '1088', '1089', '1120', '11390', '1149', '11492', '1150', '1151', '1152', '1205', '1223', '1224', '1251', '1252', '1253', '1254', '1295', '1296', '1297', '1298', '1314', '1321', '1339', '1340', '1350', '1351', '1352', '1353', '1358', '1359', '1360', '1361', '137', '1370', '1371', '1372', '1373', '1374', '1375', '138', '1403', '1404', '1405', '1406', '1407', '1462', '1465', '1467', '1468', '1469', '1470', '1471', '1472', '1473', '1475', '1479', '1480', '1481', '1528', '1529', '1826', '1827', '1828', '1829', '1972', '1984', '2020', '2055', '2079', '2096', '2110', '2111', '2112', '2113', '2114', '2115', '2116', '2117', '2118', '2119', '2120', '2121', '2122', '2123', '2125', '2127', '2128', '2133', '2134', '2141', '2147', '2151', '2153', '2293', '2294', '2295', '2296', '2297', '2298', '2299', '2300', '2301', '2302', '2303', '2304', '2305', '2306', '2307', '2308', '2309', '2310', '2312', '2313', '2314', '2315', '2316', '2319', '2320', '2321', '2322', '2323', '2324', '2325', '2328', '2332', '2333', '2334', '2335', '2336', '2337', '2339', '2340', '2341', '2342', '2343', '2344', '2346', '2347', '2348', '2349', '2351', '2352', '2354', '2356', '2357', '2358', '2359', '2360', '2362', '2363', '2364', '2365', '2366', '2367', '2368', '2369', '2370', '2371', '2372', '2373', '2374', '2375', '2376', '2377', '2378', '2379', '2380', '2381', '2382', '2383', '2384', '2386', '2387', '2388', '2389', '2390', '2391', '2392', '2393', '2394', '2395', '2397', '2398', '2399', '2400', '2401', '2402', '2403', '2404', '2405', '2406', '2409', '2412', '2418', '2419', '2420', '2421', '2422', '2424', '2425', '2426', '2427', '2428', '2432', '2433', '2438', '2439', '2441', '2442', '2443', '2444', '2445', '2446', '2447', '2448', '2449', '2454', '2455', '2456', '2457', '2458', '2459', '2460', '2461', '2462', '2463', '2464', '2465', '2466', '2467', '2468', '2469', '2470', '2471', '2472', '2473', '2475', '2476', '2477', '2479', '2481', '2483', '2484', '2485', '2486', '2487', '2488', '2489', '2490', '2491', '2492', '2493', '2494', '2495', '2496', '2497', '2499', '2500', '2501', '2502', '2503', '2504', '2505', '2506', '2507', '2508', '2509', '2510', '2512', '2513', '2514', '2515', '2518', '2519', '2520', '2521', '2522', '2523', '2524', '2525', '2527', '2528', '2529', '2530', '2531', '2532', '2533', '2534', '2535', '2536', '2538', '2539', '2542', '2544', '2545', '2546', '2547', '2548', '2549', '2553', '2554', '2555', '2556', '2557', '2558', '2559', '2560', '2561', '2562', '2564', '2565', '2566', '2567', '2571', '2572', '2573', '2574', '2575', '2576', '2604', '2741', '2742', '2744', '2745', '2751', '2752', '2753', '2754', '2755', '2756', '2762', '2763', '2774', '2777', '2781', '2793', '2796', '2799', '2801', '2802', '2803', '2804', '2805', '2806', '2807', '2833', '2834', '2835', '2836', '2837', '2838', '2839', '2840', '2841', '2842', '2846', '2847', '2848', '2849', '285', '2850', '2851', '2852', '2856', '2857', '2858', '2859', '2860', '2861', '2862', '2863', '2884', '2885', '2886', '2887', '2888', '2889', '2890', '2891', '2892', '2893', '2894', '2895', '2896', '2897', '2898', '2899', '2900', '2901', '295', '296', '297', '298', '3047', '3048', '3049', '3050', '3051', '3052', '3053', '3054', '3055', '3056', '3057', '3058', '3059', '3064', '3065', '3066', '3067', '3068', '3069', '3070', '3074', '3075', '3076', '3077', '3079', '3080', '3084', '3089', '3090', '3091', '3092', '3094', '3095', '3096', '3097', '3098', '3102', '3103', '3104', '3105', '3106', '3107', '3108', '3109', '3110', '3111', '3112', '3113', '3114', '3115', '3116', '3117', '3118', '3119', '3120', '3121', '3122', '3123', '3146', '3155', '3158', '3159', '3182', '3346', '3377', '3378', '3379', '3391', '3475', '3499', '3534', '3535', '3549', '3577', '3579', '36 x 49 1/2 x 22 in. (91.4 x 125.7 x 55.9 cm)', '3640', '3679', '3684', '3686', '3760', '3763', '3764', '3858', '3859', '4076', '4284', '4287', '4289', '4292', '4309', '4310', '438', '4443', '4445', '4448', '4464', '4498', '4499', '4519', '4520', '4523', '4524', '4527', '4528', '4641', '4651', '4678', '4686', '4687', '4688', '4690', '4692', '4693', '4694', '4695', '4697', '4702', '4713', '4714', '4715', '4732', '4737', '4741', '4744', '4751', '4759', '4776', '4781', '4782', '4800', '4803', '4804', '4805', '4832', '4937', '5229', '5294', '5396', '540', '541', '5412', '5453', '5469', '547', '5470', '5474', '5541', '5542', '5543', '5544', '5545', '5575', '5583', '5584', '5585', '5587', '5588', '5589', '5591', '5592', '5593', '5600', '5615', '5618', '5624', '5627', '5631', '5633', '5634', '5635', '5638', '5646', '5647', '589', '591', '602', '631', '6488', '6489', '6490', '6491', '6492', '6493', '6494', '6495', '654', '655', '656', '657', '658', '659', '6594', '6597', '6598', '6774', '6775', '6778', '6782', '6801', '6818', '6819', '6821', '6828', '6829', '6830', '6831', '6832', '6833', '6910', '6945', '6946', '6947', '6948', '6949', '6950', '7069', '7070', '7330', '7335', '7337', '7339', '7340', '7342', '7354', '7355', '7406', '7412', '7413', '7563', '7591', '7592', '7701', '7702', '7703', '7745', '7749', '777', '7862', '7879', '7889', '7890', '7909', '7930', '7939', '7940', '7941', '7942', '7943', '7945', '7946', '7947', '7948', '7949', '7951', '7952', '7953', '7954', '7955', '7956', '7957', '7958', '7961', '7962', '7965', '7966', '7969', '7971', '7972', '7973', '7974', '7975', '7976', '7979', '7980', '7982', '7985', '7986', '7989', '7990', '7991', '7992', '7993', '7994', '7995', '8001', '8002', '8003', '8023', '8024', '8170', '8201', '8251', '8259', '8260', '8261', '8262', '8263', '8264', '8265', '8266', '8297', '8298', '8299', '8300', '8301', '8302', '8303', '8304', '8305', '8306', '8307', '8308', '8309', '8310', '8311', '8312', '8313', '8314', '8315', '8316', '8317', '8318', '8319', '8320', '8321', '8322', '8326', '8327', '8329', '8330', '8331', '8332', '8337', '8338', '8339', '8340', '8342', '8343', '8344', '8345', '8346', '8347', '8348', '8349', '8350', '8351', '8352', '8353', '8354', '8355', '8357', '8358', '8361', '8362', '8369', '8378', '8400', '8401', '8408', '8409', '8410', '8411', '8422', '8425', '8429', '8432', '8671', '8681', '8815', '8816', '8817', '8818', '8819', '8820', '8821', '8822', '8823', '8824', '8825', '8826', '8827', '8828', '8829', '892', '8998', '8999', '9001', '915', '9160', '9162', '9171', '9174', '918', '9185', '9186', '9187', '9190', '9191', '924', '925', '926', '927', '928', '929', '930', '9304', '9306', '931', '932', '933', '939', '944', '948', '953', '954', '956', '9560', '9573', '9594', '960', '9659', '9660', '9661', '9662', '9664', '9670', '9671', '9672', '9724', '9749', '9794', '9982', 'Albany', 'Albany|Kingston', 'Alexandria', 'Annapolis', 'Baltimore', 'Barnstable', 'Barnstable|Bristol', 'Berlin', 'Boston', 'Boston|Newburyport', 'Boston|Philadelphia', 'Boston|Worcester', 'Brooklyn', 'Charleston', 'Charlestown', 'Cincinnati', 'Concord', 'East Cambridge', 'European Sculpture and Decorative Arts', 'Exeter|South Kingstown', 'False', 'Frankford', 'Gardner', 'Liverpool', 'London', 'Made in', 'Made in|Made in', 'Marblehead', 'Marshfield', 'Modern and Contemporary Art', 'Montreal', 'NA', 'New York', 'Newbury', 'Newburyport', 'Newport', 'Newport|Middletown', 'Newport|Providence', 'Paris', 'Philadelphia', 'Philadelphia|New York', 'Portsmouth', 'Possibly made in', 'Possibly made in|Possibly made in', 'Providence', 'Salem', 'Sandwich', 'Sheffield', 'South Kingstown', 'Southampton', 'Stoke-on-Trent', 'The American Wing', 'Trenton', 'Washington DC', 'White Mills', 'Wilmington', 'Worcester'])"
      ]
     },
     "execution_count": 124,
     "metadata": {},
     "output_type": "execute_result"
    }
   ],
   "source": [
    "# After looking at the column values it looks like the data is not good here for Department name\n",
    "metobj_dedup.groupby('Department').groups.keys()"
   ]
  },
  {
   "cell_type": "code",
   "execution_count": 21,
   "metadata": {},
   "outputs": [],
   "source": [
    "objects = metobj_dedup.groupby('Department')"
   ]
  },
  {
   "cell_type": "code",
   "execution_count": 22,
   "metadata": {},
   "outputs": [
    {
     "data": {
      "text/html": [
       "<div>\n",
       "<style scoped>\n",
       "    .dataframe tbody tr th:only-of-type {\n",
       "        vertical-align: middle;\n",
       "    }\n",
       "\n",
       "    .dataframe tbody tr th {\n",
       "        vertical-align: top;\n",
       "    }\n",
       "\n",
       "    .dataframe thead th {\n",
       "        text-align: right;\n",
       "    }\n",
       "</style>\n",
       "<table border=\"1\" class=\"dataframe\">\n",
       "  <thead>\n",
       "    <tr style=\"text-align: right;\">\n",
       "      <th></th>\n",
       "      <th>\"Object Number</th>\n",
       "      <th>Is Highlight</th>\n",
       "      <th>Is Public Domain</th>\n",
       "      <th>Object ID</th>\n",
       "      <th>Department</th>\n",
       "      <th>Object Name</th>\n",
       "      <th>Title</th>\n",
       "      <th>Culture</th>\n",
       "      <th>Period</th>\n",
       "      <th>Dynasty</th>\n",
       "      <th>...</th>\n",
       "      <th>Locale</th>\n",
       "      <th>Locus</th>\n",
       "      <th>Excavation</th>\n",
       "      <th>River</th>\n",
       "      <th>Classification</th>\n",
       "      <th>Rights and Reproduction</th>\n",
       "      <th>Link Resource</th>\n",
       "      <th>Metadata Date</th>\n",
       "      <th>Repository</th>\n",
       "      <th>Tags\"</th>\n",
       "    </tr>\n",
       "  </thead>\n",
       "  <tbody>\n",
       "    <tr>\n",
       "      <th>2192</th>\n",
       "      <td>\"\"\"60.111.168</td>\n",
       "      <td>.184\"\"</td>\n",
       "      <td>False</td>\n",
       "      <td>True</td>\n",
       "      <td>2110</td>\n",
       "      <td>The American Wing</td>\n",
       "      <td>Coffee cup and saucer</td>\n",
       "      <td>Coffee Cup and Saucer</td>\n",
       "      <td>\"\"Chinese</td>\n",
       "      <td>for American market\"\"</td>\n",
       "      <td>...</td>\n",
       "      <td>NA</td>\n",
       "      <td>NA</td>\n",
       "      <td>NA</td>\n",
       "      <td>NA</td>\n",
       "      <td>NA</td>\n",
       "      <td>NA</td>\n",
       "      <td>NA</td>\n",
       "      <td>NA</td>\n",
       "      <td>NA</td>\n",
       "      <td>NA</td>\n",
       "    </tr>\n",
       "  </tbody>\n",
       "</table>\n",
       "<p>1 rows × 44 columns</p>\n",
       "</div>"
      ],
      "text/plain": [
       "     \"Object Number Is Highlight Is Public Domain Object ID Department  \\\n",
       "2192  \"\"\"60.111.168       .184\"\"            False      True       2110   \n",
       "\n",
       "            Object Name                  Title                Culture  \\\n",
       "2192  The American Wing  Coffee cup and saucer  Coffee Cup and Saucer   \n",
       "\n",
       "         Period                 Dynasty  ... Locale Locus Excavation River  \\\n",
       "2192  \"\"Chinese   for American market\"\"  ...     NA    NA         NA    NA   \n",
       "\n",
       "     Classification Rights and Reproduction Link Resource Metadata Date  \\\n",
       "2192             NA                      NA            NA            NA   \n",
       "\n",
       "     Repository Tags\"  \n",
       "2192         NA    NA  \n",
       "\n",
       "[1 rows x 44 columns]"
      ]
     },
     "execution_count": 22,
     "metadata": {},
     "output_type": "execute_result"
    }
   ],
   "source": [
    "# Showing the row for one department\n",
    "objects.get_group(\"2110\")"
   ]
  },
  {
   "cell_type": "code",
   "execution_count": 128,
   "metadata": {},
   "outputs": [
    {
     "data": {
      "text/plain": [
       "dict_keys(['', ' 1818Ð1888\"\"', ' 1837Ð1958\"\"', ' 1844Ð1900\"\"', ' A. and H.\"\"', ' Agnes F.\"\"', ' Albert Pinkham\"\"', ' Alexander Stirling\"\"', ' Alfred Cornelius\"\"', ' Alvan\"\"', ' Ambrose\"\"', ' Andrea\"\"', ' Andrew\"\"', ' Anna\"\"', ' Anne\"\"', ' Asher Brown\"\"', ' Augustin|Tassie', ' Ball and Poor\"\"', ' Benjamin Henry\"\"', ' Benjamin\"\"', ' Boston', ' Bryson\"\"', ' Cann & Dunn\"\"', ' Cecilia\"\"', ' Charles', ' Charles Caryl\"\"', ' Charles H\"\"', ' Charles Henry\"\"', ' Charles W.\"\"', ' Charles Willson\"\"', ' Charles\"\"', ' Charles|Volkmar Ceramic Company\"\"', ' Chester (Charles)\"\"', ' Childe\"\"', ' Christian\"\"', ' Christian|Alexander', ' Colin Cambell\"\"', ' D.\"\"', ' Daniel Chester\"\"', ' Daniel|Inman', ' Dard|Roycroft \"\"', ' David Claypoole\"\"', ' David\"\"', ' Deming|Boston and Sandwich Glass Company \"\"', ' Dewitt\"\"', ' E. & W.', ' Eastman\"\"', ' Edith Woodman\"\"', ' Edward Augustus\"\"', ' Edward\"\"', ' Eli\"\"', ' Elizabeth\"\"', ' Emil\"\"', ' Emile|Peale', ' Emile|Savage', ' Emile|Stuart', ' Erastus Dow\"\"', ' Ester\"\"', ' Evelyn Beatrice\"\"', ' Ezra\"\"', ' F. Luis\"\"', ' Ferdinand A..\"\"', ' Ferdinand\"\"', ' Francis William\"\"', ' Frank Lloyd\"\"', ' Frank Lloyd|Bauscher Brothers Porcelain Factory \"\"', ' Frank Lloyd|Luxfer Prism Company \"\"', ' Frank Lloyd|Matsu-Zukaya Company \"\"', ' Frank Lloyd|Minic', ' Frank W.\"\"', ' Frank\"\"', ' Frederick Clarke\"\"', ' Frederick Stiles\"\"', ' Frederick Warren\"\"', ' Frederick|Mount Washington Glass Company \"\"', ' Gari\"\"', ' George \"\"', ' George Caleb\"\"', ' George Cochran\"\"', ' George E.|Biloxi Art Pottery \"\"', ' George Edwin\"\"', ' George H.\"\"', ' George Henry\"\"', ' George Washington\"\"', ' George Washington|Gorham Manufacturing Company\"\"', ' George de Forest\"\"', ' George\"\"', ' Gilbert\"\"', ' Gousse|American China Manufactory\"\"', ' Gustav\"\"', ' Gustav|Tobey Furniture Company\"\"', ' Henry Kirke\"\"', ' Henry\"\"', ' Henry|New England Glass Company \"\"', ' Hermon Atkins\"\"', ' Homer Dodge\"\"', ' Horatio\"\"', ' Howard Russel\"\"', ' Hugh\"\"', ' II Francis\"\"', ' II\"\"', ' Illinois\"\"', ' Isaac|Ott and Brewer \"\"', ' J. and J. G.\"\"', ' J. and J. G.|Osborne', ' Jacob\"\"', ' James Barton\"\"', ' James H.|Rosenberg', ' James Henry\"\"', ' James Horton|Tiffany & Co.|Soligny', ' James and Ralph\"\"', ' James\"\"', ' James|Caffi\\x8eri', ' James|Dupr\\x8e', ' Jane\"\"', ' Jasper Francis\"\"', ' Jerome\"\"', ' Jervis\"\"', ' Johann Mathias\"\"', ' John C. manufacturing silver\"\"', ' John Frederick\"\"', ' John Singleton\"\"', ' John William\"\"', ' John\"\"', ' John|Burt', ' Joseph & Sons\"\"', ' Joseph\"\"', ' Joseph|New England Glass Company \"\"', ' Jr.\"\"', ' Lilian Westcott\"\"', ' Louis Comfort\"\"', ' Louis Comfort|Colman', ' Louis Comfort|Dikeman', ' Louis Comfort|Tiffany Glass and Decorating Company\"\"', ' Louis Comfort|Tiffany Glass and Decorating Company|Stourbridge Glass Company\"\"', ' Louis Comfort|Tiffany Studios \"\"', ' Louis McClellan\"\"', ' Louise\"\"', ' Maria Longworth|Rookwood Pottery Company\"\"', ' Mary\"\"', ' Maryland 1749Ð1831 Philadelphia', ' Massachusetts', ' Massachusetts\"\"', ' Maurice Brazil\"\"', ' Maurice Valentin\"\"', ' Maxfield\"\"', ' Moritz\"\"', ' NY\"\"', ' New York', ' New York 1835Ð1910 Providence', ' New York\"\"', ' Nicholas\"\"', ' Olga|Rosenthal\"\"', ' Page & Bakewells\"\"', ' Paul', ' Pennsylvania\"\"', ' Peter\"\"', ' Pottery\"\"', ' Ralph\"\"', ' Raymond\"\"', ' Rembrandt\"\"', ' Rhode Island\"\"', ' Richard Edwin\"\"', ' Robert Frederick\"\"', ' Robert Loftin|Stuart', ' Robert\"\"', ' Samuel Aloysius\"\"', ' Samuel\"\"', ' Seth|Longacre', ' Solon Hannibal\"\"', ' Sr. William|New England Glass Company \"\"', ' T.\"\"', ' Taylor', ' Theodore B.\"\"', ' Thomas Seir\"\"', ' Thomas\"\"', ' Tompkins Harrison\"\"', ' Tompkins and Black |Charters', ' Violet\"\"', ' Wallace\"\"', ' Walter Launt\"\"', ' Walter\"\"', ' Washington\"\"', ' William Henry\"\"', ' William James\"\"', ' William John\"\"', ' William Langson\"\"', ' William McGregor\"\"', ' William Morris\"\"', ' William Rickarby\"\"', ' William Russell\"\"', ' William Sergeant\"\"', ' William Sidney\"\"', ' William Stanley\"\"', ' William Trost\"\"', ' William\"\"', ' William|Ball', ' Winslow\"\"', ' and Knowles \"\"', ' born Austria\"\"', ' born Denmark\"\"', ' born England\"\"', ' born France\"\"', ' born Ireland\"\"', ' born Italy\"\"', ' born Lithuania\"\"', ' born Mexico\"\"', ' born Uruguay\"\"', ' de Limoelan de Cloriviere Joseph-Pierre\"\"', ' the Elder\"\"', '\"', '\"\"Abbey', '\"\"American', '\"\"Ames', '\"\"Babcock', '\"\"Ball', '\"\"Bell', '\"\"British', '\"\"Brown', '\"\"Cheney', '\"\"Colman', '\"\"Copley', '\"\"Cropsey', '\"\"Cummings', '\"\"Davies', '\"\"Doyle', '\"\"Durand', '\"\"Fenn', '\"\"Gardiner', '\"\"Hart', '\"\"Hassam', '\"\"Hill', '\"\"Homer', '\"\"Hunt', '\"\"Hurd', '\"\"Ingham', '\"\"Inman', '\"\"Inness', '\"\"Johnson', '\"\"Kensett', '\"\"King', '\"\"La Farge', '\"\"Lapham', '\"\"Leighton', '\"\"Livingston', '\"\"Lloyde', '\"\"Lycett', '\"\"MacNeil', '\"\"Martin', '\"\"Mayer', '\"\"McEntee', '\"\"Metropolitan Museum of Art', '\"\"Miller', '\"\"Mount', '\"\"Myers', '\"\"Nemmers', '\"\"Noritake |Wright', '\"\"Palmer', '\"\"Peale', '\"\"Prendergast', '\"\"Probably late 19th century', '\"\"Revere', '\"\"Roosevelt', '\"\"Schneider', '\"\"Seymour', '\"\"Sinclaire H. P.|Starr', '\"\"Sullivan', '\"\"Vaupel', '\"\"Wiltberger', '\"\"Winslow Brothers Company|Jenney', '\"\"Winslow Brothers Company|Mundie', '\"\"Wright', '\"\"Zimmermann', '\"\"before 1924', '-0070     ', '1600Ð1700', '1600Ð1800', '1607      ', '1611      |1638      ', '1624      |1605      ', '1630Ð1700', '1630Ð70', '1640Ð80', '1640Ð90', '1645      ', '1647      ', '1650Ð1700', '1650Ð80', '1650Ð90', '1657      ', '1660Ð1700', '1660Ð80', '1660Ð90', '1665Ð90', '1669      ', '1670Ð1700', '1670Ð1710', '1670Ð1730', '1670Ð1870', '1671      |1671      ', '1674      ', '1675Ð1700', '1678      ', '1679', '1680Ð1700', '1680Ð1710', '1680Ð1720', '1680Ð1730', '1680Ð85', '1681      ', '1682      ', '1684      ', '1685      ', '1685      |1655      ', '1685Ð1700', '1689      ', '1690      ', '1690      |1718      ', '1690Ð1700', '1690Ð1710', '1690Ð1720', '1690Ð1730', '1691      ', '1692      ', '1693      |1721      ', '1694      ', '1695Ð1700', '1695Ð1715', '1699      ', '1700Ð1710', '1700Ð1720', '1700Ð1725', '1700Ð1730', '1700Ð1735', '1700Ð1740', '1700Ð1750', '1700Ð1800', '1700Ð1900', '1700Ð20', '1700Ðca. 1830', '1702      ', '1703', '1703      ', '1704', '1704      ', '1705', '1705      ', '1705Ð15', '1705Ð25', '1708      ', '1710Ð1735', '1710Ð20', '1710Ð25', '1710Ð30', '1710Ð40', '1710Ð50', '1711      |1728      ', '1712      ', '1714      ', '1715      ', '1715Ð25', '1715Ð30', '1715Ð35', '1715Ð40', '1716      ', '1717      ', '1718      ', '1719      ', '1720      ', '1720Ð30', '1720Ð35', '1720Ð40', '1720Ð49', '1720Ð50', '1722      ', '1723      ', '1723Ð45', '1724      ', '1724      |1744      ', '1725      ', '1725Ð1850', '1725Ð40', '1725Ð45', '1725Ð50', '1725Ð60', '1725Ð75', '1725Ð90', '1726      ', '1727Ð39', '1728      ', '1729      ', '1730      ', '1730Ð1800', '1730Ð40', '1730Ð50', '1730Ð60', '1730Ð70', '1730Ð75', '1730Ð80', '1730Ð90', '1731      |1736      ', '1732      ', '1732      |1733      ', '1733', '1734      ', '1734      |1723      ', '1735', '1735Ð1755', '1735Ð40', '1735Ð45', '1735Ð50', '1735Ð60', '1735Ð96', '1736      ', '1736Ð95', '1737      ', '1737      |1755      ', '1738      |1730      ', '1738      |1762      ', '1738Ðca. 1777', '1739      ', '1739Ð80', '1740      ', '1740      |1736      ', '1740Ð1800', '1740Ð50', '1740Ð60', '1740Ð70', '1740Ð80', '1740Ð90', '1741      ', '1742      ', '1743      ', '1744      ', '1745      ', '1745Ð50', '1745Ð58', '1745Ð60', '1745Ð65', '1745Ð75', '1745Ð80', '1746      ', '1746      |1774      ', '1746      |1786      ', '1747', '1747      ', '1747      |1775      ', '1748      ', '1749      ', '1750      ', '1750Ð1800', '1750Ð1800 (?)', '1750Ð1850', '1750Ð55', '1750Ð60', '1750Ð65', '1750Ð70', '1750Ð75', '1750Ð80', '1750Ð90', '1751      ', '1751      |1729      ', '1751      |1768      |1788      ', '1752      ', '1752      |1754      ', '1752Ð96', '1753      ', '1753      |1743      ', '1754      ', '1755      ', '1755      |1775      ', '1755Ð65', '1755Ð75', '1755Ð90', '1756      ', '1756      |1780      ', '1757', '1757      ', '1757      |1783      ', '1758      ', '1758      |1808      ', '1759', '1759      ', '1760', '1760      ', '1760Ð1800', '1760Ð1883', '1760Ð65', '1760Ð70', '1760Ð75', '1760Ð80', '1760Ð85', '1760Ð90', '1761', '1761      ', '1762', '1762      ', '1762Ð63', '1762Ð65', '1762Ð90', '1763      ', '1763Ð74', '1763Ð79', '1764      ', '1764      |1765      ', '1765', '1765      ', '1765Ð69', '1765Ð70', '1765Ð75', '1765Ð85', '1765Ð90', '1766      ', '1766      |1783      ', '1766Ð80', '1767', '1767      ', '1767      |1773      ', '1767Ð76', '1768      ', '1769', '1769      ', '1769Ð75', '1770      ', '1770      |1763      ', '1770      |1804      ', '1770Ð1800', '1770Ð1800 (?)', '1770Ð1810', '1770Ð1820', '1770Ð1830', '1770Ð1880', '1770Ð1900', '1770Ð75', '1770Ð80', '1770Ð90', '1771      ', '1772      ', '1773      ', '1774      ', '1774      |1746      ', '1775      ', '1775      |1747      ', '1775Ð1800', '1775Ð1810', '1775Ð1820', '1775Ð1825', '1775Ð1883', '1775Ð90', '1775Ðca. 1800', '1776      ', '1776Ð1800', '1776Ð1810', '1776Ð1830', '1776Ð1883', '1776Ð30', '1776Ð83', '1776Ð96', '1777      ', '1778', '1778      ', '1778      |1771      ', '1778Ð88', '1779', '1779      ', '1780      ', '1780      |9999      ', '1780Ð1800', '1780Ð1810', '1780Ð1820', '1780Ð1825', '1780Ð90', '1781      ', '1781Ð83', '1782      ', '1783', '1783      ', '1783      |1766      ', '1783      |1780      ', '1783      |1784      ', '1783 or ca. 1810', '1784', '1784      ', '1784      |1783      ', '1784      |1784      ', '1784      |1787      ', '1784Ð1810', '1785', '1785      ', '1785Ð1800', '1785Ð1805', '1785Ð1810', '1785Ð1820', '1785Ð1825', '1785Ð1835', '1785Ð90', '1785Ð95', '1786', '1787      ', '1787      |1784      ', '1787Ð1810', '1788      ', '1789      ', '1789 (?)', '1789Ð1800', '1790', '1790      ', '1790      |1743      ', '1790Ð1800', '1790Ð1805', '1790Ð1810', '1790Ð1815', '1790Ð1820', '1790Ð1825', '1790Ð1830', '1790Ð95', '1791', '1791      ', '1791      |1771      ', '1791      |1795      ', '1792', '1792      ', '1792Ð1800', '1792Ð1819', '1793', '1793      ', '1793      |1764      ', '1793      |1773      ', '1794', '1794      ', '1795', '1795      ', '1795      |1791      ', '1795Ð1800', '1795Ð1805', '1795Ð1810', '1795Ð1815', '1796      ', '1796      |1797      ', '1797', '1797      ', '1797      |1796      ', '1797      |1797      ', '1798      ', '1799', '1799      ', '1800', '1800      ', '1800Ð1805', '1800Ð1810', '1800Ð1815', '1800Ð1820', '1800Ð1825', '1800Ð1830', '1800Ð1850', '1800Ð1860', '1800Ð1870', '1800Ð1883', '1800Ð1892', '1800Ð1900', '1800Ð1900 (?)', '1800Ð30', '1800Ð80', '1800Ð83', '1801      ', '1802      ', '1802      |1806      ', '1803      ', '1804      ', '1804      |1811      ', '1805', '1805      ', '1805Ð10', '1805Ð15', '1805Ð7', '1806', '1806      ', '1807', '1807      ', '1807      |9999      ', '1808', '1808      ', '1808      |1809      ', '1808 or 1838', '1809', '1809      ', '1809      |1808      ', '1810', '1810      ', '1810Ð15', '1810Ð20', '1810Ð25', '1810Ð30', '1811      ', '1812      ', '1812      |1793      ', '1812      |1812      ', '1812Ð20', '1813      ', '1813Ð16', '1813Ð30', '1814', '1814      ', '1814Ð28', '1815      ', '1815Ð20', '1815Ð22', '1815Ð25', '1815Ð30', '1815Ð35', '1815Ð40', '1815Ð41', '1815Ð45', '1815Ð50', '1816      ', '1817', '1817      ', '1818      ', '1819', '1819      ', '1819      |9999      ', '1820      ', '1820      |1863      ', '1820Ð25', '1820Ð30', '1820Ð40', '1820Ð45', '1820Ð50', '1820Ð70', '1821      ', '1821Ð36', '1822      ', '1822      |1721      ', '1822      |1819      ', '1822Ð38', '1823      ', '1824      ', '1824Ð36', '1824Ð38', '1824Ð40', '1825      ', '1825Ð1900', '1825Ð27', '1825Ð30', '1825Ð35', '1825Ð40', '1825Ð45', '1825Ð50', '1825Ð60', '1825Ð75', '1826      ', '1826Ð38', '1827      ', '1827      |1820      ', '1828', '1828      ', '1828Ð35', '1828Ð38', '1828Ð68', '1829      ', '1829Ð40', '1830      ', '1830Ð1900', '1830Ð35', '1830Ð38', '1830Ð40', '1830Ð45', '1830Ð45 (?)', '1830Ð50', '1830Ð55', '1830Ð60', '1830Ð65', '1830Ð70', '1830Ð80', '1831      ', '1831      |1831      ', '1831Ð35', '1832      ', '1832Ð38', '1832Ð40', '1832Ð60', '1833      ', '1833      |1838      ', '1833Ð38', '1834', '1834      ', '1834 (?)', '1834Ð83', '1835', '1835      ', '1835Ð40', '1835Ð45', '1835Ð50', '1835Ð55', '1835Ð60', '1835Ð65', '1835Ð70', '1836      ', '1836Ð40', '1837      ', '1837      |1848      ', '1837      |1859      ', '1837Ð40', '1838      ', '1838      |1829      ', '1838      |1833      ', '1838      |1852      ', '1839      ', '1839Ð50', '1840      ', '1840Ð45', '1840Ð50', '1840Ð52', '1840Ð55', '1840Ð60', '1840Ð65', '1840Ð70', '1841', '1841      ', '1842      ', '1842Ð45', '1843      ', '1843Ð49', '1843Ð55', '1844      ', '1844Ð57', '1845      ', '1845Ð47', '1845Ð55', '1845Ð60', '1845Ð70', '1846', '1846      ', '1846      |1862      ', '1847', '1847      ', '1847Ð48', '1847Ð50', '1847Ð53', '1847Ð55', '1848', '1848      ', '1848      |1837      ', '1848      |1902      ', '1848Ð56', '1848Ð57', '1849', '1849      ', '1849Ð54', '1849Ð56', '1849Ð58', '1850', '1850      ', '1850Ð1900', '1850Ð53', '1850Ð58', '1850Ð60', '1850Ð70', '1850Ð75', '1851      ', '1851Ð56', '1852      ', '1852Ð58', '1853      ', '1853Ð58', '1854      ', '1854Ð57', '1855      ', '1855Ð60', '1855Ð73', '1855Ð75', '1856      ', '1856      |9999      ', '1856Ð65', '1857', '1857      ', '1857Ð90', '1858      ', '1858Ð67', '1859', '1859      ', '1860      ', '1860Ð1900', '1860Ð70', '1860Ð80', '1861', '1861      ', '1862', '1862      ', '1862Ð63', '1863', '1863      ', '1863      |1820      ', '1863      |1869      ', '1863Ð70', '1864', '1864      ', '1864 (?)', '1865', '1865      ', '1865Ð1921', '1865Ð70', '1865Ð75', '1865Ð80', '1866      ', '1867', '1867      ', '1867Ð69', '1868', '1868      ', '1868Ð70', '1868Ð75', '1869', '1869      ', '1869      |1870      |1894      ', '1869Ð1900', '1870', '1870      ', '1870      |1910      ', '1870Ð1900', '1870Ð1900 (?)', '1870Ð1930', '1870Ð75', '1870Ð80', '1870Ð85', '1870Ð90', '1871      ', '1872      ', '1873      ', '1874      ', '1875      ', '1875Ð1900', '1875Ð79', '1875Ð80', '1875Ð85', '1875Ð90', '1876', '1876      ', '1876Ð1880', '1876Ð80', '1877', '1877      ', '1877Ð80', '1877Ð97', '1878', '1878      ', '1878Ð1900', '1878Ð84', '1878Ð90', '1879', '1879      ', '1879Ð80', '1880      ', '1880Ð90', '1880Ð95', '1881', '1881      ', '1882      ', '1882Ð85', '1883', '1883      ', '1883      |1864      ', '1883Ð87', '1883Ð91', '1884      ', '1884Ð86', '1885', '1885      ', '1885Ð1900', '1885Ð86', '1885Ð87', '1885Ð90', '1885Ðca. 1895', '1886', '1886      ', '1887', '1887      ', '1887      |1880      ', '1888      ', '1889      ', '1889Ð95', '1890', '1890      ', '1890      |1922      ', '1890Ð1900', '1890Ð1905', '1890Ð1910', '1890Ð1915', '1891      ', '1891Ð92', '1891Ð94', '1891Ð95', '1892      ', '1892Ð1903', '1893      ', '1893Ð94', '1894      ', '1894Ð1911', '1895      ', '1895Ð1910', '1896      ', '1897      ', '1898      ', '1898      |1880      ', '1899      ', '1899      |9999      ', '18th century', '18th or 19th century', '18th or early 19th century', '18thÐ19th century', '1900', '1900      ', '1900Ð1907', '1900Ð1910', '1900Ð1925', '1900Ð1926', '1900Ð1930', '1900Ð1940', '1900Ð1950', '1900Ð1957', '1901', '1901      ', '1901Ð15', '1902      ', '1902      |1848      ', '1902      |1932      ', '1902Ð18', '1903      ', '1904      ', '1904Ð5', '1905      ', '1905Ð15', '1906', '1906      ', '1907      ', '1908      ', '1908      |1889      ', '1909Ð27', '1910      ', '1911      ', '1911      |1910      ', '1912      ', '1913      ', '1913      |2002      ', '1914      ', '1915      ', '1916      ', '1917      ', '1918      ', '1919      ', '1920      ', '1921      ', '1922      ', '1922      |1890      ', '1923      ', '1923      |1948      ', '1924      ', '1925      ', '1926      ', '1927      ', '1927      |1935      ', '1927      |9999      ', '1928      ', '1929      ', '1930      ', '1930      |1927      |1927      ', '1931      ', '1931      |1907      ', '1932      ', '1933      ', '1935      ', '1936      ', '1938      ', '1939      ', '1940      |1970      ', '1941      ', '1942      ', '1944      ', '1945      ', '1946      ', '1948      ', '1949      ', '1951      ', '1953      ', '1954      |1938      ', '1955      ', '1957      ', '1960      ', '1961      |1961      ', '1962      ', '1966      ', '1966      |1940      ', '1980      ', '19th century', '19th century (?)', '19thÐ20th century', '2002      ', '2019-02-01T10:50:49.477Z', '2019-07-31T03:00:40.447Z', '2019-10-10T14:54:23.72Z', '2050      ', '20th century', '20th century (?)', '9999      ', '9999      |1820      |1827      ', '9999      |1839      ', '9999      |1868      ', '9999      |1871      ', '9999      |1873      ', '9999      |1891      ', '9999      |1927      ', '9999      |1930      ', '9999      |2002      ', '9999      |9999      ', 'American', 'American ', 'American Civil War|Soldiers|Prisoners|Men\"', 'American born Britain', 'American|American', 'Animals|Garlands|Birds|Men\"', 'Animals|Men\"', 'Birds\"', 'Birds|Flowers\"', 'Birds|Human Figures\"', 'Books|Girls\"', 'Boston and Sandwich Glass Company ', 'Boys|Girls|Men|Women|Portraits\"', 'British', 'Children|Men|Women|Family\"', 'Coat of Arms\"', 'Coat of Arms|Flowers\"', 'Coat of Arms|Ships\"', 'Cooking Containers\"', 'Cooking Equipment\"', 'Dorflinger and Sons Christian', 'Dragons|Human Figures\"', 'Dutch', 'Eagles\"', 'Eagles|Flowers|Documents\"', 'Eagles|Grapes|Men\"', 'First half of the 19th century', 'Flowers\"', 'Flowers|Coat of Arms\"', 'French', 'Fruit\"', 'George Washington|Portraits\"', 'German', 'German American', 'Girls|Men|Women\"', 'Grapes\"', 'Grapes|Putti\"', 'Griffins|Serpents\"', 'H. 29 1/2 in. (74.9 cm)', 'Horse Riding\"', 'Hungarian', 'Interiors|Contemplation|Men\"', 'Italian', 'Lakes|Hills|Trees\"', 'Lakes|Mountains|Evening\"', 'Lakes|Mountains|Trees|Snow\"', 'Landscapes\"', 'Landscapes|Autumn\"', 'Men|Dogs|Landscapes\"', 'Men|Farmers\"', 'Men|Flowers\"', 'Men|Hunting|Dogs\"', 'Men|Portraits\"', 'Men|Women\"', 'Men|Women|Angels\"', 'Men|Women|Dice|Gambling\"', 'Men|Women|Dogs\"', 'Men|Women|Horses|Trees|Carriages\"', 'Men|Women|Tea Drinking\"', 'Men|Women|Waterfalls|Landscapes|Trees\"', 'NA', 'New England Glass Company ', 'New England Glass Company |South Boston Flint Glass Works ', 'Norwegian', 'Ott and Brewer ', 'Portraits|Women\"', 'Rivers|Mountains|Landscapes|Trees\"', 'Rivers|Waterfalls|Forests|Mountains|Landscapes\"', 'Scottish', 'Scottish|American', 'Seas|Landscapes|Trees|Rainbows|Human Figures\"', 'Spaulding and Company |Gorham Manufacturing Company', 'Tulips\"', 'United States', 'Waterfalls|Mountains|Trees\"', 'Women\"', 'after 1864', 'after 1883', 'after 1884', 'after 1885', 'after 1886', 'after 1900', 'before 1830', 'ca. 1650', 'ca. 1675', 'ca. 1680', 'ca. 1680Ð1700', 'ca. 1688', 'ca. 1691', 'ca. 1699', 'ca. 1700', 'ca. 1700Ð1750', 'ca. 1710Ð40', 'ca. 1720', 'ca. 1725', 'ca. 1725Ð90', 'ca. 1730Ð1755', 'ca. 1730Ð60', 'ca. 1730Ð75', 'ca. 1735', 'ca. 1740', 'ca. 1745', 'ca. 1747', 'ca. 1750', 'ca. 1750Ð1800', 'ca. 1751', 'ca. 1755', 'ca. 1755Ð75', 'ca. 1758', 'ca. 1760', 'ca. 1760Ð90', 'ca. 1761', 'ca. 1765', 'ca. 1765Ð70', 'ca. 1768', 'ca. 1770', 'ca. 1770Ð1800', 'ca. 1773', 'ca. 1775', 'ca. 1775Ð1800', 'ca. 1780', 'ca. 1780Ð1825', 'ca. 1780Ð90', 'ca. 1784', 'ca. 1785', 'ca. 1785Ð1815', 'ca. 1785Ð90', 'ca. 1786', 'ca. 1787', 'ca. 1789', 'ca. 1790', 'ca. 1791', 'ca. 1794', 'ca. 1795', 'ca. 1795Ð1805', 'ca. 1799', 'ca. 1800', 'ca. 1800Ð1810', 'ca. 1800Ð1814', 'ca. 1800Ð1819', 'ca. 1800Ð1825', 'ca. 1800Ð1830', 'ca. 1800Ð1840', 'ca. 1800Ð20', 'ca. 1804Ðca. 1835', 'ca. 1805', 'ca. 1805Ð10', 'ca. 1805Ð11', 'ca. 1805Ðca. 1825', 'ca. 1810', 'ca. 1810 (?)', 'ca. 1810Ð55', 'ca. 1811', 'ca. 1813Ð30', 'ca. 1813Ðca. 1815', 'ca. 1815', 'ca. 1815Ðca. 1835', 'ca. 1815Ðca. 1842', 'ca. 1816Ð23', 'ca. 1816Ðca. 1825', 'ca. 1816Ðca. 1830', 'ca. 1820', 'ca. 1820Ð50', 'ca. 1820Ð60', 'ca. 1820Ðca. 1860', 'ca. 1821Ð40', 'ca. 1823', 'ca. 1824', 'ca. 1824Ð40', 'ca. 1825', 'ca. 1825Ð35', 'ca. 1825Ð50', 'ca. 1825Ðca. 1835', 'ca. 1827Ð35', 'ca. 1828Ð40', 'ca. 1828Ðca. 1830', 'ca. 1828Ðca. 1859', 'ca. 1830', 'ca. 1830Ð70', 'ca. 1830Ðca. 1835', 'ca. 1830Ðca. 1840', 'ca. 1830Ðca. 1870', 'ca. 1831', 'ca. 1831Ð35', 'ca. 1832', 'ca. 1833Ð46', 'ca. 1835', 'ca. 1835Ð59', 'ca. 1836', 'ca. 1836Ð50', 'ca. 1836Ðca. 1841', 'ca. 1837Ð40', 'ca. 1837Ð44', 'ca. 1837Ðca. 1840', 'ca. 1838', 'ca. 1840', 'ca. 1840Ð60', 'ca. 1840Ðca. 1854', 'ca. 1841', 'ca. 1845', 'ca. 1845Ðca. 1859', 'ca. 1846', 'ca. 1847Ð48', 'ca. 1848', 'ca. 1848Ð56', 'ca. 1849Ð58', 'ca. 1849Ð79', 'ca. 1850', 'ca. 1850Ð1900', 'ca. 1850Ð60', 'ca. 1850Ð75', 'ca. 1852', 'ca. 1853', 'ca. 1853Ð58', 'ca. 1854', 'ca. 1855', 'ca. 1858', 'ca. 1860', 'ca. 1860Ð70', 'ca. 1862', 'ca. 1865', 'ca. 1867', 'ca. 1870', 'ca. 1870Ð75', 'ca. 1872', 'ca. 1875', 'ca. 1875Ð76', 'ca. 1876', 'ca. 1877Ð97', 'ca. 1878', 'ca. 1879Ð90', 'ca. 1880', 'ca. 1880Ð85', 'ca. 1880Ð89', 'ca. 1882Ð85', 'ca. 1885', 'ca. 1887', 'ca. 1888', 'ca. 1890', 'ca. 1893', 'ca. 1894Ð10', 'ca. 1895', 'ca. 1899', 'ca. 1900', 'ca. 1900Ð1910', 'ca. 1900Ð1915', 'ca. 1901Ð22', 'ca. 1903', 'ca. 1905', 'ca. 1905Ð20', 'ca. 1909', 'ca. 1910', 'ca. 1910Ð20', 'ca. 1912Ð15', 'ca. 1915', 'ca. 1920s', 'ca. 1928Ð30', 'ca. 1930Ð60', 'ca. 1931Ð34', 'ca.1800', 'ca.1833', 'early 19th century', 'patented 1849', 'patented 1872'])"
      ]
     },
     "execution_count": 128,
     "metadata": {},
     "output_type": "execute_result"
    }
   ],
   "source": [
    "# List of object Date\n",
    "# As the dataset is not properly cleaned so not getting the dates.\n",
    "metobj_dedup.groupby('Object Date').groups.keys()"
   ]
  },
  {
   "cell_type": "code",
   "execution_count": 126,
   "metadata": {},
   "outputs": [
    {
     "data": {
      "text/plain": [
       "dict_keys(['', ' Allison V. Armour', ' Bequest of Edward W. C. Arnold', ' The Manney Collection Gift', ' The Sylmaris Collection', '\"\"John Stewart Kennedy Fund', '2019-07-31T03:00:40.447Z', 'Biloxi', 'Boston', 'Chicago', 'England', 'Frames', 'France', 'Glass', 'Haute-Vienne', 'Made in', 'Metal', 'Midwest ', 'Mississippi', 'NA', 'Natural Substances', 'New England ', 'New York', 'United States', 'United States|Germany', 'United States|United States'])"
      ]
     },
     "execution_count": 126,
     "metadata": {},
     "output_type": "execute_result"
    }
   ],
   "source": [
    "# List of object names\n",
    "metobj_dedup.groupby('Classification').groups.keys()"
   ]
  }
 ],
 "metadata": {
  "kernelspec": {
   "display_name": "Python 3",
   "language": "python",
   "name": "python3"
  },
  "language_info": {
   "codemirror_mode": {
    "name": "ipython",
    "version": 3
   },
   "file_extension": ".py",
   "mimetype": "text/x-python",
   "name": "python",
   "nbconvert_exporter": "python",
   "pygments_lexer": "ipython3",
   "version": "3.8.3"
  }
 },
 "nbformat": 4,
 "nbformat_minor": 4
}
