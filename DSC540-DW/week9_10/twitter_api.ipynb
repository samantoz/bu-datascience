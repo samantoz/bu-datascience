{
 "cells": [
  {
   "cell_type": "code",
   "execution_count": 2,
   "metadata": {},
   "outputs": [],
   "source": [
    "import twitter"
   ]
  },
  {
   "cell_type": "code",
   "execution_count": 42,
   "metadata": {},
   "outputs": [],
   "source": [
    "api = twitter.Api(consumer_key=\"BRvmAZBaZr5bWhFtfxUTk8qUN\",\n",
    "                  consumer_secret=\"vaVx88ZPbkBIlxZquvRJuNKEILTEeJTexevWYXpUviFg4t5M5w\",\n",
    "                  access_token_key=\"2788379963-rW0KyJM2yZAhGIr9XWnuAfPuu3oirOhnWmGlfuL\",\n",
    "                  access_token_secret=\"DaPlKr9zY8SYGi2MhTmgeF7KoC4jvJCtKjYXpdKd33yYV\")"
   ]
  },
  {
   "cell_type": "markdown",
   "metadata": {},
   "source": [
    "### The twitter api and keys are defined here. So not including this cell in the submission."
   ]
  },
  {
   "cell_type": "code",
   "execution_count": 43,
   "metadata": {},
   "outputs": [
    {
     "name": "stdout",
     "output_type": "stream",
     "text": [
      "{\"created_at\": \"Sun Sep 28 02:47:24 +0000 2014\", \"default_profile\": true, \"favourites_count\": 11, \"followers_count\": 25, \"friends_count\": 207, \"geo_enabled\": true, \"id\": 2788379963, \"id_str\": \"2788379963\", \"listed_count\": 2, \"location\": \"Omaha, NE\", \"name\": \"Arindam Samanta\", \"profile_background_color\": \"C0DEED\", \"profile_background_image_url\": \"http://abs.twimg.com/images/themes/theme1/bg.png\", \"profile_background_image_url_https\": \"https://abs.twimg.com/images/themes/theme1/bg.png\", \"profile_image_url\": \"http://pbs.twimg.com/profile_images/774992810692993024/uZlzySIa_normal.jpg\", \"profile_image_url_https\": \"https://pbs.twimg.com/profile_images/774992810692993024/uZlzySIa_normal.jpg\", \"profile_link_color\": \"1DA1F2\", \"profile_sidebar_border_color\": \"C0DEED\", \"profile_sidebar_fill_color\": \"DDEEF6\", \"profile_text_color\": \"333333\", \"profile_use_background_image\": true, \"screen_name\": \"samantoz\", \"status\": {\"created_at\": \"Thu Oct 08 02:37:59 +0000 2020\", \"id\": 1314032262917353473, \"id_str\": \"1314032262917353473\", \"lang\": \"en\", \"retweet_count\": 6899, \"retweeted\": true, \"retweeted_status\": {\"created_at\": \"Thu Oct 08 02:17:55 +0000 2020\", \"favorite_count\": 79495, \"id\": 1314027210802630657, \"id_str\": \"1314027210802630657\", \"lang\": \"en\", \"retweet_count\": 6899, \"retweeted\": true, \"source\": \"<a href=\\\"http://twitter.com/download/iphone\\\" rel=\\\"nofollow\\\">Twitter for iPhone</a>\", \"text\": \"There\\u2019s a fly on Pence\\u2019s head.\"}, \"source\": \"<a href=\\\"http://twitter.com/download/android\\\" rel=\\\"nofollow\\\">Twitter for Android</a>\", \"text\": \"RT @AndrewYang: There\\u2019s a fly on Pence\\u2019s head.\"}, \"statuses_count\": 206}\n"
     ]
    }
   ],
   "source": [
    "print(api.VerifyCredentials())"
   ]
  },
  {
   "cell_type": "code",
   "execution_count": 44,
   "metadata": {},
   "outputs": [
    {
     "name": "stdout",
     "output_type": "stream",
     "text": [
      "['RT @AndrewYang: There’s a fly on Pence’s head.', 'RT @Twitter: The only thing we want going viral is this Tweet\\n\\n#WearAMask', 'RT @LeadKidAcademy: ##Montessori https://t.co/XRZH0X6Uh0', 'RT @LeadKidAcademy: “The hand is the instrument of intelligence. The child needs to manipulate objects and to gain experience by touching a…', 'RT @LeadKidAcademy: 4-year-old gives a lesson on the water cycle #Montessori #MontessoriChild https://t.co/BHohGqUN5f', \"RT @timesofindia: #Namaste: This is how French President Emmanuel Macron and German Chancellor Angela Merkel greeted each other at former's…\", 'RT @SrBachchan: T 3590 -I have tested CoviD positive ..  shifted to Hospital  .. hospital informing  authorities .. family and staff underg…', 'RT @juniorbachchan: Earlier today both my father and I tested positive for COVID 19. Both of us having mild symptoms have been admitted to…', 'RT @SrBachchan: T 3576 - Father .. Son .. Grandson .. some years ago ! \\nAnd the folded hands are unplanned , they just happened ❤️ https://…', 'RT @SrBachchan: T 3560 - Aao kal Mirza ki haveli pe! 🏡\\n\\n1 Day To Go!\\n\\nCatch #GiboSiboOnPrime on June 12 for its World Premiere, @primevideo…', 'RT @SrBachchan: T 3555 - Yes .. !! Phir se https://t.co/xwniUnxvXN', \"RT @SrBachchan: T 3544 -43 YEARS .. !!! .. 'Amar Akbar Anthony' is estimated to have made Rs 7.25 crore in those days. Inflation-adjusted,…\", 'RT @MichelleObama: I’m thrilled to give you a sneak peek of BECOMING before it premieres on Netflix on May 6. This movie tells my story, fr…', 'RT @MichelleObama: In the film BECOMING, you will get to know an extraordinary young woman, Shayla, and her family. Their love and sacrific…', 'RT @MichelleObama: I’m excited to share that on May 6, @Netflix will release BECOMING, a documentary directed by Nadia Hallgren that shares…', \"RT @CRC_MathStats: Attention #RStats fans! In the run-up to @rstudio conference 2020, we're giving away a signed copy of @rafalab's Introdu…\", \"RT @CRC_MathStats: Don't miss your chance to enter our #RStatsGiveaway! We'll be picking a winner this Friday #RProgramming https://t.co/hl…\", 'RT @MNHS_Orch: Congrats 2019 MNHS National Merit Scholars!  Love seeing so many of our music students represented!  Coincidence?  We think…', \"RT @CRC_MathStats: Calling all #RStats enthusiasts! We're giving away a signed copy of #FeatureEngineering &amp; Selection by Max Kuhn &amp; Kjell…\", 'RT @SrBachchan: T 3532 - On the auspicious festive week our love and prayers to all ..\\nइस शुभ अवसर पे हमारी शुभकामनाएँ  🙏💕 https://t.co/DcH…']\n"
     ]
    }
   ],
   "source": [
    "#Download user timeline for my twitter handle\n",
    "statuses = api.GetUserTimeline(screen_name='samantoz')\n",
    "print([s.text for s in statuses])"
   ]
  },
  {
   "cell_type": "code",
   "execution_count": 45,
   "metadata": {},
   "outputs": [],
   "source": [
    "#down load followers and followed\n",
    "users = api.GetFriends()\n",
    "followers = api.GetFollowers()\n",
    "# search for a specific term across twitter\n",
    "bu_search = api.GetSearch(term='Bellevue University', since=2019-1-1, count=100)"
   ]
  },
  {
   "cell_type": "code",
   "execution_count": 57,
   "metadata": {},
   "outputs": [
    {
     "data": {
      "text/plain": [
       "User(ID=901599205474525184, ScreenName=Prosanta4967)"
      ]
     },
     "execution_count": 57,
     "metadata": {},
     "output_type": "execute_result"
    }
   ],
   "source": [
    "# Followers\n",
    "\n",
    "my_followers=[]\n",
    "for f in followers:\n",
    "    my_followers.append(f)"
   ]
  },
  {
   "cell_type": "code",
   "execution_count": 58,
   "metadata": {},
   "outputs": [
    {
     "data": {
      "text/plain": [
       "twitter.models.User"
      ]
     },
     "execution_count": 58,
     "metadata": {},
     "output_type": "execute_result"
    }
   ],
   "source": [
    "type(my_followers[0])"
   ]
  },
  {
   "cell_type": "code",
   "execution_count": 59,
   "metadata": {},
   "outputs": [
    {
     "data": {
      "text/plain": [
       "list"
      ]
     },
     "execution_count": 59,
     "metadata": {},
     "output_type": "execute_result"
    }
   ],
   "source": [
    "type(users)"
   ]
  },
  {
   "cell_type": "code",
   "execution_count": 60,
   "metadata": {},
   "outputs": [
    {
     "data": {
      "text/plain": [
       "list"
      ]
     },
     "execution_count": 60,
     "metadata": {},
     "output_type": "execute_result"
    }
   ],
   "source": [
    "type(followers)"
   ]
  },
  {
   "cell_type": "code",
   "execution_count": 94,
   "metadata": {},
   "outputs": [
    {
     "data": {
      "text/plain": [
       "['Prosanta Kumar Roy',\n",
       " 'Eleanor Smith',\n",
       " 'Bhaskar Sadhukhan',\n",
       " 'Travis Wright ⭕️ #blockchain #nft #bitcoin #crypto',\n",
       " 'Joydev Mondol',\n",
       " 'Apurba Chatterjee',\n",
       " 'Talk Crypto To Me',\n",
       " 'HODLER.fashion',\n",
       " 'Prosanta Roy',\n",
       " 'Nirbhik Sengupta',\n",
       " 'Monideepa Chakrabort',\n",
       " 'Hilda Quiñones',\n",
       " 'Triparna de Vreede',\n",
       " 'Anand Kiruba',\n",
       " 'Anil kumar Kandengat',\n",
       " 'msuds',\n",
       " 'Partha Basu',\n",
       " 'Ashok Sahoo',\n",
       " 'Shamik Banerjee',\n",
       " 'Rakesh Chetan',\n",
       " 'Indrani',\n",
       " 'Nilanjan MitraThakur',\n",
       " 'Kristel Washington',\n",
       " 'aletta',\n",
       " 'Sandip Nanda']"
      ]
     },
     "execution_count": 94,
     "metadata": {},
     "output_type": "execute_result"
    }
   ],
   "source": [
    "username=[]\n",
    "\n",
    "for i in range(0,len(my_followers)):\n",
    "    r = my_followers[i]\n",
    "    username.append(r.name)\n",
    "\n",
    "username"
   ]
  },
  {
   "cell_type": "code",
   "execution_count": 108,
   "metadata": {},
   "outputs": [
    {
     "data": {
      "text/plain": [
       "Status(ID=1323479899026288640, ScreenName=tay_lynne99, Created=Tue Nov 03 04:19:31 +0000 2020, Text='RT @AlyshaMcCaffrey: Please be on the lookout for my dads truck. It was stolen from the Red Lion hotel in Bellevue. It’s a 2003 F-350 Plate…')"
      ]
     },
     "execution_count": 108,
     "metadata": {},
     "output_type": "execute_result"
    }
   ],
   "source": [
    "bu_twt = bu_search[0]\n",
    "bu_twt"
   ]
  },
  {
   "cell_type": "code",
   "execution_count": 136,
   "metadata": {
    "collapsed": true,
    "jupyter": {
     "outputs_hidden": true
    }
   },
   "outputs": [
    {
     "data": {
      "text/plain": [
       "[User(ID=1050439724702343169, ScreenName=LeadKidAcademy),\n",
       " User(ID=1293969520479162370, ScreenName=Sanjukt26713938),\n",
       " User(ID=1636590253, ScreenName=tim_cook),\n",
       " User(ID=19895282, ScreenName=arrahman),\n",
       " User(ID=20571756, ScreenName=satyanadella),\n",
       " User(ID=14130366, ScreenName=sundarpichai),\n",
       " User(ID=71201743, ScreenName=imVkohli),\n",
       " User(ID=20913256, ScreenName=eschollen),\n",
       " User(ID=4820804277, ScreenName=machinelearnflx),\n",
       " User(ID=69133574, ScreenName=hadleywickham),\n",
       " User(ID=176883031, ScreenName=jtleek),\n",
       " User(ID=14174897, ScreenName=analyticbridge),\n",
       " User(ID=266762558, ScreenName=CRC_MathStats),\n",
       " User(ID=405033226, ScreenName=simplystats),\n",
       " User(ID=9308212, ScreenName=rdpeng),\n",
       " User(ID=20167623, ScreenName=kdnuggets),\n",
       " User(ID=39240673, ScreenName=ABPNews),\n",
       " User(ID=18071358, ScreenName=ZeeNewsEnglish),\n",
       " User(ID=811972460560019456, ScreenName=republic),\n",
       " User(ID=2242344254, ScreenName=mnswimanddive),\n",
       " User(ID=2228878592, ScreenName=AndrewYang),\n",
       " User(ID=357606935, ScreenName=ewarren),\n",
       " User(ID=183749519, ScreenName=paulg),\n",
       " User(ID=87484569, ScreenName=DeShobhaa),\n",
       " User(ID=124258971, ScreenName=ashabhosle),\n",
       " User(ID=138203134, ScreenName=AOC),\n",
       " User(ID=14083628, ScreenName=schmarzo),\n",
       " User(ID=3018841323, ScreenName=odsc),\n",
       " User(ID=393033324, ScreenName=DataScienceCtrl),\n",
       " User(ID=2207665903, ScreenName=DataSciNews),\n",
       " User(ID=9623092, ScreenName=BellevueU),\n",
       " User(ID=17220817, ScreenName=PrimeVideo),\n",
       " User(ID=2316338100, ScreenName=OmahaAstro),\n",
       " User(ID=19725644, ScreenName=neiltyson),\n",
       " User(ID=2542228662, ScreenName=MrsKatieHadan),\n",
       " User(ID=1367531, ScreenName=FoxNews),\n",
       " User(ID=16032925, ScreenName=foxnewspolitics),\n",
       " User(ID=13850422, ScreenName=CNNPolitics),\n",
       " User(ID=3042140406, ScreenName=MillardAquaClub),\n",
       " User(ID=40742821, ScreenName=TuurDemeester),\n",
       " User(ID=126582992, ScreenName=deloreanff),\n",
       " User(ID=887175892224663552, ScreenName=badcrypto),\n",
       " User(ID=409486555, ScreenName=MichelleObama),\n",
       " User(ID=885487044243238912, ScreenName=rashtrapatibhvn),\n",
       " User(ID=9300262, ScreenName=politico),\n",
       " User(ID=87818409, ScreenName=guardian),\n",
       " User(ID=22650211, ScreenName=GMA),\n",
       " User(ID=5392522, ScreenName=NPR),\n",
       " User(ID=15012486, ScreenName=CBSNews),\n",
       " User(ID=10228272, ScreenName=YouTube),\n",
       " User(ID=818996878951862273, ScreenName=KennethLFisher),\n",
       " User(ID=759841911456751619, ScreenName=tidyverse),\n",
       " User(ID=832713845323948032, ScreenName=BOTUS),\n",
       " User(ID=25073877, ScreenName=realDonaldTrump),\n",
       " User(ID=15091022, ScreenName=StateFarm),\n",
       " User(ID=22009780, ScreenName=GEICO),\n",
       " User(ID=1707305418, ScreenName=LibertyMutual),\n",
       " User(ID=1194947442, ScreenName=Prudential),\n",
       " User(ID=35861227, ScreenName=NewYorkLife),\n",
       " User(ID=132950361, ScreenName=mutualofomaha),\n",
       " User(ID=727603401933135873, ScreenName=DesignatedNFLX),\n",
       " User(ID=16061930, ScreenName=hackingdata),\n",
       " User(ID=288500051, ScreenName=cldrcommunity),\n",
       " User(ID=803694, ScreenName=mikeolson),\n",
       " User(ID=7542902, ScreenName=cutting),\n",
       " User(ID=16134540, ScreenName=cloudera),\n",
       " User(ID=26483183, ScreenName=jeremygutsche),\n",
       " User(ID=15965822, ScreenName=KatieLinendoll),\n",
       " User(ID=16450071, ScreenName=Teradata),\n",
       " User(ID=766485810006949888, ScreenName=praveer_rapoor),\n",
       " User(ID=744564705692368896, ScreenName=Partha_basu_in),\n",
       " User(ID=431868224, ScreenName=OWHmoney),\n",
       " User(ID=1918556978, ScreenName=jhubiostat),\n",
       " User(ID=65659343, ScreenName=ajaydevgn),\n",
       " User(ID=132385468, ScreenName=BeingSalmanKhan),\n",
       " User(ID=54829997, ScreenName=AnushkaSharma),\n",
       " User(ID=28785486, ScreenName=ABC),\n",
       " User(ID=51376979, ScreenName=sonamakapoor),\n",
       " User(ID=18681139, ScreenName=priyankachopra),\n",
       " User(ID=69620713, ScreenName=markets),\n",
       " User(ID=28164923, ScreenName=WSJmarkets),\n",
       " User(ID=624413, ScreenName=MarketWatch),\n",
       " User(ID=19546277, ScreenName=YahooFinance),\n",
       " User(ID=15764136, ScreenName=USATODAYmoney),\n",
       " User(ID=23484039, ScreenName=wsjnoted),\n",
       " User(ID=28140646, ScreenName=WSJbusiness),\n",
       " User(ID=16184358, ScreenName=CNNBusiness),\n",
       " User(ID=3382630449, ScreenName=amitinomaha),\n",
       " User(ID=2847332414, ScreenName=gladwinalytics),\n",
       " User(ID=14836197, ScreenName=usopen),\n",
       " User(ID=51241574, ScreenName=AP),\n",
       " User(ID=2495426521, ScreenName=DataIndrani),\n",
       " User(ID=78962821, ScreenName=sutanukaroy),\n",
       " User(ID=3267755684, ScreenName=Shilarocks),\n",
       " User(ID=1269383796, ScreenName=DataScienceFr),\n",
       " User(ID=140651458, ScreenName=gtriparna),\n",
       " User(ID=1054231118, ScreenName=sharpNilanjan),\n",
       " User(ID=258703448, ScreenName=KalamCenter),\n",
       " User(ID=1774391, ScreenName=nytimestravel),\n",
       " User(ID=117662694, ScreenName=NatGeoPhotos),\n",
       " User(ID=17471979, ScreenName=NatGeo),\n",
       " User(ID=173992307, ScreenName=BBC_Travel),\n",
       " User(ID=16365636, ScreenName=TripAdvisor),\n",
       " User(ID=15066760, ScreenName=lonelyplanet),\n",
       " User(ID=15905103, ScreenName=planetmoney),\n",
       " User(ID=57741304, ScreenName=Marketplace),\n",
       " User(ID=30013010, ScreenName=kairyssdal),\n",
       " User(ID=55570400, ScreenName=HiddenBrain),\n",
       " User(ID=2785480981, ScreenName=makeinindia),\n",
       " User(ID=24919888, ScreenName=NASAEarth),\n",
       " User(ID=11348282, ScreenName=NASA),\n",
       " User(ID=135421739, ScreenName=sachin_rt),\n",
       " User(ID=57376328, ScreenName=pymnts),\n",
       " User(ID=1056850669, ScreenName=airnewsalerts),\n",
       " User(ID=14677919, ScreenName=NewYorker),\n",
       " User(ID=83529586, ScreenName=PrannoyRoyNDTV),\n",
       " User(ID=14124541, ScreenName=prweb),\n",
       " User(ID=114798871, ScreenName=PRDailyNews),\n",
       " User(ID=26258900, ScreenName=PRNews),\n",
       " User(ID=4898501, ScreenName=PRNewswire),\n",
       " User(ID=17908435, ScreenName=FirstData),\n",
       " User(ID=15568127, ScreenName=themotleyfool),\n",
       " User(ID=1657730988, ScreenName=Ram_Guha),\n",
       " User(ID=605718835, ScreenName=azzu_catch22),\n",
       " User(ID=198148361, ScreenName=apu_chatterjee),\n",
       " User(ID=851572028, ScreenName=KrisnenduSar),\n",
       " User(ID=156143539, ScreenName=anunaynayak),\n",
       " User(ID=63655790, ScreenName=ontoes_),\n",
       " User(ID=137655195, ScreenName=mchowdhuri),\n",
       " User(ID=193536853, ScreenName=kunarrohit),\n",
       " User(ID=456068749, ScreenName=ssrayets),\n",
       " User(ID=1539532843, ScreenName=rsbandhu1),\n",
       " User(ID=95453782, ScreenName=OmahaPolice),\n",
       " User(ID=19098792, ScreenName=KETV),\n",
       " User(ID=399323964, ScreenName=arin_bigdreamer),\n",
       " User(ID=1587685092, ScreenName=riaghosh22),\n",
       " User(ID=34832681, ScreenName=SArundhati),\n",
       " User(ID=15163577, ScreenName=OWHnews),\n",
       " User(ID=16669075, ScreenName=fema),\n",
       " User(ID=29958928, ScreenName=TOIIndiaNews),\n",
       " User(ID=177829660, ScreenName=THexplains),\n",
       " User(ID=18949452, ScreenName=FT),\n",
       " User(ID=122928781, ScreenName=AzmiShabana),\n",
       " User(ID=52339151, ScreenName=PritishNandy),\n",
       " User(ID=122995784, ScreenName=Javedakhtarjadu),\n",
       " User(ID=34713362, ScreenName=business),\n",
       " User(ID=75854417, ScreenName=konkonas),\n",
       " User(ID=20609518, ScreenName=DalaiLama),\n",
       " User(ID=2597413135, ScreenName=POI13),\n",
       " User(ID=277434037, ScreenName=RNTata2000),\n",
       " User(ID=113419517, ScreenName=iHrithik),\n",
       " User(ID=101695592, ScreenName=deepikapadukone),\n",
       " User(ID=240649814, ScreenName=TimesNow),\n",
       " User(ID=6509832, ScreenName=CNNnews18),\n",
       " User(ID=14173315, ScreenName=NBCNews),\n",
       " User(ID=19929890, ScreenName=BDUTT),\n",
       " User(ID=88856792, ScreenName=aamir_khan),\n",
       " User(ID=15754281, ScreenName=USATODAY),\n",
       " User(ID=134758540, ScreenName=timesofindia),\n",
       " User(ID=56304605, ScreenName=sardesairajdeep),\n",
       " User(ID=2467791, ScreenName=washingtonpost),\n",
       " User(ID=206518293, ScreenName=baneonline),\n",
       " User(ID=471741741, ScreenName=PMOIndia),\n",
       " User(ID=428333, ScreenName=cnnbrk),\n",
       " User(ID=2097571, ScreenName=cnni),\n",
       " User(ID=742143, ScreenName=BBCWorld),\n",
       " User(ID=5988062, ScreenName=TheEconomist),\n",
       " User(ID=14800270, ScreenName=HarvardBiz),\n",
       " User(ID=67358777, ScreenName=BW),\n",
       " User(ID=1339835893, ScreenName=HillaryClinton),\n",
       " User(ID=1330457336, ScreenName=BillClinton),\n",
       " User(ID=1364930179, ScreenName=WarrenBuffett),\n",
       " User(ID=41353254, ScreenName=SandipNanda),\n",
       " User(ID=38647512, ScreenName=IndianExpress),\n",
       " User(ID=39743812, ScreenName=EconomicTimes),\n",
       " User(ID=19897138, ScreenName=IndiaToday),\n",
       " User(ID=20751449, ScreenName=the_hindu),\n",
       " User(ID=36327407, ScreenName=htTweets),\n",
       " User(ID=37034483, ScreenName=ndtv),\n",
       " User(ID=18839785, ScreenName=narendramodi),\n",
       " User(ID=31348594, ScreenName=akshaykumar),\n",
       " User(ID=101311381, ScreenName=iamsrk),\n",
       " User(ID=57928790, ScreenName=karanjohar),\n",
       " User(ID=97865628, ScreenName=FarOutAkhtar),\n",
       " User(ID=84554399, ScreenName=thesushmitasen),\n",
       " User(ID=145125358, ScreenName=SrBachchan),\n",
       " User(ID=20437286, ScreenName=usedgov),\n",
       " User(ID=73181712, ScreenName=TheJusticeDept),\n",
       " User(ID=15647676, ScreenName=DHSgov),\n",
       " User(ID=30313925, ScreenName=ObamaWhiteHouse),\n",
       " User(ID=822215673812119553, ScreenName=WhiteHouse),\n",
       " User(ID=813286, ScreenName=BarackObama),\n",
       " User(ID=20402945, ScreenName=CNBC),\n",
       " User(ID=621523, ScreenName=BBCBusiness),\n",
       " User(ID=91478624, ScreenName=Forbes),\n",
       " User(ID=4898091, ScreenName=FinancialTimes),\n",
       " User(ID=50393960, ScreenName=BillGates),\n",
       " User(ID=783214, ScreenName=Twitter),\n",
       " User(ID=16664681, ScreenName=latimes),\n",
       " User(ID=20998647, ScreenName=weatherchannel),\n",
       " User(ID=372575989, ScreenName=TwitterNews),\n",
       " User(ID=3108351, ScreenName=WSJ),\n",
       " User(ID=14511951, ScreenName=HuffPost),\n",
       " User(ID=807095, ScreenName=nytimes),\n",
       " User(ID=759251, ScreenName=CNN),\n",
       " User(ID=5402612, ScreenName=BBCBreaking),\n",
       " User(ID=1337785291, ScreenName=rogerfederer)]"
      ]
     },
     "execution_count": 136,
     "metadata": {},
     "output_type": "execute_result"
    }
   ],
   "source": [
    "# List of users that is followed by the twitter handle\n",
    "users"
   ]
  },
  {
   "cell_type": "code",
   "execution_count": 137,
   "metadata": {
    "collapsed": true,
    "jupyter": {
     "outputs_hidden": true
    }
   },
   "outputs": [
    {
     "data": {
      "text/plain": [
       "[Status(ID=1323479899026288640, ScreenName=tay_lynne99, Created=Tue Nov 03 04:19:31 +0000 2020, Text='RT @AlyshaMcCaffrey: Please be on the lookout for my dads truck. It was stolen from the Red Lion hotel in Bellevue. It’s a 2003 F-350 Plate…'),\n",
       " Status(ID=1323473008669806595, ScreenName=_taylormarrie, Created=Tue Nov 03 03:52:08 +0000 2020, Text='RT @AlyshaMcCaffrey: Please be on the lookout for my dads truck. It was stolen from the Red Lion hotel in Bellevue. It’s a 2003 F-350 Plate…'),\n",
       " Status(ID=1323471277911232512, ScreenName=tairaihrig, Created=Tue Nov 03 03:45:16 +0000 2020, Text='RT @AlyshaMcCaffrey: Please be on the lookout for my dads truck. It was stolen from the Red Lion hotel in Bellevue. It’s a 2003 F-350 Plate…'),\n",
       " Status(ID=1323469443024920577, ScreenName=AlyshaMcCaffrey, Created=Tue Nov 03 03:37:58 +0000 2020, Text='Please be on the lookout for my dads truck. It was stolen from the Red Lion hotel in Bellevue. It’s a 2003 F-350 Pl… https://t.co/NePTJJfA4p'),\n",
       " Status(ID=1323302298353692672, ScreenName=bellevue_lori, Created=Mon Nov 02 16:33:48 +0000 2020, Text='RT @AlanTonelson: Wow!  #NorthKorea’s Kim Chaek University of #Technology ranked eighth in the world at the International Collegiate #Progr…'),\n",
       " Status(ID=1323268649059274752, ScreenName=FremontTribune, Created=Mon Nov 02 14:20:05 +0000 2020, Text='The Lady Warriors basketball team picked up a pair of wins at the Bellevue Classic this past weekend improving to 3… https://t.co/btE2eHUWIE'),\n",
       " Status(ID=1323254632525766656, ScreenName=SeminarioMedInt, Created=Mon Nov 02 13:24:23 +0000 2020, Text='Otro pionero que hizo historia en el trabajo social sanitario fue:\\nDolors Colom Masfret se diplomó en Trabajo Socia… https://t.co/OGp0oqXQMt'),\n",
       " Status(ID=1323014481128075270, ScreenName=omahamagazine, Created=Sun Nov 01 21:30:07 +0000 2020, Text='The @UNOmaha which was originally located in the Redick Mansion, near 24th and Pratt streets, was the brainchild of… https://t.co/2GXmpa93qT'),\n",
       " Status(ID=1322923301774249986, ScreenName=midlandad, Created=Sun Nov 01 15:27:48 +0000 2020, Text='RT @MUCoachGilbert: Wow!!  Bellevue University punched us in the face right away.  We got dominated in every aspect, down double digits at…'),\n",
       " Status(ID=1322756006506565632, ScreenName=Midland_WBB, Created=Sun Nov 01 04:23:02 +0000 2020, Text='RT @MUCoachGilbert: Wow!!  Bellevue University punched us in the face right away.  We got dominated in every aspect, down double digits at…'),\n",
       " Status(ID=1322750629744386048, ScreenName=_MUSAAC, Created=Sun Nov 01 04:01:40 +0000 2020, Text='RT @MUCoachGilbert: #GPACscores  Midland University 77 @ Bellevue University 69'),\n",
       " Status(ID=1322740116251693056, ScreenName=dkraft00, Created=Sun Nov 01 03:19:53 +0000 2020, Text='RT @MUCoachGilbert: Wow!!  Bellevue University punched us in the face right away.  We got dominated in every aspect, down double digits at…'),\n",
       " Status(ID=1322729659247767552, ScreenName=HaaseLexis, Created=Sun Nov 01 02:38:20 +0000 2020, Text='RT @MUCoachGilbert: #GPACscores  Midland University 77 @ Bellevue University 69'),\n",
       " Status(ID=1322729325301518337, ScreenName=69NiceBot69, Created=Sun Nov 01 02:37:00 +0000 2020, Text='RT @MUCoachGilbert: #GPACscores  Midland University 77 @ Bellevue University 69'),\n",
       " Status(ID=1322727912563302400, ScreenName=MUCoachGilbert, Created=Sun Nov 01 02:31:24 +0000 2020, Text='#GPACscores  Midland University 77 @ Bellevue University 69'),\n",
       " Status(ID=1322727648619945984, ScreenName=MUCoachGilbert, Created=Sun Nov 01 02:30:21 +0000 2020, Text='Wow!!  Bellevue University punched us in the face right away.  We got dominated in every aspect, down double digits… https://t.co/fPzYj7oVtB'),\n",
       " Status(ID=1322263351066611715, ScreenName=TadDorsey1, Created=Fri Oct 30 19:45:24 +0000 2020, Text=\"RT @DoaneAthletics: Men's Basketball final - Lost 76-37 to (RV)Bellevue University\"),\n",
       " Status(ID=1322257997930860547, ScreenName=DoaneAthletics, Created=Fri Oct 30 19:24:07 +0000 2020, Text=\"Men's Basketball final - Lost 76-37 to (RV)Bellevue University\"),\n",
       " Status(ID=1322216231538216965, ScreenName=Midland_WBB, Created=Fri Oct 30 16:38:09 +0000 2020, Text='RT @MUCoachGilbert: Game Day!!!  We take on Presentation at 5:30pm in the first game of the Bruin Classic @ Bellevue University!!  I am exc…'),\n",
       " Status(ID=1322210566388277248, ScreenName=dkraft00, Created=Fri Oct 30 16:15:39 +0000 2020, Text='RT @MUCoachGilbert: Game Day!!!  We take on Presentation at 5:30pm in the first game of the Bruin Classic @ Bellevue University!!  I am exc…'),\n",
       " Status(ID=1322201098908741634, ScreenName=jdspn_radio, Created=Fri Oct 30 15:38:01 +0000 2020, Text='RT @DSUBasketball: Don’t miss our early morning tip off in the Bellevue University Classic!  10 A.M mountain time #hawksareup \\n\\nhttps://t.c…'),\n",
       " Status(ID=1322198057539305472, ScreenName=MUCoachGilbert, Created=Fri Oct 30 15:25:56 +0000 2020, Text='Game Day!!!  We take on Presentation at 5:30pm in the first game of the Bruin Classic @ Bellevue University!!  I am… https://t.co/Uoh4oRPiwN'),\n",
       " Status(ID=1322191938439860228, ScreenName=JimNekuda, Created=Fri Oct 30 15:01:37 +0000 2020, Text='https://t.co/9tOrQVvUKF'),\n",
       " Status(ID=1322186606418268161, ScreenName=DSUBasketball, Created=Fri Oct 30 14:40:26 +0000 2020, Text='Don’t miss our early morning tip off in the Bellevue University Classic!  10 A.M mountain time #hawksareup \\n\\nhttps://t.co/sYi1A2Kvhu'),\n",
       " Status(ID=1322124880695955456, ScreenName=justdees45, Created=Fri Oct 30 10:35:10 +0000 2020, Text=\"RT @BellevueU: Ball is life. Welcome Aminah to the Bellevue University Women's Basketball team (recently picked to WIN the 2020-21 NSAA Wom…\"),\n",
       " Status(ID=1321812349737562113, ScreenName=IMRAweb, Created=Thu Oct 29 13:53:16 +0000 2020, Text='L to R: Greg ASHLEY (Director at Bellevue University, Omaha, Nebraska) and Sergey YABLONSKY (St. Petersburg State U… https://t.co/C7RESvpv8g'),\n",
       " Status(ID=1321661356798562304, ScreenName=topherjaims, Created=Thu Oct 29 03:53:17 +0000 2020, Text='@CamTalksTech Bellevue University'),\n",
       " Status(ID=1321596931467026432, ScreenName=DaveDenly, Created=Wed Oct 28 23:37:17 +0000 2020, Text=\"RT @BellevueU: Ball is life. Welcome Aminah to the Bellevue University Women's Basketball team (recently picked to WIN the 2020-21 NSAA Wom…\"),\n",
       " Status(ID=1321595299387875329, ScreenName=BellevueWBB, Created=Wed Oct 28 23:30:48 +0000 2020, Text=\"RT @BellevueU: Ball is life. Welcome Aminah to the Bellevue University Women's Basketball team (recently picked to WIN the 2020-21 NSAA Wom…\"),\n",
       " Status(ID=1321594421352275970, ScreenName=browngw78, Created=Wed Oct 28 23:27:18 +0000 2020, Text=\"RT @BellevueU: Ball is life. Welcome Aminah to the Bellevue University Women's Basketball team (recently picked to WIN the 2020-21 NSAA Wom…\"),\n",
       " Status(ID=1321592098844483585, ScreenName=Cheyenneisback_, Created=Wed Oct 28 23:18:05 +0000 2020, Text=\"RT @BellevueU: Ball is life. Welcome Aminah to the Bellevue University Women's Basketball team (recently picked to WIN the 2020-21 NSAA Wom…\"),\n",
       " Status(ID=1321592014635491333, ScreenName=kaziahtee23, Created=Wed Oct 28 23:17:44 +0000 2020, Text=\"RT @BellevueU: Ball is life. Welcome Aminah to the Bellevue University Women's Basketball team (recently picked to WIN the 2020-21 NSAA Wom…\"),\n",
       " Status(ID=1321573483126657032, ScreenName=galpal_, Created=Wed Oct 28 22:04:06 +0000 2020, Text=\"RT @BellevueU: Ball is life. Welcome Aminah to the Bellevue University Women's Basketball team (recently picked to WIN the 2020-21 NSAA Wom…\"),\n",
       " Status(ID=1321573008847327235, ScreenName=thinmanx11, Created=Wed Oct 28 22:02:13 +0000 2020, Text=\"RT @BellevueU: Ball is life. Welcome Aminah to the Bellevue University Women's Basketball team (recently picked to WIN the 2020-21 NSAA Wom…\"),\n",
       " Status(ID=1321572722338660363, ScreenName=BellevueU, Created=Wed Oct 28 22:01:05 +0000 2020, Text=\"Ball is life. Welcome Aminah to the Bellevue University Women's Basketball team (recently picked to WIN the 2020-21… https://t.co/hjjrItzCaR\"),\n",
       " Status(ID=1321233461043224577, ScreenName=kwucoyotes, Created=Tue Oct 27 23:32:59 +0000 2020, Text=\"Women's Basketball - Lost 77-54 to Bellevue University #kcacscores\"),\n",
       " Status(ID=1321168225460047872, ScreenName=RootedInRights, Created=Tue Oct 27 19:13:45 +0000 2020, Text='RT @disrightswa: All locations below have ample space to keep staff and voters safe. \\n• Bellevue College \\n• Federal Way Performing Arts and…'),\n",
       " Status(ID=1321127469764669442, ScreenName=disrightswa, Created=Tue Oct 27 16:31:48 +0000 2020, Text='All locations below have ample space to keep staff and voters safe. \\n• Bellevue College \\n• Federal Way Performing A… https://t.co/S1N9D6ivL8'),\n",
       " Status(ID=1321120844186324992, ScreenName=EllaleeLA, Created=Tue Oct 27 16:05:29 +0000 2020, Text='@Bellevue_Bands throwback to when we went to Ohio Wesleyan University. @marchingbishops https://t.co/ArXAidvFNJ'),\n",
       " Status(ID=1320884324976218114, ScreenName=TheFORSe_Radio, Created=Tue Oct 27 00:25:38 +0000 2020, Text='RT @ForsythTechCC: Our partner, Bellevue University is hosting a virtual \"Trick or Treat Trivia\" night! It\\'s Wednesday, October 28th! RSVP…'),\n",
       " Status(ID=1320865284094332931, ScreenName=thinmanx11, Created=Mon Oct 26 23:09:58 +0000 2020, Text='RT @BellevueU: Appreciation tweet to the Bellevue University alum who tagged us in this video. #Repost #HappyMonday #BruinPride https://t.c…'),\n",
       " Status(ID=1320854263090872322, ScreenName=BellevueU, Created=Mon Oct 26 22:26:11 +0000 2020, Text='Appreciation tweet to the Bellevue University alum who tagged us in this video. #Repost #HappyMonday #BruinPride https://t.co/5wxyM67M7l'),\n",
       " Status(ID=1320750721415942145, ScreenName=ValarieMartin50, Created=Mon Oct 26 15:34:45 +0000 2020, Text='Super proud of Allie Ostermann in her college basketball debut for Tabor College.  7 points and 5 boards  in 19 min… https://t.co/kcxUhAUdni'),\n",
       " Status(ID=1320679874651148288, ScreenName=CherylH800, Created=Mon Oct 26 10:53:13 +0000 2020, Text=\"Augusta University's Bellevue Hall is reportedly haunted by Emily Galt. She was in love with a soldier who died in… https://t.co/9ixxJC2V2z\"),\n",
       " Status(ID=1320616965275340801, ScreenName=BrennaRich13, Created=Mon Oct 26 06:43:15 +0000 2020, Text='RT @coachshowman: Game time change for Tuesday 10/27!  @KwuWbb will host Bellevue University at 5pm inside Mabee Arena! Go Yotes! 🏀🐺'),\n",
       " Status(ID=1320515359678451713, ScreenName=DSherwoodSJ, Created=Sun Oct 25 23:59:30 +0000 2020, Text='RT @coachshowman: Game time change for Tuesday 10/27!  @KwuWbb will host Bellevue University at 5pm inside Mabee Arena! Go Yotes! 🏀🐺'),\n",
       " Status(ID=1320514024837160962, ScreenName=coachshowman, Created=Sun Oct 25 23:54:12 +0000 2020, Text='Game time change for Tuesday 10/27!  @KwuWbb will host Bellevue University at 5pm inside Mabee Arena! Go Yotes! 🏀🐺')]"
      ]
     },
     "execution_count": 137,
     "metadata": {},
     "output_type": "execute_result"
    }
   ],
   "source": [
    "# This shows the twitter results for Bellevue University\n",
    "bu_search"
   ]
  },
  {
   "cell_type": "code",
   "execution_count": null,
   "metadata": {},
   "outputs": [],
   "source": []
  }
 ],
 "metadata": {
  "kernelspec": {
   "display_name": "Python 3",
   "language": "python",
   "name": "python3"
  },
  "language_info": {
   "codemirror_mode": {
    "name": "ipython",
    "version": 3
   },
   "file_extension": ".py",
   "mimetype": "text/x-python",
   "name": "python",
   "nbconvert_exporter": "python",
   "pygments_lexer": "ipython3",
   "version": "3.8.3"
  }
 },
 "nbformat": 4,
 "nbformat_minor": 4
}
