{
 "cells": [
  {
   "cell_type": "code",
   "execution_count": 2,
   "metadata": {},
   "outputs": [],
   "source": [
    "import twitter"
   ]
  },
  {
   "cell_type": "code",
   "execution_count": 42,
   "metadata": {},
   "outputs": [],
   "source": [
    "api = twitter.Api(consumer_key=\"BRvmAZBaZr5bWhFtfxUTk8qUN\",\n",
    "                  consumer_secret=\"vaVx88ZPbkBIlxZquvRJuNKEILTEeJTexevWYXpUviFg4t5M5w\",\n",
    "                  access_token_key=\"2788379963-rW0KyJM2yZAhGIr9XWnuAfPuu3oirOhnWmGlfuL\",\n",
    "                  access_token_secret=\"DaPlKr9zY8SYGi2MhTmgeF7KoC4jvJCtKjYXpdKd33yYV\")"
   ]
  },
  {
   "cell_type": "markdown",
   "metadata": {},
   "source": [
    "### The twitter api and keys are defined here. So not including this cell in the submission."
   ]
  },
  {
   "cell_type": "code",
   "execution_count": 43,
   "metadata": {},
   "outputs": [
    {
     "name": "stdout",
     "output_type": "stream",
     "text": [
      "{\"created_at\": \"Sun Sep 28 02:47:24 +0000 2014\", \"default_profile\": true, \"favourites_count\": 11, \"followers_count\": 25, \"friends_count\": 207, \"geo_enabled\": true, \"id\": 2788379963, \"id_str\": \"2788379963\", \"listed_count\": 2, \"location\": \"Omaha, NE\", \"name\": \"Arindam Samanta\", \"profile_background_color\": \"C0DEED\", \"profile_background_image_url\": \"http://abs.twimg.com/images/themes/theme1/bg.png\", \"profile_background_image_url_https\": \"https://abs.twimg.com/images/themes/theme1/bg.png\", \"profile_image_url\": \"http://pbs.twimg.com/profile_images/774992810692993024/uZlzySIa_normal.jpg\", \"profile_image_url_https\": \"https://pbs.twimg.com/profile_images/774992810692993024/uZlzySIa_normal.jpg\", \"profile_link_color\": \"1DA1F2\", \"profile_sidebar_border_color\": \"C0DEED\", \"profile_sidebar_fill_color\": \"DDEEF6\", \"profile_text_color\": \"333333\", \"profile_use_background_image\": true, \"screen_name\": \"samantoz\", \"status\": {\"created_at\": \"Thu Oct 08 02:37:59 +0000 2020\", \"id\": 1314032262917353473, \"id_str\": \"1314032262917353473\", \"lang\": \"en\", \"retweet_count\": 6899, \"retweeted\": true, \"retweeted_status\": {\"created_at\": \"Thu Oct 08 02:17:55 +0000 2020\", \"favorite_count\": 79495, \"id\": 1314027210802630657, \"id_str\": \"1314027210802630657\", \"lang\": \"en\", \"retweet_count\": 6899, \"retweeted\": true, \"source\": \"<a href=\\\"http://twitter.com/download/iphone\\\" rel=\\\"nofollow\\\">Twitter for iPhone</a>\", \"text\": \"There\\u2019s a fly on Pence\\u2019s head.\"}, \"source\": \"<a href=\\\"http://twitter.com/download/android\\\" rel=\\\"nofollow\\\">Twitter for Android</a>\", \"text\": \"RT @AndrewYang: There\\u2019s a fly on Pence\\u2019s head.\"}, \"statuses_count\": 206}\n"
     ]
    }
   ],
   "source": [
    "print(api.VerifyCredentials())"
   ]
  },
  {
   "cell_type": "code",
   "execution_count": 44,
   "metadata": {},
   "outputs": [
    {
     "name": "stdout",
     "output_type": "stream",
     "text": [
      "['RT @AndrewYang: There’s a fly on Pence’s head.', 'RT @Twitter: The only thing we want going viral is this Tweet\\n\\n#WearAMask', 'RT @LeadKidAcademy: ##Montessori https://t.co/XRZH0X6Uh0', 'RT @LeadKidAcademy: “The hand is the instrument of intelligence. The child needs to manipulate objects and to gain experience by touching a…', 'RT @LeadKidAcademy: 4-year-old gives a lesson on the water cycle #Montessori #MontessoriChild https://t.co/BHohGqUN5f', \"RT @timesofindia: #Namaste: This is how French President Emmanuel Macron and German Chancellor Angela Merkel greeted each other at former's…\", 'RT @SrBachchan: T 3590 -I have tested CoviD positive ..  shifted to Hospital  .. hospital informing  authorities .. family and staff underg…', 'RT @juniorbachchan: Earlier today both my father and I tested positive for COVID 19. Both of us having mild symptoms have been admitted to…', 'RT @SrBachchan: T 3576 - Father .. Son .. Grandson .. some years ago ! \\nAnd the folded hands are unplanned , they just happened ❤️ https://…', 'RT @SrBachchan: T 3560 - Aao kal Mirza ki haveli pe! 🏡\\n\\n1 Day To Go!\\n\\nCatch #GiboSiboOnPrime on June 12 for its World Premiere, @primevideo…', 'RT @SrBachchan: T 3555 - Yes .. !! Phir se https://t.co/xwniUnxvXN', \"RT @SrBachchan: T 3544 -43 YEARS .. !!! .. 'Amar Akbar Anthony' is estimated to have made Rs 7.25 crore in those days. Inflation-adjusted,…\", 'RT @MichelleObama: I’m thrilled to give you a sneak peek of BECOMING before it premieres on Netflix on May 6. This movie tells my story, fr…', 'RT @MichelleObama: In the film BECOMING, you will get to know an extraordinary young woman, Shayla, and her family. Their love and sacrific…', 'RT @MichelleObama: I’m excited to share that on May 6, @Netflix will release BECOMING, a documentary directed by Nadia Hallgren that shares…', \"RT @CRC_MathStats: Attention #RStats fans! In the run-up to @rstudio conference 2020, we're giving away a signed copy of @rafalab's Introdu…\", \"RT @CRC_MathStats: Don't miss your chance to enter our #RStatsGiveaway! We'll be picking a winner this Friday #RProgramming https://t.co/hl…\", 'RT @MNHS_Orch: Congrats 2019 MNHS National Merit Scholars!  Love seeing so many of our music students represented!  Coincidence?  We think…', \"RT @CRC_MathStats: Calling all #RStats enthusiasts! We're giving away a signed copy of #FeatureEngineering &amp; Selection by Max Kuhn &amp; Kjell…\", 'RT @SrBachchan: T 3532 - On the auspicious festive week our love and prayers to all ..\\nइस शुभ अवसर पे हमारी शुभकामनाएँ  🙏💕 https://t.co/DcH…']\n"
     ]
    }
   ],
   "source": [
    "#Download user timeline for my twitter handle\n",
    "statuses = api.GetUserTimeline(screen_name='samantoz')\n",
    "print([s.text for s in statuses])"
   ]
  },
  {
   "cell_type": "code",
   "execution_count": 45,
   "metadata": {},
   "outputs": [],
   "source": [
    "#down load followers and followed\n",
    "users = api.GetFriends()\n",
    "followers = api.GetFollowers()\n",
    "# search for a specific term across twitter\n",
    "bu_search = api.GetSearch(term='Bellevue University', since=2019-1-1, count=100)"
   ]
  },
  {
   "cell_type": "code",
   "execution_count": 57,
   "metadata": {},
   "outputs": [
    {
     "data": {
      "text/plain": [
       "User(ID=901599205474525184, ScreenName=Prosanta4967)"
      ]
     },
     "execution_count": 57,
     "metadata": {},
     "output_type": "execute_result"
    }
   ],
   "source": [
    "# Followers\n",
    "\n",
    "my_followers=[]\n",
    "for f in followers:\n",
    "    my_followers.append(f)"
   ]
  },
  {
   "cell_type": "code",
   "execution_count": 58,
   "metadata": {},
   "outputs": [
    {
     "data": {
      "text/plain": [
       "twitter.models.User"
      ]
     },
     "execution_count": 58,
     "metadata": {},
     "output_type": "execute_result"
    }
   ],
   "source": [
    "type(my_followers[0])"
   ]
  },
  {
   "cell_type": "code",
   "execution_count": 59,
   "metadata": {},
   "outputs": [
    {
     "data": {
      "text/plain": [
       "list"
      ]
     },
     "execution_count": 59,
     "metadata": {},
     "output_type": "execute_result"
    }
   ],
   "source": [
    "type(users)"
   ]
  },
  {
   "cell_type": "code",
   "execution_count": 60,
   "metadata": {},
   "outputs": [
    {
     "data": {
      "text/plain": [
       "list"
      ]
     },
     "execution_count": 60,
     "metadata": {},
     "output_type": "execute_result"
    }
   ],
   "source": [
    "type(followers)"
   ]
  },
  {
   "cell_type": "code",
   "execution_count": 94,
   "metadata": {},
   "outputs": [
    {
     "data": {
      "text/plain": [
       "['Prosanta Kumar Roy',\n",
       " 'Eleanor Smith',\n",
       " 'Bhaskar Sadhukhan',\n",
       " 'Travis Wright ⭕️ #blockchain #nft #bitcoin #crypto',\n",
       " 'Joydev Mondol',\n",
       " 'Apurba Chatterjee',\n",
       " 'Talk Crypto To Me',\n",
       " 'HODLER.fashion',\n",
       " 'Prosanta Roy',\n",
       " 'Nirbhik Sengupta',\n",
       " 'Monideepa Chakrabort',\n",
       " 'Hilda Quiñones',\n",
       " 'Triparna de Vreede',\n",
       " 'Anand Kiruba',\n",
       " 'Anil kumar Kandengat',\n",
       " 'msuds',\n",
       " 'Partha Basu',\n",
       " 'Ashok Sahoo',\n",
       " 'Shamik Banerjee',\n",
       " 'Rakesh Chetan',\n",
       " 'Indrani',\n",
       " 'Nilanjan MitraThakur',\n",
       " 'Kristel Washington',\n",
       " 'aletta',\n",
       " 'Sandip Nanda']"
      ]
     },
     "execution_count": 94,
     "metadata": {},
     "output_type": "execute_result"
    }
   ],
   "source": [
    "username=[]\n",
    "\n",
    "for i in range(0,len(my_followers)):\n",
    "    r = my_followers[i]\n",
    "    username.append(r.name)\n",
    "\n",
    "username"
   ]
  },
  {
   "cell_type": "code",
   "execution_count": 108,
   "metadata": {},
   "outputs": [
    {
     "data": {
      "text/plain": [
       "Status(ID=1323479899026288640, ScreenName=tay_lynne99, Created=Tue Nov 03 04:19:31 +0000 2020, Text='RT @AlyshaMcCaffrey: Please be on the lookout for my dads truck. It was stolen from the Red Lion hotel in Bellevue. It’s a 2003 F-350 Plate…')"
      ]
     },
     "execution_count": 108,
     "metadata": {},
     "output_type": "execute_result"
    }
   ],
   "source": [
    "bu_twt = bu_search[0]\n",
    "bu_twt"
   ]
  },
  {
   "cell_type": "code",
   "execution_count": null,
   "metadata": {},
   "outputs": [],
   "source": []
  }
 ],
 "metadata": {
  "kernelspec": {
   "display_name": "Python 3",
   "language": "python",
   "name": "python3"
  },
  "language_info": {
   "codemirror_mode": {
    "name": "ipython",
    "version": 3
   },
   "file_extension": ".py",
   "mimetype": "text/x-python",
   "name": "python",
   "nbconvert_exporter": "python",
   "pygments_lexer": "ipython3",
   "version": "3.8.3"
  }
 },
 "nbformat": 4,
 "nbformat_minor": 4
}
