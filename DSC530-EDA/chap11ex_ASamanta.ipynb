{
 "cells": [
  {
   "cell_type": "markdown",
   "metadata": {},
   "source": [
    "# Exercises from Think Stats, 2nd Edition\n",
    "\n",
    "http://thinkstats2.com\n",
    "\n",
    "Copyright 2016 Allen B. Downey\n",
    "\n",
    "MIT License: https://opensource.org/licenses/MIT\n"
   ]
  },
  {
   "cell_type": "code",
   "execution_count": 20,
   "metadata": {},
   "outputs": [],
   "source": [
    "from __future__ import print_function, division\n",
    "\n",
    "%matplotlib inline\n",
    "\n",
    "import numpy as np\n",
    "import pandas as pd\n",
    "\n",
    "import random\n",
    "\n",
    "import thinkstats2\n",
    "import thinkplot\n",
    "\n",
    "import statsmodels.formula.api as smf"
   ]
  },
  {
   "cell_type": "markdown",
   "metadata": {
    "collapsed": true
   },
   "source": [
    "## Exercises"
   ]
  },
  {
   "cell_type": "markdown",
   "metadata": {
    "collapsed": true
   },
   "source": [
    "**Exercise:** Suppose one of your co-workers is expecting a baby and you are participating in an office pool to predict the date of birth. Assuming that bets are placed during the 30th week of pregnancy, what variables could you use to make the best prediction? You should limit yourself to variables that are known before the birth, and likely to be available to the people in the pool."
   ]
  },
  {
   "cell_type": "code",
   "execution_count": 62,
   "metadata": {},
   "outputs": [],
   "source": [
    "import first\n",
    "live, firsts, others = first.MakeFrames()\n",
    "live_30 = live[live.prglngth>30]"
   ]
  },
  {
   "cell_type": "code",
   "execution_count": 63,
   "metadata": {},
   "outputs": [],
   "source": [
    "import patsy\n",
    "\n",
    "def GoMining(df):\n",
    "    \"\"\"Searches for variables that predict pregnancy length.\n",
    "\n",
    "    df: DataFrame of pregnancy records\n",
    "\n",
    "    returns: list of (rsquared, variable name) pairs\n",
    "    \"\"\"\n",
    "    variables = []\n",
    "    for name in df.columns:\n",
    "        try:\n",
    "            if df[name].var() < 1e-7:\n",
    "                continue\n",
    "\n",
    "            formula = 'prglngth ~ ' + name\n",
    "            model = smf.ols(formula, data=df)\n",
    "            if model.nobs < len(df)/2:\n",
    "                continue\n",
    "\n",
    "            results = model.fit()\n",
    "        except (ValueError, TypeError):\n",
    "            continue\n",
    "\n",
    "        variables.append((results.rsquared, name))\n",
    "\n",
    "    return variables"
   ]
  },
  {
   "cell_type": "code",
   "execution_count": 64,
   "metadata": {},
   "outputs": [],
   "source": [
    "variables = GoMining(live_30)"
   ]
  },
  {
   "cell_type": "markdown",
   "metadata": {},
   "source": [
    "The following functions report the variables with the highest values of $R^2$."
   ]
  },
  {
   "cell_type": "code",
   "execution_count": 65,
   "metadata": {},
   "outputs": [],
   "source": [
    "import re\n",
    "\n",
    "def ReadVariables():\n",
    "    \"\"\"Reads Stata dictionary files for NSFG data.\n",
    "\n",
    "    returns: DataFrame that maps variables names to descriptions\n",
    "    \"\"\"\n",
    "    vars1 = thinkstats2.ReadStataDct('2002FemPreg.dct').variables\n",
    "    vars2 = thinkstats2.ReadStataDct('2002FemResp.dct').variables\n",
    "\n",
    "    all_vars = vars1.append(vars2)\n",
    "    all_vars.index = all_vars.name\n",
    "    return all_vars\n",
    "    \n",
    "\n",
    "def MiningReport(variables, n=45):\n",
    "    \"\"\"Prints variables with the highest R^2.\n",
    "\n",
    "    t: list of (R^2, variable name) pairs\n",
    "    n: number of pairs to print\n",
    "    \"\"\"\n",
    "    all_vars = ReadVariables()\n",
    "\n",
    "    variables.sort(reverse=True)\n",
    "    for r2, name in variables[:n]:\n",
    "        key = re.sub('_r$', '', name)\n",
    "        try:\n",
    "            desc = all_vars.loc[key].desc\n",
    "            if isinstance(desc, pd.Series):\n",
    "                desc = desc[0]\n",
    "            print(name, r2, desc)\n",
    "        except (KeyError, IndexError):\n",
    "            print(name, r2)"
   ]
  },
  {
   "cell_type": "code",
   "execution_count": 66,
   "metadata": {},
   "outputs": [
    {
     "name": "stdout",
     "output_type": "stream",
     "text": [
      "prglngth 1.0 DURATION OF COMPLETED PREGNANCY IN WEEKS\n",
      "wksgest 0.8062434116139234 GESTATIONAL LENGTH OF COMPLETED PREGNANCY (IN WEEKS)\n",
      "totalwgt_lb 0.12445743148120247\n",
      "birthwgt_lb 0.11977307804917214 BD-3 BIRTHWEIGHT IN POUNDS - 1ST BABY FROM THIS PREGNANCY\n",
      "lbw1 0.10372542204583346 LOW BIRTHWEIGHT - BABY 1\n",
      "mosgest 0.09562431989592657 GESTATIONAL LENGTH OF COMPLETED PREGNANCY (IN MONTHS)\n",
      "prglngth_i 0.0220537757964685 PRGLNGTH IMPUTATION FLAG\n",
      "nbrnaliv 0.004577565785532922 BC-2 NUMBER OF BABIES BORN ALIVE FROM THIS PREGNANCY\n",
      "anynurse 0.0024520248837112124 BH-1 WHETHER R BREASTFED THIS CHILD AT ALL - 1ST FROM THIS PREG\n",
      "bfeedwks 0.0023691839446674523 DURATION OF BREASTFEEDING IN WEEKS\n",
      "pregend1 0.0022493894337981546 BC-1 HOW PREGNANCY ENDED - 1ST MENTION\n",
      "cmlastlb 0.0020431424422022726 CM FOR R'S MOST RECENT LIVE BIRTH\n",
      "fmarcon5_i 0.0019681593242578677 FMARCON5 IMPUTATION FLAG\n",
      "evuseint 0.0018917527758618435 EG-1 USE ANY METHOD IN PREGNANCY INTERVAL?\n",
      "gestasun_m 0.0016571319550165997 BC-5 GESTATIONAL LENGTH OF PREGNANCY IN MONTHS\n",
      "sest 0.0013223681981654467 SCRAMBLED VERSION OF THE STRATUM\n",
      "matchfound 0.0013091073771296369 CHECK ON WHETHER CHILD MATCHES BIO CHILD IN HH ROSTER - 1ST\n",
      "cmlstprg 0.0012828619646412243 CM FOR R'S MOST RECENT COMPLETED PREGNANCY\n",
      "birthord 0.0012372736736625534 BIRTH ORDER\n",
      "frsteatd_p 0.0011558077327741278 BH-3 UNITS (MOS/WKS/DAYS) FOR FRSTEATD_N - 1ST FROM THIS PREG\n",
      "wantbold 0.0011362202442938285 EG-6 RIGHT BEF PREG, WANT TO HAVE BABY AT ANY TIME IN FUTURE?\n",
      "poverty 0.0011234153756971565 POVERTY LEVEL INCOME\n",
      "gestasun_w 0.001051379908717176 BC-5 GESTATIONAL LENGTH OF PREGNANCY IN WEEKS\n",
      "cmintstr 0.000873969295819399 CM FOR DATE OF BEGINNING OF PREGNANCY INTERVAL\n",
      "fmarout5_i 0.000837909381896762 FMAROUT5 IMPUTATION FLAG\n",
      "rmarout6_i 0.000791768162911155 RMAROUT6 IMPUTATION FLAG\n",
      "hispanic 0.000660091644740679 HISPANIC ORIGIN\n",
      "pregordr 0.0006222414860669323 PREGNANCY ORDER (NUMBER)\n",
      "educat 0.0005906824403357769 EDUCATION (COMPLETED YEARS OF SCHOOLING)\n",
      "fmarital 0.0005724780640516958 FORMAL MARITAL STATUS\n",
      "rmarital 0.0005646208404453956 INFORMAL MARITAL STATUS\n",
      "oldwantr 0.0005075061787033208 WANTEDNESS OF PREGNANCY - RESPONDENT - CYCLE 4 VERSION\n",
      "wantresp 0.0004991854010815144 WANTEDNESS OF PREGNANCY - RESPONDENT - CYCLE 5 VERSION\n",
      "stopduse 0.0004584745315543426 EG-2 BEFORE YOU BECAME PREG, STOP USING ALL METHODS?\n",
      "agepreg_i 0.00042892488164947284 AGEPREG IMPUTATION FLAG\n",
      "cmprgend 0.00040699954457079635 CM FOR PREGNANCY END DATE (REGARDLESS OF OUTCOME)\n",
      "cmbabdob 0.00040699954457079635 CM FOR BABY'S OR BABIES' DATE OF BIRTH (DELIVERY DATE)\n",
      "tellfath 0.0004057773730451464 EG-19 DID R TELL FATHER OF PREG THAT SHE WAS PREGNANT\n",
      "hieduc 0.0004052011903195041 HIGHEST COMPLETED YEAR OF SCHOOL OR DEGREE\n",
      "whentell 0.00039918315330489396 EG-20 WHEN DID R TELL FATHER OF PREG ABOUT PREGNANCY: DURING OR AFTER?\n",
      "cmintfin 0.0003822488448921302 CM FOR DATE OF END OF PREGNANCY INTERVAL\n",
      "maternlv_i 0.000362008047927187 MATERNLV IMPUTATION FLAG\n",
      "hpwnold 0.0003276095738250495 EG-16 RIGHT BEF PREG, DID THE FATHER WANT R TO HAVE BABY AT ANY TIME IN FUTURE?\n",
      "frsteatd_n 0.0003191896553977891 BH-3 AGE (MOS/WKS/DAY) WHEN 1ST SUPPLEMENTED - 1ST FROM THIS PREG\n",
      "race 0.0003144021880938652 RACE\n"
     ]
    }
   ],
   "source": [
    "# Listing out the explanatory variables that could be available before pregnancy for all. \n",
    "\n",
    "# 1) birthord    BIRTH ORDER\n",
    "# 2) poverty     POVERTY LEVEL INCOME\n",
    "# 3) pregordr    PREGNANCY ORDER (NUMBER)\n",
    "# 4) educat      EDUCATION (COMPLETED YEARS OF SCHOOLING)\n",
    "# 5) hieduc      HIGHEST COMPLETED YEAR OF SCHOOL OR DEGREE\n",
    "# 6) race        RACE\n",
    "# 7) nbrnaliv    BC-2 NUMBER OF BABIES BORN ALIVE FROM THIS PREGNANCY\n",
    "MiningReport(variables)"
   ]
  },
  {
   "cell_type": "markdown",
   "metadata": {},
   "source": [
    "The following are the only variables I found that have a statistically significant effect on pregnancy length. Also these variables are known before the birth and also for all."
   ]
  },
  {
   "cell_type": "code",
   "execution_count": 67,
   "metadata": {},
   "outputs": [
    {
     "data": {
      "text/html": [
       "<div>\n",
       "<style scoped>\n",
       "    .dataframe tbody tr th:only-of-type {\n",
       "        vertical-align: middle;\n",
       "    }\n",
       "\n",
       "    .dataframe tbody tr th {\n",
       "        vertical-align: top;\n",
       "    }\n",
       "\n",
       "    .dataframe thead th {\n",
       "        text-align: right;\n",
       "    }\n",
       "</style>\n",
       "<table border=\"1\" class=\"dataframe\">\n",
       "  <thead>\n",
       "    <tr style=\"text-align: right;\">\n",
       "      <th></th>\n",
       "      <th>prglngth</th>\n",
       "      <th>birthord</th>\n",
       "      <th>poverty</th>\n",
       "      <th>pregordr</th>\n",
       "      <th>educat</th>\n",
       "      <th>race</th>\n",
       "      <th>nbrnaliv</th>\n",
       "    </tr>\n",
       "  </thead>\n",
       "  <tbody>\n",
       "    <tr>\n",
       "      <th>count</th>\n",
       "      <td>8884.000000</td>\n",
       "      <td>8884.000000</td>\n",
       "      <td>8884.000000</td>\n",
       "      <td>8884.000000</td>\n",
       "      <td>8884.000000</td>\n",
       "      <td>8884.000000</td>\n",
       "      <td>8880.000000</td>\n",
       "    </tr>\n",
       "    <tr>\n",
       "      <th>mean</th>\n",
       "      <td>38.878095</td>\n",
       "      <td>1.826542</td>\n",
       "      <td>208.030842</td>\n",
       "      <td>2.271387</td>\n",
       "      <td>12.542211</td>\n",
       "      <td>1.826880</td>\n",
       "      <td>1.019144</td>\n",
       "    </tr>\n",
       "    <tr>\n",
       "      <th>std</th>\n",
       "      <td>1.898084</td>\n",
       "      <td>1.040100</td>\n",
       "      <td>145.340008</td>\n",
       "      <td>1.433924</td>\n",
       "      <td>2.555545</td>\n",
       "      <td>0.566995</td>\n",
       "      <td>0.176546</td>\n",
       "    </tr>\n",
       "    <tr>\n",
       "      <th>min</th>\n",
       "      <td>31.000000</td>\n",
       "      <td>1.000000</td>\n",
       "      <td>7.000000</td>\n",
       "      <td>1.000000</td>\n",
       "      <td>9.000000</td>\n",
       "      <td>1.000000</td>\n",
       "      <td>1.000000</td>\n",
       "    </tr>\n",
       "    <tr>\n",
       "      <th>25%</th>\n",
       "      <td>39.000000</td>\n",
       "      <td>1.000000</td>\n",
       "      <td>84.000000</td>\n",
       "      <td>1.000000</td>\n",
       "      <td>11.000000</td>\n",
       "      <td>1.000000</td>\n",
       "      <td>1.000000</td>\n",
       "    </tr>\n",
       "    <tr>\n",
       "      <th>50%</th>\n",
       "      <td>39.000000</td>\n",
       "      <td>2.000000</td>\n",
       "      <td>164.000000</td>\n",
       "      <td>2.000000</td>\n",
       "      <td>12.000000</td>\n",
       "      <td>2.000000</td>\n",
       "      <td>1.000000</td>\n",
       "    </tr>\n",
       "    <tr>\n",
       "      <th>75%</th>\n",
       "      <td>40.000000</td>\n",
       "      <td>2.000000</td>\n",
       "      <td>313.000000</td>\n",
       "      <td>3.000000</td>\n",
       "      <td>14.000000</td>\n",
       "      <td>2.000000</td>\n",
       "      <td>1.000000</td>\n",
       "    </tr>\n",
       "    <tr>\n",
       "      <th>max</th>\n",
       "      <td>50.000000</td>\n",
       "      <td>10.000000</td>\n",
       "      <td>500.000000</td>\n",
       "      <td>17.000000</td>\n",
       "      <td>19.000000</td>\n",
       "      <td>3.000000</td>\n",
       "      <td>5.000000</td>\n",
       "    </tr>\n",
       "  </tbody>\n",
       "</table>\n",
       "</div>"
      ],
      "text/plain": [
       "          prglngth     birthord      poverty     pregordr       educat  \\\n",
       "count  8884.000000  8884.000000  8884.000000  8884.000000  8884.000000   \n",
       "mean     38.878095     1.826542   208.030842     2.271387    12.542211   \n",
       "std       1.898084     1.040100   145.340008     1.433924     2.555545   \n",
       "min      31.000000     1.000000     7.000000     1.000000     9.000000   \n",
       "25%      39.000000     1.000000    84.000000     1.000000    11.000000   \n",
       "50%      39.000000     2.000000   164.000000     2.000000    12.000000   \n",
       "75%      40.000000     2.000000   313.000000     3.000000    14.000000   \n",
       "max      50.000000    10.000000   500.000000    17.000000    19.000000   \n",
       "\n",
       "              race     nbrnaliv  \n",
       "count  8884.000000  8880.000000  \n",
       "mean      1.826880     1.019144  \n",
       "std       0.566995     0.176546  \n",
       "min       1.000000     1.000000  \n",
       "25%       1.000000     1.000000  \n",
       "50%       2.000000     1.000000  \n",
       "75%       2.000000     1.000000  \n",
       "max       3.000000     5.000000  "
      ]
     },
     "execution_count": 67,
     "metadata": {},
     "output_type": "execute_result"
    }
   ],
   "source": [
    "# Creating a new dataframe using the above explanatory variables along with the dependant variable\n",
    "# 'prglngth','birthord','poverty','pregordr','educat','hieduc','race'\n",
    "live2 = live_30[['prglngth','birthord','poverty','pregordr','educat','race','nbrnaliv']]\n",
    "live2.describe()"
   ]
  },
  {
   "cell_type": "code",
   "execution_count": 68,
   "metadata": {},
   "outputs": [
    {
     "data": {
      "text/plain": [
       "(8884, 7)"
      ]
     },
     "execution_count": 68,
     "metadata": {},
     "output_type": "execute_result"
    }
   ],
   "source": [
    "# Get the number of rows and columns in the new dataframe\n",
    "# It shows we have 8884 rows and 7 columns now\n",
    "live2.shape"
   ]
  },
  {
   "cell_type": "code",
   "execution_count": 69,
   "metadata": {},
   "outputs": [
    {
     "data": {
      "text/plain": [
       "469    477\n",
       "156    415\n",
       "500    340\n",
       "396    311\n",
       "64     268\n",
       "      ... \n",
       "57       3\n",
       "7        3\n",
       "126      2\n",
       "498      1\n",
       "415      1\n",
       "Name: poverty, Length: 136, dtype: int64"
      ]
     },
     "execution_count": 69,
     "metadata": {},
     "output_type": "execute_result"
    }
   ],
   "source": [
    "# Get the value counts from the categorical columns\n",
    "\n",
    "live2['poverty'].value_counts()"
   ]
  },
  {
   "cell_type": "code",
   "execution_count": 70,
   "metadata": {},
   "outputs": [
    {
     "data": {
      "text/html": [
       "<table class=\"simpletable\">\n",
       "<caption>OLS Regression Results</caption>\n",
       "<tr>\n",
       "  <th>Dep. Variable:</th>        <td>prglngth</td>     <th>  R-squared:         </th> <td>   0.012</td> \n",
       "</tr>\n",
       "<tr>\n",
       "  <th>Model:</th>                   <td>OLS</td>       <th>  Adj. R-squared:    </th> <td>   0.011</td> \n",
       "</tr>\n",
       "<tr>\n",
       "  <th>Method:</th>             <td>Least Squares</td>  <th>  F-statistic:       </th> <td>   18.06</td> \n",
       "</tr>\n",
       "<tr>\n",
       "  <th>Date:</th>             <td>Sun, 19 Jul 2020</td> <th>  Prob (F-statistic):</th> <td>6.01e-21</td> \n",
       "</tr>\n",
       "<tr>\n",
       "  <th>Time:</th>                 <td>16:27:17</td>     <th>  Log-Likelihood:    </th> <td> -18245.</td> \n",
       "</tr>\n",
       "<tr>\n",
       "  <th>No. Observations:</th>      <td>  8884</td>      <th>  AIC:               </th> <td>3.650e+04</td>\n",
       "</tr>\n",
       "<tr>\n",
       "  <th>Df Residuals:</th>          <td>  8877</td>      <th>  BIC:               </th> <td>3.655e+04</td>\n",
       "</tr>\n",
       "<tr>\n",
       "  <th>Df Model:</th>              <td>     6</td>      <th>                     </th>     <td> </td>    \n",
       "</tr>\n",
       "<tr>\n",
       "  <th>Covariance Type:</th>      <td>nonrobust</td>    <th>                     </th>     <td> </td>    \n",
       "</tr>\n",
       "</table>\n",
       "<table class=\"simpletable\">\n",
       "<tr>\n",
       "            <td></td>               <th>coef</th>     <th>std err</th>      <th>t</th>      <th>P>|t|</th>  <th>[0.025</th>    <th>0.975]</th>  \n",
       "</tr>\n",
       "<tr>\n",
       "  <th>Intercept</th>             <td>   38.7357</td> <td>    0.042</td> <td>  922.693</td> <td> 0.000</td> <td>   38.653</td> <td>   38.818</td>\n",
       "</tr>\n",
       "<tr>\n",
       "  <th>birthord == 1[T.True]</th> <td>    0.1785</td> <td>    0.066</td> <td>    2.703</td> <td> 0.007</td> <td>    0.049</td> <td>    0.308</td>\n",
       "</tr>\n",
       "<tr>\n",
       "  <th>poverty > 164[T.True]</th> <td>    0.0399</td> <td>    0.043</td> <td>    0.929</td> <td> 0.353</td> <td>   -0.044</td> <td>    0.124</td>\n",
       "</tr>\n",
       "<tr>\n",
       "  <th>pregordr == 1[T.True]</th> <td>   -0.1099</td> <td>    0.068</td> <td>   -1.614</td> <td> 0.107</td> <td>   -0.243</td> <td>    0.024</td>\n",
       "</tr>\n",
       "<tr>\n",
       "  <th>educat > 12[T.True]</th>   <td>    0.0411</td> <td>    0.043</td> <td>    0.959</td> <td> 0.337</td> <td>   -0.043</td> <td>    0.125</td>\n",
       "</tr>\n",
       "<tr>\n",
       "  <th>race == 2[T.True]</th>     <td>    0.1269</td> <td>    0.043</td> <td>    2.974</td> <td> 0.003</td> <td>    0.043</td> <td>    0.211</td>\n",
       "</tr>\n",
       "<tr>\n",
       "  <th>nbrnaliv > 1[T.True]</th>  <td>   -1.4911</td> <td>    0.165</td> <td>   -9.064</td> <td> 0.000</td> <td>   -1.814</td> <td>   -1.169</td>\n",
       "</tr>\n",
       "</table>\n",
       "<table class=\"simpletable\">\n",
       "<tr>\n",
       "  <th>Omnibus:</th>       <td>1603.180</td> <th>  Durbin-Watson:     </th> <td>   1.619</td>\n",
       "</tr>\n",
       "<tr>\n",
       "  <th>Prob(Omnibus):</th>  <td> 0.000</td>  <th>  Jarque-Bera (JB):  </th> <td>6201.864</td>\n",
       "</tr>\n",
       "<tr>\n",
       "  <th>Skew:</th>           <td>-0.861</td>  <th>  Prob(JB):          </th> <td>    0.00</td>\n",
       "</tr>\n",
       "<tr>\n",
       "  <th>Kurtosis:</th>       <td> 6.713</td>  <th>  Cond. No.          </th> <td>    12.8</td>\n",
       "</tr>\n",
       "</table><br/><br/>Warnings:<br/>[1] Standard Errors assume that the covariance matrix of the errors is correctly specified."
      ],
      "text/plain": [
       "<class 'statsmodels.iolib.summary.Summary'>\n",
       "\"\"\"\n",
       "                            OLS Regression Results                            \n",
       "==============================================================================\n",
       "Dep. Variable:               prglngth   R-squared:                       0.012\n",
       "Model:                            OLS   Adj. R-squared:                  0.011\n",
       "Method:                 Least Squares   F-statistic:                     18.06\n",
       "Date:                Sun, 19 Jul 2020   Prob (F-statistic):           6.01e-21\n",
       "Time:                        16:27:17   Log-Likelihood:                -18245.\n",
       "No. Observations:                8884   AIC:                         3.650e+04\n",
       "Df Residuals:                    8877   BIC:                         3.655e+04\n",
       "Df Model:                           6                                         \n",
       "Covariance Type:            nonrobust                                         \n",
       "=========================================================================================\n",
       "                            coef    std err          t      P>|t|      [0.025      0.975]\n",
       "-----------------------------------------------------------------------------------------\n",
       "Intercept                38.7357      0.042    922.693      0.000      38.653      38.818\n",
       "birthord == 1[T.True]     0.1785      0.066      2.703      0.007       0.049       0.308\n",
       "poverty > 164[T.True]     0.0399      0.043      0.929      0.353      -0.044       0.124\n",
       "pregordr == 1[T.True]    -0.1099      0.068     -1.614      0.107      -0.243       0.024\n",
       "educat > 12[T.True]       0.0411      0.043      0.959      0.337      -0.043       0.125\n",
       "race == 2[T.True]         0.1269      0.043      2.974      0.003       0.043       0.211\n",
       "nbrnaliv > 1[T.True]     -1.4911      0.165     -9.064      0.000      -1.814      -1.169\n",
       "==============================================================================\n",
       "Omnibus:                     1603.180   Durbin-Watson:                   1.619\n",
       "Prob(Omnibus):                  0.000   Jarque-Bera (JB):             6201.864\n",
       "Skew:                          -0.861   Prob(JB):                         0.00\n",
       "Kurtosis:                       6.713   Cond. No.                         12.8\n",
       "==============================================================================\n",
       "\n",
       "Warnings:\n",
       "[1] Standard Errors assume that the covariance matrix of the errors is correctly specified.\n",
       "\"\"\""
      ]
     },
     "execution_count": 70,
     "metadata": {},
     "output_type": "execute_result"
    }
   ],
   "source": [
    "# Using the above mentioned attributes to generate a model\n",
    "# model = smf.ols('prglngth ~ birthord==1 + race==2 + nbrnaliv>1', data=live)\n",
    "\n",
    "model = smf.ols('prglngth ~ birthord==1 + poverty > 164 + pregordr==1 + educat > 12 + race ==2 + nbrnaliv>1', data = live2)\n",
    "\n",
    "results = model.fit()\n",
    "results.summary()"
   ]
  },
  {
   "cell_type": "markdown",
   "metadata": {},
   "source": [
    "**Exercise:** If the quantity you want to predict is a count, you can use Poisson regression, which is implemented in StatsModels with a function called `poisson`. It works the same way as `ols` and `logit`. As an exercise, let’s use it to predict how many children a woman has born; in the NSFG dataset, this variable is called `numbabes`.\n",
    "\n",
    "Suppose you meet a woman who is 35 years old, black, and a college graduate whose annual household income exceeds $75,000. How many children would you predict she has born?"
   ]
  },
  {
   "cell_type": "code",
   "execution_count": 71,
   "metadata": {},
   "outputs": [
    {
     "data": {
      "text/plain": [
       "Index(['caseid', 'pregordr', 'howpreg_n', 'howpreg_p', 'moscurrp', 'nowprgdk',\n",
       "       'pregend1', 'pregend2', 'nbrnaliv', 'multbrth',\n",
       "       ...\n",
       "       'pubassis_i_r', 'basewgt_r', 'adj_mod_basewgt_r', 'finalwgt_r',\n",
       "       'secu_r', 'sest_r', 'cmintvw_r', 'cmlstyr', 'screentime', 'intvlngth'],\n",
       "      dtype='object', length=3331)"
      ]
     },
     "execution_count": 71,
     "metadata": {},
     "output_type": "execute_result"
    }
   ],
   "source": [
    "# Solution goes here\n",
    "# loading the Pregnancy data and combining wth the nsfg data\n",
    "# In order to predict the number of babies which is available in the nsfg data\n",
    "import nsfg\n",
    "\n",
    "live, firsts, others = first.MakeFrames()\n",
    "\n",
    "resp = nsfg.ReadFemResp()\n",
    "resp.index = resp.caseid\n",
    "combined_df = live.join(resp, on='caseid', rsuffix='_r')\n",
    "\n",
    "combined_df.columns"
   ]
  },
  {
   "cell_type": "code",
   "execution_count": 72,
   "metadata": {},
   "outputs": [],
   "source": [
    "# Solution goes here\n",
    "# Creating a subset of the dataset using only the dependant variable and the explanatory variables from the combined dataframe\n",
    "\n",
    "df1=combined_df[['age_r','race','totincr','educat','numbabes']]"
   ]
  },
  {
   "cell_type": "markdown",
   "metadata": {},
   "source": [
    "Now we can predict the number of children for a woman who is 35 years old, black, and a college\n",
    "graduate whose annual household income exceeds $75,000"
   ]
  },
  {
   "cell_type": "code",
   "execution_count": 73,
   "metadata": {},
   "outputs": [],
   "source": [
    "# Solution goes here\n",
    "# formula1 is linear\n",
    "formula1='numbabes ~ age_r + C(race) + totincr + educat'\n",
    "# Formula2 is making it non linear by taking a square of the age\n",
    "combined_df['age2'] = combined_df.age_r**2\n",
    "formula2='numbabes ~ age_r + age2 + C(race) + totincr + educat'"
   ]
  },
  {
   "cell_type": "code",
   "execution_count": 74,
   "metadata": {},
   "outputs": [
    {
     "name": "stdout",
     "output_type": "stream",
     "text": [
      "Optimization terminated successfully.\n",
      "         Current function value: 1.688168\n",
      "         Iterations 5\n"
     ]
    },
    {
     "data": {
      "text/html": [
       "<table class=\"simpletable\">\n",
       "<caption>Poisson Regression Results</caption>\n",
       "<tr>\n",
       "  <th>Dep. Variable:</th>       <td>numbabes</td>     <th>  No. Observations:  </th>   <td>  9148</td>  \n",
       "</tr>\n",
       "<tr>\n",
       "  <th>Model:</th>                <td>Poisson</td>     <th>  Df Residuals:      </th>   <td>  9142</td>  \n",
       "</tr>\n",
       "<tr>\n",
       "  <th>Method:</th>                 <td>MLE</td>       <th>  Df Model:          </th>   <td>     5</td>  \n",
       "</tr>\n",
       "<tr>\n",
       "  <th>Date:</th>            <td>Sun, 19 Jul 2020</td> <th>  Pseudo R-squ.:     </th>   <td>0.03060</td> \n",
       "</tr>\n",
       "<tr>\n",
       "  <th>Time:</th>                <td>16:28:03</td>     <th>  Log-Likelihood:    </th>  <td> -15443.</td> \n",
       "</tr>\n",
       "<tr>\n",
       "  <th>converged:</th>             <td>True</td>       <th>  LL-Null:           </th>  <td> -15931.</td> \n",
       "</tr>\n",
       "<tr>\n",
       "  <th>Covariance Type:</th>     <td>nonrobust</td>    <th>  LLR p-value:       </th> <td>1.514e-208</td>\n",
       "</tr>\n",
       "</table>\n",
       "<table class=\"simpletable\">\n",
       "<tr>\n",
       "        <td></td>          <th>coef</th>     <th>std err</th>      <th>z</th>      <th>P>|z|</th>  <th>[0.025</th>    <th>0.975]</th>  \n",
       "</tr>\n",
       "<tr>\n",
       "  <th>Intercept</th>    <td>    1.0797</td> <td>    0.044</td> <td>   24.278</td> <td> 0.000</td> <td>    0.993</td> <td>    1.167</td>\n",
       "</tr>\n",
       "<tr>\n",
       "  <th>C(race)[T.2]</th> <td>   -0.1418</td> <td>    0.014</td> <td>   -9.806</td> <td> 0.000</td> <td>   -0.170</td> <td>   -0.113</td>\n",
       "</tr>\n",
       "<tr>\n",
       "  <th>C(race)[T.3]</th> <td>   -0.0912</td> <td>    0.024</td> <td>   -3.765</td> <td> 0.000</td> <td>   -0.139</td> <td>   -0.044</td>\n",
       "</tr>\n",
       "<tr>\n",
       "  <th>age_r</th>        <td>    0.0206</td> <td>    0.001</td> <td>   20.697</td> <td> 0.000</td> <td>    0.019</td> <td>    0.023</td>\n",
       "</tr>\n",
       "<tr>\n",
       "  <th>totincr</th>      <td>   -0.0178</td> <td>    0.002</td> <td>   -9.531</td> <td> 0.000</td> <td>   -0.022</td> <td>   -0.014</td>\n",
       "</tr>\n",
       "<tr>\n",
       "  <th>educat</th>       <td>   -0.0436</td> <td>    0.003</td> <td>  -15.063</td> <td> 0.000</td> <td>   -0.049</td> <td>   -0.038</td>\n",
       "</tr>\n",
       "</table>"
      ],
      "text/plain": [
       "<class 'statsmodels.iolib.summary.Summary'>\n",
       "\"\"\"\n",
       "                          Poisson Regression Results                          \n",
       "==============================================================================\n",
       "Dep. Variable:               numbabes   No. Observations:                 9148\n",
       "Model:                        Poisson   Df Residuals:                     9142\n",
       "Method:                           MLE   Df Model:                            5\n",
       "Date:                Sun, 19 Jul 2020   Pseudo R-squ.:                 0.03060\n",
       "Time:                        16:28:03   Log-Likelihood:                -15443.\n",
       "converged:                       True   LL-Null:                       -15931.\n",
       "Covariance Type:            nonrobust   LLR p-value:                1.514e-208\n",
       "================================================================================\n",
       "                   coef    std err          z      P>|z|      [0.025      0.975]\n",
       "--------------------------------------------------------------------------------\n",
       "Intercept        1.0797      0.044     24.278      0.000       0.993       1.167\n",
       "C(race)[T.2]    -0.1418      0.014     -9.806      0.000      -0.170      -0.113\n",
       "C(race)[T.3]    -0.0912      0.024     -3.765      0.000      -0.139      -0.044\n",
       "age_r            0.0206      0.001     20.697      0.000       0.019       0.023\n",
       "totincr         -0.0178      0.002     -9.531      0.000      -0.022      -0.014\n",
       "educat          -0.0436      0.003    -15.063      0.000      -0.049      -0.038\n",
       "================================================================================\n",
       "\"\"\""
      ]
     },
     "execution_count": 74,
     "metadata": {},
     "output_type": "execute_result"
    }
   ],
   "source": [
    "model = smf.poisson(formula1, data=combined_df)\n",
    "results1 = model.fit()\n",
    "results1.summary()"
   ]
  },
  {
   "cell_type": "code",
   "execution_count": 75,
   "metadata": {},
   "outputs": [
    {
     "data": {
      "text/plain": [
       "0    2.352303\n",
       "dtype: float64"
      ]
     },
     "execution_count": 75,
     "metadata": {},
     "output_type": "execute_result"
    }
   ],
   "source": [
    "# Prediction based on Model 1\n",
    "columns = ['age_r', 'race', 'totincr', 'educat']\n",
    "new = pd.DataFrame([[35, 1, 14, 16]], columns=columns)\n",
    "results1.predict(new)"
   ]
  },
  {
   "cell_type": "code",
   "execution_count": 76,
   "metadata": {},
   "outputs": [
    {
     "name": "stdout",
     "output_type": "stream",
     "text": [
      "Optimization terminated successfully.\n",
      "         Current function value: 1.678215\n",
      "         Iterations 7\n"
     ]
    },
    {
     "data": {
      "text/html": [
       "<table class=\"simpletable\">\n",
       "<caption>Poisson Regression Results</caption>\n",
       "<tr>\n",
       "  <th>Dep. Variable:</th>       <td>numbabes</td>     <th>  No. Observations:  </th>   <td>  9148</td>  \n",
       "</tr>\n",
       "<tr>\n",
       "  <th>Model:</th>                <td>Poisson</td>     <th>  Df Residuals:      </th>   <td>  9141</td>  \n",
       "</tr>\n",
       "<tr>\n",
       "  <th>Method:</th>                 <td>MLE</td>       <th>  Df Model:          </th>   <td>     6</td>  \n",
       "</tr>\n",
       "<tr>\n",
       "  <th>Date:</th>            <td>Sun, 19 Jul 2020</td> <th>  Pseudo R-squ.:     </th>   <td>0.03632</td> \n",
       "</tr>\n",
       "<tr>\n",
       "  <th>Time:</th>                <td>16:28:06</td>     <th>  Log-Likelihood:    </th>  <td> -15352.</td> \n",
       "</tr>\n",
       "<tr>\n",
       "  <th>converged:</th>             <td>True</td>       <th>  LL-Null:           </th>  <td> -15931.</td> \n",
       "</tr>\n",
       "<tr>\n",
       "  <th>Covariance Type:</th>     <td>nonrobust</td>    <th>  LLR p-value:       </th> <td>9.041e-247</td>\n",
       "</tr>\n",
       "</table>\n",
       "<table class=\"simpletable\">\n",
       "<tr>\n",
       "        <td></td>          <th>coef</th>     <th>std err</th>      <th>z</th>      <th>P>|z|</th>  <th>[0.025</th>    <th>0.975]</th>  \n",
       "</tr>\n",
       "<tr>\n",
       "  <th>Intercept</th>    <td>   -1.0197</td> <td>    0.166</td> <td>   -6.132</td> <td> 0.000</td> <td>   -1.346</td> <td>   -0.694</td>\n",
       "</tr>\n",
       "<tr>\n",
       "  <th>C(race)[T.2]</th> <td>   -0.1422</td> <td>    0.014</td> <td>   -9.827</td> <td> 0.000</td> <td>   -0.171</td> <td>   -0.114</td>\n",
       "</tr>\n",
       "<tr>\n",
       "  <th>C(race)[T.3]</th> <td>   -0.0980</td> <td>    0.024</td> <td>   -4.047</td> <td> 0.000</td> <td>   -0.146</td> <td>   -0.051</td>\n",
       "</tr>\n",
       "<tr>\n",
       "  <th>age_r</th>        <td>    0.1544</td> <td>    0.010</td> <td>   15.157</td> <td> 0.000</td> <td>    0.134</td> <td>    0.174</td>\n",
       "</tr>\n",
       "<tr>\n",
       "  <th>age2</th>         <td>   -0.0020</td> <td>    0.000</td> <td>  -13.230</td> <td> 0.000</td> <td>   -0.002</td> <td>   -0.002</td>\n",
       "</tr>\n",
       "<tr>\n",
       "  <th>totincr</th>      <td>   -0.0186</td> <td>    0.002</td> <td>   -9.904</td> <td> 0.000</td> <td>   -0.022</td> <td>   -0.015</td>\n",
       "</tr>\n",
       "<tr>\n",
       "  <th>educat</th>       <td>   -0.0464</td> <td>    0.003</td> <td>  -15.994</td> <td> 0.000</td> <td>   -0.052</td> <td>   -0.041</td>\n",
       "</tr>\n",
       "</table>"
      ],
      "text/plain": [
       "<class 'statsmodels.iolib.summary.Summary'>\n",
       "\"\"\"\n",
       "                          Poisson Regression Results                          \n",
       "==============================================================================\n",
       "Dep. Variable:               numbabes   No. Observations:                 9148\n",
       "Model:                        Poisson   Df Residuals:                     9141\n",
       "Method:                           MLE   Df Model:                            6\n",
       "Date:                Sun, 19 Jul 2020   Pseudo R-squ.:                 0.03632\n",
       "Time:                        16:28:06   Log-Likelihood:                -15352.\n",
       "converged:                       True   LL-Null:                       -15931.\n",
       "Covariance Type:            nonrobust   LLR p-value:                9.041e-247\n",
       "================================================================================\n",
       "                   coef    std err          z      P>|z|      [0.025      0.975]\n",
       "--------------------------------------------------------------------------------\n",
       "Intercept       -1.0197      0.166     -6.132      0.000      -1.346      -0.694\n",
       "C(race)[T.2]    -0.1422      0.014     -9.827      0.000      -0.171      -0.114\n",
       "C(race)[T.3]    -0.0980      0.024     -4.047      0.000      -0.146      -0.051\n",
       "age_r            0.1544      0.010     15.157      0.000       0.134       0.174\n",
       "age2            -0.0020      0.000    -13.230      0.000      -0.002      -0.002\n",
       "totincr         -0.0186      0.002     -9.904      0.000      -0.022      -0.015\n",
       "educat          -0.0464      0.003    -15.994      0.000      -0.052      -0.041\n",
       "================================================================================\n",
       "\"\"\""
      ]
     },
     "execution_count": 76,
     "metadata": {},
     "output_type": "execute_result"
    }
   ],
   "source": [
    "model = smf.poisson(formula2, data=combined_df)\n",
    "results2 = model.fit()\n",
    "results2.summary()"
   ]
  },
  {
   "cell_type": "code",
   "execution_count": 77,
   "metadata": {},
   "outputs": [
    {
     "data": {
      "text/plain": [
       "0    2.507703\n",
       "dtype: float64"
      ]
     },
     "execution_count": 77,
     "metadata": {},
     "output_type": "execute_result"
    }
   ],
   "source": [
    "# Prediction based on Model 2\n",
    "columns = ['age_r', 'age2','race', 'totincr', 'educat']\n",
    "new = pd.DataFrame([[35,35**2, 1, 14, 16]], columns=columns)\n",
    "results2.predict(new)"
   ]
  },
  {
   "cell_type": "markdown",
   "metadata": {},
   "source": [
    "Suppose you meet a woman who is 35 years old, black, and a college graduate whose annual household income exceeds $75,000. How many children would you predict she has born?\n",
    "Ans: 2 or 3"
   ]
  },
  {
   "cell_type": "markdown",
   "metadata": {},
   "source": [
    "**Exercise:** If the quantity you want to predict is categorical, you can use multinomial logistic regression, which is implemented in StatsModels with a function called `mnlogit`. As an exercise, let’s use it to guess whether a woman is married, cohabitating, widowed, divorced, separated, or never married; in the NSFG dataset, marital status is encoded in a variable called `rmarital`.\n",
    "\n",
    "Suppose you meet a woman who is 25 years old, white, and a high school graduate whose annual household income is about $45,000. What is the probability that she is married, cohabitating, etc?"
   ]
  },
  {
   "cell_type": "code",
   "execution_count": 78,
   "metadata": {},
   "outputs": [
    {
     "data": {
      "text/plain": [
       "(9148, 6)"
      ]
     },
     "execution_count": 78,
     "metadata": {},
     "output_type": "execute_result"
    }
   ],
   "source": [
    "# Solution goes here\n",
    "# building a new dataframe with the relevant explanatory variables that are significant\n",
    "\n",
    "df_logit=combined_df[['age_r','age2','race','totincr','educat','rmarital']]\n",
    "df_logit.shape"
   ]
  },
  {
   "cell_type": "code",
   "execution_count": 79,
   "metadata": {},
   "outputs": [
    {
     "data": {
      "text/plain": [
       "<bound method NDFrame.describe of        age_r  age2  race  totincr  educat  rmarital\n",
       "0         44  1936     2       14      16         1\n",
       "1         44  1936     2       14      16         1\n",
       "2         20   400     1        4      11         6\n",
       "3         20   400     1        4      11         6\n",
       "4         20   400     1        4      11         6\n",
       "...      ...   ...   ...      ...     ...       ...\n",
       "13581     35  1225     3        8      17         1\n",
       "13584     31   961     2        8      12         1\n",
       "13588     37  1369     2       10      13         1\n",
       "13591     37  1369     2       10      13         1\n",
       "13592     37  1369     2       10      13         1\n",
       "\n",
       "[9148 rows x 6 columns]>"
      ]
     },
     "execution_count": 79,
     "metadata": {},
     "output_type": "execute_result"
    }
   ],
   "source": [
    "df_logit.describe"
   ]
  },
  {
   "cell_type": "code",
   "execution_count": 80,
   "metadata": {},
   "outputs": [
    {
     "name": "stdout",
     "output_type": "stream",
     "text": [
      "Optimization terminated successfully.\n",
      "         Current function value: 1.092083\n",
      "         Iterations 8\n"
     ]
    },
    {
     "data": {
      "text/html": [
       "<table class=\"simpletable\">\n",
       "<caption>MNLogit Regression Results</caption>\n",
       "<tr>\n",
       "  <th>Dep. Variable:</th>       <td>rmarital</td>     <th>  No. Observations:  </th>  <td>  9148</td> \n",
       "</tr>\n",
       "<tr>\n",
       "  <th>Model:</th>                <td>MNLogit</td>     <th>  Df Residuals:      </th>  <td>  9113</td> \n",
       "</tr>\n",
       "<tr>\n",
       "  <th>Method:</th>                 <td>MLE</td>       <th>  Df Model:          </th>  <td>    30</td> \n",
       "</tr>\n",
       "<tr>\n",
       "  <th>Date:</th>            <td>Sun, 19 Jul 2020</td> <th>  Pseudo R-squ.:     </th>  <td>0.1661</td> \n",
       "</tr>\n",
       "<tr>\n",
       "  <th>Time:</th>                <td>16:28:15</td>     <th>  Log-Likelihood:    </th> <td> -9990.4</td>\n",
       "</tr>\n",
       "<tr>\n",
       "  <th>converged:</th>             <td>True</td>       <th>  LL-Null:           </th> <td> -11981.</td>\n",
       "</tr>\n",
       "<tr>\n",
       "  <th>Covariance Type:</th>     <td>nonrobust</td>    <th>  LLR p-value:       </th>  <td> 0.000</td> \n",
       "</tr>\n",
       "</table>\n",
       "<table class=\"simpletable\">\n",
       "<tr>\n",
       "   <th>rmarital=2</th>     <th>coef</th>     <th>std err</th>      <th>z</th>      <th>P>|z|</th>  <th>[0.025</th>    <th>0.975]</th>  \n",
       "</tr>\n",
       "<tr>\n",
       "  <th>Intercept</th>    <td>    8.9153</td> <td>    0.792</td> <td>   11.251</td> <td> 0.000</td> <td>    7.362</td> <td>   10.468</td>\n",
       "</tr>\n",
       "<tr>\n",
       "  <th>C(race)[T.2]</th> <td>   -0.9260</td> <td>    0.087</td> <td>  -10.705</td> <td> 0.000</td> <td>   -1.096</td> <td>   -0.756</td>\n",
       "</tr>\n",
       "<tr>\n",
       "  <th>C(race)[T.3]</th> <td>   -0.6335</td> <td>    0.133</td> <td>   -4.747</td> <td> 0.000</td> <td>   -0.895</td> <td>   -0.372</td>\n",
       "</tr>\n",
       "<tr>\n",
       "  <th>age_r</th>        <td>   -0.3567</td> <td>    0.050</td> <td>   -7.132</td> <td> 0.000</td> <td>   -0.455</td> <td>   -0.259</td>\n",
       "</tr>\n",
       "<tr>\n",
       "  <th>age2</th>         <td>    0.0047</td> <td>    0.001</td> <td>    6.054</td> <td> 0.000</td> <td>    0.003</td> <td>    0.006</td>\n",
       "</tr>\n",
       "<tr>\n",
       "  <th>totincr</th>      <td>   -0.1301</td> <td>    0.011</td> <td>  -11.475</td> <td> 0.000</td> <td>   -0.152</td> <td>   -0.108</td>\n",
       "</tr>\n",
       "<tr>\n",
       "  <th>educat</th>       <td>   -0.1940</td> <td>    0.018</td> <td>  -10.534</td> <td> 0.000</td> <td>   -0.230</td> <td>   -0.158</td>\n",
       "</tr>\n",
       "<tr>\n",
       "   <th>rmarital=3</th>     <th>coef</th>     <th>std err</th>      <th>z</th>      <th>P>|z|</th>  <th>[0.025</th>    <th>0.975]</th>  \n",
       "</tr>\n",
       "<tr>\n",
       "  <th>Intercept</th>    <td>    2.9927</td> <td>    2.970</td> <td>    1.007</td> <td> 0.314</td> <td>   -2.829</td> <td>    8.815</td>\n",
       "</tr>\n",
       "<tr>\n",
       "  <th>C(race)[T.2]</th> <td>   -0.3963</td> <td>    0.235</td> <td>   -1.685</td> <td> 0.092</td> <td>   -0.857</td> <td>    0.065</td>\n",
       "</tr>\n",
       "<tr>\n",
       "  <th>C(race)[T.3]</th> <td>    0.0650</td> <td>    0.336</td> <td>    0.194</td> <td> 0.846</td> <td>   -0.593</td> <td>    0.723</td>\n",
       "</tr>\n",
       "<tr>\n",
       "  <th>age_r</th>        <td>   -0.3141</td> <td>    0.174</td> <td>   -1.806</td> <td> 0.071</td> <td>   -0.655</td> <td>    0.027</td>\n",
       "</tr>\n",
       "<tr>\n",
       "  <th>age2</th>         <td>    0.0064</td> <td>    0.003</td> <td>    2.532</td> <td> 0.011</td> <td>    0.001</td> <td>    0.011</td>\n",
       "</tr>\n",
       "<tr>\n",
       "  <th>totincr</th>      <td>   -0.3217</td> <td>    0.032</td> <td>  -10.135</td> <td> 0.000</td> <td>   -0.384</td> <td>   -0.259</td>\n",
       "</tr>\n",
       "<tr>\n",
       "  <th>educat</th>       <td>   -0.1093</td> <td>    0.048</td> <td>   -2.266</td> <td> 0.023</td> <td>   -0.204</td> <td>   -0.015</td>\n",
       "</tr>\n",
       "<tr>\n",
       "   <th>rmarital=4</th>     <th>coef</th>     <th>std err</th>      <th>z</th>      <th>P>|z|</th>  <th>[0.025</th>    <th>0.975]</th>  \n",
       "</tr>\n",
       "<tr>\n",
       "  <th>Intercept</th>    <td>   -3.6475</td> <td>    1.193</td> <td>   -3.059</td> <td> 0.002</td> <td>   -5.985</td> <td>   -1.310</td>\n",
       "</tr>\n",
       "<tr>\n",
       "  <th>C(race)[T.2]</th> <td>   -0.3303</td> <td>    0.091</td> <td>   -3.641</td> <td> 0.000</td> <td>   -0.508</td> <td>   -0.153</td>\n",
       "</tr>\n",
       "<tr>\n",
       "  <th>C(race)[T.3]</th> <td>   -0.8227</td> <td>    0.170</td> <td>   -4.853</td> <td> 0.000</td> <td>   -1.155</td> <td>   -0.490</td>\n",
       "</tr>\n",
       "<tr>\n",
       "  <th>age_r</th>        <td>    0.1238</td> <td>    0.070</td> <td>    1.763</td> <td> 0.078</td> <td>   -0.014</td> <td>    0.261</td>\n",
       "</tr>\n",
       "<tr>\n",
       "  <th>age2</th>         <td>   -0.0008</td> <td>    0.001</td> <td>   -0.814</td> <td> 0.416</td> <td>   -0.003</td> <td>    0.001</td>\n",
       "</tr>\n",
       "<tr>\n",
       "  <th>totincr</th>      <td>   -0.2288</td> <td>    0.011</td> <td>  -20.058</td> <td> 0.000</td> <td>   -0.251</td> <td>   -0.206</td>\n",
       "</tr>\n",
       "<tr>\n",
       "  <th>educat</th>       <td>    0.0661</td> <td>    0.016</td> <td>    4.015</td> <td> 0.000</td> <td>    0.034</td> <td>    0.098</td>\n",
       "</tr>\n",
       "<tr>\n",
       "   <th>rmarital=5</th>     <th>coef</th>     <th>std err</th>      <th>z</th>      <th>P>|z|</th>  <th>[0.025</th>    <th>0.975]</th>  \n",
       "</tr>\n",
       "<tr>\n",
       "  <th>Intercept</th>    <td>   -2.3978</td> <td>    1.269</td> <td>   -1.889</td> <td> 0.059</td> <td>   -4.886</td> <td>    0.090</td>\n",
       "</tr>\n",
       "<tr>\n",
       "  <th>C(race)[T.2]</th> <td>   -1.0493</td> <td>    0.101</td> <td>  -10.366</td> <td> 0.000</td> <td>   -1.248</td> <td>   -0.851</td>\n",
       "</tr>\n",
       "<tr>\n",
       "  <th>C(race)[T.3]</th> <td>   -0.6065</td> <td>    0.154</td> <td>   -3.937</td> <td> 0.000</td> <td>   -0.908</td> <td>   -0.305</td>\n",
       "</tr>\n",
       "<tr>\n",
       "  <th>age_r</th>        <td>    0.2084</td> <td>    0.077</td> <td>    2.699</td> <td> 0.007</td> <td>    0.057</td> <td>    0.360</td>\n",
       "</tr>\n",
       "<tr>\n",
       "  <th>age2</th>         <td>   -0.0030</td> <td>    0.001</td> <td>   -2.619</td> <td> 0.009</td> <td>   -0.005</td> <td>   -0.001</td>\n",
       "</tr>\n",
       "<tr>\n",
       "  <th>totincr</th>      <td>   -0.2900</td> <td>    0.014</td> <td>  -20.314</td> <td> 0.000</td> <td>   -0.318</td> <td>   -0.262</td>\n",
       "</tr>\n",
       "<tr>\n",
       "  <th>educat</th>       <td>   -0.0176</td> <td>    0.021</td> <td>   -0.835</td> <td> 0.404</td> <td>   -0.059</td> <td>    0.024</td>\n",
       "</tr>\n",
       "<tr>\n",
       "   <th>rmarital=6</th>     <th>coef</th>     <th>std err</th>      <th>z</th>      <th>P>|z|</th>  <th>[0.025</th>    <th>0.975]</th>  \n",
       "</tr>\n",
       "<tr>\n",
       "  <th>Intercept</th>    <td>    8.1722</td> <td>    0.797</td> <td>   10.252</td> <td> 0.000</td> <td>    6.610</td> <td>    9.734</td>\n",
       "</tr>\n",
       "<tr>\n",
       "  <th>C(race)[T.2]</th> <td>   -2.1628</td> <td>    0.079</td> <td>  -27.532</td> <td> 0.000</td> <td>   -2.317</td> <td>   -2.009</td>\n",
       "</tr>\n",
       "<tr>\n",
       "  <th>C(race)[T.3]</th> <td>   -1.9701</td> <td>    0.136</td> <td>  -14.472</td> <td> 0.000</td> <td>   -2.237</td> <td>   -1.703</td>\n",
       "</tr>\n",
       "<tr>\n",
       "  <th>age_r</th>        <td>   -0.2188</td> <td>    0.050</td> <td>   -4.337</td> <td> 0.000</td> <td>   -0.318</td> <td>   -0.120</td>\n",
       "</tr>\n",
       "<tr>\n",
       "  <th>age2</th>         <td>    0.0020</td> <td>    0.001</td> <td>    2.505</td> <td> 0.012</td> <td>    0.000</td> <td>    0.004</td>\n",
       "</tr>\n",
       "<tr>\n",
       "  <th>totincr</th>      <td>   -0.2888</td> <td>    0.011</td> <td>  -25.418</td> <td> 0.000</td> <td>   -0.311</td> <td>   -0.267</td>\n",
       "</tr>\n",
       "<tr>\n",
       "  <th>educat</th>       <td>   -0.0802</td> <td>    0.018</td> <td>   -4.582</td> <td> 0.000</td> <td>   -0.115</td> <td>   -0.046</td>\n",
       "</tr>\n",
       "</table>"
      ],
      "text/plain": [
       "<class 'statsmodels.iolib.summary.Summary'>\n",
       "\"\"\"\n",
       "                          MNLogit Regression Results                          \n",
       "==============================================================================\n",
       "Dep. Variable:               rmarital   No. Observations:                 9148\n",
       "Model:                        MNLogit   Df Residuals:                     9113\n",
       "Method:                           MLE   Df Model:                           30\n",
       "Date:                Sun, 19 Jul 2020   Pseudo R-squ.:                  0.1661\n",
       "Time:                        16:28:15   Log-Likelihood:                -9990.4\n",
       "converged:                       True   LL-Null:                       -11981.\n",
       "Covariance Type:            nonrobust   LLR p-value:                     0.000\n",
       "================================================================================\n",
       "  rmarital=2       coef    std err          z      P>|z|      [0.025      0.975]\n",
       "--------------------------------------------------------------------------------\n",
       "Intercept        8.9153      0.792     11.251      0.000       7.362      10.468\n",
       "C(race)[T.2]    -0.9260      0.087    -10.705      0.000      -1.096      -0.756\n",
       "C(race)[T.3]    -0.6335      0.133     -4.747      0.000      -0.895      -0.372\n",
       "age_r           -0.3567      0.050     -7.132      0.000      -0.455      -0.259\n",
       "age2             0.0047      0.001      6.054      0.000       0.003       0.006\n",
       "totincr         -0.1301      0.011    -11.475      0.000      -0.152      -0.108\n",
       "educat          -0.1940      0.018    -10.534      0.000      -0.230      -0.158\n",
       "--------------------------------------------------------------------------------\n",
       "  rmarital=3       coef    std err          z      P>|z|      [0.025      0.975]\n",
       "--------------------------------------------------------------------------------\n",
       "Intercept        2.9927      2.970      1.007      0.314      -2.829       8.815\n",
       "C(race)[T.2]    -0.3963      0.235     -1.685      0.092      -0.857       0.065\n",
       "C(race)[T.3]     0.0650      0.336      0.194      0.846      -0.593       0.723\n",
       "age_r           -0.3141      0.174     -1.806      0.071      -0.655       0.027\n",
       "age2             0.0064      0.003      2.532      0.011       0.001       0.011\n",
       "totincr         -0.3217      0.032    -10.135      0.000      -0.384      -0.259\n",
       "educat          -0.1093      0.048     -2.266      0.023      -0.204      -0.015\n",
       "--------------------------------------------------------------------------------\n",
       "  rmarital=4       coef    std err          z      P>|z|      [0.025      0.975]\n",
       "--------------------------------------------------------------------------------\n",
       "Intercept       -3.6475      1.193     -3.059      0.002      -5.985      -1.310\n",
       "C(race)[T.2]    -0.3303      0.091     -3.641      0.000      -0.508      -0.153\n",
       "C(race)[T.3]    -0.8227      0.170     -4.853      0.000      -1.155      -0.490\n",
       "age_r            0.1238      0.070      1.763      0.078      -0.014       0.261\n",
       "age2            -0.0008      0.001     -0.814      0.416      -0.003       0.001\n",
       "totincr         -0.2288      0.011    -20.058      0.000      -0.251      -0.206\n",
       "educat           0.0661      0.016      4.015      0.000       0.034       0.098\n",
       "--------------------------------------------------------------------------------\n",
       "  rmarital=5       coef    std err          z      P>|z|      [0.025      0.975]\n",
       "--------------------------------------------------------------------------------\n",
       "Intercept       -2.3978      1.269     -1.889      0.059      -4.886       0.090\n",
       "C(race)[T.2]    -1.0493      0.101    -10.366      0.000      -1.248      -0.851\n",
       "C(race)[T.3]    -0.6065      0.154     -3.937      0.000      -0.908      -0.305\n",
       "age_r            0.2084      0.077      2.699      0.007       0.057       0.360\n",
       "age2            -0.0030      0.001     -2.619      0.009      -0.005      -0.001\n",
       "totincr         -0.2900      0.014    -20.314      0.000      -0.318      -0.262\n",
       "educat          -0.0176      0.021     -0.835      0.404      -0.059       0.024\n",
       "--------------------------------------------------------------------------------\n",
       "  rmarital=6       coef    std err          z      P>|z|      [0.025      0.975]\n",
       "--------------------------------------------------------------------------------\n",
       "Intercept        8.1722      0.797     10.252      0.000       6.610       9.734\n",
       "C(race)[T.2]    -2.1628      0.079    -27.532      0.000      -2.317      -2.009\n",
       "C(race)[T.3]    -1.9701      0.136    -14.472      0.000      -2.237      -1.703\n",
       "age_r           -0.2188      0.050     -4.337      0.000      -0.318      -0.120\n",
       "age2             0.0020      0.001      2.505      0.012       0.000       0.004\n",
       "totincr         -0.2888      0.011    -25.418      0.000      -0.311      -0.267\n",
       "educat          -0.0802      0.018     -4.582      0.000      -0.115      -0.046\n",
       "================================================================================\n",
       "\"\"\""
      ]
     },
     "execution_count": 80,
     "metadata": {},
     "output_type": "execute_result"
    }
   ],
   "source": [
    "# building the model\n",
    "formula = 'rmarital ~ age_r + age2 + C(race) + totincr + educat'\n",
    "model = smf.mnlogit(formula, data = df_logit)\n",
    "results = model.fit()\n",
    "results.summary()"
   ]
  },
  {
   "cell_type": "markdown",
   "metadata": {},
   "source": [
    "Make a prediction for a woman who is 25 years old, white, and a high\n",
    "school graduate whose annual household income is about $45,000."
   ]
  },
  {
   "cell_type": "code",
   "execution_count": 81,
   "metadata": {},
   "outputs": [
    {
     "data": {
      "text/html": [
       "<div>\n",
       "<style scoped>\n",
       "    .dataframe tbody tr th:only-of-type {\n",
       "        vertical-align: middle;\n",
       "    }\n",
       "\n",
       "    .dataframe tbody tr th {\n",
       "        vertical-align: top;\n",
       "    }\n",
       "\n",
       "    .dataframe thead th {\n",
       "        text-align: right;\n",
       "    }\n",
       "</style>\n",
       "<table border=\"1\" class=\"dataframe\">\n",
       "  <thead>\n",
       "    <tr style=\"text-align: right;\">\n",
       "      <th></th>\n",
       "      <th>0</th>\n",
       "      <th>1</th>\n",
       "      <th>2</th>\n",
       "      <th>3</th>\n",
       "      <th>4</th>\n",
       "      <th>5</th>\n",
       "    </tr>\n",
       "  </thead>\n",
       "  <tbody>\n",
       "    <tr>\n",
       "      <th>0</th>\n",
       "      <td>0.745689</td>\n",
       "      <td>0.128291</td>\n",
       "      <td>0.001624</td>\n",
       "      <td>0.032801</td>\n",
       "      <td>0.021887</td>\n",
       "      <td>0.069708</td>\n",
       "    </tr>\n",
       "  </tbody>\n",
       "</table>\n",
       "</div>"
      ],
      "text/plain": [
       "          0         1         2         3         4         5\n",
       "0  0.745689  0.128291  0.001624  0.032801  0.021887  0.069708"
      ]
     },
     "execution_count": 81,
     "metadata": {},
     "output_type": "execute_result"
    }
   ],
   "source": [
    "# Solution goes here\n",
    "columns = ['age_r','age2','race','totincr','educat']\n",
    "d = pd.DataFrame([[25, 25**2,2,11,12]], columns=columns)\n",
    "results.predict(d)"
   ]
  },
  {
   "cell_type": "markdown",
   "metadata": {},
   "source": [
    "As per the above output \n",
    "This woman has a 75% chance of being currently married,\n",
    "a 13% chance of being \"not married but living with opposite sex partner\" "
   ]
  }
 ],
 "metadata": {
  "kernelspec": {
   "display_name": "Python 3",
   "language": "python",
   "name": "python3"
  },
  "language_info": {
   "codemirror_mode": {
    "name": "ipython",
    "version": 3
   },
   "file_extension": ".py",
   "mimetype": "text/x-python",
   "name": "python",
   "nbconvert_exporter": "python",
   "pygments_lexer": "ipython3",
   "version": "3.7.6"
  }
 },
 "nbformat": 4,
 "nbformat_minor": 1
}
