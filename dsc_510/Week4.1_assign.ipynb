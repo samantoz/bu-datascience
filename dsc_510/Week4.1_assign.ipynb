{
 "cells": [
  {
   "cell_type": "code",
   "execution_count": 28,
   "metadata": {},
   "outputs": [
    {
     "name": "stdout",
     "output_type": "stream",
     "text": [
      "Welcome to Fiber Optic Store Online \n",
      "\n",
      "What is the name of your company?\n",
      "\n"
     ]
    },
    {
     "name": "stdin",
     "output_type": "stream",
     "text": [
      " Hello World\n"
     ]
    },
    {
     "name": "stdout",
     "output_type": "stream",
     "text": [
      "What is the length of the cable?\n",
      "\n"
     ]
    },
    {
     "name": "stdin",
     "output_type": "stream",
     "text": [
      " 10\n"
     ]
    },
    {
     "name": "stdout",
     "output_type": "stream",
     "text": [
      "INVOICE for Hello World\n",
      "Fiber Optic Store Online \n",
      "\n",
      "8.70\n",
      "Length of Fiber Optic Cable Ordered: 10.00 ft\n",
      "Cable Cost                 @0.87   : $8.70\n",
      "Tax (7.5%)                         : $0.65\n",
      "Total Cost of Cable                : $9.35\n"
     ]
    }
   ],
   "source": [
    "# course: DSC511\n",
    "# assignment: 4.1\n",
    "# date: 04/04/2020\n",
    "# name: Arindam Samanta\n",
    "# description: Implementing functions in a program\n",
    "\n",
    "# Display a welcome message for your user.\n",
    "print ( 'Welcome to Fiber Optic Store Online \\n' )\n",
    "\n",
    "# Retrieve the company name from the user\n",
    "print ( 'What is the name of your company?\\n' )\n",
    "CompName = input ()\n",
    "\n",
    "# print(CompName)\n",
    "\n",
    "# Defining a function here\n",
    "\n",
    "def CabCostFunc( CabLength, unitCost):\n",
    "    iCost = CabLength * unitCost\n",
    "    tax = 0.075 * iCost\n",
    "\n",
    "    print (format (iCost, '.2f'))\n",
    "\n",
    "    print ( 'Length of Fiber Optic Cable Ordered: ' + format(CabLength, '.2f') + ' ft' )\n",
    "    print ( 'Cable Cost                 @' + format(unitCost, '.2f') + '   : ' + '$' + format(iCost, '.2f') )\n",
    "    print ( 'Tax (7.5%)                         : ' + '$' + format(tax,'.2f'))\n",
    "    print ( 'Total Cost of Cable                : ' + '$' + format((iCost + tax),'.2f'))\n",
    "    \n",
    "\n",
    "# Retrieve the number of feet of fiber optic cable to be installed from the user.\n",
    "print ( 'What is the length of the cable?\\n' )\n",
    "CabLen_str = input()\n",
    "CabLen = float(CabLen_str)\n",
    "CabCost = 0.00 # Initializing the cost\n",
    "\n",
    "# Cost of Cable needed\n",
    "if (CabLen > 100 and CabLen <= 250):\n",
    "    CabCost = 0.80\n",
    "elif (CabLen > 250 and CabLen <= 500):\n",
    "    CabCost = 0.70\n",
    "elif CabLen > 500:\n",
    "    CabCost = 0.50\n",
    "else:\n",
    "    CabCost = 0.87\n",
    "\n",
    "print ( 'INVOICE for ' + CompName )\n",
    "print ( 'Fiber Optic Store Online \\n' )\n",
    "\n",
    "CabCostFunc(CabLen,CabCost)"
   ]
  },
  {
   "cell_type": "code",
   "execution_count": null,
   "metadata": {},
   "outputs": [],
   "source": []
  },
  {
   "cell_type": "code",
   "execution_count": null,
   "metadata": {},
   "outputs": [],
   "source": []
  }
 ],
 "metadata": {
  "kernelspec": {
   "display_name": "Python 3",
   "language": "python",
   "name": "python3"
  },
  "language_info": {
   "codemirror_mode": {
    "name": "ipython",
    "version": 3
   },
   "file_extension": ".py",
   "mimetype": "text/x-python",
   "name": "python",
   "nbconvert_exporter": "python",
   "pygments_lexer": "ipython3",
   "version": "3.7.6"
  }
 },
 "nbformat": 4,
 "nbformat_minor": 4
}
