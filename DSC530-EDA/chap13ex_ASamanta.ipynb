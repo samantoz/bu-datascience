{
 "cells": [
  {
   "cell_type": "markdown",
   "metadata": {},
   "source": [
    "# Exercises from Think Stats, 2nd Edition\n",
    "\n",
    "http://thinkstats2.com\n",
    "\n",
    "Copyright 2016 Allen B. Downey\n",
    "\n",
    "MIT License: https://opensource.org/licenses/MIT\n"
   ]
  },
  {
   "cell_type": "code",
   "execution_count": 3,
   "metadata": {},
   "outputs": [],
   "source": [
    "from __future__ import print_function, division\n",
    "\n",
    "%matplotlib inline\n",
    "\n",
    "import warnings\n",
    "warnings.filterwarnings('ignore', category=FutureWarning)\n",
    "\n",
    "import numpy as np\n",
    "import pandas as pd\n",
    "\n",
    "import random\n",
    "\n",
    "import thinkstats2\n",
    "import thinkplot\n",
    "\n",
    "import survival"
   ]
  },
  {
   "cell_type": "markdown",
   "metadata": {
    "collapsed": true
   },
   "source": [
    "## Exercises"
   ]
  },
  {
   "cell_type": "markdown",
   "metadata": {
    "collapsed": true
   },
   "source": [
    "**Exercise:**    In NSFG Cycles 6 and 7, the variable `cmdivorcx` contains the date of divorce for the respondent’s first marriage, if applicable, encoded in century-months.\n",
    "\n",
    "Compute the duration of marriages that have ended in divorce, and the duration, so far, of marriages that are ongoing. Estimate the hazard and survival curve for the duration of marriage.\n",
    "\n",
    "Use resampling to take into account sampling weights, and plot data from several resamples to visualize sampling error.\n",
    "\n",
    "Consider dividing the respondents into groups by decade of birth, and possibly by age at first marriage."
   ]
  },
  {
   "cell_type": "code",
   "execution_count": 4,
   "metadata": {},
   "outputs": [],
   "source": [
    "# Loading the cycle 6 and 7 data from the nsfg file.\n",
    "resp6 = survival.ReadFemResp2002()\n",
    "resp7 = survival.ReadFemResp2010()"
   ]
  },
  {
   "cell_type": "code",
   "execution_count": 5,
   "metadata": {},
   "outputs": [],
   "source": [
    "def CleanData(resp):\n",
    "    \"\"\"Cleans respondent data.\n",
    "\n",
    "    resp: DataFrame\n",
    "    \"\"\"\n",
    "    resp.cmdivorcx.replace([9998, 9999], np.nan, inplace=True)\n",
    "\n",
    "    resp['notdivorced'] = resp.cmdivorcx.isnull().astype(int)\n",
    "    resp['duration'] = (resp.cmdivorcx - resp.cmmarrhx) / 12.0\n",
    "    resp['durationsofar'] = (resp.cmintvw - resp.cmmarrhx) / 12.0\n",
    "\n",
    "    month0 = pd.to_datetime('1899-12-15')\n",
    "    dates = [month0 + pd.DateOffset(months=cm) \n",
    "             for cm in resp.cmbirth]\n",
    "    resp['decade'] = (pd.DatetimeIndex(dates).year - 1900) // 10"
   ]
  },
  {
   "cell_type": "code",
   "execution_count": 6,
   "metadata": {},
   "outputs": [],
   "source": [
    "CleanData(resp6)\n",
    "married6 = resp6[resp6.evrmarry==1]\n",
    "\n",
    "CleanData(resp7)\n",
    "married7 = resp7[resp7.evrmarry==1]"
   ]
  },
  {
   "cell_type": "code",
   "execution_count": 7,
   "metadata": {},
   "outputs": [
    {
     "data": {
      "text/plain": [
       "(4126, 16)"
      ]
     },
     "execution_count": 7,
     "metadata": {},
     "output_type": "execute_result"
    }
   ],
   "source": [
    "# Solution goes here\n",
    "married6.shape"
   ]
  },
  {
   "cell_type": "code",
   "execution_count": 73,
   "metadata": {},
   "outputs": [
    {
     "data": {
      "text/plain": [
       "<bound method NDFrame.head of       caseid  cmbirth  evrmarry  cmmarrhx  cmdivorcx  parity     finalwgt  \\\n",
       "1       5012      718      True     974.0     1077.0       1  4744.191350   \n",
       "2      11586      708      True     910.0      938.0       1  4744.191350   \n",
       "5        845      727      True     937.0        NaN       6  4705.681352   \n",
       "8       8656      780      True    1003.0        NaN       3  6520.021223   \n",
       "10      5917      714      True     953.0        NaN       2  3488.586646   \n",
       "...      ...      ...       ...       ...        ...     ...          ...   \n",
       "7634    1282      798      True    1057.0     1119.0       2  4055.209574   \n",
       "7635    2954      862      True    1069.0        NaN       1  4087.693768   \n",
       "7636    4964      727      True     953.0        NaN       6  3703.220316   \n",
       "7637     143      808      True    1060.0     1151.0       0  4496.050707   \n",
       "7638   11018      811      True    1032.0     1053.0       0  6565.818007   \n",
       "\n",
       "      cmintvw   agemarry        age  year  decade  fives  notdivorced  \\\n",
       "1        1233  21.333333  42.916667    59       5     11            0   \n",
       "2        1234  16.833333  43.833333    58       5     11            0   \n",
       "5        1234  17.500000  42.250000    60       6     12            1   \n",
       "8        1237  18.583333  38.083333    64       6     12            1   \n",
       "10       1233  19.916667  43.250000    59       5     11            1   \n",
       "...       ...        ...        ...   ...     ...    ...          ...   \n",
       "7634     1228  21.583333  35.833333    66       6     13            0   \n",
       "7635     1228  17.250000  30.500000    71       7     14            1   \n",
       "7636     1227  18.833333  41.666667    60       6     12            1   \n",
       "7637     1230  21.000000  35.166667    67       6     13            0   \n",
       "7638     1228  18.416667  34.750000    67       6     13            0   \n",
       "\n",
       "      duration  durationsofar  \n",
       "1     8.583333      21.583333  \n",
       "2     2.333333      27.000000  \n",
       "5          NaN      24.750000  \n",
       "8          NaN      19.500000  \n",
       "10         NaN      23.333333  \n",
       "...        ...            ...  \n",
       "7634  5.166667      14.250000  \n",
       "7635       NaN      13.250000  \n",
       "7636       NaN      22.833333  \n",
       "7637  7.583333      14.166667  \n",
       "7638  1.750000      16.333333  \n",
       "\n",
       "[4126 rows x 16 columns]>"
      ]
     },
     "execution_count": 73,
     "metadata": {},
     "output_type": "execute_result"
    }
   ],
   "source": [
    "married6.head"
   ]
  },
  {
   "cell_type": "code",
   "execution_count": 72,
   "metadata": {},
   "outputs": [
    {
     "name": "stdout",
     "output_type": "stream",
     "text": [
      "<class 'pandas.core.frame.DataFrame'>\n",
      "Int64Index: 4126 entries, 1 to 7638\n",
      "Data columns (total 16 columns):\n",
      " #   Column         Non-Null Count  Dtype  \n",
      "---  ------         --------------  -----  \n",
      " 0   caseid         4126 non-null   int64  \n",
      " 1   cmbirth        4126 non-null   int64  \n",
      " 2   evrmarry       4126 non-null   bool   \n",
      " 3   cmmarrhx       4089 non-null   float64\n",
      " 4   cmdivorcx      982 non-null    float64\n",
      " 5   parity         4126 non-null   int64  \n",
      " 6   finalwgt       4126 non-null   float64\n",
      " 7   cmintvw        4126 non-null   int64  \n",
      " 8   agemarry       4089 non-null   float64\n",
      " 9   age            4126 non-null   float64\n",
      " 10  year           4126 non-null   int64  \n",
      " 11  decade         4126 non-null   int64  \n",
      " 12  fives          4126 non-null   int64  \n",
      " 13  notdivorced    4126 non-null   int32  \n",
      " 14  duration       977 non-null    float64\n",
      " 15  durationsofar  4089 non-null   float64\n",
      "dtypes: bool(1), float64(7), int32(1), int64(7)\n",
      "memory usage: 503.7 KB\n"
     ]
    }
   ],
   "source": [
    "married6.info()"
   ]
  },
  {
   "cell_type": "code",
   "execution_count": 76,
   "metadata": {},
   "outputs": [
    {
     "data": {
      "text/html": [
       "<div>\n",
       "<style scoped>\n",
       "    .dataframe tbody tr th:only-of-type {\n",
       "        vertical-align: middle;\n",
       "    }\n",
       "\n",
       "    .dataframe tbody tr th {\n",
       "        vertical-align: top;\n",
       "    }\n",
       "\n",
       "    .dataframe thead th {\n",
       "        text-align: right;\n",
       "    }\n",
       "</style>\n",
       "<table border=\"1\" class=\"dataframe\">\n",
       "  <thead>\n",
       "    <tr style=\"text-align: right;\">\n",
       "      <th></th>\n",
       "      <th>caseid</th>\n",
       "      <th>cmmarrhx</th>\n",
       "      <th>cmdivorcx</th>\n",
       "      <th>notdivorced</th>\n",
       "      <th>duration</th>\n",
       "      <th>durationsofar</th>\n",
       "    </tr>\n",
       "  </thead>\n",
       "  <tbody>\n",
       "    <tr>\n",
       "      <th>1</th>\n",
       "      <td>5012</td>\n",
       "      <td>974.0</td>\n",
       "      <td>1077.0</td>\n",
       "      <td>0</td>\n",
       "      <td>8.583333</td>\n",
       "      <td>21.583333</td>\n",
       "    </tr>\n",
       "    <tr>\n",
       "      <th>2</th>\n",
       "      <td>11586</td>\n",
       "      <td>910.0</td>\n",
       "      <td>938.0</td>\n",
       "      <td>0</td>\n",
       "      <td>2.333333</td>\n",
       "      <td>27.000000</td>\n",
       "    </tr>\n",
       "    <tr>\n",
       "      <th>5</th>\n",
       "      <td>845</td>\n",
       "      <td>937.0</td>\n",
       "      <td>NaN</td>\n",
       "      <td>1</td>\n",
       "      <td>NaN</td>\n",
       "      <td>24.750000</td>\n",
       "    </tr>\n",
       "    <tr>\n",
       "      <th>8</th>\n",
       "      <td>8656</td>\n",
       "      <td>1003.0</td>\n",
       "      <td>NaN</td>\n",
       "      <td>1</td>\n",
       "      <td>NaN</td>\n",
       "      <td>19.500000</td>\n",
       "    </tr>\n",
       "    <tr>\n",
       "      <th>10</th>\n",
       "      <td>5917</td>\n",
       "      <td>953.0</td>\n",
       "      <td>NaN</td>\n",
       "      <td>1</td>\n",
       "      <td>NaN</td>\n",
       "      <td>23.333333</td>\n",
       "    </tr>\n",
       "    <tr>\n",
       "      <th>...</th>\n",
       "      <td>...</td>\n",
       "      <td>...</td>\n",
       "      <td>...</td>\n",
       "      <td>...</td>\n",
       "      <td>...</td>\n",
       "      <td>...</td>\n",
       "    </tr>\n",
       "    <tr>\n",
       "      <th>7634</th>\n",
       "      <td>1282</td>\n",
       "      <td>1057.0</td>\n",
       "      <td>1119.0</td>\n",
       "      <td>0</td>\n",
       "      <td>5.166667</td>\n",
       "      <td>14.250000</td>\n",
       "    </tr>\n",
       "    <tr>\n",
       "      <th>7635</th>\n",
       "      <td>2954</td>\n",
       "      <td>1069.0</td>\n",
       "      <td>NaN</td>\n",
       "      <td>1</td>\n",
       "      <td>NaN</td>\n",
       "      <td>13.250000</td>\n",
       "    </tr>\n",
       "    <tr>\n",
       "      <th>7636</th>\n",
       "      <td>4964</td>\n",
       "      <td>953.0</td>\n",
       "      <td>NaN</td>\n",
       "      <td>1</td>\n",
       "      <td>NaN</td>\n",
       "      <td>22.833333</td>\n",
       "    </tr>\n",
       "    <tr>\n",
       "      <th>7637</th>\n",
       "      <td>143</td>\n",
       "      <td>1060.0</td>\n",
       "      <td>1151.0</td>\n",
       "      <td>0</td>\n",
       "      <td>7.583333</td>\n",
       "      <td>14.166667</td>\n",
       "    </tr>\n",
       "    <tr>\n",
       "      <th>7638</th>\n",
       "      <td>11018</td>\n",
       "      <td>1032.0</td>\n",
       "      <td>1053.0</td>\n",
       "      <td>0</td>\n",
       "      <td>1.750000</td>\n",
       "      <td>16.333333</td>\n",
       "    </tr>\n",
       "  </tbody>\n",
       "</table>\n",
       "<p>4126 rows × 6 columns</p>\n",
       "</div>"
      ],
      "text/plain": [
       "      caseid  cmmarrhx  cmdivorcx  notdivorced  duration  durationsofar\n",
       "1       5012     974.0     1077.0            0  8.583333      21.583333\n",
       "2      11586     910.0      938.0            0  2.333333      27.000000\n",
       "5        845     937.0        NaN            1       NaN      24.750000\n",
       "8       8656    1003.0        NaN            1       NaN      19.500000\n",
       "10      5917     953.0        NaN            1       NaN      23.333333\n",
       "...      ...       ...        ...          ...       ...            ...\n",
       "7634    1282    1057.0     1119.0            0  5.166667      14.250000\n",
       "7635    2954    1069.0        NaN            1       NaN      13.250000\n",
       "7636    4964     953.0        NaN            1       NaN      22.833333\n",
       "7637     143    1060.0     1151.0            0  7.583333      14.166667\n",
       "7638   11018    1032.0     1053.0            0  1.750000      16.333333\n",
       "\n",
       "[4126 rows x 6 columns]"
      ]
     },
     "execution_count": 76,
     "metadata": {},
     "output_type": "execute_result"
    }
   ],
   "source": [
    "df6 = married6[[\"caseid\",\"cmmarrhx\",\"cmdivorcx\",\"notdivorced\",\"duration\",\"durationsofar\"]]\n",
    "df6"
   ]
  },
  {
   "cell_type": "code",
   "execution_count": 8,
   "metadata": {},
   "outputs": [
    {
     "data": {
      "text/plain": [
       "(5534, 17)"
      ]
     },
     "execution_count": 8,
     "metadata": {},
     "output_type": "execute_result"
    }
   ],
   "source": [
    "married7.shape"
   ]
  },
  {
   "cell_type": "code",
   "execution_count": 12,
   "metadata": {},
   "outputs": [
    {
     "data": {
      "text/html": [
       "<div>\n",
       "<style scoped>\n",
       "    .dataframe tbody tr th:only-of-type {\n",
       "        vertical-align: middle;\n",
       "    }\n",
       "\n",
       "    .dataframe tbody tr th {\n",
       "        vertical-align: top;\n",
       "    }\n",
       "\n",
       "    .dataframe thead th {\n",
       "        text-align: right;\n",
       "    }\n",
       "</style>\n",
       "<table border=\"1\" class=\"dataframe\">\n",
       "  <thead>\n",
       "    <tr style=\"text-align: right;\">\n",
       "      <th></th>\n",
       "      <th>caseid</th>\n",
       "      <th>cmbirth</th>\n",
       "      <th>cmmarrhx</th>\n",
       "      <th>cmdivorcx</th>\n",
       "      <th>parity</th>\n",
       "      <th>wgtq1q16</th>\n",
       "      <th>cmintvw</th>\n",
       "      <th>finalwgt</th>\n",
       "      <th>agemarry</th>\n",
       "      <th>age</th>\n",
       "      <th>year</th>\n",
       "      <th>decade</th>\n",
       "      <th>fives</th>\n",
       "      <th>notdivorced</th>\n",
       "      <th>duration</th>\n",
       "      <th>durationsofar</th>\n",
       "    </tr>\n",
       "  </thead>\n",
       "  <tbody>\n",
       "    <tr>\n",
       "      <th>count</th>\n",
       "      <td>5534.000000</td>\n",
       "      <td>5534.000000</td>\n",
       "      <td>5518.000000</td>\n",
       "      <td>1554.000000</td>\n",
       "      <td>5534.000000</td>\n",
       "      <td>5534.000000</td>\n",
       "      <td>5534.000000</td>\n",
       "      <td>5534.000000</td>\n",
       "      <td>5518.000000</td>\n",
       "      <td>5534.000000</td>\n",
       "      <td>5534.000000</td>\n",
       "      <td>5534.000000</td>\n",
       "      <td>5534.000000</td>\n",
       "      <td>5534.000000</td>\n",
       "      <td>1551.000000</td>\n",
       "      <td>5518.000000</td>\n",
       "    </tr>\n",
       "    <tr>\n",
       "      <th>mean</th>\n",
       "      <td>32988.456451</td>\n",
       "      <td>888.258403</td>\n",
       "      <td>1174.747735</td>\n",
       "      <td>1201.182754</td>\n",
       "      <td>1.847488</td>\n",
       "      <td>5945.751515</td>\n",
       "      <td>1302.120528</td>\n",
       "      <td>5945.751515</td>\n",
       "      <td>23.871934</td>\n",
       "      <td>34.488510</td>\n",
       "      <td>73.475425</td>\n",
       "      <td>6.891218</td>\n",
       "      <td>14.291652</td>\n",
       "      <td>0.719190</td>\n",
       "      <td>6.318450</td>\n",
       "      <td>10.613734</td>\n",
       "    </tr>\n",
       "    <tr>\n",
       "      <th>std</th>\n",
       "      <td>4615.408885</td>\n",
       "      <td>77.573128</td>\n",
       "      <td>82.499426</td>\n",
       "      <td>76.833921</td>\n",
       "      <td>1.396419</td>\n",
       "      <td>6258.589570</td>\n",
       "      <td>14.316077</td>\n",
       "      <td>6258.589570</td>\n",
       "      <td>4.709401</td>\n",
       "      <td>6.388609</td>\n",
       "      <td>6.467706</td>\n",
       "      <td>0.719272</td>\n",
       "      <td>1.330812</td>\n",
       "      <td>0.449435</td>\n",
       "      <td>4.545981</td>\n",
       "      <td>6.776759</td>\n",
       "    </tr>\n",
       "    <tr>\n",
       "      <th>min</th>\n",
       "      <td>26141.000000</td>\n",
       "      <td>740.000000</td>\n",
       "      <td>920.000000</td>\n",
       "      <td>960.000000</td>\n",
       "      <td>0.000000</td>\n",
       "      <td>44.023984</td>\n",
       "      <td>1278.000000</td>\n",
       "      <td>44.023984</td>\n",
       "      <td>10.916667</td>\n",
       "      <td>17.083333</td>\n",
       "      <td>61.000000</td>\n",
       "      <td>6.000000</td>\n",
       "      <td>12.000000</td>\n",
       "      <td>0.000000</td>\n",
       "      <td>-6.916667</td>\n",
       "      <td>0.000000</td>\n",
       "    </tr>\n",
       "    <tr>\n",
       "      <th>25%</th>\n",
       "      <td>29161.500000</td>\n",
       "      <td>824.000000</td>\n",
       "      <td>1115.250000</td>\n",
       "      <td>1151.000000</td>\n",
       "      <td>1.000000</td>\n",
       "      <td>1858.135743</td>\n",
       "      <td>1289.000000</td>\n",
       "      <td>1858.135743</td>\n",
       "      <td>20.333333</td>\n",
       "      <td>29.416667</td>\n",
       "      <td>68.000000</td>\n",
       "      <td>6.000000</td>\n",
       "      <td>13.000000</td>\n",
       "      <td>0.000000</td>\n",
       "      <td>2.916667</td>\n",
       "      <td>4.916667</td>\n",
       "    </tr>\n",
       "    <tr>\n",
       "      <th>50%</th>\n",
       "      <td>32166.500000</td>\n",
       "      <td>885.000000</td>\n",
       "      <td>1183.000000</td>\n",
       "      <td>1213.000000</td>\n",
       "      <td>2.000000</td>\n",
       "      <td>3634.447751</td>\n",
       "      <td>1303.000000</td>\n",
       "      <td>3634.447751</td>\n",
       "      <td>23.166667</td>\n",
       "      <td>34.833333</td>\n",
       "      <td>73.000000</td>\n",
       "      <td>7.000000</td>\n",
       "      <td>14.000000</td>\n",
       "      <td>1.000000</td>\n",
       "      <td>5.416667</td>\n",
       "      <td>9.833333</td>\n",
       "    </tr>\n",
       "    <tr>\n",
       "      <th>75%</th>\n",
       "      <td>36625.750000</td>\n",
       "      <td>950.000000</td>\n",
       "      <td>1243.000000</td>\n",
       "      <td>1265.000000</td>\n",
       "      <td>3.000000</td>\n",
       "      <td>7413.943331</td>\n",
       "      <td>1315.000000</td>\n",
       "      <td>7413.943331</td>\n",
       "      <td>26.583333</td>\n",
       "      <td>39.916667</td>\n",
       "      <td>79.000000</td>\n",
       "      <td>7.000000</td>\n",
       "      <td>15.000000</td>\n",
       "      <td>1.000000</td>\n",
       "      <td>8.666667</td>\n",
       "      <td>15.416667</td>\n",
       "    </tr>\n",
       "    <tr>\n",
       "      <th>max</th>\n",
       "      <td>42680.000000</td>\n",
       "      <td>1108.000000</td>\n",
       "      <td>1324.000000</td>\n",
       "      <td>1325.000000</td>\n",
       "      <td>15.000000</td>\n",
       "      <td>30226.354508</td>\n",
       "      <td>1326.000000</td>\n",
       "      <td>30226.354508</td>\n",
       "      <td>43.500000</td>\n",
       "      <td>45.083333</td>\n",
       "      <td>92.000000</td>\n",
       "      <td>9.000000</td>\n",
       "      <td>18.000000</td>\n",
       "      <td>1.000000</td>\n",
       "      <td>27.000000</td>\n",
       "      <td>30.916667</td>\n",
       "    </tr>\n",
       "  </tbody>\n",
       "</table>\n",
       "</div>"
      ],
      "text/plain": [
       "             caseid      cmbirth     cmmarrhx    cmdivorcx       parity  \\\n",
       "count   5534.000000  5534.000000  5518.000000  1554.000000  5534.000000   \n",
       "mean   32988.456451   888.258403  1174.747735  1201.182754     1.847488   \n",
       "std     4615.408885    77.573128    82.499426    76.833921     1.396419   \n",
       "min    26141.000000   740.000000   920.000000   960.000000     0.000000   \n",
       "25%    29161.500000   824.000000  1115.250000  1151.000000     1.000000   \n",
       "50%    32166.500000   885.000000  1183.000000  1213.000000     2.000000   \n",
       "75%    36625.750000   950.000000  1243.000000  1265.000000     3.000000   \n",
       "max    42680.000000  1108.000000  1324.000000  1325.000000    15.000000   \n",
       "\n",
       "           wgtq1q16      cmintvw      finalwgt     agemarry          age  \\\n",
       "count   5534.000000  5534.000000   5534.000000  5518.000000  5534.000000   \n",
       "mean    5945.751515  1302.120528   5945.751515    23.871934    34.488510   \n",
       "std     6258.589570    14.316077   6258.589570     4.709401     6.388609   \n",
       "min       44.023984  1278.000000     44.023984    10.916667    17.083333   \n",
       "25%     1858.135743  1289.000000   1858.135743    20.333333    29.416667   \n",
       "50%     3634.447751  1303.000000   3634.447751    23.166667    34.833333   \n",
       "75%     7413.943331  1315.000000   7413.943331    26.583333    39.916667   \n",
       "max    30226.354508  1326.000000  30226.354508    43.500000    45.083333   \n",
       "\n",
       "              year       decade        fives  notdivorced     duration  \\\n",
       "count  5534.000000  5534.000000  5534.000000  5534.000000  1551.000000   \n",
       "mean     73.475425     6.891218    14.291652     0.719190     6.318450   \n",
       "std       6.467706     0.719272     1.330812     0.449435     4.545981   \n",
       "min      61.000000     6.000000    12.000000     0.000000    -6.916667   \n",
       "25%      68.000000     6.000000    13.000000     0.000000     2.916667   \n",
       "50%      73.000000     7.000000    14.000000     1.000000     5.416667   \n",
       "75%      79.000000     7.000000    15.000000     1.000000     8.666667   \n",
       "max      92.000000     9.000000    18.000000     1.000000    27.000000   \n",
       "\n",
       "       durationsofar  \n",
       "count    5518.000000  \n",
       "mean       10.613734  \n",
       "std         6.776759  \n",
       "min         0.000000  \n",
       "25%         4.916667  \n",
       "50%         9.833333  \n",
       "75%        15.416667  \n",
       "max        30.916667  "
      ]
     },
     "execution_count": 12,
     "metadata": {},
     "output_type": "execute_result"
    }
   ],
   "source": [
    "married7.describe()"
   ]
  },
  {
   "cell_type": "code",
   "execution_count": 34,
   "metadata": {},
   "outputs": [
    {
     "data": {
      "text/plain": [
       "caseid           5534\n",
       "cmbirth          5534\n",
       "evrmarry         5534\n",
       "cmmarrhx         5518\n",
       "cmdivorcx        1554\n",
       "parity           5534\n",
       "wgtq1q16         5534\n",
       "cmintvw          5534\n",
       "finalwgt         5534\n",
       "agemarry         5518\n",
       "age              5534\n",
       "year             5534\n",
       "decade           5534\n",
       "fives            5534\n",
       "notdivorced      5534\n",
       "duration         1551\n",
       "durationsofar    5518\n",
       "dtype: int64"
      ]
     },
     "execution_count": 34,
     "metadata": {},
     "output_type": "execute_result"
    }
   ],
   "source": [
    "# combining the two married datasets into a single list\n",
    "married[1].count()"
   ]
  },
  {
   "cell_type": "code",
   "execution_count": 86,
   "metadata": {},
   "outputs": [],
   "source": [
    "def ResampleDivorceCurve(resps):\n",
    "    \"\"\"Plots divorce curves based on resampled data.\n",
    "\n",
    "    resps: list of respondent DataFrames\n",
    "    \"\"\"\n",
    "    for _ in range(11):\n",
    "        samples = [thinkstats2.ResampleRowsWeighted(resp) \n",
    "                   for resp in resps]\n",
    "        sample = pd.concat(samples, ignore_index=True)\n",
    "        PlotDivorceCurveByDecade(sample, color='#225EA8', alpha=0.1)\n",
    "\n",
    "    thinkplot.Show(xlabel='years',\n",
    "                   axis=[0, 28, 0, 1])"
   ]
  },
  {
   "cell_type": "code",
   "execution_count": 87,
   "metadata": {},
   "outputs": [],
   "source": [
    "def ResampleDivorceCurveByDecade(resps):\n",
    "    \"\"\"Plots divorce curves for each birth cohort.\n",
    "\n",
    "    resps: list of respondent DataFrames    \n",
    "    \"\"\"\n",
    "    for i in range(41):\n",
    "        samples = [thinkstats2.ResampleRowsWeighted(resp) \n",
    "                   for resp in resps]\n",
    "        sample = pd.concat(samples, ignore_index=True)\n",
    "        groups = sample.groupby('decade')\n",
    "        if i == 0:\n",
    "            survival.AddLabelsByDecade(groups, alpha=0.7)\n",
    "\n",
    "        EstimateSurvivalByDecade(groups, alpha=0.1)\n",
    "\n",
    "    thinkplot.Config(xlabel='Years',\n",
    "                     ylabel='Fraction undivorced',\n",
    "                     axis=[0, 28, 0, 1])"
   ]
  },
  {
   "cell_type": "code",
   "execution_count": 88,
   "metadata": {},
   "outputs": [],
   "source": [
    "def EstimateSurvivalByDecade(groups, **options):\n",
    "    \"\"\"Groups respondents by decade and plots survival curves.\n",
    "\n",
    "    groups: GroupBy object\n",
    "    \"\"\"\n",
    "    thinkplot.PrePlot(len(groups))\n",
    "    for name, group in groups:\n",
    "        _, sf = EstimateSurvival(group)\n",
    "        thinkplot.Plot(sf, **options)"
   ]
  },
  {
   "cell_type": "code",
   "execution_count": 83,
   "metadata": {},
   "outputs": [],
   "source": [
    "def EstimateSurvival(resp):\n",
    "    \"\"\"Estimates the survival curve.\n",
    "\n",
    "    resp: DataFrame of respondents\n",
    "\n",
    "    returns: pair of HazardFunction, SurvivalFunction\n",
    "    \"\"\"\n",
    "    complete = resp[resp.notdivorced == 0].duration.dropna() # 1st marriage ended in divorce\n",
    "    ongoing = resp[resp.notdivorced == 1].durationsofar.dropna() # duration post marriage with no divorce\n",
    "\n",
    "    hf = survival.EstimateHazardFunction(complete, ongoing)\n",
    "    sf = hf.MakeSurvival()\n",
    "    \n",
    "    return hf, sf"
   ]
  },
  {
   "cell_type": "code",
   "execution_count": 85,
   "metadata": {},
   "outputs": [
    {
     "name": "stdout",
     "output_type": "stream",
     "text": [
      "<survival.HazardFunction object at 0x0000026BD7688208> <survival.SurvivalFunction object at 0x0000026BD7688808>\n"
     ]
    }
   ],
   "source": [
    "# Solution goes here\n",
    "EstimateSurvival(married6)"
   ]
  },
  {
   "cell_type": "code",
   "execution_count": 92,
   "metadata": {},
   "outputs": [
    {
     "data": {
      "image/png": "[encoded data removed]",
      "text/plain": [
       "<Figure size 432x288 with 1 Axes>"
      ]
     },
     "metadata": {
      "needs_background": "light"
     },
     "output_type": "display_data"
    }
   ],
   "source": [
    "# Solution goes here\n",
    "ResampleDivorceCurveByDecade([married6, married7])"
   ]
  }
 ],
 "metadata": {
  "kernelspec": {
   "display_name": "Python 3",
   "language": "python",
   "name": "python3"
  },
  "language_info": {
   "codemirror_mode": {
    "name": "ipython",
    "version": 3
   },
   "file_extension": ".py",
   "mimetype": "text/x-python",
   "name": "python",
   "nbconvert_exporter": "python",
   "pygments_lexer": "ipython3",
   "version": "3.7.6"
  }
 },
 "nbformat": 4,
 "nbformat_minor": 1
}
