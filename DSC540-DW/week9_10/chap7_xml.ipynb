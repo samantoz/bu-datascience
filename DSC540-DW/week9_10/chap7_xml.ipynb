{
 "cells": [
  {
   "cell_type": "code",
   "execution_count": 2,
   "metadata": {},
   "outputs": [],
   "source": [
    "import xml.etree.ElementTree as ET"
   ]
  },
  {
   "cell_type": "code",
   "execution_count": 3,
   "metadata": {},
   "outputs": [],
   "source": [
    "# tree = ET.fromstring(xml1.xml)"
   ]
  },
  {
   "cell_type": "code",
   "execution_count": 4,
   "metadata": {},
   "outputs": [],
   "source": [
    "# use the parse method to read XML file\n",
    "# This produces an ElementTree object instead of a simple Element\n",
    "tree2 = ET.parse('xml1.xml')"
   ]
  },
  {
   "cell_type": "code",
   "execution_count": 5,
   "metadata": {},
   "outputs": [
    {
     "data": {
      "text/plain": [
       "xml.etree.ElementTree.ElementTree"
      ]
     },
     "execution_count": 5,
     "metadata": {},
     "output_type": "execute_result"
    }
   ],
   "source": [
    "type(tree2)"
   ]
  },
  {
   "cell_type": "code",
   "execution_count": 6,
   "metadata": {},
   "outputs": [
    {
     "name": "stdout",
     "output_type": "stream",
     "text": [
      "Child: country | Child Attribute: {'name': 'Liechtenstein'}\n",
      "Child: country | Child Attribute: {'name': 'Singapore'}\n",
      "Child: country | Child Attribute: {'name': 'Panama'}\n"
     ]
    }
   ],
   "source": [
    "# every node in xml tree has tags and attributes\n",
    "root = tree2.getroot()\n",
    "\n",
    "for child in root:\n",
    "    print(\"Child:\",child.tag, \"| Child Attribute:\", child.attrib)"
   ]
  },
  {
   "cell_type": "code",
   "execution_count": 7,
   "metadata": {},
   "outputs": [
    {
     "data": {
      "text/plain": [
       "<Element 'gdppc' at 0x7f802c06e3b0>"
      ]
     },
     "execution_count": 7,
     "metadata": {},
     "output_type": "execute_result"
    }
   ],
   "source": [
    "# XML tree is like a list of lists\n",
    "# this points to the 'gdppc' piece of data. Here 'gdppc' is the tag\n",
    "root[0][2]"
   ]
  },
  {
   "cell_type": "code",
   "execution_count": 8,
   "metadata": {},
   "outputs": [
    {
     "data": {
      "text/plain": [
       "'141100'"
      ]
     },
     "execution_count": 8,
     "metadata": {},
     "output_type": "execute_result"
    }
   ],
   "source": [
    "root[0][2].text"
   ]
  },
  {
   "cell_type": "code",
   "execution_count": 9,
   "metadata": {},
   "outputs": [
    {
     "data": {
      "text/plain": [
       "'gdppc'"
      ]
     },
     "execution_count": 9,
     "metadata": {},
     "output_type": "execute_result"
    }
   ],
   "source": [
    "root[0][2].tag"
   ]
  },
  {
   "cell_type": "code",
   "execution_count": 10,
   "metadata": {},
   "outputs": [
    {
     "data": {
      "text/plain": [
       "'country'"
      ]
     },
     "execution_count": 10,
     "metadata": {},
     "output_type": "execute_result"
    }
   ],
   "source": [
    "root[0].tag"
   ]
  },
  {
   "cell_type": "code",
   "execution_count": 11,
   "metadata": {},
   "outputs": [
    {
     "data": {
      "text/plain": [
       "{'name': 'Liechtenstein'}"
      ]
     },
     "execution_count": 11,
     "metadata": {},
     "output_type": "execute_result"
    }
   ],
   "source": [
    "root[0].attrib"
   ]
  },
  {
   "cell_type": "code",
   "execution_count": 12,
   "metadata": {},
   "outputs": [],
   "source": [
    "import urllib.request, urllib.parse, urllib.error"
   ]
  },
  {
   "cell_type": "code",
   "execution_count": 13,
   "metadata": {},
   "outputs": [
    {
     "name": "stdin",
     "output_type": "stream",
     "text": [
      "Enter the name of a food item (enter 'quit' to exit): pasta\n"
     ]
    },
    {
     "data": {
      "text/plain": [
       "'http://www.recipepuppy.com/api/?q=pasta&p=1&format=xml'"
      ]
     },
     "execution_count": 13,
     "metadata": {},
     "output_type": "execute_result"
    }
   ],
   "source": [
    "serviceurl = 'http://www.recipepuppy.com/api/?'\n",
    "item = str(input('Enter the name of a food item (enter \\'quit\\' to exit):'))\n",
    "url = serviceurl + urllib.parse.urlencode({'q':item})+'&p=1&format=xml'\n",
    "url"
   ]
  },
  {
   "cell_type": "code",
   "execution_count": 14,
   "metadata": {},
   "outputs": [
    {
     "data": {
      "text/plain": [
       "<http.client.HTTPResponse at 0x7f802c192d90>"
      ]
     },
     "execution_count": 14,
     "metadata": {},
     "output_type": "execute_result"
    }
   ],
   "source": [
    "uh = urllib.request.urlopen(url)\n",
    "uh"
   ]
  },
  {
   "cell_type": "code",
   "execution_count": 15,
   "metadata": {},
   "outputs": [
    {
     "data": {
      "text/plain": [
       "'<?xml version=\"1.0\"?>\\n<recipes>\\n<recipe>\\n<title>Easy Home Made Pasta Dough Recipe</title>\\n<href>http://www.grouprecipes.com/69063/easy-home-made-pasta-dough.html</href>\\n<ingredients>eggs, flour, olive oil, water, baking powder, pasta dough</ingredients>\\n</recipe>\\n<recipe>\\n<title>Fresh Pasta - Basic Pasta Dough Recipe</title>\\n<href>http://www.grouprecipes.com/2470/fresh-pasta---basic-pasta-dough.html</href>\\n<ingredients>eggs, wheat</ingredients>\\n</recipe>\\n<recipe>\\n<title>Filomena\\'s Pasta Fresca</title>\\n<href>http://www.recipezaar.com/Filomenas-Pasta-Fresca-272132</href>\\n<ingredients>eggs, flour</ingredients>\\n</recipe>\\n<recipe>\\n<title>Pasta Fazool  (Pasta and Beans With Sausage)</title>\\n<href>http://www.recipezaar.com/Pasta-Fazool-Pasta-and-Beans-With-Sausage-102506</href>\\n<ingredients>cayenne, oregano, thyme, parsley, garlic, ground beef, black pepper, sausage, kidney bean, onions, parmesan cheese, penne, tomato, provolone cheese, salt, tomato paste</ingredients>\\n</recipe>\\n<recipe>\\n<title>Tomato Pasta Salad</title>\\n<href>http://www.recipezaar.com/Tomato-Pasta-Salad-12345</href>\\n<ingredients>buttermilk, basil, fusilli, garlic, black pepper, mayonnaise, tomato, salt, sugar, tomato</ingredients>\\n</recipe>\\n<recipe>\\n<title>Antipasto Pasta Salad</title>\\n<href>http://www.recipezaar.com/Antipasto-Pasta-Salad-154953</href>\\n<ingredients>cherry tomato, green pepper, italian dressing, pasta, cherry pepper, olives, provolone cheese, salami</ingredients>\\n</recipe>\\n<recipe>\\n<title>Balsamic Vinaigrette Pasta Salad</title>\\n<href>http://www.recipezaar.com/Balsamic-Vinaigrette-Pasta-Salad-97251</href>\\n<ingredients>asparagus, balsamic vinaigrette, olives, carrot, ham, pasta, gouda cheese, tomato, yellow bell pepper</ingredients>\\n</recipe>\\n<recipe>\\n<title>Pasta Prosciutto Recipe</title>\\n<href>http://www.grouprecipes.com/28307/pasta-prosciutto.html</href>\\n<ingredients>mushroom, parmesan cheese, romano cheese, eggs, garlic, pasta, prosciutto, spinach, butter, chicken broth</ingredients>\\n</recipe>\\n<recipe>\\n<title>Cheddar Squash &amp;amp; Pasta</title>\\n<href>http://www.recipezaar.com/Cheddar-Squash-Pasta-193175</href>\\n<ingredients>cheddar cheese, bread crumbs, nonstick cooking spray, flour, margarine, milk, pasta, salt, summer squash</ingredients>\\n</recipe>\\n<recipe>\\n<title>Curry Pasta</title>\\n<href>http://www.recipezaar.com/Curry-Pasta-129865</href>\\n<ingredients>butter, bread, curry powder, pasta, coconut, vegetable broth</ingredients>\\n</recipe>\\n</recipes>'"
      ]
     },
     "execution_count": 15,
     "metadata": {},
     "output_type": "execute_result"
    }
   ],
   "source": [
    "data = uh.read().decode()\n",
    "data"
   ]
  },
  {
   "cell_type": "code",
   "execution_count": 16,
   "metadata": {},
   "outputs": [
    {
     "name": "stdout",
     "output_type": "stream",
     "text": [
      "Retrieved 2474 characters\n"
     ]
    }
   ],
   "source": [
    "print('Retrieved',len(data),'characters')"
   ]
  },
  {
   "cell_type": "code",
   "execution_count": 17,
   "metadata": {},
   "outputs": [
    {
     "data": {
      "text/plain": [
       "<Element 'recipes' at 0x7f802c07f770>"
      ]
     },
     "execution_count": 17,
     "metadata": {},
     "output_type": "execute_result"
    }
   ],
   "source": [
    "tree3 = ET.fromstring(data)\n",
    "tree3"
   ]
  },
  {
   "cell_type": "code",
   "execution_count": 18,
   "metadata": {},
   "outputs": [
    {
     "name": "stdout",
     "output_type": "stream",
     "text": [
      "\n",
      "\n",
      "\n",
      "\n",
      "Easy Home Made Pasta Dough Recipe\n",
      "http://www.grouprecipes.com/69063/easy-home-made-pasta-dough.html\n",
      "eggs, flour, olive oil, water, baking powder, pasta dough\n",
      "\n",
      "\n",
      "Fresh Pasta - Basic Pasta Dough Recipe\n",
      "http://www.grouprecipes.com/2470/fresh-pasta---basic-pasta-dough.html\n",
      "eggs, wheat\n",
      "\n",
      "\n",
      "Filomena's Pasta Fresca\n",
      "http://www.recipezaar.com/Filomenas-Pasta-Fresca-272132\n",
      "eggs, flour\n",
      "\n",
      "\n",
      "Pasta Fazool  (Pasta and Beans With Sausage)\n",
      "http://www.recipezaar.com/Pasta-Fazool-Pasta-and-Beans-With-Sausage-102506\n",
      "cayenne, oregano, thyme, parsley, garlic, ground beef, black pepper, sausage, kidney bean, onions, parmesan cheese, penne, tomato, provolone cheese, salt, tomato paste\n",
      "\n",
      "\n",
      "Tomato Pasta Salad\n",
      "http://www.recipezaar.com/Tomato-Pasta-Salad-12345\n",
      "buttermilk, basil, fusilli, garlic, black pepper, mayonnaise, tomato, salt, sugar, tomato\n",
      "\n",
      "\n",
      "Antipasto Pasta Salad\n",
      "http://www.recipezaar.com/Antipasto-Pasta-Salad-154953\n",
      "cherry tomato, green pepper, italian dressing, pasta, cherry pepper, olives, provolone cheese, salami\n",
      "\n",
      "\n",
      "Balsamic Vinaigrette Pasta Salad\n",
      "http://www.recipezaar.com/Balsamic-Vinaigrette-Pasta-Salad-97251\n",
      "asparagus, balsamic vinaigrette, olives, carrot, ham, pasta, gouda cheese, tomato, yellow bell pepper\n",
      "\n",
      "\n",
      "Pasta Prosciutto Recipe\n",
      "http://www.grouprecipes.com/28307/pasta-prosciutto.html\n",
      "mushroom, parmesan cheese, romano cheese, eggs, garlic, pasta, prosciutto, spinach, butter, chicken broth\n",
      "\n",
      "\n",
      "Cheddar Squash &amp; Pasta\n",
      "http://www.recipezaar.com/Cheddar-Squash-Pasta-193175\n",
      "cheddar cheese, bread crumbs, nonstick cooking spray, flour, margarine, milk, pasta, salt, summer squash\n",
      "\n",
      "\n",
      "Curry Pasta\n",
      "http://www.recipezaar.com/Curry-Pasta-129865\n",
      "butter, bread, curry powder, pasta, coconut, vegetable broth\n"
     ]
    }
   ],
   "source": [
    "# iter will basically iterates over the nodes under an element\n",
    "for elem in tree3.iter():\n",
    "    print(elem.text)"
   ]
  },
  {
   "cell_type": "code",
   "execution_count": 19,
   "metadata": {},
   "outputs": [
    {
     "name": "stdout",
     "output_type": "stream",
     "text": [
      "Receipe Link for: Easy Home Made Pasta Dough Recipe\n",
      "http://www.grouprecipes.com/69063/easy-home-made-pasta-dough.html\n",
      "====================================================================================================\n",
      "Receipe Link for: Fresh Pasta - Basic Pasta Dough Recipe\n",
      "http://www.grouprecipes.com/2470/fresh-pasta---basic-pasta-dough.html\n",
      "====================================================================================================\n",
      "Receipe Link for: Filomena's Pasta Fresca\n",
      "http://www.recipezaar.com/Filomenas-Pasta-Fresca-272132\n",
      "====================================================================================================\n",
      "Receipe Link for: Pasta Fazool  (Pasta and Beans With Sausage)\n",
      "http://www.recipezaar.com/Pasta-Fazool-Pasta-and-Beans-With-Sausage-102506\n",
      "====================================================================================================\n",
      "Receipe Link for: Tomato Pasta Salad\n",
      "http://www.recipezaar.com/Tomato-Pasta-Salad-12345\n",
      "====================================================================================================\n",
      "Receipe Link for: Antipasto Pasta Salad\n",
      "http://www.recipezaar.com/Antipasto-Pasta-Salad-154953\n",
      "====================================================================================================\n",
      "Receipe Link for: Balsamic Vinaigrette Pasta Salad\n",
      "http://www.recipezaar.com/Balsamic-Vinaigrette-Pasta-Salad-97251\n",
      "====================================================================================================\n",
      "Receipe Link for: Pasta Prosciutto Recipe\n",
      "http://www.grouprecipes.com/28307/pasta-prosciutto.html\n",
      "====================================================================================================\n",
      "Receipe Link for: Cheddar Squash &amp; Pasta\n",
      "http://www.recipezaar.com/Cheddar-Squash-Pasta-193175\n",
      "====================================================================================================\n",
      "Receipe Link for: Curry Pasta\n",
      "http://www.recipezaar.com/Curry-Pasta-129865\n",
      "====================================================================================================\n"
     ]
    }
   ],
   "source": [
    "# using the find method to search for the appropriate attribute and extract its content\n",
    "for e in tree3.iter():\n",
    "    h = e.find('href')\n",
    "    t = e.find('title')\n",
    "    if h!=None and t!=None:\n",
    "        print(\"Receipe Link for:\",t.text)\n",
    "        print(h.text)\n",
    "        print(\"=\"*100)"
   ]
  },
  {
   "cell_type": "code",
   "execution_count": null,
   "metadata": {},
   "outputs": [],
   "source": []
  }
 ],
 "metadata": {
  "kernelspec": {
   "display_name": "Python 3",
   "language": "python",
   "name": "python3"
  },
  "language_info": {
   "codemirror_mode": {
    "name": "ipython",
    "version": 3
   },
   "file_extension": ".py",
   "mimetype": "text/x-python",
   "name": "python",
   "nbconvert_exporter": "python",
   "pygments_lexer": "ipython3",
   "version": "3.8.3"
  }
 },
 "nbformat": 4,
 "nbformat_minor": 4
}
