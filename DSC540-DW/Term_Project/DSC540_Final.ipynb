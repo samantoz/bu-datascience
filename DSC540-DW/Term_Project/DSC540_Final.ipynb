{
 "cells": [
  {
   "cell_type": "markdown",
   "metadata": {},
   "source": [
    "Merging the Data and Storing in a Database/Visualizing Data\n",
    "Now that you have cleaned and transformed your 3 datasets, you need to load them into a\n",
    "database. You can choose what kind of database (SQLLite or MySQL, Postgre SQL are all free\n",
    "options). You will want to load each dataset into SQL Lite as an individual table and then you\n",
    "must join the datasets together in Python into 1 dataset.\n",
    "Once all the data is merged together in your database, create 5 visualizations that demonstrate\n",
    "the data you have cleansed. You should have at least 2 visualizations that have data from more\n",
    "than one source (meaning, if you have 3 tables, you must have visualizations that span across 2\n",
    "of the tables – you are also welcome to use your consolidated dataset that you created in the\n",
    "previous step, if you do that, you have met this requirement)."
   ]
  },
  {
   "cell_type": "markdown",
   "metadata": {},
   "source": [
    "Submit your code for merging and storing in the database, with your code for the visualizations\n",
    "along with a 250-500-word summary of what you learned and had to do to complete the\n",
    "project. You can submit a Jupyter Notebook or a PDF of your code. If you submit a .py file you\n",
    "need to also include a PDF or attachment of your results."
   ]
  },
  {
   "cell_type": "code",
   "execution_count": 118,
   "metadata": {},
   "outputs": [],
   "source": [
    "import sqlite3\n",
    "import pandas as pd\n",
    "import matplotlib.pyplot as plt\n",
    "%matplotlib inline\n",
    "from bs4 import BeautifulSoup\n",
    "import requests\n",
    "import quandl\n",
    "import json\n",
    "import datetime as dt"
   ]
  },
  {
   "cell_type": "code",
   "execution_count": 23,
   "metadata": {},
   "outputs": [],
   "source": [
    "# Loading the Financial history data\n",
    "# reusing the earlier database db_dsc540 for the final project\n",
    "# Opening a connection object to connect to the database\n",
    "with sqlite3.connect('db_dsc540') as conn:\n",
    "\n",
    "    yr = ['2014','2015','2016','2017','2018']\n",
    "    for i in range(5):\n",
    "        yr[i]\n",
    "        filename = \"data/\" + yr[i] +\"_Financial_Data.csv\"\n",
    "\n",
    "        # defining the list of columns to load to the database\n",
    "        column = ['Unnamed: 0','Revenue','Gross Profit','Operating Expenses','Operating Income','Interest Expense',\n",
    "                 'Earnings before Tax','Net Income','EPS','Dividend per Share','Gross Margin','EBITDA',\n",
    "                 'Revenue per Share','Net Income per Share','Market Cap','PE ratio','Price to Sales Ratio',\n",
    "                 'Debt to Equity','Debt to Assets','Sector']\n",
    "        df_fin_hist = pd.read_csv(filename, usecols=column)\n",
    "        # Changing / Replace a column name in the dataframe\n",
    "        df_fin_hist.rename(columns={'Unnamed: 0': 'Ticker'},inplace = True)\n",
    "        df_fin_hist.insert(0, 'Year', yr[i])\n",
    "        df_fin_hist.columns = [column.replace(' ','_') for column in df_fin_hist.columns]\n",
    "        # write to the existing database into a new table\n",
    "        df_fin_hist.to_sql('FinancialIndicator',conn, if_exists='append',index=False)\n",
    "    # df_fin_hist.shape\n",
    "    # df_fin_hist.head()\n"
   ]
  },
  {
   "cell_type": "code",
   "execution_count": 98,
   "metadata": {},
   "outputs": [
    {
     "name": "stdout",
     "output_type": "stream",
     "text": [
      "Inserting Ticker AAPL\n"
     ]
    },
    {
     "name": "stderr",
     "output_type": "stream",
     "text": [
      "/home/samantoz/anaconda3/lib/python3.8/site-packages/pandas/core/generic.py:2653: UserWarning: The spaces in these column names will not be changed. In pandas versions < 0.14, spaces were converted to underscores.\n",
      "  sql.to_sql(\n"
     ]
    },
    {
     "name": "stdout",
     "output_type": "stream",
     "text": [
      "Inserting Ticker AMZN\n",
      "Inserting Ticker LULU\n",
      "Inserting Ticker BAC\n",
      "Inserting Ticker T\n"
     ]
    }
   ],
   "source": [
    "with sqlite3.connect('db_dsc540') as conn:\n",
    "    list_of_ticker = ['AAPL','AMZN','LULU','BAC','T']\n",
    "    for i in range(5):\n",
    "        TK = list_of_ticker[i]\n",
    "        print(\"Inserting Ticker\",TK)\n",
    "        url = \"https://finance.yahoo.com/quote/\" + TK + \"/history?period1=1571443200&period2=1603065600&interval=1d&filter=history&frequency=1d&includeAdjustedClose=true\"\n",
    "        resp = requests.get(url)\n",
    "        soup = BeautifulSoup(resp.text, 'html.parser')\n",
    "        data = soup.findAll('tr')\n",
    "        headers = data[0]\n",
    "        data_without_header = data[1:]\n",
    "        col_headers = [th.getText() for th in headers.findAll('th')]\n",
    "        df_url_data = [[td.getText() for td in tr.findAll('td')] for tr in data_without_header]\n",
    "        df_eod_with_header = pd.DataFrame(df_url_data, columns=col_headers)\n",
    "        df_eod_with_header.insert(0,'Ticker', TK)\n",
    "        # remove the last row as it is the footer.\n",
    "        df_eod_no_footer = df_eod_with_header[:-1]\n",
    "\n",
    "        df_eod_no_footer.columns = [column.replace('*','') for column in df_eod_no_footer.columns]\n",
    "\n",
    "        # write to the existing database into a new table\n",
    "        df_eod_no_footer.to_sql('eodstockprice',conn, if_exists='append',index=False)"
   ]
  },
  {
   "cell_type": "code",
   "execution_count": 119,
   "metadata": {},
   "outputs": [
    {
     "ename": "NameError",
     "evalue": "name 'df_api' is not defined",
     "output_type": "error",
     "traceback": [
      "\u001b[0;31m---------------------------------------------------------------------------\u001b[0m",
      "\u001b[0;31mNameError\u001b[0m                                 Traceback (most recent call last)",
      "\u001b[0;32m<ipython-input-119-46ad65b5ba88>\u001b[0m in \u001b[0;36m<module>\u001b[0;34m\u001b[0m\n\u001b[1;32m     18\u001b[0m     \u001b[0;31m# Replace header to add the Ticker symbols for each stock\u001b[0m\u001b[0;34m\u001b[0m\u001b[0;34m\u001b[0m\u001b[0;34m\u001b[0m\u001b[0m\n\u001b[1;32m     19\u001b[0m     \u001b[0mtmp_data\u001b[0m\u001b[0;34m.\u001b[0m\u001b[0minsert\u001b[0m\u001b[0;34m(\u001b[0m\u001b[0;36m0\u001b[0m\u001b[0;34m,\u001b[0m\u001b[0;34m'Ticker'\u001b[0m\u001b[0;34m,\u001b[0m \u001b[0mTK\u001b[0m\u001b[0;34m)\u001b[0m\u001b[0;34m\u001b[0m\u001b[0;34m\u001b[0m\u001b[0m\n\u001b[0;32m---> 20\u001b[0;31m     \u001b[0mdf_api\u001b[0m \u001b[0;34m=\u001b[0m \u001b[0mdf_api\u001b[0m\u001b[0;34m.\u001b[0m\u001b[0mappend\u001b[0m\u001b[0;34m(\u001b[0m\u001b[0mtmp_data\u001b[0m\u001b[0;34m)\u001b[0m\u001b[0;34m\u001b[0m\u001b[0;34m\u001b[0m\u001b[0m\n\u001b[0m\u001b[1;32m     21\u001b[0m \u001b[0;34m\u001b[0m\u001b[0m\n\u001b[1;32m     22\u001b[0m \u001b[0;31m# df_data = pd.DataFrame(df_data_comb)\u001b[0m\u001b[0;34m\u001b[0m\u001b[0;34m\u001b[0m\u001b[0;34m\u001b[0m\u001b[0m\n",
      "\u001b[0;31mNameError\u001b[0m: name 'df_api' is not defined"
     ]
    }
   ],
   "source": [
    "# Open the quandlAPI.json file to read the api key\n",
    "with open('quandlAPI.json') as f:\n",
    "    keys = json.load(f)\n",
    "    quandlapi = keys['api_key']\n",
    "\n",
    "quandl.ApiConfig.api_key = quandlapi\n",
    "# Loading the data from the API into a pandas dataframe\n",
    "start = dt.date(2020,10,31)\n",
    "end = dt.date(2020,10,31)\n",
    "# data = quandl.get(\"FRED/GDP\", start_date=\"2001-12-31\", end_date=\"2005-12-31\")\n",
    "# data_aapl_tsp = quandl.get(\"WIKI/AAPL\", rows=10)\n",
    "# creating a list of tickers to be extracted using the API\n",
    "list_of_ticker = ['AAPL','AMZN','TSLA']\n",
    "for i in range(len(list_of_ticker)):\n",
    "    TK = list_of_ticker[i]\n",
    "    # print(quandl.get('WIKI/'+TK, start_date=start, end_date=end))\n",
    "    tmp_data = quandl.get('WIKI/'+TK, start_date=start, end_date=end)\n",
    "    # Replace header to add the Ticker symbols for each stock\n",
    "    tmp_data.insert(0,'Ticker', TK)\n",
    "    df_api = df_api.append(tmp_data)\n",
    "\n",
    "# df_data = pd.DataFrame(df_data_comb) \n",
    "# df.shape\n",
    "# df.tail()\n",
    "# tmp_data.head"
   ]
  },
  {
   "cell_type": "code",
   "execution_count": 121,
   "metadata": {},
   "outputs": [
    {
     "data": {
      "text/plain": [
       "<bound method NDFrame.head of Empty DataFrame\n",
       "Columns: [Ticker, Open, High, Low, Close, Volume, Ex-Dividend, Split Ratio, Adj. Open, Adj. High, Adj. Low, Adj. Close, Adj. Volume]\n",
       "Index: []>"
      ]
     },
     "execution_count": 121,
     "metadata": {},
     "output_type": "execute_result"
    }
   ],
   "source": [
    "tmp_data.head"
   ]
  },
  {
   "cell_type": "code",
   "execution_count": 63,
   "metadata": {},
   "outputs": [
    {
     "data": {
      "text/plain": [
       "Ticker       object\n",
       "Date         object\n",
       "Open         object\n",
       "High         object\n",
       "Low          object\n",
       "Close        object\n",
       "Adj Close    object\n",
       "Volume       object\n",
       "dtype: object"
      ]
     },
     "execution_count": 63,
     "metadata": {},
     "output_type": "execute_result"
    }
   ],
   "source": [
    "# df_eod['Volume'] = df_eod['Volume'].str.replace(',', '').astype(float)\n",
    "# df_eod[[\"Open\",\"High\",\"Low\",\"Close*\",\"Adj Close**\"]] = df_eod[[\"Open\",\"High\",\"Low\",\"Close*\",\"Adj Close**\"]].apply(pd.to_numeric) \n",
    "# df_eod[[\"Open\",\"High\"]] = df_eod[[\"Open\",\"High\"]].apply(pd.to_numeric) \n",
    "\n",
    "df_eod_no_footer.dtypes"
   ]
  },
  {
   "cell_type": "code",
   "execution_count": 65,
   "metadata": {},
   "outputs": [
    {
     "data": {
      "text/html": [
       "<div>\n",
       "<style scoped>\n",
       "    .dataframe tbody tr th:only-of-type {\n",
       "        vertical-align: middle;\n",
       "    }\n",
       "\n",
       "    .dataframe tbody tr th {\n",
       "        vertical-align: top;\n",
       "    }\n",
       "\n",
       "    .dataframe thead th {\n",
       "        text-align: right;\n",
       "    }\n",
       "</style>\n",
       "<table border=\"1\" class=\"dataframe\">\n",
       "  <thead>\n",
       "    <tr style=\"text-align: right;\">\n",
       "      <th></th>\n",
       "      <th>Ticker</th>\n",
       "      <th>Date</th>\n",
       "      <th>Open</th>\n",
       "      <th>High</th>\n",
       "      <th>Low</th>\n",
       "      <th>Close</th>\n",
       "      <th>Adj Close</th>\n",
       "      <th>Volume</th>\n",
       "    </tr>\n",
       "  </thead>\n",
       "  <tbody>\n",
       "    <tr>\n",
       "      <th>count</th>\n",
       "      <td>100</td>\n",
       "      <td>100</td>\n",
       "      <td>100</td>\n",
       "      <td>98</td>\n",
       "      <td>98</td>\n",
       "      <td>98</td>\n",
       "      <td>98</td>\n",
       "      <td>98</td>\n",
       "    </tr>\n",
       "    <tr>\n",
       "      <th>unique</th>\n",
       "      <td>1</td>\n",
       "      <td>98</td>\n",
       "      <td>99</td>\n",
       "      <td>95</td>\n",
       "      <td>97</td>\n",
       "      <td>97</td>\n",
       "      <td>97</td>\n",
       "      <td>98</td>\n",
       "    </tr>\n",
       "    <tr>\n",
       "      <th>top</th>\n",
       "      <td>AAPL</td>\n",
       "      <td>Aug 31, 2020</td>\n",
       "      <td>110.40</td>\n",
       "      <td>99.25</td>\n",
       "      <td>110.00</td>\n",
       "      <td>91.03</td>\n",
       "      <td>90.71</td>\n",
       "      <td>332,607,200</td>\n",
       "    </tr>\n",
       "    <tr>\n",
       "      <th>freq</th>\n",
       "      <td>100</td>\n",
       "      <td>2</td>\n",
       "      <td>2</td>\n",
       "      <td>2</td>\n",
       "      <td>2</td>\n",
       "      <td>2</td>\n",
       "      <td>2</td>\n",
       "      <td>1</td>\n",
       "    </tr>\n",
       "  </tbody>\n",
       "</table>\n",
       "</div>"
      ],
      "text/plain": [
       "       Ticker          Date    Open   High     Low  Close Adj Close  \\\n",
       "count     100           100     100     98      98     98        98   \n",
       "unique      1            98      99     95      97     97        97   \n",
       "top      AAPL  Aug 31, 2020  110.40  99.25  110.00  91.03     90.71   \n",
       "freq      100             2       2      2       2      2         2   \n",
       "\n",
       "             Volume  \n",
       "count            98  \n",
       "unique           98  \n",
       "top     332,607,200  \n",
       "freq              1  "
      ]
     },
     "execution_count": 65,
     "metadata": {},
     "output_type": "execute_result"
    }
   ],
   "source": [
    "df_eod_no_footer.describe()"
   ]
  },
  {
   "cell_type": "code",
   "execution_count": 62,
   "metadata": {},
   "outputs": [
    {
     "name": "stdout",
     "output_type": "stream",
     "text": [
      "('table', 'customer', 'customer', 2, 'CREATE TABLE \"customer\" (\\n\\t\"cust_name\"\\tTEXT NOT NULL,\\n\\t\"cust_address\"\\tTEXT,\\n\\t\"cust_city\"\\tTEXT,\\n\\t\"cust_state\"\\tTEXT,\\n\\t\"cust_zip\"\\tTEXT,\\n\\t\"cust_phone\"\\tINTEGER\\n)')\n",
      "('table', 'FinancialIndicator', 'FinancialIndicator', 3, 'CREATE TABLE \"FinancialIndicator\" (\\n\"Ticker\" TEXT,\\n  \"Revenue\" REAL,\\n  \"Gross_Profit\" REAL,\\n  \"Operating_Expenses\" REAL,\\n  \"Operating_Income\" REAL,\\n  \"Interest_Expense\" REAL,\\n  \"Earnings_before_Tax\" REAL,\\n  \"Net_Income\" REAL,\\n  \"EPS\" REAL,\\n  \"Dividend_per_Share\" REAL,\\n  \"Gross_Margin\" REAL,\\n  \"EBITDA\" REAL,\\n  \"Revenue_per_Share\" REAL,\\n  \"Net_Income_per_Share\" REAL,\\n  \"Market_Cap\" REAL,\\n  \"PE_ratio\" REAL,\\n  \"Price_to_Sales_Ratio\" REAL,\\n  \"Debt_to_Equity\" REAL,\\n  \"Debt_to_Assets\" REAL,\\n  \"Sector\" TEXT\\n)')\n",
      "('table', 'eodstockprice', 'eodstockprice', 5, 'CREATE TABLE \"eodstockprice\" (\\n\"Ticker\" TEXT,\\n  \"Date\" TEXT,\\n  \"Open\" REAL,\\n  \"High\" REAL,\\n  \"Low\" REAL,\\n  \"Close\" REAL,\\n  \"Adj Close\" REAL,\\n  \"Volume\" REAL\\n)')\n"
     ]
    }
   ],
   "source": [
    "# Writing the SQL statements\n",
    "cursor = conn.cursor()\n",
    "sql_stmt = ''' select * from sqlite_master'''\n",
    "rows = cursor.execute(sql_stmt)\n",
    "for row in rows:\n",
    "    print(row)"
   ]
  },
  {
   "cell_type": "code",
   "execution_count": 88,
   "metadata": {},
   "outputs": [],
   "source": []
  },
  {
   "cell_type": "code",
   "execution_count": 99,
   "metadata": {},
   "outputs": [],
   "source": [
    "# Reading from a sql query into a pandas dataframe \n",
    "sql_stmt = \"\"\"select Ticker, count(*) from eodstockprice group by Ticker\"\"\"\n",
    "with sqlite3.connect('db_dsc540') as conn:\n",
    "    df_eod = pd.read_sql_query(sql_stmt,conn)"
   ]
  },
  {
   "cell_type": "code",
   "execution_count": 100,
   "metadata": {},
   "outputs": [
    {
     "data": {
      "text/plain": [
       "(5, 2)"
      ]
     },
     "execution_count": 100,
     "metadata": {},
     "output_type": "execute_result"
    }
   ],
   "source": [
    "df_eod.shape"
   ]
  },
  {
   "cell_type": "code",
   "execution_count": 101,
   "metadata": {},
   "outputs": [
    {
     "data": {
      "text/plain": [
       "<bound method NDFrame.head of   Ticker  count(*)\n",
       "0   AAPL       100\n",
       "1   AMZN       100\n",
       "2    BAC       100\n",
       "3   LULU       100\n",
       "4      T       100>"
      ]
     },
     "execution_count": 101,
     "metadata": {},
     "output_type": "execute_result"
    }
   ],
   "source": [
    "df_eod.head"
   ]
  },
  {
   "cell_type": "code",
   "execution_count": 88,
   "metadata": {},
   "outputs": [],
   "source": [
    "conn.close()"
   ]
  },
  {
   "cell_type": "code",
   "execution_count": 39,
   "metadata": {},
   "outputs": [
    {
     "ename": "ProgrammingError",
     "evalue": "Cannot operate on a closed database.",
     "output_type": "error",
     "traceback": [
      "\u001b[0;31m---------------------------------------------------------------------------\u001b[0m",
      "\u001b[0;31mProgrammingError\u001b[0m                          Traceback (most recent call last)",
      "\u001b[0;32m<ipython-input-39-5422c203f61a>\u001b[0m in \u001b[0;36m<module>\u001b[0;34m\u001b[0m\n\u001b[1;32m      1\u001b[0m \u001b[0;31m# Reading the data from the table\u001b[0m\u001b[0;34m\u001b[0m\u001b[0;34m\u001b[0m\u001b[0;34m\u001b[0m\u001b[0m\n\u001b[0;32m----> 2\u001b[0;31m \u001b[0mpd\u001b[0m\u001b[0;34m.\u001b[0m\u001b[0mread_sql_query\u001b[0m\u001b[0;34m(\u001b[0m\u001b[0;34m'SELECT count(*) from FinancialIndicator'\u001b[0m\u001b[0;34m,\u001b[0m\u001b[0mconn\u001b[0m\u001b[0;34m)\u001b[0m\u001b[0;34m\u001b[0m\u001b[0;34m\u001b[0m\u001b[0m\n\u001b[0m",
      "\u001b[0;32m~/anaconda3/lib/python3.8/site-packages/pandas/io/sql.py\u001b[0m in \u001b[0;36mread_sql_query\u001b[0;34m(sql, con, index_col, coerce_float, params, parse_dates, chunksize)\u001b[0m\n\u001b[1;32m    324\u001b[0m     \"\"\"\n\u001b[1;32m    325\u001b[0m     \u001b[0mpandas_sql\u001b[0m \u001b[0;34m=\u001b[0m \u001b[0mpandasSQL_builder\u001b[0m\u001b[0;34m(\u001b[0m\u001b[0mcon\u001b[0m\u001b[0;34m)\u001b[0m\u001b[0;34m\u001b[0m\u001b[0;34m\u001b[0m\u001b[0m\n\u001b[0;32m--> 326\u001b[0;31m     return pandas_sql.read_query(\n\u001b[0m\u001b[1;32m    327\u001b[0m         \u001b[0msql\u001b[0m\u001b[0;34m,\u001b[0m\u001b[0;34m\u001b[0m\u001b[0;34m\u001b[0m\u001b[0m\n\u001b[1;32m    328\u001b[0m         \u001b[0mindex_col\u001b[0m\u001b[0;34m=\u001b[0m\u001b[0mindex_col\u001b[0m\u001b[0;34m,\u001b[0m\u001b[0;34m\u001b[0m\u001b[0;34m\u001b[0m\u001b[0m\n",
      "\u001b[0;32m~/anaconda3/lib/python3.8/site-packages/pandas/io/sql.py\u001b[0m in \u001b[0;36mread_query\u001b[0;34m(self, sql, index_col, coerce_float, params, parse_dates, chunksize)\u001b[0m\n\u001b[1;32m   1631\u001b[0m \u001b[0;34m\u001b[0m\u001b[0m\n\u001b[1;32m   1632\u001b[0m         \u001b[0margs\u001b[0m \u001b[0;34m=\u001b[0m \u001b[0m_convert_params\u001b[0m\u001b[0;34m(\u001b[0m\u001b[0msql\u001b[0m\u001b[0;34m,\u001b[0m \u001b[0mparams\u001b[0m\u001b[0;34m)\u001b[0m\u001b[0;34m\u001b[0m\u001b[0;34m\u001b[0m\u001b[0m\n\u001b[0;32m-> 1633\u001b[0;31m         \u001b[0mcursor\u001b[0m \u001b[0;34m=\u001b[0m \u001b[0mself\u001b[0m\u001b[0;34m.\u001b[0m\u001b[0mexecute\u001b[0m\u001b[0;34m(\u001b[0m\u001b[0;34m*\u001b[0m\u001b[0margs\u001b[0m\u001b[0;34m)\u001b[0m\u001b[0;34m\u001b[0m\u001b[0;34m\u001b[0m\u001b[0m\n\u001b[0m\u001b[1;32m   1634\u001b[0m         \u001b[0mcolumns\u001b[0m \u001b[0;34m=\u001b[0m \u001b[0;34m[\u001b[0m\u001b[0mcol_desc\u001b[0m\u001b[0;34m[\u001b[0m\u001b[0;36m0\u001b[0m\u001b[0;34m]\u001b[0m \u001b[0;32mfor\u001b[0m \u001b[0mcol_desc\u001b[0m \u001b[0;32min\u001b[0m \u001b[0mcursor\u001b[0m\u001b[0;34m.\u001b[0m\u001b[0mdescription\u001b[0m\u001b[0;34m]\u001b[0m\u001b[0;34m\u001b[0m\u001b[0;34m\u001b[0m\u001b[0m\n\u001b[1;32m   1635\u001b[0m \u001b[0;34m\u001b[0m\u001b[0m\n",
      "\u001b[0;32m~/anaconda3/lib/python3.8/site-packages/pandas/io/sql.py\u001b[0m in \u001b[0;36mexecute\u001b[0;34m(self, *args, **kwargs)\u001b[0m\n\u001b[1;32m   1582\u001b[0m             \u001b[0mcur\u001b[0m \u001b[0;34m=\u001b[0m \u001b[0mself\u001b[0m\u001b[0;34m.\u001b[0m\u001b[0mcon\u001b[0m\u001b[0;34m\u001b[0m\u001b[0;34m\u001b[0m\u001b[0m\n\u001b[1;32m   1583\u001b[0m         \u001b[0;32melse\u001b[0m\u001b[0;34m:\u001b[0m\u001b[0;34m\u001b[0m\u001b[0;34m\u001b[0m\u001b[0m\n\u001b[0;32m-> 1584\u001b[0;31m             \u001b[0mcur\u001b[0m \u001b[0;34m=\u001b[0m \u001b[0mself\u001b[0m\u001b[0;34m.\u001b[0m\u001b[0mcon\u001b[0m\u001b[0;34m.\u001b[0m\u001b[0mcursor\u001b[0m\u001b[0;34m(\u001b[0m\u001b[0;34m)\u001b[0m\u001b[0;34m\u001b[0m\u001b[0;34m\u001b[0m\u001b[0m\n\u001b[0m\u001b[1;32m   1585\u001b[0m         \u001b[0;32mtry\u001b[0m\u001b[0;34m:\u001b[0m\u001b[0;34m\u001b[0m\u001b[0;34m\u001b[0m\u001b[0m\n\u001b[1;32m   1586\u001b[0m             \u001b[0mcur\u001b[0m\u001b[0;34m.\u001b[0m\u001b[0mexecute\u001b[0m\u001b[0;34m(\u001b[0m\u001b[0;34m*\u001b[0m\u001b[0margs\u001b[0m\u001b[0;34m,\u001b[0m \u001b[0;34m**\u001b[0m\u001b[0mkwargs\u001b[0m\u001b[0;34m)\u001b[0m\u001b[0;34m\u001b[0m\u001b[0;34m\u001b[0m\u001b[0m\n",
      "\u001b[0;31mProgrammingError\u001b[0m: Cannot operate on a closed database."
     ]
    }
   ],
   "source": [
    "# Reading the data from the table\n",
    "pd.read_sql_query('SELECT count(*) from FinancialIndicator',conn)"
   ]
  },
  {
   "cell_type": "code",
   "execution_count": 10,
   "metadata": {},
   "outputs": [
    {
     "data": {
      "text/html": [
       "<div>\n",
       "<style scoped>\n",
       "    .dataframe tbody tr th:only-of-type {\n",
       "        vertical-align: middle;\n",
       "    }\n",
       "\n",
       "    .dataframe tbody tr th {\n",
       "        vertical-align: top;\n",
       "    }\n",
       "\n",
       "    .dataframe thead th {\n",
       "        text-align: right;\n",
       "    }\n",
       "</style>\n",
       "<table border=\"1\" class=\"dataframe\">\n",
       "  <thead>\n",
       "    <tr style=\"text-align: right;\">\n",
       "      <th></th>\n",
       "      <th>Ticker</th>\n",
       "      <th>count(*)</th>\n",
       "    </tr>\n",
       "  </thead>\n",
       "  <tbody>\n",
       "    <tr>\n",
       "      <th>0</th>\n",
       "      <td>A</td>\n",
       "      <td>1</td>\n",
       "    </tr>\n",
       "    <tr>\n",
       "      <th>1</th>\n",
       "      <td>AA</td>\n",
       "      <td>1</td>\n",
       "    </tr>\n",
       "    <tr>\n",
       "      <th>2</th>\n",
       "      <td>AABA</td>\n",
       "      <td>1</td>\n",
       "    </tr>\n",
       "    <tr>\n",
       "      <th>3</th>\n",
       "      <td>AAL</td>\n",
       "      <td>1</td>\n",
       "    </tr>\n",
       "    <tr>\n",
       "      <th>4</th>\n",
       "      <td>AAMC</td>\n",
       "      <td>1</td>\n",
       "    </tr>\n",
       "    <tr>\n",
       "      <th>...</th>\n",
       "      <td>...</td>\n",
       "      <td>...</td>\n",
       "    </tr>\n",
       "    <tr>\n",
       "      <th>4387</th>\n",
       "      <td>ZTR</td>\n",
       "      <td>1</td>\n",
       "    </tr>\n",
       "    <tr>\n",
       "      <th>4388</th>\n",
       "      <td>ZTS</td>\n",
       "      <td>1</td>\n",
       "    </tr>\n",
       "    <tr>\n",
       "      <th>4389</th>\n",
       "      <td>ZUMZ</td>\n",
       "      <td>1</td>\n",
       "    </tr>\n",
       "    <tr>\n",
       "      <th>4390</th>\n",
       "      <td>ZYME</td>\n",
       "      <td>1</td>\n",
       "    </tr>\n",
       "    <tr>\n",
       "      <th>4391</th>\n",
       "      <td>ZYNE</td>\n",
       "      <td>1</td>\n",
       "    </tr>\n",
       "  </tbody>\n",
       "</table>\n",
       "<p>4392 rows × 2 columns</p>\n",
       "</div>"
      ],
      "text/plain": [
       "     Ticker  count(*)\n",
       "0         A         1\n",
       "1        AA         1\n",
       "2      AABA         1\n",
       "3       AAL         1\n",
       "4      AAMC         1\n",
       "...     ...       ...\n",
       "4387    ZTR         1\n",
       "4388    ZTS         1\n",
       "4389   ZUMZ         1\n",
       "4390   ZYME         1\n",
       "4391   ZYNE         1\n",
       "\n",
       "[4392 rows x 2 columns]"
      ]
     },
     "execution_count": 10,
     "metadata": {},
     "output_type": "execute_result"
    }
   ],
   "source": [
    "# sample each Ticker from this table\n",
    "pd.read_sql_query('''SELECT Ticker,count(*) from FinancialIndicator \n",
    "                  group by Ticker\n",
    "                  ''',conn)"
   ]
  },
  {
   "cell_type": "code",
   "execution_count": 12,
   "metadata": {},
   "outputs": [
    {
     "data": {
      "text/html": [
       "<div>\n",
       "<style scoped>\n",
       "    .dataframe tbody tr th:only-of-type {\n",
       "        vertical-align: middle;\n",
       "    }\n",
       "\n",
       "    .dataframe tbody tr th {\n",
       "        vertical-align: top;\n",
       "    }\n",
       "\n",
       "    .dataframe thead th {\n",
       "        text-align: right;\n",
       "    }\n",
       "</style>\n",
       "<table border=\"1\" class=\"dataframe\">\n",
       "  <thead>\n",
       "    <tr style=\"text-align: right;\">\n",
       "      <th></th>\n",
       "      <th>Ticker</th>\n",
       "      <th>Revenue</th>\n",
       "      <th>Gross_Profit</th>\n",
       "      <th>Operating_Expenses</th>\n",
       "      <th>Operating_Income</th>\n",
       "      <th>Interest_Expense</th>\n",
       "      <th>Earnings_before_Tax</th>\n",
       "      <th>Net_Income</th>\n",
       "      <th>EPS</th>\n",
       "      <th>Dividend_per_Share</th>\n",
       "      <th>Gross_Margin</th>\n",
       "      <th>EBITDA</th>\n",
       "      <th>Revenue_per_Share</th>\n",
       "      <th>Net_Income_per_Share</th>\n",
       "      <th>Market_Cap</th>\n",
       "      <th>PE_ratio</th>\n",
       "      <th>Price_to_Sales_Ratio</th>\n",
       "      <th>Debt_to_Equity</th>\n",
       "      <th>Debt_to_Assets</th>\n",
       "      <th>Sector</th>\n",
       "    </tr>\n",
       "  </thead>\n",
       "  <tbody>\n",
       "    <tr>\n",
       "      <th>0</th>\n",
       "      <td>BAC</td>\n",
       "      <td>9.124700e+10</td>\n",
       "      <td>9.124700e+10</td>\n",
       "      <td>5.338100e+10</td>\n",
       "      <td>3.786600e+10</td>\n",
       "      <td>0.000000e+00</td>\n",
       "      <td>3.458400e+10</td>\n",
       "      <td>2.814700e+10</td>\n",
       "      <td>2.64</td>\n",
       "      <td>0.54</td>\n",
       "      <td>1.0000</td>\n",
       "      <td>3.664700e+10</td>\n",
       "      <td>9.0375</td>\n",
       "      <td>2.7878</td>\n",
       "      <td>2.418218e+11</td>\n",
       "      <td>9.3333</td>\n",
       "      <td>2.6502</td>\n",
       "      <td>1.6454</td>\n",
       "      <td>0.1854</td>\n",
       "      <td>Financial Services</td>\n",
       "    </tr>\n",
       "    <tr>\n",
       "      <th>1</th>\n",
       "      <td>AAPL</td>\n",
       "      <td>2.655950e+11</td>\n",
       "      <td>1.018390e+11</td>\n",
       "      <td>3.094100e+10</td>\n",
       "      <td>7.089800e+10</td>\n",
       "      <td>0.000000e+00</td>\n",
       "      <td>7.290300e+10</td>\n",
       "      <td>5.953100e+10</td>\n",
       "      <td>12.01</td>\n",
       "      <td>2.72</td>\n",
       "      <td>0.3834</td>\n",
       "      <td>8.380600e+10</td>\n",
       "      <td>53.5973</td>\n",
       "      <td>12.0134</td>\n",
       "      <td>1.097649e+12</td>\n",
       "      <td>18.9226</td>\n",
       "      <td>4.1328</td>\n",
       "      <td>1.0685</td>\n",
       "      <td>0.3130</td>\n",
       "      <td>Technology</td>\n",
       "    </tr>\n",
       "    <tr>\n",
       "      <th>2</th>\n",
       "      <td>T</td>\n",
       "      <td>1.707560e+11</td>\n",
       "      <td>9.133700e+10</td>\n",
       "      <td>6.524100e+10</td>\n",
       "      <td>2.609600e+10</td>\n",
       "      <td>7.957000e+09</td>\n",
       "      <td>2.429000e+10</td>\n",
       "      <td>1.937000e+10</td>\n",
       "      <td>2.85</td>\n",
       "      <td>2.00</td>\n",
       "      <td>0.5349</td>\n",
       "      <td>6.067700e+10</td>\n",
       "      <td>23.4619</td>\n",
       "      <td>2.6614</td>\n",
       "      <td>2.077141e+11</td>\n",
       "      <td>10.0140</td>\n",
       "      <td>1.2164</td>\n",
       "      <td>0.9588</td>\n",
       "      <td>0.3319</td>\n",
       "      <td>Communication Services</td>\n",
       "    </tr>\n",
       "    <tr>\n",
       "      <th>3</th>\n",
       "      <td>AMZN</td>\n",
       "      <td>2.328870e+11</td>\n",
       "      <td>9.373100e+10</td>\n",
       "      <td>8.131000e+10</td>\n",
       "      <td>1.242100e+10</td>\n",
       "      <td>1.417000e+09</td>\n",
       "      <td>1.127000e+10</td>\n",
       "      <td>1.007300e+10</td>\n",
       "      <td>20.68</td>\n",
       "      <td>0.00</td>\n",
       "      <td>0.4025</td>\n",
       "      <td>2.802800e+10</td>\n",
       "      <td>478.2074</td>\n",
       "      <td>20.6838</td>\n",
       "      <td>7.344162e+11</td>\n",
       "      <td>72.6291</td>\n",
       "      <td>3.1535</td>\n",
       "      <td>0.7611</td>\n",
       "      <td>0.2038</td>\n",
       "      <td>Technology</td>\n",
       "    </tr>\n",
       "    <tr>\n",
       "      <th>4</th>\n",
       "      <td>LULU</td>\n",
       "      <td>2.649181e+09</td>\n",
       "      <td>1.398790e+09</td>\n",
       "      <td>9.427890e+08</td>\n",
       "      <td>4.560010e+08</td>\n",
       "      <td>0.000000e+00</td>\n",
       "      <td>4.599980e+08</td>\n",
       "      <td>2.586620e+08</td>\n",
       "      <td>1.90</td>\n",
       "      <td>0.00</td>\n",
       "      <td>0.5280</td>\n",
       "      <td>5.682330e+08</td>\n",
       "      <td>19.4810</td>\n",
       "      <td>1.9021</td>\n",
       "      <td>1.004290e+10</td>\n",
       "      <td>42.0842</td>\n",
       "      <td>3.7909</td>\n",
       "      <td>0.0000</td>\n",
       "      <td>0.0000</td>\n",
       "      <td>Consumer Cyclical</td>\n",
       "    </tr>\n",
       "  </tbody>\n",
       "</table>\n",
       "</div>"
      ],
      "text/plain": [
       "  Ticker       Revenue  Gross_Profit  Operating_Expenses  Operating_Income  \\\n",
       "0    BAC  9.124700e+10  9.124700e+10        5.338100e+10      3.786600e+10   \n",
       "1   AAPL  2.655950e+11  1.018390e+11        3.094100e+10      7.089800e+10   \n",
       "2      T  1.707560e+11  9.133700e+10        6.524100e+10      2.609600e+10   \n",
       "3   AMZN  2.328870e+11  9.373100e+10        8.131000e+10      1.242100e+10   \n",
       "4   LULU  2.649181e+09  1.398790e+09        9.427890e+08      4.560010e+08   \n",
       "\n",
       "   Interest_Expense  Earnings_before_Tax    Net_Income    EPS  \\\n",
       "0      0.000000e+00         3.458400e+10  2.814700e+10   2.64   \n",
       "1      0.000000e+00         7.290300e+10  5.953100e+10  12.01   \n",
       "2      7.957000e+09         2.429000e+10  1.937000e+10   2.85   \n",
       "3      1.417000e+09         1.127000e+10  1.007300e+10  20.68   \n",
       "4      0.000000e+00         4.599980e+08  2.586620e+08   1.90   \n",
       "\n",
       "   Dividend_per_Share  Gross_Margin        EBITDA  Revenue_per_Share  \\\n",
       "0                0.54        1.0000  3.664700e+10             9.0375   \n",
       "1                2.72        0.3834  8.380600e+10            53.5973   \n",
       "2                2.00        0.5349  6.067700e+10            23.4619   \n",
       "3                0.00        0.4025  2.802800e+10           478.2074   \n",
       "4                0.00        0.5280  5.682330e+08            19.4810   \n",
       "\n",
       "   Net_Income_per_Share    Market_Cap  PE_ratio  Price_to_Sales_Ratio  \\\n",
       "0                2.7878  2.418218e+11    9.3333                2.6502   \n",
       "1               12.0134  1.097649e+12   18.9226                4.1328   \n",
       "2                2.6614  2.077141e+11   10.0140                1.2164   \n",
       "3               20.6838  7.344162e+11   72.6291                3.1535   \n",
       "4                1.9021  1.004290e+10   42.0842                3.7909   \n",
       "\n",
       "   Debt_to_Equity  Debt_to_Assets                  Sector  \n",
       "0          1.6454          0.1854      Financial Services  \n",
       "1          1.0685          0.3130              Technology  \n",
       "2          0.9588          0.3319  Communication Services  \n",
       "3          0.7611          0.2038              Technology  \n",
       "4          0.0000          0.0000       Consumer Cyclical  "
      ]
     },
     "execution_count": 12,
     "metadata": {},
     "output_type": "execute_result"
    }
   ],
   "source": [
    "# Show the Financial data for the following five companies by Ticker symbol\n",
    "pd.read_sql_query('''SELECT * from FinancialIndicator \n",
    "                  where Ticker in ('AAPL','AMZN','LULU','BAC','T')\n",
    "                  ''',conn)"
   ]
  },
  {
   "cell_type": "code",
   "execution_count": 27,
   "metadata": {},
   "outputs": [
    {
     "data": {
      "text/html": [
       "<div>\n",
       "<style scoped>\n",
       "    .dataframe tbody tr th:only-of-type {\n",
       "        vertical-align: middle;\n",
       "    }\n",
       "\n",
       "    .dataframe tbody tr th {\n",
       "        vertical-align: top;\n",
       "    }\n",
       "\n",
       "    .dataframe thead th {\n",
       "        text-align: right;\n",
       "    }\n",
       "</style>\n",
       "<table border=\"1\" class=\"dataframe\">\n",
       "  <thead>\n",
       "    <tr style=\"text-align: right;\">\n",
       "      <th></th>\n",
       "      <th>Sector</th>\n",
       "      <th>Rev</th>\n",
       "    </tr>\n",
       "  </thead>\n",
       "  <tbody>\n",
       "    <tr>\n",
       "      <th>0</th>\n",
       "      <td>Real Estate</td>\n",
       "      <td>30078.197054</td>\n",
       "    </tr>\n",
       "    <tr>\n",
       "      <th>1</th>\n",
       "      <td>Utilities</td>\n",
       "      <td>57035.007279</td>\n",
       "    </tr>\n",
       "    <tr>\n",
       "      <th>2</th>\n",
       "      <td>Basic Materials</td>\n",
       "      <td>108313.885649</td>\n",
       "    </tr>\n",
       "    <tr>\n",
       "      <th>3</th>\n",
       "      <td>Communication Services</td>\n",
       "      <td>152409.924612</td>\n",
       "    </tr>\n",
       "    <tr>\n",
       "      <th>4</th>\n",
       "      <td>Consumer Defensive</td>\n",
       "      <td>232616.498036</td>\n",
       "    </tr>\n",
       "    <tr>\n",
       "      <th>5</th>\n",
       "      <td>Industrials</td>\n",
       "      <td>233905.501910</td>\n",
       "    </tr>\n",
       "    <tr>\n",
       "      <th>6</th>\n",
       "      <td>Financial Services</td>\n",
       "      <td>247620.126318</td>\n",
       "    </tr>\n",
       "    <tr>\n",
       "      <th>7</th>\n",
       "      <td>Healthcare</td>\n",
       "      <td>248401.957762</td>\n",
       "    </tr>\n",
       "    <tr>\n",
       "      <th>8</th>\n",
       "      <td>Technology</td>\n",
       "      <td>274650.377158</td>\n",
       "    </tr>\n",
       "    <tr>\n",
       "      <th>9</th>\n",
       "      <td>Consumer Cyclical</td>\n",
       "      <td>317851.139010</td>\n",
       "    </tr>\n",
       "    <tr>\n",
       "      <th>10</th>\n",
       "      <td>Energy</td>\n",
       "      <td>321959.640321</td>\n",
       "    </tr>\n",
       "  </tbody>\n",
       "</table>\n",
       "</div>"
      ],
      "text/plain": [
       "                    Sector            Rev\n",
       "0              Real Estate   30078.197054\n",
       "1                Utilities   57035.007279\n",
       "2          Basic Materials  108313.885649\n",
       "3   Communication Services  152409.924612\n",
       "4       Consumer Defensive  232616.498036\n",
       "5              Industrials  233905.501910\n",
       "6       Financial Services  247620.126318\n",
       "7               Healthcare  248401.957762\n",
       "8               Technology  274650.377158\n",
       "9        Consumer Cyclical  317851.139010\n",
       "10                  Energy  321959.640321"
      ]
     },
     "execution_count": 27,
     "metadata": {},
     "output_type": "execute_result"
    }
   ],
   "source": [
    "# showing the sum of Revenue by the Sector\n",
    "pd.read_sql_query('''SELECT SECTOR,sum(Revenue)/(10000000) as Rev\n",
    "                     from FinancialIndicator \n",
    "                     group by Sector\n",
    "                     order by Rev\n",
    "                     ''',conn)"
   ]
  },
  {
   "cell_type": "code",
   "execution_count": 102,
   "metadata": {},
   "outputs": [],
   "source": [
    "# Cleaning the data from the tables before loading into a dataframe \n",
    "sql_stmt = \"\"\"select * from eodstockprice where Volume is null\"\"\"\n",
    "with sqlite3.connect('db_dsc540') as conn:\n",
    "    df_eod = pd.read_sql_query(sql_stmt,conn)"
   ]
  },
  {
   "cell_type": "code",
   "execution_count": 103,
   "metadata": {},
   "outputs": [
    {
     "data": {
      "text/plain": [
       "<bound method NDFrame.head of   Ticker          Date             Open  High   Low Close Adj Close Volume\n",
       "0   AAPL  Aug 31, 2020  4:1 Stock Split  None  None  None      None   None\n",
       "1   AAPL  Aug 07, 2020   0.205 Dividend  None  None  None      None   None\n",
       "2    BAC  Sep 03, 2020    0.18 Dividend  None  None  None      None   None\n",
       "3    BAC  Jun 04, 2020    0.18 Dividend  None  None  None      None   None\n",
       "4      T  Oct 08, 2020    0.52 Dividend  None  None  None      None   None\n",
       "5      T  Jul 09, 2020    0.52 Dividend  None  None  None      None   None>"
      ]
     },
     "execution_count": 103,
     "metadata": {},
     "output_type": "execute_result"
    }
   ],
   "source": [
    "df_eod.head"
   ]
  },
  {
   "cell_type": "code",
   "execution_count": 104,
   "metadata": {},
   "outputs": [],
   "source": [
    "# Delete data from a table\n",
    "del_stmt = \"\"\"delete from eodstockprice where Volume is null\"\"\"\n",
    "with sqlite3.connect('db_dsc540') as conn:\n",
    "    cursor = conn.cursor()\n",
    "    cursor.execute(del_stmt)\n",
    "    conn.commit()"
   ]
  },
  {
   "cell_type": "code",
   "execution_count": 112,
   "metadata": {},
   "outputs": [],
   "source": [
    "# Get the data for the closing pice for each ticker by date\n",
    "sql_stmt = \"\"\" select Ticker, Date, \"Adj Close\" from eodstockprice\"\"\"\n",
    "with sqlite3.connect('db_dsc540') as conn:\n",
    "    df1 = pd.read_sql_query(sql_stmt,conn)"
   ]
  },
  {
   "cell_type": "code",
   "execution_count": 115,
   "metadata": {},
   "outputs": [
    {
     "data": {
      "text/plain": [
       "<bound method NDFrame.head of     Ticker          Date  Adj Close\n",
       "0     AAPL  Oct 16, 2020     118.82\n",
       "1     AAPL  Oct 15, 2020     120.50\n",
       "2     AAPL  Oct 14, 2020     120.98\n",
       "3     AAPL  Oct 13, 2020     120.89\n",
       "4     AAPL  Oct 12, 2020     124.19\n",
       "..     ...           ...        ...\n",
       "489      T  Jun 05, 2020      31.63\n",
       "490      T  Jun 04, 2020      30.69\n",
       "491      T  Jun 03, 2020      30.41\n",
       "492      T  Jun 02, 2020      29.91\n",
       "493      T  Jun 01, 2020      29.85\n",
       "\n",
       "[494 rows x 3 columns]>"
      ]
     },
     "execution_count": 115,
     "metadata": {},
     "output_type": "execute_result"
    }
   ],
   "source": [
    "# df1[[\"Adj Close\"]] = df1[[\"Adj Close\"]].apply(pd.to_numeric)\n",
    "df1['Adj Close'] = df1['Adj Close'].str.replace(',', '').astype(float)\n",
    "df1.head"
   ]
  },
  {
   "cell_type": "code",
   "execution_count": 97,
   "metadata": {},
   "outputs": [
    {
     "name": "stdout",
     "output_type": "stream",
     "text": [
      "Inserting Ticker AAPL\n",
      "Inserting Ticker AMZN\n",
      "Inserting Ticker LULU\n",
      "Inserting Ticker BAC\n",
      "Inserting Ticker T\n"
     ]
    }
   ],
   "source": [
    "list_of_ticker = ['AAPL','AMZN','LULU','BAC','T']\n",
    "for i in range(5):\n",
    "    TK = list_of_ticker[i]\n",
    "    print(\"Inserting Ticker\",TK)"
   ]
  }
 ],
 "metadata": {
  "kernelspec": {
   "display_name": "Python 3",
   "language": "python",
   "name": "python3"
  },
  "language_info": {
   "codemirror_mode": {
    "name": "ipython",
    "version": 3
   },
   "file_extension": ".py",
   "mimetype": "text/x-python",
   "name": "python",
   "nbconvert_exporter": "python",
   "pygments_lexer": "ipython3",
   "version": "3.8.3"
  }
 },
 "nbformat": 4,
 "nbformat_minor": 4
}
