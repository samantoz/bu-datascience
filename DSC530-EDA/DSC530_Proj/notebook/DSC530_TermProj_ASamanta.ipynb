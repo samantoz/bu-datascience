{
 "cells": [
  {
   "cell_type": "code",
   "execution_count": 44,
   "metadata": {},
   "outputs": [],
   "source": [
    "# loading the important modules\n",
    "\n",
    "import numpy as np\n",
    "import pandas as pd\n",
    "from matplotlib import pyplot as plt\n",
    "import thinkstats2\n",
    "import thinkplot"
   ]
  },
  {
   "cell_type": "code",
   "execution_count": 3,
   "metadata": {},
   "outputs": [],
   "source": [
    "# Reading the dataset using pandas\n",
    "sales_data = pd.read_csv(\"SalesKaggle3.csv\")"
   ]
  },
  {
   "cell_type": "markdown",
   "metadata": {},
   "source": [
    "### After loading the data into pandas dataframe, we will look into the various columns to see what values they contain with respect to the range of values and the nature of the columns."
   ]
  },
  {
   "cell_type": "code",
   "execution_count": 4,
   "metadata": {},
   "outputs": [
    {
     "data": {
      "text/html": [
       "<div>\n",
       "<style scoped>\n",
       "    .dataframe tbody tr th:only-of-type {\n",
       "        vertical-align: middle;\n",
       "    }\n",
       "\n",
       "    .dataframe tbody tr th {\n",
       "        vertical-align: top;\n",
       "    }\n",
       "\n",
       "    .dataframe thead th {\n",
       "        text-align: right;\n",
       "    }\n",
       "</style>\n",
       "<table border=\"1\" class=\"dataframe\">\n",
       "  <thead>\n",
       "    <tr style=\"text-align: right;\">\n",
       "      <th></th>\n",
       "      <th>Order</th>\n",
       "      <th>File_Type</th>\n",
       "      <th>SKU_number</th>\n",
       "      <th>SoldFlag</th>\n",
       "      <th>SoldCount</th>\n",
       "      <th>MarketingType</th>\n",
       "      <th>ReleaseNumber</th>\n",
       "      <th>New_Release_Flag</th>\n",
       "      <th>StrengthFactor</th>\n",
       "      <th>PriceReg</th>\n",
       "      <th>ReleaseYear</th>\n",
       "      <th>ItemCount</th>\n",
       "      <th>LowUserPrice</th>\n",
       "      <th>LowNetPrice</th>\n",
       "    </tr>\n",
       "  </thead>\n",
       "  <tbody>\n",
       "    <tr>\n",
       "      <th>0</th>\n",
       "      <td>2</td>\n",
       "      <td>Historical</td>\n",
       "      <td>1737127</td>\n",
       "      <td>0.0</td>\n",
       "      <td>0.0</td>\n",
       "      <td>D</td>\n",
       "      <td>15</td>\n",
       "      <td>1</td>\n",
       "      <td>6.827430e+05</td>\n",
       "      <td>44.99</td>\n",
       "      <td>2015</td>\n",
       "      <td>8</td>\n",
       "      <td>28.97</td>\n",
       "      <td>31.84</td>\n",
       "    </tr>\n",
       "    <tr>\n",
       "      <th>1</th>\n",
       "      <td>3</td>\n",
       "      <td>Historical</td>\n",
       "      <td>3255963</td>\n",
       "      <td>0.0</td>\n",
       "      <td>0.0</td>\n",
       "      <td>D</td>\n",
       "      <td>7</td>\n",
       "      <td>1</td>\n",
       "      <td>1.016014e+06</td>\n",
       "      <td>24.81</td>\n",
       "      <td>2005</td>\n",
       "      <td>39</td>\n",
       "      <td>0.00</td>\n",
       "      <td>15.54</td>\n",
       "    </tr>\n",
       "    <tr>\n",
       "      <th>2</th>\n",
       "      <td>4</td>\n",
       "      <td>Historical</td>\n",
       "      <td>612701</td>\n",
       "      <td>0.0</td>\n",
       "      <td>0.0</td>\n",
       "      <td>D</td>\n",
       "      <td>0</td>\n",
       "      <td>0</td>\n",
       "      <td>3.404640e+05</td>\n",
       "      <td>46.00</td>\n",
       "      <td>2013</td>\n",
       "      <td>34</td>\n",
       "      <td>30.19</td>\n",
       "      <td>27.97</td>\n",
       "    </tr>\n",
       "    <tr>\n",
       "      <th>3</th>\n",
       "      <td>6</td>\n",
       "      <td>Historical</td>\n",
       "      <td>115883</td>\n",
       "      <td>1.0</td>\n",
       "      <td>1.0</td>\n",
       "      <td>D</td>\n",
       "      <td>4</td>\n",
       "      <td>1</td>\n",
       "      <td>3.340110e+05</td>\n",
       "      <td>100.00</td>\n",
       "      <td>2006</td>\n",
       "      <td>20</td>\n",
       "      <td>133.93</td>\n",
       "      <td>83.15</td>\n",
       "    </tr>\n",
       "    <tr>\n",
       "      <th>4</th>\n",
       "      <td>7</td>\n",
       "      <td>Historical</td>\n",
       "      <td>863939</td>\n",
       "      <td>1.0</td>\n",
       "      <td>1.0</td>\n",
       "      <td>D</td>\n",
       "      <td>2</td>\n",
       "      <td>1</td>\n",
       "      <td>1.287938e+06</td>\n",
       "      <td>121.95</td>\n",
       "      <td>2010</td>\n",
       "      <td>28</td>\n",
       "      <td>4.00</td>\n",
       "      <td>23.99</td>\n",
       "    </tr>\n",
       "    <tr>\n",
       "      <th>...</th>\n",
       "      <td>...</td>\n",
       "      <td>...</td>\n",
       "      <td>...</td>\n",
       "      <td>...</td>\n",
       "      <td>...</td>\n",
       "      <td>...</td>\n",
       "      <td>...</td>\n",
       "      <td>...</td>\n",
       "      <td>...</td>\n",
       "      <td>...</td>\n",
       "      <td>...</td>\n",
       "      <td>...</td>\n",
       "      <td>...</td>\n",
       "      <td>...</td>\n",
       "    </tr>\n",
       "    <tr>\n",
       "      <th>198912</th>\n",
       "      <td>208023</td>\n",
       "      <td>Active</td>\n",
       "      <td>109683</td>\n",
       "      <td>NaN</td>\n",
       "      <td>NaN</td>\n",
       "      <td>D</td>\n",
       "      <td>7</td>\n",
       "      <td>1</td>\n",
       "      <td>2.101869e+05</td>\n",
       "      <td>72.87</td>\n",
       "      <td>2006</td>\n",
       "      <td>54</td>\n",
       "      <td>8.46</td>\n",
       "      <td>60.59</td>\n",
       "    </tr>\n",
       "    <tr>\n",
       "      <th>198913</th>\n",
       "      <td>208024</td>\n",
       "      <td>Active</td>\n",
       "      <td>416462</td>\n",
       "      <td>NaN</td>\n",
       "      <td>NaN</td>\n",
       "      <td>D</td>\n",
       "      <td>8</td>\n",
       "      <td>1</td>\n",
       "      <td>4.555041e+05</td>\n",
       "      <td>247.00</td>\n",
       "      <td>2009</td>\n",
       "      <td>65</td>\n",
       "      <td>8.40</td>\n",
       "      <td>74.85</td>\n",
       "    </tr>\n",
       "    <tr>\n",
       "      <th>198914</th>\n",
       "      <td>208025</td>\n",
       "      <td>Active</td>\n",
       "      <td>658242</td>\n",
       "      <td>NaN</td>\n",
       "      <td>NaN</td>\n",
       "      <td>S</td>\n",
       "      <td>2</td>\n",
       "      <td>1</td>\n",
       "      <td>1.692746e+05</td>\n",
       "      <td>50.00</td>\n",
       "      <td>2012</td>\n",
       "      <td>23</td>\n",
       "      <td>23.98</td>\n",
       "      <td>32.62</td>\n",
       "    </tr>\n",
       "    <tr>\n",
       "      <th>198915</th>\n",
       "      <td>208026</td>\n",
       "      <td>Active</td>\n",
       "      <td>2538340</td>\n",
       "      <td>NaN</td>\n",
       "      <td>NaN</td>\n",
       "      <td>S</td>\n",
       "      <td>2</td>\n",
       "      <td>1</td>\n",
       "      <td>3.775266e+05</td>\n",
       "      <td>46.95</td>\n",
       "      <td>2001</td>\n",
       "      <td>23</td>\n",
       "      <td>27.42</td>\n",
       "      <td>37.89</td>\n",
       "    </tr>\n",
       "    <tr>\n",
       "      <th>198916</th>\n",
       "      <td>208027</td>\n",
       "      <td>Active</td>\n",
       "      <td>416662</td>\n",
       "      <td>NaN</td>\n",
       "      <td>NaN</td>\n",
       "      <td>D</td>\n",
       "      <td>15</td>\n",
       "      <td>1</td>\n",
       "      <td>1.183068e+05</td>\n",
       "      <td>120.00</td>\n",
       "      <td>2010</td>\n",
       "      <td>44</td>\n",
       "      <td>10.97</td>\n",
       "      <td>60.67</td>\n",
       "    </tr>\n",
       "  </tbody>\n",
       "</table>\n",
       "<p>198917 rows × 14 columns</p>\n",
       "</div>"
      ],
      "text/plain": [
       "         Order   File_Type  SKU_number  SoldFlag  SoldCount MarketingType  \\\n",
       "0            2  Historical     1737127       0.0        0.0             D   \n",
       "1            3  Historical     3255963       0.0        0.0             D   \n",
       "2            4  Historical      612701       0.0        0.0             D   \n",
       "3            6  Historical      115883       1.0        1.0             D   \n",
       "4            7  Historical      863939       1.0        1.0             D   \n",
       "...        ...         ...         ...       ...        ...           ...   \n",
       "198912  208023      Active      109683       NaN        NaN             D   \n",
       "198913  208024      Active      416462       NaN        NaN             D   \n",
       "198914  208025      Active      658242       NaN        NaN             S   \n",
       "198915  208026      Active     2538340       NaN        NaN             S   \n",
       "198916  208027      Active      416662       NaN        NaN             D   \n",
       "\n",
       "        ReleaseNumber  New_Release_Flag  StrengthFactor  PriceReg  \\\n",
       "0                  15                 1    6.827430e+05     44.99   \n",
       "1                   7                 1    1.016014e+06     24.81   \n",
       "2                   0                 0    3.404640e+05     46.00   \n",
       "3                   4                 1    3.340110e+05    100.00   \n",
       "4                   2                 1    1.287938e+06    121.95   \n",
       "...               ...               ...             ...       ...   \n",
       "198912              7                 1    2.101869e+05     72.87   \n",
       "198913              8                 1    4.555041e+05    247.00   \n",
       "198914              2                 1    1.692746e+05     50.00   \n",
       "198915              2                 1    3.775266e+05     46.95   \n",
       "198916             15                 1    1.183068e+05    120.00   \n",
       "\n",
       "        ReleaseYear  ItemCount  LowUserPrice  LowNetPrice  \n",
       "0              2015          8         28.97        31.84  \n",
       "1              2005         39          0.00        15.54  \n",
       "2              2013         34         30.19        27.97  \n",
       "3              2006         20        133.93        83.15  \n",
       "4              2010         28          4.00        23.99  \n",
       "...             ...        ...           ...          ...  \n",
       "198912         2006         54          8.46        60.59  \n",
       "198913         2009         65          8.40        74.85  \n",
       "198914         2012         23         23.98        32.62  \n",
       "198915         2001         23         27.42        37.89  \n",
       "198916         2010         44         10.97        60.67  \n",
       "\n",
       "[198917 rows x 14 columns]"
      ]
     },
     "execution_count": 4,
     "metadata": {},
     "output_type": "execute_result"
    }
   ],
   "source": [
    "# Gist of the dataset\n",
    "\n",
    "sales_data"
   ]
  },
  {
   "cell_type": "code",
   "execution_count": 5,
   "metadata": {},
   "outputs": [
    {
     "data": {
      "text/plain": [
       "Index(['Order', 'File_Type', 'SKU_number', 'SoldFlag', 'SoldCount',\n",
       "       'MarketingType', 'ReleaseNumber', 'New_Release_Flag', 'StrengthFactor',\n",
       "       'PriceReg', 'ReleaseYear', 'ItemCount', 'LowUserPrice', 'LowNetPrice'],\n",
       "      dtype='object')"
      ]
     },
     "execution_count": 5,
     "metadata": {},
     "output_type": "execute_result"
    }
   ],
   "source": [
    "sales_data.columns"
   ]
  },
  {
   "cell_type": "code",
   "execution_count": 6,
   "metadata": {},
   "outputs": [
    {
     "name": "stdout",
     "output_type": "stream",
     "text": [
      "<class 'pandas.core.frame.DataFrame'>\n",
      "RangeIndex: 198917 entries, 0 to 198916\n",
      "Data columns (total 14 columns):\n",
      " #   Column            Non-Null Count   Dtype  \n",
      "---  ------            --------------   -----  \n",
      " 0   Order             198917 non-null  int64  \n",
      " 1   File_Type         198917 non-null  object \n",
      " 2   SKU_number        198917 non-null  int64  \n",
      " 3   SoldFlag          75996 non-null   float64\n",
      " 4   SoldCount         75996 non-null   float64\n",
      " 5   MarketingType     198917 non-null  object \n",
      " 6   ReleaseNumber     198917 non-null  int64  \n",
      " 7   New_Release_Flag  198917 non-null  int64  \n",
      " 8   StrengthFactor    198917 non-null  float64\n",
      " 9   PriceReg          198917 non-null  float64\n",
      " 10  ReleaseYear       198917 non-null  int64  \n",
      " 11  ItemCount         198917 non-null  int64  \n",
      " 12  LowUserPrice      198917 non-null  float64\n",
      " 13  LowNetPrice       198917 non-null  float64\n",
      "dtypes: float64(6), int64(6), object(2)\n",
      "memory usage: 21.2+ MB\n"
     ]
    }
   ],
   "source": [
    "sales_data.info()"
   ]
  },
  {
   "cell_type": "markdown",
   "metadata": {},
   "source": [
    "### The columns in the existing dataset are as shown above"
   ]
  },
  {
   "cell_type": "markdown",
   "metadata": {},
   "source": [
    "#### This dataset has 198,917 rows and 14 columns"
   ]
  },
  {
   "cell_type": "code",
   "execution_count": 7,
   "metadata": {},
   "outputs": [
    {
     "data": {
      "text/plain": [
       "(198917, 14)"
      ]
     },
     "execution_count": 7,
     "metadata": {},
     "output_type": "execute_result"
    }
   ],
   "source": [
    "sales_data.shape"
   ]
  },
  {
   "cell_type": "code",
   "execution_count": 8,
   "metadata": {},
   "outputs": [
    {
     "data": {
      "text/html": [
       "<div>\n",
       "<style scoped>\n",
       "    .dataframe tbody tr th:only-of-type {\n",
       "        vertical-align: middle;\n",
       "    }\n",
       "\n",
       "    .dataframe tbody tr th {\n",
       "        vertical-align: top;\n",
       "    }\n",
       "\n",
       "    .dataframe thead th {\n",
       "        text-align: right;\n",
       "    }\n",
       "</style>\n",
       "<table border=\"1\" class=\"dataframe\">\n",
       "  <thead>\n",
       "    <tr style=\"text-align: right;\">\n",
       "      <th></th>\n",
       "      <th>ItemCount</th>\n",
       "      <th>SoldFlag</th>\n",
       "    </tr>\n",
       "    <tr>\n",
       "      <th>SKU_number</th>\n",
       "      <th></th>\n",
       "      <th></th>\n",
       "    </tr>\n",
       "  </thead>\n",
       "  <tbody>\n",
       "    <tr>\n",
       "      <th>50001</th>\n",
       "      <td>2</td>\n",
       "      <td>1</td>\n",
       "    </tr>\n",
       "    <tr>\n",
       "      <th>50002</th>\n",
       "      <td>2</td>\n",
       "      <td>1</td>\n",
       "    </tr>\n",
       "    <tr>\n",
       "      <th>50003</th>\n",
       "      <td>2</td>\n",
       "      <td>1</td>\n",
       "    </tr>\n",
       "    <tr>\n",
       "      <th>50004</th>\n",
       "      <td>2</td>\n",
       "      <td>1</td>\n",
       "    </tr>\n",
       "    <tr>\n",
       "      <th>50005</th>\n",
       "      <td>2</td>\n",
       "      <td>1</td>\n",
       "    </tr>\n",
       "    <tr>\n",
       "      <th>...</th>\n",
       "      <td>...</td>\n",
       "      <td>...</td>\n",
       "    </tr>\n",
       "    <tr>\n",
       "      <th>3960560</th>\n",
       "      <td>1</td>\n",
       "      <td>0</td>\n",
       "    </tr>\n",
       "    <tr>\n",
       "      <th>3960724</th>\n",
       "      <td>1</td>\n",
       "      <td>0</td>\n",
       "    </tr>\n",
       "    <tr>\n",
       "      <th>3960742</th>\n",
       "      <td>1</td>\n",
       "      <td>0</td>\n",
       "    </tr>\n",
       "    <tr>\n",
       "      <th>3960760</th>\n",
       "      <td>1</td>\n",
       "      <td>0</td>\n",
       "    </tr>\n",
       "    <tr>\n",
       "      <th>3960788</th>\n",
       "      <td>1</td>\n",
       "      <td>0</td>\n",
       "    </tr>\n",
       "  </tbody>\n",
       "</table>\n",
       "<p>133360 rows × 2 columns</p>\n",
       "</div>"
      ],
      "text/plain": [
       "            ItemCount  SoldFlag\n",
       "SKU_number                     \n",
       "50001               2         1\n",
       "50002               2         1\n",
       "50003               2         1\n",
       "50004               2         1\n",
       "50005               2         1\n",
       "...               ...       ...\n",
       "3960560             1         0\n",
       "3960724             1         0\n",
       "3960742             1         0\n",
       "3960760             1         0\n",
       "3960788             1         0\n",
       "\n",
       "[133360 rows x 2 columns]"
      ]
     },
     "execution_count": 8,
     "metadata": {},
     "output_type": "execute_result"
    }
   ],
   "source": [
    "df1 = sales_data.groupby('SKU_number').count()[['ItemCount','SoldFlag']]\n",
    "df1"
   ]
  },
  {
   "cell_type": "code",
   "execution_count": 9,
   "metadata": {},
   "outputs": [
    {
     "data": {
      "text/plain": [
       "(198917, 14)"
      ]
     },
     "execution_count": 9,
     "metadata": {},
     "output_type": "execute_result"
    }
   ],
   "source": [
    "df2=sales_data\n",
    "df2.dropna\n",
    "df2.shape"
   ]
  },
  {
   "cell_type": "code",
   "execution_count": 10,
   "metadata": {},
   "outputs": [
    {
     "data": {
      "text/plain": [
       "True"
      ]
     },
     "execution_count": 10,
     "metadata": {},
     "output_type": "execute_result"
    }
   ],
   "source": [
    "df2.isnull().values.any()"
   ]
  },
  {
   "cell_type": "code",
   "execution_count": 11,
   "metadata": {},
   "outputs": [
    {
     "data": {
      "text/plain": [
       "Order                    0\n",
       "File_Type                0\n",
       "SKU_number               0\n",
       "SoldFlag            122921\n",
       "SoldCount           122921\n",
       "MarketingType            0\n",
       "ReleaseNumber            0\n",
       "New_Release_Flag         0\n",
       "StrengthFactor           0\n",
       "PriceReg                 0\n",
       "ReleaseYear              0\n",
       "ItemCount                0\n",
       "LowUserPrice             0\n",
       "LowNetPrice              0\n",
       "dtype: int64"
      ]
     },
     "execution_count": 11,
     "metadata": {},
     "output_type": "execute_result"
    }
   ],
   "source": [
    "df2.isnull().sum()"
   ]
  },
  {
   "cell_type": "code",
   "execution_count": 12,
   "metadata": {},
   "outputs": [
    {
     "data": {
      "text/html": [
       "<div>\n",
       "<style scoped>\n",
       "    .dataframe tbody tr th:only-of-type {\n",
       "        vertical-align: middle;\n",
       "    }\n",
       "\n",
       "    .dataframe tbody tr th {\n",
       "        vertical-align: top;\n",
       "    }\n",
       "\n",
       "    .dataframe thead th {\n",
       "        text-align: right;\n",
       "    }\n",
       "</style>\n",
       "<table border=\"1\" class=\"dataframe\">\n",
       "  <thead>\n",
       "    <tr style=\"text-align: right;\">\n",
       "      <th>File_Type</th>\n",
       "      <th>Active</th>\n",
       "      <th>Historical</th>\n",
       "    </tr>\n",
       "    <tr>\n",
       "      <th>SKU_number</th>\n",
       "      <th></th>\n",
       "      <th></th>\n",
       "    </tr>\n",
       "  </thead>\n",
       "  <tbody>\n",
       "    <tr>\n",
       "      <th>50001</th>\n",
       "      <td>36.0</td>\n",
       "      <td>32.0</td>\n",
       "    </tr>\n",
       "    <tr>\n",
       "      <th>50002</th>\n",
       "      <td>110.0</td>\n",
       "      <td>99.0</td>\n",
       "    </tr>\n",
       "    <tr>\n",
       "      <th>50003</th>\n",
       "      <td>116.0</td>\n",
       "      <td>105.0</td>\n",
       "    </tr>\n",
       "    <tr>\n",
       "      <th>50004</th>\n",
       "      <td>74.0</td>\n",
       "      <td>70.0</td>\n",
       "    </tr>\n",
       "    <tr>\n",
       "      <th>50005</th>\n",
       "      <td>81.0</td>\n",
       "      <td>81.0</td>\n",
       "    </tr>\n",
       "    <tr>\n",
       "      <th>50006</th>\n",
       "      <td>102.0</td>\n",
       "      <td>93.0</td>\n",
       "    </tr>\n",
       "    <tr>\n",
       "      <th>50009</th>\n",
       "      <td>221.0</td>\n",
       "      <td>221.0</td>\n",
       "    </tr>\n",
       "    <tr>\n",
       "      <th>50011</th>\n",
       "      <td>NaN</td>\n",
       "      <td>30.0</td>\n",
       "    </tr>\n",
       "    <tr>\n",
       "      <th>50012</th>\n",
       "      <td>132.0</td>\n",
       "      <td>132.0</td>\n",
       "    </tr>\n",
       "    <tr>\n",
       "      <th>50013</th>\n",
       "      <td>62.0</td>\n",
       "      <td>62.0</td>\n",
       "    </tr>\n",
       "  </tbody>\n",
       "</table>\n",
       "</div>"
      ],
      "text/plain": [
       "File_Type   Active  Historical\n",
       "SKU_number                    \n",
       "50001         36.0        32.0\n",
       "50002        110.0        99.0\n",
       "50003        116.0       105.0\n",
       "50004         74.0        70.0\n",
       "50005         81.0        81.0\n",
       "50006        102.0        93.0\n",
       "50009        221.0       221.0\n",
       "50011          NaN        30.0\n",
       "50012        132.0       132.0\n",
       "50013         62.0        62.0"
      ]
     },
     "execution_count": 12,
     "metadata": {},
     "output_type": "execute_result"
    }
   ],
   "source": [
    "skuwisegrp = pd.pivot_table(sales_data,values='ItemCount', index='SKU_number', columns=['File_Type'], \n",
    "                            fill_value=None, margins=False, dropna=True)\n",
    "skuwisegrp.head(10)"
   ]
  },
  {
   "cell_type": "markdown",
   "metadata": {},
   "source": [
    "The describe function returns a pandas series type that provides descriptive statistics which summarize the central tendency, dispersion, and shape of a dataset’s distribution, excluding NaN values. When we call the describe function with include=’all’ argument it displays the descriptive statistics for all the columns, which includes the categorical columns as well."
   ]
  },
  {
   "cell_type": "code",
   "execution_count": 13,
   "metadata": {},
   "outputs": [
    {
     "data": {
      "text/html": [
       "<div>\n",
       "<style scoped>\n",
       "    .dataframe tbody tr th:only-of-type {\n",
       "        vertical-align: middle;\n",
       "    }\n",
       "\n",
       "    .dataframe tbody tr th {\n",
       "        vertical-align: top;\n",
       "    }\n",
       "\n",
       "    .dataframe thead th {\n",
       "        text-align: right;\n",
       "    }\n",
       "</style>\n",
       "<table border=\"1\" class=\"dataframe\">\n",
       "  <thead>\n",
       "    <tr style=\"text-align: right;\">\n",
       "      <th></th>\n",
       "      <th>Order</th>\n",
       "      <th>File_Type</th>\n",
       "      <th>SKU_number</th>\n",
       "      <th>SoldFlag</th>\n",
       "      <th>SoldCount</th>\n",
       "      <th>MarketingType</th>\n",
       "      <th>ReleaseNumber</th>\n",
       "      <th>New_Release_Flag</th>\n",
       "      <th>StrengthFactor</th>\n",
       "      <th>PriceReg</th>\n",
       "      <th>ReleaseYear</th>\n",
       "      <th>ItemCount</th>\n",
       "      <th>LowUserPrice</th>\n",
       "      <th>LowNetPrice</th>\n",
       "    </tr>\n",
       "  </thead>\n",
       "  <tbody>\n",
       "    <tr>\n",
       "      <th>count</th>\n",
       "      <td>198917.000000</td>\n",
       "      <td>198917</td>\n",
       "      <td>1.989170e+05</td>\n",
       "      <td>75996.000000</td>\n",
       "      <td>75996.000000</td>\n",
       "      <td>198917</td>\n",
       "      <td>198917.000000</td>\n",
       "      <td>198917.000000</td>\n",
       "      <td>1.989170e+05</td>\n",
       "      <td>198917.000000</td>\n",
       "      <td>198917.000000</td>\n",
       "      <td>198917.000000</td>\n",
       "      <td>198917.000000</td>\n",
       "      <td>198917.000000</td>\n",
       "    </tr>\n",
       "    <tr>\n",
       "      <th>unique</th>\n",
       "      <td>NaN</td>\n",
       "      <td>2</td>\n",
       "      <td>NaN</td>\n",
       "      <td>NaN</td>\n",
       "      <td>NaN</td>\n",
       "      <td>2</td>\n",
       "      <td>NaN</td>\n",
       "      <td>NaN</td>\n",
       "      <td>NaN</td>\n",
       "      <td>NaN</td>\n",
       "      <td>NaN</td>\n",
       "      <td>NaN</td>\n",
       "      <td>NaN</td>\n",
       "      <td>NaN</td>\n",
       "    </tr>\n",
       "    <tr>\n",
       "      <th>top</th>\n",
       "      <td>NaN</td>\n",
       "      <td>Active</td>\n",
       "      <td>NaN</td>\n",
       "      <td>NaN</td>\n",
       "      <td>NaN</td>\n",
       "      <td>S</td>\n",
       "      <td>NaN</td>\n",
       "      <td>NaN</td>\n",
       "      <td>NaN</td>\n",
       "      <td>NaN</td>\n",
       "      <td>NaN</td>\n",
       "      <td>NaN</td>\n",
       "      <td>NaN</td>\n",
       "      <td>NaN</td>\n",
       "    </tr>\n",
       "    <tr>\n",
       "      <th>freq</th>\n",
       "      <td>NaN</td>\n",
       "      <td>122921</td>\n",
       "      <td>NaN</td>\n",
       "      <td>NaN</td>\n",
       "      <td>NaN</td>\n",
       "      <td>100946</td>\n",
       "      <td>NaN</td>\n",
       "      <td>NaN</td>\n",
       "      <td>NaN</td>\n",
       "      <td>NaN</td>\n",
       "      <td>NaN</td>\n",
       "      <td>NaN</td>\n",
       "      <td>NaN</td>\n",
       "      <td>NaN</td>\n",
       "    </tr>\n",
       "    <tr>\n",
       "      <th>mean</th>\n",
       "      <td>106483.543242</td>\n",
       "      <td>NaN</td>\n",
       "      <td>8.613626e+05</td>\n",
       "      <td>0.171009</td>\n",
       "      <td>0.322306</td>\n",
       "      <td>NaN</td>\n",
       "      <td>3.412202</td>\n",
       "      <td>0.642248</td>\n",
       "      <td>1.117115e+06</td>\n",
       "      <td>90.895243</td>\n",
       "      <td>2006.016414</td>\n",
       "      <td>41.426283</td>\n",
       "      <td>30.982487</td>\n",
       "      <td>46.832053</td>\n",
       "    </tr>\n",
       "    <tr>\n",
       "      <th>std</th>\n",
       "      <td>60136.716784</td>\n",
       "      <td>NaN</td>\n",
       "      <td>8.699794e+05</td>\n",
       "      <td>0.376519</td>\n",
       "      <td>1.168615</td>\n",
       "      <td>NaN</td>\n",
       "      <td>3.864243</td>\n",
       "      <td>0.479340</td>\n",
       "      <td>1.522090e+06</td>\n",
       "      <td>86.736367</td>\n",
       "      <td>9.158331</td>\n",
       "      <td>37.541215</td>\n",
       "      <td>69.066155</td>\n",
       "      <td>128.513236</td>\n",
       "    </tr>\n",
       "    <tr>\n",
       "      <th>min</th>\n",
       "      <td>2.000000</td>\n",
       "      <td>NaN</td>\n",
       "      <td>5.000100e+04</td>\n",
       "      <td>0.000000</td>\n",
       "      <td>0.000000</td>\n",
       "      <td>NaN</td>\n",
       "      <td>0.000000</td>\n",
       "      <td>0.000000</td>\n",
       "      <td>6.275000e+00</td>\n",
       "      <td>0.000000</td>\n",
       "      <td>0.000000</td>\n",
       "      <td>0.000000</td>\n",
       "      <td>0.000000</td>\n",
       "      <td>0.000000</td>\n",
       "    </tr>\n",
       "    <tr>\n",
       "      <th>25%</th>\n",
       "      <td>55665.000000</td>\n",
       "      <td>NaN</td>\n",
       "      <td>2.172520e+05</td>\n",
       "      <td>0.000000</td>\n",
       "      <td>0.000000</td>\n",
       "      <td>NaN</td>\n",
       "      <td>1.000000</td>\n",
       "      <td>0.000000</td>\n",
       "      <td>1.614188e+05</td>\n",
       "      <td>42.000000</td>\n",
       "      <td>2003.000000</td>\n",
       "      <td>21.000000</td>\n",
       "      <td>4.910000</td>\n",
       "      <td>17.950000</td>\n",
       "    </tr>\n",
       "    <tr>\n",
       "      <th>50%</th>\n",
       "      <td>108569.000000</td>\n",
       "      <td>NaN</td>\n",
       "      <td>6.122080e+05</td>\n",
       "      <td>0.000000</td>\n",
       "      <td>0.000000</td>\n",
       "      <td>NaN</td>\n",
       "      <td>2.000000</td>\n",
       "      <td>1.000000</td>\n",
       "      <td>5.822240e+05</td>\n",
       "      <td>69.950000</td>\n",
       "      <td>2007.000000</td>\n",
       "      <td>32.000000</td>\n",
       "      <td>16.080000</td>\n",
       "      <td>33.980000</td>\n",
       "    </tr>\n",
       "    <tr>\n",
       "      <th>75%</th>\n",
       "      <td>158298.000000</td>\n",
       "      <td>NaN</td>\n",
       "      <td>9.047510e+05</td>\n",
       "      <td>0.000000</td>\n",
       "      <td>0.000000</td>\n",
       "      <td>NaN</td>\n",
       "      <td>5.000000</td>\n",
       "      <td>1.000000</td>\n",
       "      <td>1.430083e+06</td>\n",
       "      <td>116.000000</td>\n",
       "      <td>2011.000000</td>\n",
       "      <td>50.000000</td>\n",
       "      <td>40.240000</td>\n",
       "      <td>55.490000</td>\n",
       "    </tr>\n",
       "    <tr>\n",
       "      <th>max</th>\n",
       "      <td>208027.000000</td>\n",
       "      <td>NaN</td>\n",
       "      <td>3.960788e+06</td>\n",
       "      <td>1.000000</td>\n",
       "      <td>73.000000</td>\n",
       "      <td>NaN</td>\n",
       "      <td>99.000000</td>\n",
       "      <td>1.000000</td>\n",
       "      <td>1.738445e+07</td>\n",
       "      <td>12671.480000</td>\n",
       "      <td>2018.000000</td>\n",
       "      <td>2542.000000</td>\n",
       "      <td>14140.210000</td>\n",
       "      <td>19138.790000</td>\n",
       "    </tr>\n",
       "  </tbody>\n",
       "</table>\n",
       "</div>"
      ],
      "text/plain": [
       "                Order File_Type    SKU_number      SoldFlag     SoldCount  \\\n",
       "count   198917.000000    198917  1.989170e+05  75996.000000  75996.000000   \n",
       "unique            NaN         2           NaN           NaN           NaN   \n",
       "top               NaN    Active           NaN           NaN           NaN   \n",
       "freq              NaN    122921           NaN           NaN           NaN   \n",
       "mean    106483.543242       NaN  8.613626e+05      0.171009      0.322306   \n",
       "std      60136.716784       NaN  8.699794e+05      0.376519      1.168615   \n",
       "min          2.000000       NaN  5.000100e+04      0.000000      0.000000   \n",
       "25%      55665.000000       NaN  2.172520e+05      0.000000      0.000000   \n",
       "50%     108569.000000       NaN  6.122080e+05      0.000000      0.000000   \n",
       "75%     158298.000000       NaN  9.047510e+05      0.000000      0.000000   \n",
       "max     208027.000000       NaN  3.960788e+06      1.000000     73.000000   \n",
       "\n",
       "       MarketingType  ReleaseNumber  New_Release_Flag  StrengthFactor  \\\n",
       "count         198917  198917.000000     198917.000000    1.989170e+05   \n",
       "unique             2            NaN               NaN             NaN   \n",
       "top                S            NaN               NaN             NaN   \n",
       "freq          100946            NaN               NaN             NaN   \n",
       "mean             NaN       3.412202          0.642248    1.117115e+06   \n",
       "std              NaN       3.864243          0.479340    1.522090e+06   \n",
       "min              NaN       0.000000          0.000000    6.275000e+00   \n",
       "25%              NaN       1.000000          0.000000    1.614188e+05   \n",
       "50%              NaN       2.000000          1.000000    5.822240e+05   \n",
       "75%              NaN       5.000000          1.000000    1.430083e+06   \n",
       "max              NaN      99.000000          1.000000    1.738445e+07   \n",
       "\n",
       "             PriceReg    ReleaseYear      ItemCount   LowUserPrice  \\\n",
       "count   198917.000000  198917.000000  198917.000000  198917.000000   \n",
       "unique            NaN            NaN            NaN            NaN   \n",
       "top               NaN            NaN            NaN            NaN   \n",
       "freq              NaN            NaN            NaN            NaN   \n",
       "mean        90.895243    2006.016414      41.426283      30.982487   \n",
       "std         86.736367       9.158331      37.541215      69.066155   \n",
       "min          0.000000       0.000000       0.000000       0.000000   \n",
       "25%         42.000000    2003.000000      21.000000       4.910000   \n",
       "50%         69.950000    2007.000000      32.000000      16.080000   \n",
       "75%        116.000000    2011.000000      50.000000      40.240000   \n",
       "max      12671.480000    2018.000000    2542.000000   14140.210000   \n",
       "\n",
       "          LowNetPrice  \n",
       "count   198917.000000  \n",
       "unique            NaN  \n",
       "top               NaN  \n",
       "freq              NaN  \n",
       "mean        46.832053  \n",
       "std        128.513236  \n",
       "min          0.000000  \n",
       "25%         17.950000  \n",
       "50%         33.980000  \n",
       "75%         55.490000  \n",
       "max      19138.790000  "
      ]
     },
     "execution_count": 13,
     "metadata": {},
     "output_type": "execute_result"
    }
   ],
   "source": [
    "sales_data.describe(include='all')"
   ]
  },
  {
   "cell_type": "code",
   "execution_count": 14,
   "metadata": {},
   "outputs": [
    {
     "data": {
      "text/plain": [
       "Order               198917\n",
       "File_Type                2\n",
       "SKU_number          133360\n",
       "SoldFlag                 2\n",
       "SoldCount               37\n",
       "MarketingType            2\n",
       "ReleaseNumber           71\n",
       "New_Release_Flag         2\n",
       "StrengthFactor      197424\n",
       "PriceReg             11627\n",
       "ReleaseYear             85\n",
       "ItemCount              501\n",
       "LowUserPrice         12102\n",
       "LowNetPrice          15403\n",
       "dtype: int64"
      ]
     },
     "execution_count": 14,
     "metadata": {},
     "output_type": "execute_result"
    }
   ],
   "source": [
    "#  nunique() would return the number of unique elements in each column\n",
    "# It shows that there are 198917 orders.\n",
    "# The categorical columns has 2 values like File_Type,SoldFlag,MarketingType,New_Release_Flag\n",
    "sales_data.nunique()"
   ]
  },
  {
   "cell_type": "markdown",
   "metadata": {},
   "source": [
    "#### Looking at the above dataset it looks like that out of the 14 columns we are trying to see which items would be sold in the next year based on the current dataset"
   ]
  },
  {
   "cell_type": "code",
   "execution_count": 15,
   "metadata": {},
   "outputs": [
    {
     "name": "stdout",
     "output_type": "stream",
     "text": [
      "75996 122921\n"
     ]
    }
   ],
   "source": [
    "# We use the count function to find the number\n",
    "# historical cases: we have 75996 historical cases which needs to be analyzed.\n",
    "# active cases: we have 122921 active cases which needs to be analyzed.\n",
    "historical = sales_data[sales_data['File_Type'] == 'Historical']['Order'].count()\n",
    "current = sales_data[sales_data['File_Type'] == 'Active']['Order'].count()\n",
    "\n",
    "print (historical, current)"
   ]
  },
  {
   "cell_type": "markdown",
   "metadata": {},
   "source": [
    "### For categorical columns we plot histograms using the value_counts and the plot.bar functions to draw a bar plot, which is commonly used for representing categorical data using rectangular bars with value counts of the categorical values. "
   ]
  },
  {
   "cell_type": "code",
   "execution_count": 67,
   "metadata": {},
   "outputs": [
    {
     "data": {
      "image/png": "[encoded data removed]",
      "text/plain": [
       "<Figure size 432x288 with 1 Axes>"
      ]
     },
     "metadata": {
      "needs_background": "light"
     },
     "output_type": "display_data"
    }
   ],
   "source": [
    "# Bar chart to show the categorical variables in the dataset\n",
    "sales_data['File_Type'].value_counts().plot.bar(title = 'Freq dist of Active/History Data');"
   ]
  },
  {
   "cell_type": "code",
   "execution_count": 16,
   "metadata": {},
   "outputs": [],
   "source": [
    "# We then Split the dataset into two parts based on the flag type.\n",
    "sales_data_hist = sales_data[sales_data['File_Type'] == 'Historical']\n",
    "sales_data_act = sales_data[sales_data['File_Type'] == 'Active']"
   ]
  },
  {
   "cell_type": "code",
   "execution_count": 47,
   "metadata": {},
   "outputs": [
    {
     "data": {
      "image/png": "[encoded data removed]",
      "text/plain": [
       "<Figure size 432x288 with 1 Axes>"
      ]
     },
     "metadata": {
      "needs_background": "light"
     },
     "output_type": "display_data"
    }
   ],
   "source": [
    "hist = thinkstats2.Hist(sales_data_hist.SoldCount, label='SoldCount')\n",
    "thinkplot.Hist(hist)\n",
    "thinkplot.Config(xlabel='# ot Items Sold', ylabel='Count')"
   ]
  },
  {
   "cell_type": "code",
   "execution_count": 46,
   "metadata": {},
   "outputs": [
    {
     "data": {
      "image/png": "[encoded data removed]",
      "text/plain": [
       "<Figure size 432x288 with 1 Axes>"
      ]
     },
     "metadata": {
      "needs_background": "light"
     },
     "output_type": "display_data"
    }
   ],
   "source": [
    "hist = thinkstats2.Hist(sales_data_hist.ReleaseYear, label='ReleaseYear')\n",
    "thinkplot.Hist(hist)\n",
    "thinkplot.Config(xlabel='Year of Release', ylabel='Count')"
   ]
  },
  {
   "cell_type": "code",
   "execution_count": 17,
   "metadata": {},
   "outputs": [
    {
     "name": "stdout",
     "output_type": "stream",
     "text": [
      "(75996, 14) (122921, 14)\n"
     ]
    }
   ],
   "source": [
    "# This shows the data counts for the history data and the active count\n",
    "print(sales_data_hist.shape,sales_data_act.shape)"
   ]
  },
  {
   "cell_type": "code",
   "execution_count": 13,
   "metadata": {},
   "outputs": [
    {
     "data": {
      "text/plain": [
       "Order               75996\n",
       "File_Type               1\n",
       "SKU_number          75996\n",
       "SoldFlag                2\n",
       "SoldCount              37\n",
       "MarketingType           2\n",
       "ReleaseNumber          66\n",
       "New_Release_Flag        2\n",
       "StrengthFactor      74603\n",
       "PriceReg             9010\n",
       "ReleaseYear            68\n",
       "ItemCount             406\n",
       "LowUserPrice        11186\n",
       "LowNetPrice         12495\n",
       "dtype: int64"
      ]
     },
     "execution_count": 13,
     "metadata": {},
     "output_type": "execute_result"
    }
   ],
   "source": [
    "sales_data_hist.nunique()"
   ]
  },
  {
   "cell_type": "code",
   "execution_count": 118,
   "metadata": {},
   "outputs": [
    {
     "data": {
      "text/plain": [
       "False"
      ]
     },
     "execution_count": 118,
     "metadata": {},
     "output_type": "execute_result"
    }
   ],
   "source": [
    "# The history file has no Null values\n",
    "sales_data_hist.isnull().values.any()"
   ]
  },
  {
   "cell_type": "code",
   "execution_count": 120,
   "metadata": {},
   "outputs": [
    {
     "data": {
      "text/plain": [
       "True"
      ]
     },
     "execution_count": 120,
     "metadata": {},
     "output_type": "execute_result"
    }
   ],
   "source": [
    "# The current file has no Null values. So let us find out which columns are those\n",
    "sales_data_act.isnull().values.any()"
   ]
  },
  {
   "cell_type": "code",
   "execution_count": 123,
   "metadata": {},
   "outputs": [
    {
     "data": {
      "text/plain": [
       "Order                    0\n",
       "File_Type                0\n",
       "SKU_number               0\n",
       "SoldFlag            122921\n",
       "SoldCount           122921\n",
       "MarketingType            0\n",
       "ReleaseNumber            0\n",
       "New_Release_Flag         0\n",
       "StrengthFactor           0\n",
       "PriceReg                 0\n",
       "ReleaseYear              0\n",
       "ItemCount                0\n",
       "LowUserPrice             0\n",
       "LowNetPrice              0\n",
       "dtype: int64"
      ]
     },
     "execution_count": 123,
     "metadata": {},
     "output_type": "execute_result"
    }
   ],
   "source": [
    "# This shows  that the current file has the SoldCount and SoldFlag columns null for all rows\n",
    "# This is expected as we would eventually use the history file to predict the flags and counts\n",
    "sales_data_act.isnull().sum()"
   ]
  },
  {
   "cell_type": "code",
   "execution_count": 57,
   "metadata": {},
   "outputs": [
    {
     "name": "stdout",
     "output_type": "stream",
     "text": [
      "<class 'pandas.core.frame.DataFrame'>\n",
      "Int64Index: 75996 entries, 0 to 75995\n",
      "Data columns (total 14 columns):\n",
      " #   Column            Non-Null Count  Dtype  \n",
      "---  ------            --------------  -----  \n",
      " 0   Order             75996 non-null  int64  \n",
      " 1   File_Type         75996 non-null  object \n",
      " 2   SKU_number        75996 non-null  int64  \n",
      " 3   SoldFlag          75996 non-null  float64\n",
      " 4   SoldCount         75996 non-null  float64\n",
      " 5   MarketingType     75996 non-null  object \n",
      " 6   ReleaseNumber     75996 non-null  int64  \n",
      " 7   New_Release_Flag  75996 non-null  int64  \n",
      " 8   StrengthFactor    75996 non-null  float64\n",
      " 9   PriceReg          75996 non-null  float64\n",
      " 10  ReleaseYear       75996 non-null  int64  \n",
      " 11  ItemCount         75996 non-null  int64  \n",
      " 12  LowUserPrice      75996 non-null  float64\n",
      " 13  LowNetPrice       75996 non-null  float64\n",
      "dtypes: float64(6), int64(6), object(2)\n",
      "memory usage: 8.7+ MB\n"
     ]
    }
   ],
   "source": [
    "sales_data_hist.info()"
   ]
  },
  {
   "cell_type": "code",
   "execution_count": 96,
   "metadata": {},
   "outputs": [
    {
     "data": {
      "text/plain": [
       "(37,)"
      ]
     },
     "execution_count": 96,
     "metadata": {},
     "output_type": "execute_result"
    }
   ],
   "source": [
    "d1 = sales_data_hist['SoldCount'].value_counts()\n",
    "n1 = np.array(d1)\n",
    "n1.shape"
   ]
  },
  {
   "cell_type": "code",
   "execution_count": 11,
   "metadata": {},
   "outputs": [
    {
     "data": {
      "text/plain": [
       "0.0    63000\n",
       "1.0    12996\n",
       "Name: SoldFlag, dtype: int64"
      ]
     },
     "execution_count": 11,
     "metadata": {},
     "output_type": "execute_result"
    }
   ],
   "source": [
    "sales_data_hist['SoldFlag'].value_counts()"
   ]
  },
  {
   "cell_type": "code",
   "execution_count": 65,
   "metadata": {},
   "outputs": [
    {
     "data": {
      "image/png": "[encoded data removed]",
      "text/plain": [
       "<Figure size 432x288 with 1 Axes>"
      ]
     },
     "metadata": {
      "needs_background": "light"
     },
     "output_type": "display_data"
    }
   ],
   "source": [
    "sales_data_hist['SoldFlag'].value_counts().plot.bar(title = 'Freq dist of Sold Type');"
   ]
  },
  {
   "cell_type": "code",
   "execution_count": 12,
   "metadata": {},
   "outputs": [
    {
     "data": {
      "text/plain": [
       "S    40877\n",
       "D    35119\n",
       "Name: MarketingType, dtype: int64"
      ]
     },
     "execution_count": 12,
     "metadata": {},
     "output_type": "execute_result"
    }
   ],
   "source": [
    "sales_data_hist['MarketingType'].value_counts()"
   ]
  },
  {
   "cell_type": "code",
   "execution_count": 66,
   "metadata": {},
   "outputs": [
    {
     "data": {
      "image/png": "[encoded data removed]",
      "text/plain": [
       "<Figure size 432x288 with 1 Axes>"
      ]
     },
     "metadata": {
      "needs_background": "light"
     },
     "output_type": "display_data"
    }
   ],
   "source": [
    "sales_data_hist['MarketingType'].value_counts().plot.bar(title = 'Freq dist of Marketing Type');"
   ]
  },
  {
   "cell_type": "markdown",
   "metadata": {},
   "source": [
    "### Next we do the analysis of the different variables. We are using the historical dataset for our analysis. The Active Dataset would be used for the predictions. This is done plotting histograms for each of the variables and studying the spread and statistical properties of each of those."
   ]
  },
  {
   "cell_type": "code",
   "execution_count": 73,
   "metadata": {},
   "outputs": [
    {
     "data": {
      "text/plain": [
       "<matplotlib.axes._subplots.AxesSubplot at 0x1f30a24c4c8>"
      ]
     },
     "execution_count": 73,
     "metadata": {},
     "output_type": "execute_result"
    },
    {
     "data": {
      "image/png": "[encoded data removed]",
      "text/plain": [
       "<Figure size 432x288 with 1 Axes>"
      ]
     },
     "metadata": {
      "needs_background": "light"
     },
     "output_type": "display_data"
    }
   ],
   "source": [
    "df = sales_data_hist\n",
    "df1 = df[df['ReleaseYear'] > 2000]\n",
    "df1['ReleaseYear'].value_counts().plot.bar()"
   ]
  },
  {
   "cell_type": "code",
   "execution_count": 84,
   "metadata": {},
   "outputs": [],
   "source": [
    "year = sales_data_hist['ReleaseYear']\n",
    "soldFlag = sales_data_hist['SoldFlag']\n",
    "soldCount = sales_data_hist['SoldCount']"
   ]
  },
  {
   "cell_type": "code",
   "execution_count": 129,
   "metadata": {},
   "outputs": [
    {
     "ename": "AttributeError",
     "evalue": "'DataFrameGroupBy' object has no attribute 'value_counts'",
     "output_type": "error",
     "traceback": [
      "\u001b[1;31m---------------------------------------------------------------------------\u001b[0m",
      "\u001b[1;31mAttributeError\u001b[0m                            Traceback (most recent call last)",
      "\u001b[1;32m<ipython-input-129-754f6363da4c>\u001b[0m in \u001b[0;36m<module>\u001b[1;34m\u001b[0m\n\u001b[0;32m      1\u001b[0m \u001b[0mdf1\u001b[0m \u001b[1;33m=\u001b[0m \u001b[0msales_data_hist\u001b[0m\u001b[1;33m.\u001b[0m\u001b[0mgroupby\u001b[0m\u001b[1;33m(\u001b[0m\u001b[1;33m[\u001b[0m\u001b[1;34m'SoldFlag'\u001b[0m\u001b[1;33m,\u001b[0m\u001b[1;34m'SoldCount'\u001b[0m\u001b[1;33m]\u001b[0m\u001b[1;33m)\u001b[0m\u001b[1;33m\u001b[0m\u001b[1;33m\u001b[0m\u001b[0m\n\u001b[0;32m      2\u001b[0m \u001b[1;31m# df1.first()\u001b[0m\u001b[1;33m\u001b[0m\u001b[1;33m\u001b[0m\u001b[1;33m\u001b[0m\u001b[0m\n\u001b[1;32m----> 3\u001b[1;33m \u001b[0mdf1\u001b[0m\u001b[1;33m.\u001b[0m\u001b[0mvalue_counts\u001b[0m\u001b[1;33m(\u001b[0m\u001b[1;33m)\u001b[0m\u001b[1;33m\u001b[0m\u001b[1;33m\u001b[0m\u001b[0m\n\u001b[0m",
      "\u001b[1;32m~\\anaconda3\\lib\\site-packages\\pandas\\core\\groupby\\groupby.py\u001b[0m in \u001b[0;36m__getattr__\u001b[1;34m(self, attr)\u001b[0m\n\u001b[0;32m    578\u001b[0m \u001b[1;33m\u001b[0m\u001b[0m\n\u001b[0;32m    579\u001b[0m         raise AttributeError(\n\u001b[1;32m--> 580\u001b[1;33m             \u001b[1;34mf\"'{type(self).__name__}' object has no attribute '{attr}'\"\u001b[0m\u001b[1;33m\u001b[0m\u001b[1;33m\u001b[0m\u001b[0m\n\u001b[0m\u001b[0;32m    581\u001b[0m         )\n\u001b[0;32m    582\u001b[0m \u001b[1;33m\u001b[0m\u001b[0m\n",
      "\u001b[1;31mAttributeError\u001b[0m: 'DataFrameGroupBy' object has no attribute 'value_counts'"
     ]
    }
   ],
   "source": [
    "df1 = sales_data_hist.groupby(['SoldFlag','SoldCount'])\n",
    "# df1.first()\n",
    "df1.value_counts()"
   ]
  },
  {
   "cell_type": "code",
   "execution_count": 93,
   "metadata": {},
   "outputs": [
    {
     "data": {
      "image/png": "[encoded data removed]",
      "text/plain": [
       "<Figure size 432x288 with 1 Axes>"
      ]
     },
     "metadata": {
      "needs_background": "light"
     },
     "output_type": "display_data"
    }
   ],
   "source": [
    "plt.hist(soldFlag, label = 'SoldFlag')\n",
    "plt.legend()\n",
    "plt.ylabel('Counts');\n"
   ]
  },
  {
   "cell_type": "code",
   "execution_count": 124,
   "metadata": {},
   "outputs": [
    {
     "data": {
      "image/png": "[encoded data removed]",
      "text/plain": [
       "<Figure size 432x288 with 1 Axes>"
      ]
     },
     "metadata": {
      "needs_background": "light"
     },
     "output_type": "display_data"
    }
   ],
   "source": [
    "plt.hist(soldCount, label = 'SoldCount')\n",
    "plt.legend()\n",
    "plt.ylabel('Counts');"
   ]
  },
  {
   "cell_type": "code",
   "execution_count": 18,
   "metadata": {},
   "outputs": [
    {
     "data": {
      "text/plain": [
       "0.0     63000\n",
       "1.0      8179\n",
       "2.0      2545\n",
       "3.0      1018\n",
       "4.0       483\n",
       "5.0       253\n",
       "6.0       149\n",
       "7.0       121\n",
       "8.0        62\n",
       "9.0        32\n",
       "10.0       30\n",
       "12.0       28\n",
       "11.0       21\n",
       "14.0       11\n",
       "13.0       10\n",
       "16.0        9\n",
       "15.0        6\n",
       "18.0        5\n",
       "19.0        4\n",
       "22.0        4\n",
       "17.0        3\n",
       "26.0        3\n",
       "27.0        3\n",
       "24.0        2\n",
       "21.0        2\n",
       "36.0        2\n",
       "33.0        1\n",
       "28.0        1\n",
       "51.0        1\n",
       "25.0        1\n",
       "30.0        1\n",
       "20.0        1\n",
       "34.0        1\n",
       "69.0        1\n",
       "35.0        1\n",
       "73.0        1\n",
       "40.0        1\n",
       "Name: SoldCount, dtype: int64"
      ]
     },
     "execution_count": 18,
     "metadata": {},
     "output_type": "execute_result"
    }
   ],
   "source": [
    "# sales_data_hist['SoldCount'].value_counts().plot.bar(title = 'Sold Count')\n",
    "sales_data_hist['SoldCount'].value_counts()"
   ]
  },
  {
   "cell_type": "code",
   "execution_count": 40,
   "metadata": {},
   "outputs": [
    {
     "data": {
      "text/plain": [
       "<matplotlib.axes._subplots.AxesSubplot at 0x2a7b0c73988>"
      ]
     },
     "execution_count": 40,
     "metadata": {},
     "output_type": "execute_result"
    },
    {
     "data": {
      "image/png": "[encoded data removed]",
      "text/plain": [
       "<Figure size 720x288 with 1 Axes>"
      ]
     },
     "metadata": {
      "needs_background": "light"
     },
     "output_type": "display_data"
    }
   ],
   "source": [
    "df_sold = sales_data_hist[sales_data_hist['SoldCount']>0]\n",
    "# df_sold\n",
    "\n",
    "df_sold.SoldCount.value_counts().plot.bar(title = 'Sold Count',figsize=(10,4))\n",
    "# df_sold.SoldCount.plot.hist(title = 'Sold Count')"
   ]
  },
  {
   "cell_type": "code",
   "execution_count": 37,
   "metadata": {},
   "outputs": [
    {
     "data": {
      "text/plain": [
       "<matplotlib.axes._subplots.AxesSubplot at 0x2a7b0907888>"
      ]
     },
     "execution_count": 37,
     "metadata": {},
     "output_type": "execute_result"
    },
    {
     "data": {
      "image/png": "[encoded data removed]",
      "text/plain": [
       "<Figure size 720x288 with 1 Axes>"
      ]
     },
     "metadata": {
      "needs_background": "light"
     },
     "output_type": "display_data"
    }
   ],
   "source": [
    "df_sold.ReleaseYear.value_counts().sort_index(ascending=False).plot.bar(title = 'Items Sold by Release Year',figsize=(10,4))\n"
   ]
  },
  {
   "cell_type": "code",
   "execution_count": 42,
   "metadata": {},
   "outputs": [
    {
     "data": {
      "text/plain": [
       "<matplotlib.axes._subplots.AxesSubplot at 0x2a7b0d041c8>"
      ]
     },
     "execution_count": 42,
     "metadata": {},
     "output_type": "execute_result"
    },
    {
     "data": {
      "image/png": "[encoded data removed]",
      "text/plain": [
       "<Figure size 720x288 with 1 Axes>"
      ]
     },
     "metadata": {
      "needs_background": "light"
     },
     "output_type": "display_data"
    }
   ],
   "source": [
    "df_sold.PriceReg.value_counts().sort_index(ascending=True).plot.bar(title = 'Items sold by Price',figsize=(10,4))"
   ]
  },
  {
   "cell_type": "code",
   "execution_count": 140,
   "metadata": {},
   "outputs": [
    {
     "data": {
      "text/plain": [
       "<matplotlib.axes._subplots.AxesSubplot at 0x1f308e7e608>"
      ]
     },
     "execution_count": 140,
     "metadata": {},
     "output_type": "execute_result"
    },
    {
     "data": {
      "image/png": "[encoded data removed]",
      "text/plain": [
       "<Figure size 432x288 with 1 Axes>"
      ]
     },
     "metadata": {
      "needs_background": "light"
     },
     "output_type": "display_data"
    }
   ],
   "source": [
    "df_sold.ReleaseYear.plot.hist(title = 'Items Sold by Release Year')"
   ]
  },
  {
   "cell_type": "code",
   "execution_count": 133,
   "metadata": {},
   "outputs": [
    {
     "name": "stderr",
     "output_type": "stream",
     "text": [
      "C:\\Users\\saman\\anaconda3\\lib\\site-packages\\ipykernel_launcher.py:1: SettingWithCopyWarning: \n",
      "A value is trying to be set on a copy of a slice from a DataFrame.\n",
      "Try using .loc[row_indexer,col_indexer] = value instead\n",
      "\n",
      "See the caveats in the documentation: https://pandas.pydata.org/pandas-docs/stable/user_guide/indexing.html#returning-a-view-versus-a-copy\n",
      "  \"\"\"Entry point for launching an IPython kernel.\n"
     ]
    },
    {
     "data": {
      "text/plain": [
       "0        NaN\n",
       "1        NaN\n",
       "2        NaN\n",
       "3        NaN\n",
       "4        NaN\n",
       "        ... \n",
       "75991    NaN\n",
       "75992    NaN\n",
       "75993    NaN\n",
       "75994    NaN\n",
       "75995    NaN\n",
       "Name: ItemsSold, Length: 75996, dtype: category\n",
       "Categories (2, interval[int64]): [(5, 10] < (10, 100]]"
      ]
     },
     "execution_count": 133,
     "metadata": {},
     "output_type": "execute_result"
    }
   ],
   "source": [
    "sales_data_hist['ItemsSold'] = pd.cut(x=sales_data_hist['SoldCount'], bins=[5,10,100])\n",
    "sales_data_hist.ItemsSold"
   ]
  },
  {
   "cell_type": "code",
   "execution_count": 76,
   "metadata": {},
   "outputs": [
    {
     "name": "stdout",
     "output_type": "stream",
     "text": [
      "number of elements: 194970\n",
      "number of dimensions: 2\n",
      "shape: (3, 64990)\n",
      "data type: float64\n",
      "strides: (519920, 8)\n",
      "flags:\n",
      "  C_CONTIGUOUS : True\n",
      "  F_CONTIGUOUS : False\n",
      "  OWNDATA : True\n",
      "  WRITEABLE : True\n",
      "  ALIGNED : True\n",
      "  WRITEBACKIFCOPY : False\n",
      "  UPDATEIFCOPY : False\n",
      "\n"
     ]
    }
   ],
   "source": [
    "print_info(n1)"
   ]
  },
  {
   "cell_type": "code",
   "execution_count": 78,
   "metadata": {},
   "outputs": [
    {
     "data": {
      "image/png": "[encoded data removed]",
      "text/plain": [
       "<Figure size 432x288 with 1 Axes>"
      ]
     },
     "metadata": {
      "needs_background": "light"
     },
     "output_type": "display_data"
    }
   ],
   "source": [
    "plt.hist(year);"
   ]
  },
  {
   "cell_type": "code",
   "execution_count": 79,
   "metadata": {},
   "outputs": [
    {
     "data": {
      "image/png": "[encoded data removed]",
      "text/plain": [
       "<Figure size 432x288 with 1 Axes>"
      ]
     },
     "metadata": {
      "needs_background": "light"
     },
     "output_type": "display_data"
    }
   ],
   "source": [
    "plt.hist(soldCount);"
   ]
  },
  {
   "cell_type": "markdown",
   "metadata": {},
   "source": [
    "#### Categorical Columns are 1) MarketingType, 2) New_Release_Flag\n",
    "### Plotting histograms for the above categorical data"
   ]
  },
  {
   "cell_type": "code",
   "execution_count": 55,
   "metadata": {},
   "outputs": [
    {
     "data": {
      "text/plain": [
       "0        2015\n",
       "1        2005\n",
       "2        2013\n",
       "3        2006\n",
       "4        2010\n",
       "         ... \n",
       "75991    2008\n",
       "75992    2004\n",
       "75993    2006\n",
       "75994    2012\n",
       "75995    2001\n",
       "Name: ReleaseYear, Length: 75996, dtype: int64"
      ]
     },
     "execution_count": 55,
     "metadata": {},
     "output_type": "execute_result"
    }
   ],
   "source": [
    "s1 = sales_data_hist['ReleaseYear']\n",
    "s1"
   ]
  },
  {
   "cell_type": "code",
   "execution_count": 45,
   "metadata": {},
   "outputs": [
    {
     "data": {
      "text/plain": [
       "<matplotlib.axes._subplots.AxesSubplot at 0x1f36e115c48>"
      ]
     },
     "execution_count": 45,
     "metadata": {},
     "output_type": "execute_result"
    },
    {
     "data": {
      "image/png": "[encoded data removed]",
      "text/plain": [
       "<Figure size 432x288 with 1 Axes>"
      ]
     },
     "metadata": {
      "needs_background": "light"
     },
     "output_type": "display_data"
    }
   ],
   "source": [
    "sales_data_hist['ReleaseYear'].value_counts().plot.bar(title = 'Release Year')"
   ]
  },
  {
   "cell_type": "code",
   "execution_count": null,
   "metadata": {},
   "outputs": [],
   "source": []
  },
  {
   "cell_type": "code",
   "execution_count": 47,
   "metadata": {},
   "outputs": [
    {
     "data": {
      "text/plain": [
       "<matplotlib.axes._subplots.AxesSubplot at 0x1f369b81bc8>"
      ]
     },
     "execution_count": 47,
     "metadata": {},
     "output_type": "execute_result"
    },
    {
     "data": {
      "image/png": "[encoded data removed]",
      "text/plain": [
       "<Figure size 432x288 with 1 Axes>"
      ]
     },
     "metadata": {
      "needs_background": "light"
     },
     "output_type": "display_data"
    }
   ],
   "source": [
    "sales_data_hist['ItemCount'].value_counts().plot.bar(title = 'Price Sales')"
   ]
  },
  {
   "cell_type": "code",
   "execution_count": 59,
   "metadata": {},
   "outputs": [
    {
     "data": {
      "image/png": "[encoded data removed]",
      "text/plain": [
       "<Figure size 720x720 with 36 Axes>"
      ]
     },
     "metadata": {
      "needs_background": "light"
     },
     "output_type": "display_data"
    }
   ],
   "source": [
    "col_names = ['StrengthFactor','PriceReg', 'ReleaseYear', 'ItemCount', 'LowUserPrice', 'LowNetPrice']\n",
    "sales_data_hist1 = sales_data_hist[col_names]\n",
    "pd.plotting.scatter_matrix(sales_data_hist1, figsize=(10,10));"
   ]
  },
  {
   "cell_type": "code",
   "execution_count": 75,
   "metadata": {},
   "outputs": [
    {
     "name": "stdout",
     "output_type": "stream",
     "text": [
      "number of elements: 455976\n",
      "number of dimensions: 2\n",
      "shape: (75996, 6)\n",
      "data type: float64\n",
      "strides: (8, 607968)\n",
      "flags:\n",
      "  C_CONTIGUOUS : False\n",
      "  F_CONTIGUOUS : True\n",
      "  OWNDATA : True\n",
      "  WRITEABLE : True\n",
      "  ALIGNED : True\n",
      "  WRITEBACKIFCOPY : False\n",
      "  UPDATEIFCOPY : False\n",
      "\n"
     ]
    }
   ],
   "source": [
    "def print_info(a):\n",
    "    print('number of elements:', a.size)\n",
    "    print('number of dimensions:', a.ndim)\n",
    "    print('shape:', a.shape)\n",
    "    print('data type:', a.dtype)\n",
    "    print('strides:', a.strides)\n",
    "    print('flags:')\n",
    "    print(a.flags)\n",
    "    \n",
    "print_info(a)"
   ]
  },
  {
   "cell_type": "code",
   "execution_count": null,
   "metadata": {},
   "outputs": [],
   "source": [
    "a = np.array(sales_data_hist1)"
   ]
  },
  {
   "cell_type": "code",
   "execution_count": null,
   "metadata": {},
   "outputs": [],
   "source": []
  }
 ],
 "metadata": {
  "kernelspec": {
   "display_name": "Python 3",
   "language": "python",
   "name": "python3"
  },
  "language_info": {
   "codemirror_mode": {
    "name": "ipython",
    "version": 3
   },
   "file_extension": ".py",
   "mimetype": "text/x-python",
   "name": "python",
   "nbconvert_exporter": "python",
   "pygments_lexer": "ipython3",
   "version": "3.7.6"
  }
 },
 "nbformat": 4,
 "nbformat_minor": 4
}
