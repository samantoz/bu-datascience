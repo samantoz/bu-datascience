{
 "cells": [
  {
   "cell_type": "code",
   "execution_count": 9,
   "metadata": {},
   "outputs": [],
   "source": [
    "import sqlite3\n",
    "import pandas as pd"
   ]
  },
  {
   "cell_type": "markdown",
   "metadata": {},
   "source": [
    "### I created the database and the table using the SQL Lite browser\n",
    "### I am using the python code to retrieve the data from the table and showing as a pandas dataframe\n",
    "### I have submitted the SQL Lite database as db_dsc540 along with the code"
   ]
  },
  {
   "cell_type": "code",
   "execution_count": 4,
   "metadata": {},
   "outputs": [],
   "source": [
    "# Opening a connection object to connect to the database\n",
    "con = sqlite3.connect('db_dsc540')"
   ]
  },
  {
   "cell_type": "code",
   "execution_count": 5,
   "metadata": {},
   "outputs": [],
   "source": [
    "# Executing the query as a select statement to fetch data from the table: customer\n",
    "cursor = con.execute('select * from customer')"
   ]
  },
  {
   "cell_type": "code",
   "execution_count": 6,
   "metadata": {},
   "outputs": [],
   "source": [
    "# Fetching all the data into a cursor object after executing the select statement\n",
    "rows = cursor.fetchall()"
   ]
  },
  {
   "cell_type": "code",
   "execution_count": 7,
   "metadata": {},
   "outputs": [
    {
     "data": {
      "text/plain": [
       "[('Customer1', '12234 State Str', 'Omaha', 'NE', '56789', 2345671234),\n",
       " ('Customer2', '1001 One Street', 'Lincoln', 'NE', None, None),\n",
       " ('Customer3', '12345 Pacific Str', 'Omaha', 'NE', '68144', 7689813456),\n",
       " ('Customer4', '6789 California St', 'Omaha', 'NE', '78996', 6789875432),\n",
       " ('Customer5',\n",
       "  'Apt 102, Oliva gardens',\n",
       "  'IOWA City',\n",
       "  'IA',\n",
       "  '76543',\n",
       "  5678901234),\n",
       " ('Customer6', '1 High Street', 'Chicago', 'IL', '98989', 7654321987),\n",
       " ('Customer7', '2 Cinnamon Cir', 'Boston', 'MA', '09876', 7890986543),\n",
       " ('Customer8', '28 Loan Str', 'New York', 'NY', '76760', 8976541234),\n",
       " ('Customer9', '1111 Wall Str', 'Chicago', 'IL', '98765', 8765431234),\n",
       " ('Customer10', '12345 Eagle Run', 'Omaha', 'NE', '87654', 8975432123),\n",
       " ('Customer11', '21 Lincoln Dr', 'Gretna', 'NE', '87870', '')]"
      ]
     },
     "execution_count": 7,
     "metadata": {},
     "output_type": "execute_result"
    }
   ],
   "source": [
    "# Showing the output as a list\n",
    "rows"
   ]
  },
  {
   "cell_type": "code",
   "execution_count": 8,
   "metadata": {},
   "outputs": [
    {
     "data": {
      "text/plain": [
       "(('cust_name', None, None, None, None, None, None),\n",
       " ('cust_address', None, None, None, None, None, None),\n",
       " ('cust_city', None, None, None, None, None, None),\n",
       " ('cust_state', None, None, None, None, None, None),\n",
       " ('cust_zip', None, None, None, None, None, None),\n",
       " ('cust_phone', None, None, None, None, None, None))"
      ]
     },
     "execution_count": 8,
     "metadata": {},
     "output_type": "execute_result"
    }
   ],
   "source": [
    "# The below code shows the description of the columns from the table\n",
    "cursor.description"
   ]
  },
  {
   "cell_type": "code",
   "execution_count": 10,
   "metadata": {},
   "outputs": [
    {
     "data": {
      "text/html": [
       "<div>\n",
       "<style scoped>\n",
       "    .dataframe tbody tr th:only-of-type {\n",
       "        vertical-align: middle;\n",
       "    }\n",
       "\n",
       "    .dataframe tbody tr th {\n",
       "        vertical-align: top;\n",
       "    }\n",
       "\n",
       "    .dataframe thead th {\n",
       "        text-align: right;\n",
       "    }\n",
       "</style>\n",
       "<table border=\"1\" class=\"dataframe\">\n",
       "  <thead>\n",
       "    <tr style=\"text-align: right;\">\n",
       "      <th></th>\n",
       "      <th>cust_name</th>\n",
       "      <th>cust_address</th>\n",
       "      <th>cust_city</th>\n",
       "      <th>cust_state</th>\n",
       "      <th>cust_zip</th>\n",
       "      <th>cust_phone</th>\n",
       "    </tr>\n",
       "  </thead>\n",
       "  <tbody>\n",
       "    <tr>\n",
       "      <th>0</th>\n",
       "      <td>Customer1</td>\n",
       "      <td>12234 State Str</td>\n",
       "      <td>Omaha</td>\n",
       "      <td>NE</td>\n",
       "      <td>56789</td>\n",
       "      <td>2345671234</td>\n",
       "    </tr>\n",
       "    <tr>\n",
       "      <th>1</th>\n",
       "      <td>Customer2</td>\n",
       "      <td>1001 One Street</td>\n",
       "      <td>Lincoln</td>\n",
       "      <td>NE</td>\n",
       "      <td>None</td>\n",
       "      <td>None</td>\n",
       "    </tr>\n",
       "    <tr>\n",
       "      <th>2</th>\n",
       "      <td>Customer3</td>\n",
       "      <td>12345 Pacific Str</td>\n",
       "      <td>Omaha</td>\n",
       "      <td>NE</td>\n",
       "      <td>68144</td>\n",
       "      <td>7689813456</td>\n",
       "    </tr>\n",
       "    <tr>\n",
       "      <th>3</th>\n",
       "      <td>Customer4</td>\n",
       "      <td>6789 California St</td>\n",
       "      <td>Omaha</td>\n",
       "      <td>NE</td>\n",
       "      <td>78996</td>\n",
       "      <td>6789875432</td>\n",
       "    </tr>\n",
       "    <tr>\n",
       "      <th>4</th>\n",
       "      <td>Customer5</td>\n",
       "      <td>Apt 102, Oliva gardens</td>\n",
       "      <td>IOWA City</td>\n",
       "      <td>IA</td>\n",
       "      <td>76543</td>\n",
       "      <td>5678901234</td>\n",
       "    </tr>\n",
       "    <tr>\n",
       "      <th>5</th>\n",
       "      <td>Customer6</td>\n",
       "      <td>1 High Street</td>\n",
       "      <td>Chicago</td>\n",
       "      <td>IL</td>\n",
       "      <td>98989</td>\n",
       "      <td>7654321987</td>\n",
       "    </tr>\n",
       "    <tr>\n",
       "      <th>6</th>\n",
       "      <td>Customer7</td>\n",
       "      <td>2 Cinnamon Cir</td>\n",
       "      <td>Boston</td>\n",
       "      <td>MA</td>\n",
       "      <td>09876</td>\n",
       "      <td>7890986543</td>\n",
       "    </tr>\n",
       "    <tr>\n",
       "      <th>7</th>\n",
       "      <td>Customer8</td>\n",
       "      <td>28 Loan Str</td>\n",
       "      <td>New York</td>\n",
       "      <td>NY</td>\n",
       "      <td>76760</td>\n",
       "      <td>8976541234</td>\n",
       "    </tr>\n",
       "    <tr>\n",
       "      <th>8</th>\n",
       "      <td>Customer9</td>\n",
       "      <td>1111 Wall Str</td>\n",
       "      <td>Chicago</td>\n",
       "      <td>IL</td>\n",
       "      <td>98765</td>\n",
       "      <td>8765431234</td>\n",
       "    </tr>\n",
       "    <tr>\n",
       "      <th>9</th>\n",
       "      <td>Customer10</td>\n",
       "      <td>12345 Eagle Run</td>\n",
       "      <td>Omaha</td>\n",
       "      <td>NE</td>\n",
       "      <td>87654</td>\n",
       "      <td>8975432123</td>\n",
       "    </tr>\n",
       "    <tr>\n",
       "      <th>10</th>\n",
       "      <td>Customer11</td>\n",
       "      <td>21 Lincoln Dr</td>\n",
       "      <td>Gretna</td>\n",
       "      <td>NE</td>\n",
       "      <td>87870</td>\n",
       "      <td></td>\n",
       "    </tr>\n",
       "  </tbody>\n",
       "</table>\n",
       "</div>"
      ],
      "text/plain": [
       "     cust_name            cust_address  cust_city cust_state cust_zip  \\\n",
       "0    Customer1         12234 State Str      Omaha         NE    56789   \n",
       "1    Customer2         1001 One Street    Lincoln         NE     None   \n",
       "2    Customer3       12345 Pacific Str      Omaha         NE    68144   \n",
       "3    Customer4      6789 California St      Omaha         NE    78996   \n",
       "4    Customer5  Apt 102, Oliva gardens  IOWA City         IA    76543   \n",
       "5    Customer6           1 High Street    Chicago         IL    98989   \n",
       "6    Customer7          2 Cinnamon Cir     Boston         MA    09876   \n",
       "7    Customer8             28 Loan Str   New York         NY    76760   \n",
       "8    Customer9           1111 Wall Str    Chicago         IL    98765   \n",
       "9   Customer10         12345 Eagle Run      Omaha         NE    87654   \n",
       "10  Customer11           21 Lincoln Dr     Gretna         NE    87870   \n",
       "\n",
       "    cust_phone  \n",
       "0   2345671234  \n",
       "1         None  \n",
       "2   7689813456  \n",
       "3   6789875432  \n",
       "4   5678901234  \n",
       "5   7654321987  \n",
       "6   7890986543  \n",
       "7   8976541234  \n",
       "8   8765431234  \n",
       "9   8975432123  \n",
       "10              "
      ]
     },
     "execution_count": 10,
     "metadata": {},
     "output_type": "execute_result"
    }
   ],
   "source": [
    "# Loading the data from the rows object into a pandas dataframe\n",
    "# getting the column names from the description\n",
    "pd.DataFrame(rows, columns=[x[0] for x in cursor.description])"
   ]
  },
  {
   "cell_type": "code",
   "execution_count": null,
   "metadata": {},
   "outputs": [],
   "source": []
  }
 ],
 "metadata": {
  "kernelspec": {
   "display_name": "Python 3",
   "language": "python",
   "name": "python3"
  },
  "language_info": {
   "codemirror_mode": {
    "name": "ipython",
    "version": 3
   },
   "file_extension": ".py",
   "mimetype": "text/x-python",
   "name": "python",
   "nbconvert_exporter": "python",
   "pygments_lexer": "ipython3",
   "version": "3.8.3"
  }
 },
 "nbformat": 4,
 "nbformat_minor": 4
}
