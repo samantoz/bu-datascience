{
 "cells": [
  {
   "cell_type": "code",
   "execution_count": 2,
   "metadata": {},
   "outputs": [],
   "source": [
    "import pandas as pd\n",
    "import numpy as np\n",
    "import matplotlib.pyplot as plt\n",
    "%matplotlib inline"
   ]
  },
  {
   "cell_type": "code",
   "execution_count": 3,
   "metadata": {},
   "outputs": [],
   "source": [
    "# Loading all the files into separate dataframes by year\n",
    "df_2014 = pd.read_csv(\"data/2014_Financial_Data.csv\")\n",
    "df_2015 = pd.read_csv(\"data/2015_Financial_Data.csv\")\n",
    "df_2016 = pd.read_csv(\"data/2016_Financial_Data.csv\")\n",
    "df_2017 = pd.read_csv(\"data/2017_Financial_Data.csv\")\n",
    "df_2018 = pd.read_csv(\"data/2018_Financial_Data.csv\")\n",
    "# print the dataframe"
   ]
  },
  {
   "cell_type": "code",
   "execution_count": 23,
   "metadata": {},
   "outputs": [
    {
     "name": "stdout",
     "output_type": "stream",
     "text": [
      "There are: \n",
      " 3808 rows in the 2014 dataset. \n",
      " 4120 rows in the 2015 dataset. \n",
      " 4797 rows in the 2016 dataset. \n",
      " 4960 rows in the 2017 dataset. \n",
      " 4392 rows in the 2018 dataset.\n"
     ]
    }
   ],
   "source": [
    "# printing the output for each data source\n",
    "print(\"There are: \\n {r1[0]} rows in the 2014 dataset. \\n {r2[0]} rows in the 2015 dataset. \\n {r3[0]} rows in the 2016 dataset. \\n {r4[0]} rows in the 2017 dataset. \\n {r5[0]} rows in the 2018 dataset.\"\n",
    "      .format(r1=df_2014.shape,r2=df_2015.shape,r3=df_2016.shape,r4=df_2017.shape,r5=df_2018.shape))"
   ]
  },
  {
   "cell_type": "code",
   "execution_count": 24,
   "metadata": {},
   "outputs": [
    {
     "data": {
      "text/plain": [
       "(4392, 225)"
      ]
     },
     "execution_count": 24,
     "metadata": {},
     "output_type": "execute_result"
    }
   ],
   "source": [
    "df_2018.shape"
   ]
  },
  {
   "cell_type": "code",
   "execution_count": null,
   "metadata": {},
   "outputs": [],
   "source": []
  }
 ],
 "metadata": {
  "kernelspec": {
   "display_name": "Python 3",
   "language": "python",
   "name": "python3"
  },
  "language_info": {
   "codemirror_mode": {
    "name": "ipython",
    "version": 3
   },
   "file_extension": ".py",
   "mimetype": "text/x-python",
   "name": "python",
   "nbconvert_exporter": "python",
   "pygments_lexer": "ipython3",
   "version": "3.8.3"
  }
 },
 "nbformat": 4,
 "nbformat_minor": 4
}
