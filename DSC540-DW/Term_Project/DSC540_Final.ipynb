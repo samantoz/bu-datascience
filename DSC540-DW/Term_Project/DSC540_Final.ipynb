{
 "cells": [
  {
   "cell_type": "markdown",
   "metadata": {},
   "source": [
    "Merging the Data and Storing in a Database/Visualizing Data\n",
    "Now that you have cleaned and transformed your 3 datasets, you need to load them into a\n",
    "database. You can choose what kind of database (SQLLite or MySQL, Postgre SQL are all free\n",
    "options). You will want to load each dataset into SQL Lite as an individual table and then you\n",
    "must join the datasets together in Python into 1 dataset.\n",
    "Once all the data is merged together in your database, create 5 visualizations that demonstrate\n",
    "the data you have cleansed. You should have at least 2 visualizations that have data from more\n",
    "than one source (meaning, if you have 3 tables, you must have visualizations that span across 2\n",
    "of the tables – you are also welcome to use your consolidated dataset that you created in the\n",
    "previous step, if you do that, you have met this requirement)."
   ]
  },
  {
   "cell_type": "markdown",
   "metadata": {},
   "source": [
    "Submit your code for merging and storing in the database, with your code for the visualizations\n",
    "along with a 250-500-word summary of what you learned and had to do to complete the\n",
    "project. You can submit a Jupyter Notebook or a PDF of your code. If you submit a .py file you\n",
    "need to also include a PDF or attachment of your results."
   ]
  },
  {
   "cell_type": "code",
   "execution_count": 3,
   "metadata": {},
   "outputs": [],
   "source": [
    "import sqlite3\n",
    "import pandas as pd\n",
    "import numpy as np\n",
    "import matplotlib.pyplot as plt\n",
    "%matplotlib inline\n",
    "import math"
   ]
  },
  {
   "cell_type": "code",
   "execution_count": 4,
   "metadata": {},
   "outputs": [],
   "source": [
    "# reusing the earlier database db_dsc540 for the final project\n",
    "# Opening a connection object to connect to the database\n",
    "con = sqlite3.connect('db_dsc540')"
   ]
  },
  {
   "cell_type": "code",
   "execution_count": null,
   "metadata": {},
   "outputs": [],
   "source": []
  }
 ],
 "metadata": {
  "kernelspec": {
   "display_name": "Python 3",
   "language": "python",
   "name": "python3"
  },
  "language_info": {
   "codemirror_mode": {
    "name": "ipython",
    "version": 3
   },
   "file_extension": ".py",
   "mimetype": "text/x-python",
   "name": "python",
   "nbconvert_exporter": "python",
   "pygments_lexer": "ipython3",
   "version": "3.8.3"
  }
 },
 "nbformat": 4,
 "nbformat_minor": 4
}
