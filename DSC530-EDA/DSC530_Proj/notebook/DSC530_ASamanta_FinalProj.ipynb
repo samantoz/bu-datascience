{
 "cells": [
  {
   "cell_type": "code",
   "execution_count": 62,
   "metadata": {},
   "outputs": [],
   "source": [
    "# loading the important modules\n",
    "\n",
    "import numpy as np\n",
    "import pandas as pd\n",
    "import seaborn as sns\n",
    "from matplotlib import pyplot as plt\n",
    "import thinkstats2\n",
    "import thinkplot"
   ]
  },
  {
   "cell_type": "code",
   "execution_count": 3,
   "metadata": {},
   "outputs": [],
   "source": [
    "# Reading the orignal dataset using pandas\n",
    "sales_data_orig = pd.read_csv(\"SalesKaggle3.csv\")"
   ]
  },
  {
   "cell_type": "markdown",
   "metadata": {},
   "source": [
    "After loading the data into pandas dataframe, we will look into the various columns to see what values they contain with respect to the range of values and the nature of the columns."
   ]
  },
  {
   "cell_type": "code",
   "execution_count": 4,
   "metadata": {},
   "outputs": [
    {
     "data": {
      "text/html": [
       "<div>\n",
       "<style scoped>\n",
       "    .dataframe tbody tr th:only-of-type {\n",
       "        vertical-align: middle;\n",
       "    }\n",
       "\n",
       "    .dataframe tbody tr th {\n",
       "        vertical-align: top;\n",
       "    }\n",
       "\n",
       "    .dataframe thead th {\n",
       "        text-align: right;\n",
       "    }\n",
       "</style>\n",
       "<table border=\"1\" class=\"dataframe\">\n",
       "  <thead>\n",
       "    <tr style=\"text-align: right;\">\n",
       "      <th></th>\n",
       "      <th>Order</th>\n",
       "      <th>File_Type</th>\n",
       "      <th>SKU_number</th>\n",
       "      <th>SoldFlag</th>\n",
       "      <th>SoldCount</th>\n",
       "      <th>MarketingType</th>\n",
       "      <th>ReleaseNumber</th>\n",
       "      <th>New_Release_Flag</th>\n",
       "      <th>StrengthFactor</th>\n",
       "      <th>PriceReg</th>\n",
       "      <th>ReleaseYear</th>\n",
       "      <th>ItemCount</th>\n",
       "      <th>LowUserPrice</th>\n",
       "      <th>LowNetPrice</th>\n",
       "    </tr>\n",
       "  </thead>\n",
       "  <tbody>\n",
       "    <tr>\n",
       "      <th>0</th>\n",
       "      <td>2</td>\n",
       "      <td>Historical</td>\n",
       "      <td>1737127</td>\n",
       "      <td>0.0</td>\n",
       "      <td>0.0</td>\n",
       "      <td>D</td>\n",
       "      <td>15</td>\n",
       "      <td>1</td>\n",
       "      <td>682743.0</td>\n",
       "      <td>44.99</td>\n",
       "      <td>2015</td>\n",
       "      <td>8</td>\n",
       "      <td>28.97</td>\n",
       "      <td>31.84</td>\n",
       "    </tr>\n",
       "    <tr>\n",
       "      <th>1</th>\n",
       "      <td>3</td>\n",
       "      <td>Historical</td>\n",
       "      <td>3255963</td>\n",
       "      <td>0.0</td>\n",
       "      <td>0.0</td>\n",
       "      <td>D</td>\n",
       "      <td>7</td>\n",
       "      <td>1</td>\n",
       "      <td>1016014.0</td>\n",
       "      <td>24.81</td>\n",
       "      <td>2005</td>\n",
       "      <td>39</td>\n",
       "      <td>0.00</td>\n",
       "      <td>15.54</td>\n",
       "    </tr>\n",
       "    <tr>\n",
       "      <th>2</th>\n",
       "      <td>4</td>\n",
       "      <td>Historical</td>\n",
       "      <td>612701</td>\n",
       "      <td>0.0</td>\n",
       "      <td>0.0</td>\n",
       "      <td>D</td>\n",
       "      <td>0</td>\n",
       "      <td>0</td>\n",
       "      <td>340464.0</td>\n",
       "      <td>46.00</td>\n",
       "      <td>2013</td>\n",
       "      <td>34</td>\n",
       "      <td>30.19</td>\n",
       "      <td>27.97</td>\n",
       "    </tr>\n",
       "    <tr>\n",
       "      <th>3</th>\n",
       "      <td>6</td>\n",
       "      <td>Historical</td>\n",
       "      <td>115883</td>\n",
       "      <td>1.0</td>\n",
       "      <td>1.0</td>\n",
       "      <td>D</td>\n",
       "      <td>4</td>\n",
       "      <td>1</td>\n",
       "      <td>334011.0</td>\n",
       "      <td>100.00</td>\n",
       "      <td>2006</td>\n",
       "      <td>20</td>\n",
       "      <td>133.93</td>\n",
       "      <td>83.15</td>\n",
       "    </tr>\n",
       "    <tr>\n",
       "      <th>4</th>\n",
       "      <td>7</td>\n",
       "      <td>Historical</td>\n",
       "      <td>863939</td>\n",
       "      <td>1.0</td>\n",
       "      <td>1.0</td>\n",
       "      <td>D</td>\n",
       "      <td>2</td>\n",
       "      <td>1</td>\n",
       "      <td>1287938.0</td>\n",
       "      <td>121.95</td>\n",
       "      <td>2010</td>\n",
       "      <td>28</td>\n",
       "      <td>4.00</td>\n",
       "      <td>23.99</td>\n",
       "    </tr>\n",
       "    <tr>\n",
       "      <th>5</th>\n",
       "      <td>8</td>\n",
       "      <td>Historical</td>\n",
       "      <td>214948</td>\n",
       "      <td>0.0</td>\n",
       "      <td>0.0</td>\n",
       "      <td>D</td>\n",
       "      <td>0</td>\n",
       "      <td>0</td>\n",
       "      <td>1783153.0</td>\n",
       "      <td>132.00</td>\n",
       "      <td>2011</td>\n",
       "      <td>33</td>\n",
       "      <td>138.98</td>\n",
       "      <td>13.64</td>\n",
       "    </tr>\n",
       "    <tr>\n",
       "      <th>6</th>\n",
       "      <td>9</td>\n",
       "      <td>Historical</td>\n",
       "      <td>484059</td>\n",
       "      <td>0.0</td>\n",
       "      <td>0.0</td>\n",
       "      <td>D</td>\n",
       "      <td>13</td>\n",
       "      <td>1</td>\n",
       "      <td>2314801.0</td>\n",
       "      <td>95.95</td>\n",
       "      <td>2010</td>\n",
       "      <td>33</td>\n",
       "      <td>90.77</td>\n",
       "      <td>46.49</td>\n",
       "    </tr>\n",
       "    <tr>\n",
       "      <th>7</th>\n",
       "      <td>10</td>\n",
       "      <td>Historical</td>\n",
       "      <td>146401</td>\n",
       "      <td>0.0</td>\n",
       "      <td>0.0</td>\n",
       "      <td>D</td>\n",
       "      <td>4</td>\n",
       "      <td>1</td>\n",
       "      <td>721111.0</td>\n",
       "      <td>207.80</td>\n",
       "      <td>2011</td>\n",
       "      <td>57</td>\n",
       "      <td>187.90</td>\n",
       "      <td>30.56</td>\n",
       "    </tr>\n",
       "    <tr>\n",
       "      <th>8</th>\n",
       "      <td>11</td>\n",
       "      <td>Historical</td>\n",
       "      <td>110568</td>\n",
       "      <td>0.0</td>\n",
       "      <td>0.0</td>\n",
       "      <td>D</td>\n",
       "      <td>11</td>\n",
       "      <td>1</td>\n",
       "      <td>436667.0</td>\n",
       "      <td>119.81</td>\n",
       "      <td>2008</td>\n",
       "      <td>36</td>\n",
       "      <td>63.99</td>\n",
       "      <td>96.92</td>\n",
       "    </tr>\n",
       "    <tr>\n",
       "      <th>9</th>\n",
       "      <td>12</td>\n",
       "      <td>Historical</td>\n",
       "      <td>764270</td>\n",
       "      <td>0.0</td>\n",
       "      <td>0.0</td>\n",
       "      <td>D</td>\n",
       "      <td>5</td>\n",
       "      <td>1</td>\n",
       "      <td>6652211.0</td>\n",
       "      <td>49.95</td>\n",
       "      <td>2004</td>\n",
       "      <td>19</td>\n",
       "      <td>53.99</td>\n",
       "      <td>28.99</td>\n",
       "    </tr>\n",
       "  </tbody>\n",
       "</table>\n",
       "</div>"
      ],
      "text/plain": [
       "   Order   File_Type  SKU_number  SoldFlag  SoldCount MarketingType  \\\n",
       "0      2  Historical     1737127       0.0        0.0             D   \n",
       "1      3  Historical     3255963       0.0        0.0             D   \n",
       "2      4  Historical      612701       0.0        0.0             D   \n",
       "3      6  Historical      115883       1.0        1.0             D   \n",
       "4      7  Historical      863939       1.0        1.0             D   \n",
       "5      8  Historical      214948       0.0        0.0             D   \n",
       "6      9  Historical      484059       0.0        0.0             D   \n",
       "7     10  Historical      146401       0.0        0.0             D   \n",
       "8     11  Historical      110568       0.0        0.0             D   \n",
       "9     12  Historical      764270       0.0        0.0             D   \n",
       "\n",
       "   ReleaseNumber  New_Release_Flag  StrengthFactor  PriceReg  ReleaseYear  \\\n",
       "0             15                 1        682743.0     44.99         2015   \n",
       "1              7                 1       1016014.0     24.81         2005   \n",
       "2              0                 0        340464.0     46.00         2013   \n",
       "3              4                 1        334011.0    100.00         2006   \n",
       "4              2                 1       1287938.0    121.95         2010   \n",
       "5              0                 0       1783153.0    132.00         2011   \n",
       "6             13                 1       2314801.0     95.95         2010   \n",
       "7              4                 1        721111.0    207.80         2011   \n",
       "8             11                 1        436667.0    119.81         2008   \n",
       "9              5                 1       6652211.0     49.95         2004   \n",
       "\n",
       "   ItemCount  LowUserPrice  LowNetPrice  \n",
       "0          8         28.97        31.84  \n",
       "1         39          0.00        15.54  \n",
       "2         34         30.19        27.97  \n",
       "3         20        133.93        83.15  \n",
       "4         28          4.00        23.99  \n",
       "5         33        138.98        13.64  \n",
       "6         33         90.77        46.49  \n",
       "7         57        187.90        30.56  \n",
       "8         36         63.99        96.92  \n",
       "9         19         53.99        28.99  "
      ]
     },
     "execution_count": 4,
     "metadata": {},
     "output_type": "execute_result"
    }
   ],
   "source": [
    "# Gist of the dataset. Showing the sample of 10 rows from the top.\n",
    "\n",
    "sales_data_orig.head(10)"
   ]
  },
  {
   "cell_type": "code",
   "execution_count": 5,
   "metadata": {},
   "outputs": [
    {
     "data": {
      "text/plain": [
       "Index(['Order', 'File_Type', 'SKU_number', 'SoldFlag', 'SoldCount',\n",
       "       'MarketingType', 'ReleaseNumber', 'New_Release_Flag', 'StrengthFactor',\n",
       "       'PriceReg', 'ReleaseYear', 'ItemCount', 'LowUserPrice', 'LowNetPrice'],\n",
       "      dtype='object')"
      ]
     },
     "execution_count": 5,
     "metadata": {},
     "output_type": "execute_result"
    }
   ],
   "source": [
    "# Showing the columns in the dataset\n",
    "sales_data_orig.columns"
   ]
  },
  {
   "cell_type": "code",
   "execution_count": 6,
   "metadata": {},
   "outputs": [
    {
     "name": "stdout",
     "output_type": "stream",
     "text": [
      "<class 'pandas.core.frame.DataFrame'>\n",
      "RangeIndex: 198917 entries, 0 to 198916\n",
      "Data columns (total 14 columns):\n",
      " #   Column            Non-Null Count   Dtype  \n",
      "---  ------            --------------   -----  \n",
      " 0   Order             198917 non-null  int64  \n",
      " 1   File_Type         198917 non-null  object \n",
      " 2   SKU_number        198917 non-null  int64  \n",
      " 3   SoldFlag          75996 non-null   float64\n",
      " 4   SoldCount         75996 non-null   float64\n",
      " 5   MarketingType     198917 non-null  object \n",
      " 6   ReleaseNumber     198917 non-null  int64  \n",
      " 7   New_Release_Flag  198917 non-null  int64  \n",
      " 8   StrengthFactor    198917 non-null  float64\n",
      " 9   PriceReg          198917 non-null  float64\n",
      " 10  ReleaseYear       198917 non-null  int64  \n",
      " 11  ItemCount         198917 non-null  int64  \n",
      " 12  LowUserPrice      198917 non-null  float64\n",
      " 13  LowNetPrice       198917 non-null  float64\n",
      "dtypes: float64(6), int64(6), object(2)\n",
      "memory usage: 21.2+ MB\n"
     ]
    }
   ],
   "source": [
    "# Basic data set information\n",
    "sales_data_orig.info()"
   ]
  },
  {
   "cell_type": "code",
   "execution_count": 7,
   "metadata": {},
   "outputs": [
    {
     "data": {
      "text/plain": [
       "(198917, 14)"
      ]
     },
     "execution_count": 7,
     "metadata": {},
     "output_type": "execute_result"
    }
   ],
   "source": [
    "# Summary of the total rows and columns in the dataset\n",
    "# So there are in total 198917 rows and 14 columns which are show above with the datatype\n",
    "sales_data_orig.shape"
   ]
  },
  {
   "cell_type": "markdown",
   "metadata": {},
   "source": [
    "The dataset is divided into two sets of data based on the File_Type as mentioned in the description of the data source in kaggle.\n",
    "historical cases: we have 75996 historical cases which needs to be analyzed.\n",
    "active cases: we have 122921 active cases which needs to be analyzed."
   ]
  },
  {
   "cell_type": "code",
   "execution_count": 8,
   "metadata": {},
   "outputs": [
    {
     "name": "stdout",
     "output_type": "stream",
     "text": [
      "Historical dataset Count:  75996\n",
      "   Current dataset Count:  122921\n"
     ]
    }
   ],
   "source": [
    "# Differenciating the historical from the current data in the dataset and getting the record counts\n",
    "df_hist = sales_data_orig[sales_data_orig['File_Type'] == 'Historical']\n",
    "df_act = sales_data_orig[sales_data_orig['File_Type'] == 'Active']\n",
    "\n",
    "\n",
    "print ('Historical dataset Count: ', df_hist.Order.count())\n",
    "print ('   Current dataset Count: ', df_act.Order.count())"
   ]
  },
  {
   "cell_type": "markdown",
   "metadata": {},
   "source": [
    "As a next logical step we are going to verify the history dataset for any missing or NaN values. As this will be our dataset for doing the EDA."
   ]
  },
  {
   "cell_type": "code",
   "execution_count": 9,
   "metadata": {},
   "outputs": [
    {
     "data": {
      "text/plain": [
       "False"
      ]
     },
     "execution_count": 9,
     "metadata": {},
     "output_type": "execute_result"
    }
   ],
   "source": [
    "# As this returns False so that means that we do not have any Null values in the train dataset.\n",
    "df_hist.isnull().values.any()"
   ]
  },
  {
   "cell_type": "code",
   "execution_count": 10,
   "metadata": {},
   "outputs": [
    {
     "data": {
      "text/plain": [
       "True"
      ]
     },
     "execution_count": 10,
     "metadata": {},
     "output_type": "execute_result"
    }
   ],
   "source": [
    "# As this returns True so that means that we do have Null values in the Test/Current dataset.\n",
    "# Lets find out what are those\n",
    "df_act.isnull().values.any()"
   ]
  },
  {
   "cell_type": "code",
   "execution_count": 11,
   "metadata": {},
   "outputs": [
    {
     "data": {
      "text/plain": [
       "Order                    0\n",
       "File_Type                0\n",
       "SKU_number               0\n",
       "SoldFlag            122921\n",
       "SoldCount           122921\n",
       "MarketingType            0\n",
       "ReleaseNumber            0\n",
       "New_Release_Flag         0\n",
       "StrengthFactor           0\n",
       "PriceReg                 0\n",
       "ReleaseYear              0\n",
       "ItemCount                0\n",
       "LowUserPrice             0\n",
       "LowNetPrice              0\n",
       "dtype: int64"
      ]
     },
     "execution_count": 11,
     "metadata": {},
     "output_type": "execute_result"
    }
   ],
   "source": [
    "# This shows that the missing values are for the two features SoldFlag and SoldCount\n",
    "# As expected those will be null to start with.\n",
    "df_act.isnull().sum()"
   ]
  },
  {
   "cell_type": "markdown",
   "metadata": {},
   "source": [
    "So lets start working on the historical dataset. This dataset has out of 75996 observations of which 63000 are not sold in the last 6 months and 12,996 got sold.So we would like to see how the sold inventories are behaving as part of our EDA task."
   ]
  },
  {
   "cell_type": "code",
   "execution_count": 13,
   "metadata": {},
   "outputs": [
    {
     "data": {
      "text/plain": [
       "0.0    63000\n",
       "1.0    12996\n",
       "Name: SoldFlag, dtype: int64"
      ]
     },
     "execution_count": 13,
     "metadata": {},
     "output_type": "execute_result"
    }
   ],
   "source": [
    "df_hist['SoldFlag'].value_counts()"
   ]
  },
  {
   "cell_type": "code",
   "execution_count": 18,
   "metadata": {},
   "outputs": [
    {
     "name": "stdout",
     "output_type": "stream",
     "text": [
      "Sold Count : 1.0    12996\n",
      "Name: SoldFlag, dtype: int64\n",
      "UnSold Count : 0.0    63000\n",
      "Name: SoldFlag, dtype: int64\n"
     ]
    }
   ],
   "source": [
    "# Now lets differentiate the historical dataset into 2 subsets \n",
    "# df_hist      :  Total Historical inventories\n",
    "# df_hist_sold :  Sold inventories\n",
    "# df_hist_unsold: Unsold inventories\n",
    "#\n",
    "df_hist_sold = df_hist[df_hist['SoldCount']>0]\n",
    "df_hist_unsold = df_hist[df_hist['SoldCount']== 0]\n",
    "\n",
    "sold_cnt = df_hist_sold.SoldFlag.value_counts()\n",
    "unsold_cnt = df_hist_unsold.SoldFlag.value_counts()\n",
    "\n",
    "print('Sold Count :', sold_cnt)\n",
    "print('UnSold Count :', unsold_cnt)\n"
   ]
  },
  {
   "cell_type": "markdown",
   "metadata": {},
   "source": [
    "For Categorical columns we plot the histograms using the value_counts() and plot.bar.\n",
    "1) The first bar plot shows the comparisons between the two types of marketing on the total dataset.\n",
    "2) The bar plot shows that most of the items were sold less than 5 times of which majority is sold only once.\n",
    "3) This plot shows that the number of items sold by Release year was most between 2006 and 2012.\n",
    "4)\n",
    "5) The last plot is the correlation matrix of the int/float attributes. We found that there we no attributes that was highly correlated to another attribute in this historical dataset."
   ]
  },
  {
   "cell_type": "code",
   "execution_count": 21,
   "metadata": {},
   "outputs": [
    {
     "data": {
      "text/plain": [
       "S    40877\n",
       "D    35119\n",
       "Name: MarketingType, dtype: int64"
      ]
     },
     "execution_count": 21,
     "metadata": {},
     "output_type": "execute_result"
    }
   ],
   "source": [
    "# Count by Marketing type\n",
    "df_hist['MarketingType'].value_counts()"
   ]
  },
  {
   "cell_type": "code",
   "execution_count": 89,
   "metadata": {},
   "outputs": [
    {
     "data": {
      "image/png": "[encoded data removed]",
      "text/plain": [
       "<Figure size 432x288 with 1 Axes>"
      ]
     },
     "metadata": {
      "needs_background": "light"
     },
     "output_type": "display_data"
    }
   ],
   "source": [
    "# Bar plot showing it\n",
    "df_hist['MarketingType'].value_counts().plot.bar(title = 'Freq dist of Marketing Type');\n",
    "\n",
    "# plt.savefig('fig1.png', dpi=300, bbox_inches='tight')"
   ]
  },
  {
   "cell_type": "code",
   "execution_count": 90,
   "metadata": {},
   "outputs": [
    {
     "data": {
      "image/png": "[encoded data removed]",
      "text/plain": [
       "<Figure size 720x288 with 1 Axes>"
      ]
     },
     "metadata": {
      "needs_background": "light"
     },
     "output_type": "display_data"
    }
   ],
   "source": [
    "# The below bar plot shows that most of the Items were sold less than 5 counts\n",
    "df_hist_sold.SoldCount.value_counts().sort_index().plot.bar(title = 'Number of Items Sold',figsize=(10,4));\n",
    "\n",
    "# plt.savefig('fig2.png', dpi=300, bbox_inches='tight')"
   ]
  },
  {
   "cell_type": "code",
   "execution_count": 91,
   "metadata": {},
   "outputs": [
    {
     "data": {
      "image/png": "[encoded data removed]",
      "text/plain": [
       "<Figure size 720x288 with 1 Axes>"
      ]
     },
     "metadata": {
      "needs_background": "light"
     },
     "output_type": "display_data"
    }
   ],
   "source": [
    "# This plot shows that the number of items sold by Release year was most between 2006 and 2012.\n",
    "df_hist_sold.ReleaseYear.value_counts().sort_index(ascending=False).plot.bar(title = 'Items Sold by Release Year',figsize=(10,4));\n",
    "\n",
    "# plt.savefig('fig3.png', dpi=300, bbox_inches='tight')"
   ]
  },
  {
   "cell_type": "code",
   "execution_count": 45,
   "metadata": {},
   "outputs": [
    {
     "name": "stdout",
     "output_type": "stream",
     "text": [
      "<class 'pandas.core.frame.DataFrame'>\n",
      "Int64Index: 75996 entries, 0 to 75995\n",
      "Data columns (total 7 columns):\n",
      " #   Column          Non-Null Count  Dtype  \n",
      "---  ------          --------------  -----  \n",
      " 0   SoldCount       75996 non-null  float64\n",
      " 1   StrengthFactor  75996 non-null  float64\n",
      " 2   PriceReg        75996 non-null  float64\n",
      " 3   ReleaseYear     75996 non-null  int64  \n",
      " 4   ItemCount       75996 non-null  int64  \n",
      " 5   LowUserPrice    75996 non-null  float64\n",
      " 6   LowNetPrice     75996 non-null  float64\n",
      "dtypes: float64(5), int64(2)\n",
      "memory usage: 4.6 MB\n"
     ]
    }
   ],
   "source": [
    "# Dropping the below 7 columns from the dataset for further analysis as these features are not currently relevant \n",
    "# This is required as we are building the next part of our analysis only on the int/float values.\n",
    "\n",
    "df_hist_sales_data = df_hist.drop(['Order','File_Type','SKU_number','SoldFlag','MarketingType','ReleaseNumber','New_Release_Flag'], axis = 1)\n",
    "df_hist_sales_data.info()"
   ]
  },
  {
   "cell_type": "markdown",
   "metadata": {},
   "source": [
    "Correlation matrix compares each attribute in the dataset with each of the other attributes to find out the correlation coefficient. Highly Correlated attributes are helpful in building a model. They would have the same variance within the dataset."
   ]
  },
  {
   "cell_type": "code",
   "execution_count": 92,
   "metadata": {},
   "outputs": [
    {
     "data": {
      "image/png": "[encoded data removed]",
      "text/plain": [
       "<Figure size 720x576 with 2 Axes>"
      ]
     },
     "metadata": {
      "needs_background": "light"
     },
     "output_type": "display_data"
    }
   ],
   "source": [
    "# generating the Correlation matrix\n",
    "# In this dataset we don't see any attributes to be highly correlated to another.\n",
    "f, ax = plt.subplots(figsize=(10,8))\n",
    "corr = df_hist_sales_data.corr()\n",
    "\n",
    "sns.heatmap(corr,\n",
    "           xticklabels=corr.columns.values,\n",
    "           yticklabels=corr.columns.values);\n",
    "# plt.savefig('fig4.png', dpi=300, bbox_inches='tight')"
   ]
  },
  {
   "cell_type": "markdown",
   "metadata": {},
   "source": [
    "We will be using Box plots below in order to identify the outliers in our attributes.\n",
    "The Inter Quartile Range (Q3 - Q1) can be used to idntify the outliers."
   ]
  },
  {
   "cell_type": "code",
   "execution_count": 60,
   "metadata": {},
   "outputs": [
    {
     "data": {
      "image/png": "[encoded data removed]",
      "text/plain": [
       "<Figure size 432x288 with 1 Axes>"
      ]
     },
     "metadata": {
      "needs_background": "light"
     },
     "output_type": "display_data"
    }
   ],
   "source": [
    "# Outlier Detection using Box plots\n",
    "sns.boxplot(y=df_hist_sales_data.SoldCount)\n",
    "plt.title('Box plot', fontsize=10)\n",
    "plt.xlabel('Number of Items Sold', fontsize=8)\n",
    "plt.show()"
   ]
  },
  {
   "cell_type": "code",
   "execution_count": 61,
   "metadata": {},
   "outputs": [
    {
     "data": {
      "text/plain": [
       "count    75996.000000\n",
       "mean         0.322306\n",
       "std          1.168615\n",
       "min          0.000000\n",
       "25%          0.000000\n",
       "50%          0.000000\n",
       "75%          0.000000\n",
       "max         73.000000\n",
       "Name: SoldCount, dtype: float64"
      ]
     },
     "execution_count": 61,
     "metadata": {},
     "output_type": "execute_result"
    }
   ],
   "source": [
    "df_hist_sales_data.SoldCount.describe()"
   ]
  },
  {
   "cell_type": "code",
   "execution_count": 56,
   "metadata": {},
   "outputs": [
    {
     "data": {
      "image/png": "[encoded data removed]",
      "text/plain": [
       "<Figure size 432x288 with 1 Axes>"
      ]
     },
     "metadata": {
      "needs_background": "light"
     },
     "output_type": "display_data"
    }
   ],
   "source": [
    "# Outlier Detection using Box plots\n",
    "sns.boxplot(y=df_hist_sales_data.ItemCount)\n",
    "plt.title('Box plot', fontsize=10)\n",
    "plt.xlabel('Item Count', fontsize=8)\n",
    "plt.show()"
   ]
  },
  {
   "cell_type": "code",
   "execution_count": 57,
   "metadata": {},
   "outputs": [
    {
     "data": {
      "text/plain": [
       "count    75996.000000\n",
       "mean        43.843637\n",
       "std         37.362231\n",
       "min          0.000000\n",
       "25%         22.000000\n",
       "50%         34.000000\n",
       "75%         53.000000\n",
       "max       1523.000000\n",
       "Name: ItemCount, dtype: float64"
      ]
     },
     "execution_count": 57,
     "metadata": {},
     "output_type": "execute_result"
    }
   ],
   "source": [
    "df_hist_sales_data.ItemCount.describe()"
   ]
  },
  {
   "cell_type": "code",
   "execution_count": 58,
   "metadata": {},
   "outputs": [
    {
     "data": {
      "image/png": "[encoded data removed]",
      "text/plain": [
       "<Figure size 432x288 with 1 Axes>"
      ]
     },
     "metadata": {
      "needs_background": "light"
     },
     "output_type": "display_data"
    }
   ],
   "source": [
    "# Outlier Detection using Box plots\n",
    "sns.boxplot(y=df_hist_sales_data.PriceReg)\n",
    "plt.title('Box plot', fontsize=10)\n",
    "plt.xlabel('Regular Price', fontsize=8)\n",
    "plt.show()"
   ]
  },
  {
   "cell_type": "code",
   "execution_count": 59,
   "metadata": {},
   "outputs": [
    {
     "data": {
      "text/plain": [
       "count    75996.000000\n",
       "mean        98.730594\n",
       "std         78.712358\n",
       "min          0.000000\n",
       "25%         49.950000\n",
       "50%         78.950000\n",
       "75%        127.000000\n",
       "max       3986.310000\n",
       "Name: PriceReg, dtype: float64"
      ]
     },
     "execution_count": 59,
     "metadata": {},
     "output_type": "execute_result"
    }
   ],
   "source": [
    "df_hist_sales_data.PriceReg.describe()"
   ]
  },
  {
   "cell_type": "code",
   "execution_count": 64,
   "metadata": {},
   "outputs": [
    {
     "data": {
      "text/plain": [
       "count    75996.000000\n",
       "mean         0.322306\n",
       "std          1.168615\n",
       "min          0.000000\n",
       "25%          0.000000\n",
       "50%          0.000000\n",
       "75%          0.000000\n",
       "max         73.000000\n",
       "Name: SoldCount, dtype: float64"
      ]
     },
     "execution_count": 64,
     "metadata": {},
     "output_type": "execute_result"
    }
   ],
   "source": [
    "df_hist_sales_data.SoldCount.describe()"
   ]
  },
  {
   "cell_type": "code",
   "execution_count": 68,
   "metadata": {},
   "outputs": [],
   "source": [
    "once = df_hist_sales_data[df_hist_sales_data.SoldCount == 1]\n",
    "more = df_hist_sales_data[df_hist_sales_data.SoldCount > 1]"
   ]
  },
  {
   "cell_type": "code",
   "execution_count": 67,
   "metadata": {},
   "outputs": [
    {
     "data": {
      "text/plain": [
       "count    8179.0\n",
       "mean        1.0\n",
       "std         0.0\n",
       "min         1.0\n",
       "25%         1.0\n",
       "50%         1.0\n",
       "75%         1.0\n",
       "max         1.0\n",
       "Name: SoldCount, dtype: float64"
      ]
     },
     "execution_count": 67,
     "metadata": {},
     "output_type": "execute_result"
    }
   ],
   "source": [
    "once.SoldCount.describe()"
   ]
  },
  {
   "cell_type": "code",
   "execution_count": 69,
   "metadata": {},
   "outputs": [
    {
     "data": {
      "text/plain": [
       "count    4817.000000\n",
       "mean        3.386963\n",
       "std         3.164926\n",
       "min         2.000000\n",
       "25%         2.000000\n",
       "50%         2.000000\n",
       "75%         4.000000\n",
       "max        73.000000\n",
       "Name: SoldCount, dtype: float64"
      ]
     },
     "execution_count": 69,
     "metadata": {},
     "output_type": "execute_result"
    }
   ],
   "source": [
    "more.SoldCount.describe()"
   ]
  },
  {
   "cell_type": "code",
   "execution_count": 70,
   "metadata": {},
   "outputs": [],
   "source": [
    "once_pmf = thinkstats2.Pmf(once.PriceReg, label = 'once')\n",
    "more_pmf = thinkstats2.Pmf(more.PriceReg, label = 'more')"
   ]
  },
  {
   "cell_type": "code",
   "execution_count": 71,
   "metadata": {},
   "outputs": [
    {
     "data": {
      "text/plain": [
       "count    4817.000000\n",
       "mean      117.341528\n",
       "std        87.066119\n",
       "min         0.000000\n",
       "25%        55.750000\n",
       "50%        99.000000\n",
       "75%       161.500000\n",
       "max      1733.670000\n",
       "Name: PriceReg, dtype: float64"
      ]
     },
     "execution_count": 71,
     "metadata": {},
     "output_type": "execute_result"
    }
   ],
   "source": [
    "more.PriceReg.describe()"
   ]
  },
  {
   "cell_type": "code",
   "execution_count": 72,
   "metadata": {},
   "outputs": [
    {
     "data": {
      "text/plain": [
       "count    8179.000000\n",
       "mean      110.959275\n",
       "std        83.539892\n",
       "min         0.000000\n",
       "25%        54.635000\n",
       "50%        91.950000\n",
       "75%       146.875000\n",
       "max      2000.000000\n",
       "Name: PriceReg, dtype: float64"
      ]
     },
     "execution_count": 72,
     "metadata": {},
     "output_type": "execute_result"
    }
   ],
   "source": [
    "once.PriceReg.describe()"
   ]
  },
  {
   "cell_type": "code",
   "execution_count": 95,
   "metadata": {},
   "outputs": [
    {
     "data": {
      "image/png": "[encoded data removed]",
      "text/plain": [
       "<Figure size 864x432 with 1 Axes>"
      ]
     },
     "metadata": {
      "needs_background": "light"
     },
     "output_type": "display_data"
    }
   ],
   "source": [
    "width = 5\n",
    "axis = [50, 200, 0, .01]\n",
    "thinkplot.PrePlot(2, cols=2)\n",
    "thinkplot.Hist(once_pmf, align='right', width=width)\n",
    "thinkplot.Hist(more_pmf, align='left', width=width)\n",
    "thinkplot.Config(xlabel='Regular Price', ylabel='PMF', axis=axis, loc='upper right')\n",
    "\n",
    "# plt.savefig('fig5.png', dpi=300, bbox_inches='tight')"
   ]
  },
  {
   "cell_type": "code",
   "execution_count": 81,
   "metadata": {},
   "outputs": [
    {
     "data": {
      "image/png": "[encoded data removed]",
      "text/plain": [
       "<Figure size 432x288 with 1 Axes>"
      ]
     },
     "metadata": {
      "needs_background": "light"
     },
     "output_type": "display_data"
    }
   ],
   "source": [
    "axis = [50, 200, 0, .01]\n",
    "thinkplot.PrePlot(2)\n",
    "thinkplot.SubPlot(2)\n",
    "thinkplot.Pmfs([once_pmf,more_pmf])\n",
    "thinkplot.Config(xlabel='Regular Price', ylabel='PMF', axis=axis)"
   ]
  },
  {
   "cell_type": "code",
   "execution_count": 99,
   "metadata": {},
   "outputs": [
    {
     "data": {
      "image/png": "[encoded data removed]",
      "text/plain": [
       "<Figure size 432x288 with 1 Axes>"
      ]
     },
     "metadata": {
      "needs_background": "light"
     },
     "output_type": "display_data"
    }
   ],
   "source": [
    "cdf = thinkstats2.Cdf(df_hist_sales_data.PriceReg, label='PriceReg')\n",
    "thinkplot.Cdf(cdf)\n",
    "thinkplot.Config(xlabel=' Regular Price', ylabel='CDF', loc='lower right')\n",
    "\n",
    "# plt.savefig('fig6.png', dpi=300, bbox_inches='tight')"
   ]
  },
  {
   "cell_type": "code",
   "execution_count": 102,
   "metadata": {},
   "outputs": [
    {
     "name": "stdout",
     "output_type": "stream",
     "text": [
      " Median Price : 78.95\n",
      " 10 Percentile: 32.5\n",
      " 99 Percentile: 195.95\n"
     ]
    }
   ],
   "source": [
    "print(' Median Price :', cdf.Value(.5))\n",
    "print(' 10 Percentile:', cdf.Value(.1))\n",
    "print(' 99 Percentile:', cdf.Value(.90))\n"
   ]
  },
  {
   "cell_type": "markdown",
   "metadata": {},
   "source": [
    "The CDF above shows that the median price is $78 and 10% of the items are less than $32 while 90% of the items are less than $200."
   ]
  },
  {
   "cell_type": "markdown",
   "metadata": {},
   "source": [
    "Showing the analytical distribution of the items remaining in the inventory after deducting the sold counts from the historical data"
   ]
  },
  {
   "cell_type": "code",
   "execution_count": 115,
   "metadata": {},
   "outputs": [
    {
     "data": {
      "text/html": [
       "<div>\n",
       "<style scoped>\n",
       "    .dataframe tbody tr th:only-of-type {\n",
       "        vertical-align: middle;\n",
       "    }\n",
       "\n",
       "    .dataframe tbody tr th {\n",
       "        vertical-align: top;\n",
       "    }\n",
       "\n",
       "    .dataframe thead th {\n",
       "        text-align: right;\n",
       "    }\n",
       "</style>\n",
       "<table border=\"1\" class=\"dataframe\">\n",
       "  <thead>\n",
       "    <tr style=\"text-align: right;\">\n",
       "      <th></th>\n",
       "      <th>SoldCount</th>\n",
       "      <th>StrengthFactor</th>\n",
       "      <th>PriceReg</th>\n",
       "      <th>ReleaseYear</th>\n",
       "      <th>ItemCount</th>\n",
       "      <th>LowUserPrice</th>\n",
       "      <th>LowNetPrice</th>\n",
       "      <th>ItemRem</th>\n",
       "    </tr>\n",
       "  </thead>\n",
       "  <tbody>\n",
       "    <tr>\n",
       "      <th>count</th>\n",
       "      <td>75992.000000</td>\n",
       "      <td>7.599200e+04</td>\n",
       "      <td>75992.000000</td>\n",
       "      <td>75992.000000</td>\n",
       "      <td>75992.000000</td>\n",
       "      <td>75992.000000</td>\n",
       "      <td>75992.000000</td>\n",
       "      <td>75992.000000</td>\n",
       "    </tr>\n",
       "    <tr>\n",
       "      <th>mean</th>\n",
       "      <td>0.321073</td>\n",
       "      <td>1.222471e+06</td>\n",
       "      <td>98.733245</td>\n",
       "      <td>2005.972984</td>\n",
       "      <td>43.845115</td>\n",
       "      <td>56.707676</td>\n",
       "      <td>47.185782</td>\n",
       "      <td>43.524042</td>\n",
       "    </tr>\n",
       "    <tr>\n",
       "      <th>std</th>\n",
       "      <td>1.140192</td>\n",
       "      <td>1.540550e+06</td>\n",
       "      <td>78.713243</td>\n",
       "      <td>6.113731</td>\n",
       "      <td>37.362460</td>\n",
       "      <td>104.759788</td>\n",
       "      <td>129.817755</td>\n",
       "      <td>37.116961</td>\n",
       "    </tr>\n",
       "    <tr>\n",
       "      <th>min</th>\n",
       "      <td>0.000000</td>\n",
       "      <td>6.800000e+01</td>\n",
       "      <td>0.000000</td>\n",
       "      <td>1935.000000</td>\n",
       "      <td>0.000000</td>\n",
       "      <td>0.000000</td>\n",
       "      <td>0.000000</td>\n",
       "      <td>0.000000</td>\n",
       "    </tr>\n",
       "    <tr>\n",
       "      <th>25%</th>\n",
       "      <td>0.000000</td>\n",
       "      <td>2.446812e+05</td>\n",
       "      <td>49.950000</td>\n",
       "      <td>2003.000000</td>\n",
       "      <td>22.000000</td>\n",
       "      <td>20.490000</td>\n",
       "      <td>18.740000</td>\n",
       "      <td>22.000000</td>\n",
       "    </tr>\n",
       "    <tr>\n",
       "      <th>50%</th>\n",
       "      <td>0.000000</td>\n",
       "      <td>7.160165e+05</td>\n",
       "      <td>78.950000</td>\n",
       "      <td>2007.000000</td>\n",
       "      <td>34.000000</td>\n",
       "      <td>44.030000</td>\n",
       "      <td>36.130000</td>\n",
       "      <td>34.000000</td>\n",
       "    </tr>\n",
       "    <tr>\n",
       "      <th>75%</th>\n",
       "      <td>0.000000</td>\n",
       "      <td>1.554108e+06</td>\n",
       "      <td>127.000000</td>\n",
       "      <td>2010.000000</td>\n",
       "      <td>53.000000</td>\n",
       "      <td>79.372500</td>\n",
       "      <td>56.920000</td>\n",
       "      <td>53.000000</td>\n",
       "    </tr>\n",
       "    <tr>\n",
       "      <th>max</th>\n",
       "      <td>73.000000</td>\n",
       "      <td>1.666966e+07</td>\n",
       "      <td>3986.310000</td>\n",
       "      <td>2017.000000</td>\n",
       "      <td>1523.000000</td>\n",
       "      <td>14140.210000</td>\n",
       "      <td>19138.790000</td>\n",
       "      <td>1522.000000</td>\n",
       "    </tr>\n",
       "  </tbody>\n",
       "</table>\n",
       "</div>"
      ],
      "text/plain": [
       "          SoldCount  StrengthFactor      PriceReg   ReleaseYear     ItemCount  \\\n",
       "count  75992.000000    7.599200e+04  75992.000000  75992.000000  75992.000000   \n",
       "mean       0.321073    1.222471e+06     98.733245   2005.972984     43.845115   \n",
       "std        1.140192    1.540550e+06     78.713243      6.113731     37.362460   \n",
       "min        0.000000    6.800000e+01      0.000000   1935.000000      0.000000   \n",
       "25%        0.000000    2.446812e+05     49.950000   2003.000000     22.000000   \n",
       "50%        0.000000    7.160165e+05     78.950000   2007.000000     34.000000   \n",
       "75%        0.000000    1.554108e+06    127.000000   2010.000000     53.000000   \n",
       "max       73.000000    1.666966e+07   3986.310000   2017.000000   1523.000000   \n",
       "\n",
       "       LowUserPrice   LowNetPrice       ItemRem  \n",
       "count  75992.000000  75992.000000  75992.000000  \n",
       "mean      56.707676     47.185782     43.524042  \n",
       "std      104.759788    129.817755     37.116961  \n",
       "min        0.000000      0.000000      0.000000  \n",
       "25%       20.490000     18.740000     22.000000  \n",
       "50%       44.030000     36.130000     34.000000  \n",
       "75%       79.372500     56.920000     53.000000  \n",
       "max    14140.210000  19138.790000   1522.000000  "
      ]
     },
     "execution_count": 115,
     "metadata": {},
     "output_type": "execute_result"
    }
   ],
   "source": [
    "# Adding a new column 'ItemRem' in the history sales data\n",
    "# Removing the 4 items that had sold more than the Items avaialble\n",
    "\n",
    "df_hist_sales_data['ItemRem'] = df_hist_sales_data.ItemCount - df_hist_sales_data.SoldCount\n",
    "df_hist_sales_data = df_hist_sales_data[df_hist_sales_data.ItemRem >=0]\n",
    "df_hist_sales_data.describe()"
   ]
  },
  {
   "cell_type": "code",
   "execution_count": 166,
   "metadata": {},
   "outputs": [
    {
     "name": "stdout",
     "output_type": "stream",
     "text": [
      "Mean, Var 41.70227193382926 766.672442403909\n",
      "Sigma 27.688850507088752\n"
     ]
    },
    {
     "data": {
      "image/png": "[encoded data removed]",
      "text/plain": [
       "<Figure size 432x288 with 1 Axes>"
      ]
     },
     "metadata": {
      "needs_background": "light"
     },
     "output_type": "display_data"
    }
   ],
   "source": [
    "# Generating the inventory from the history file and removing outliers for better fit\n",
    "items = df_hist_sales_data.ItemRem\n",
    "\n",
    "mu, var = thinkstats2.TrimmedMeanVar(items, p=0.01)\n",
    "print('Mean, Var', mu, var)\n",
    "\n",
    "# plot the analytic model\n",
    "sigma = np.sqrt(var)\n",
    "print('Sigma', sigma)\n",
    "xs, ps = thinkstats2.RenderNormalCdf(mu, sigma, low=0, high=100)\n",
    "\n",
    "thinkplot.Plot(xs, ps, label='model', color ='0.6')\n",
    "thinkplot.Config(title = 'Inventory of Items not Sold',\n",
    "                xlabel = 'Items Remaining',\n",
    "                ylabel = 'CDF')\n",
    "# plt.savefig('fig7.png', dpi=300, bbox_inches='tight')"
   ]
  },
  {
   "cell_type": "markdown",
   "metadata": {},
   "source": [
    "Creating 2 scatter plots trying to show the correlation and causation.\n",
    "1) comparing the two variables 'PriceReg': Regular Price and the 'SoldCount': # of items sold \n",
    "2) comparing the other two variables 'LowUserPrice': Low User Price and the 'LowNetPrice': Low Net Price"
   ]
  },
  {
   "cell_type": "code",
   "execution_count": 124,
   "metadata": {},
   "outputs": [],
   "source": [
    "# lets start with the historical data.\n",
    "df = sales_data_orig[sales_data_orig['File_Type'] == 'Historical']"
   ]
  },
  {
   "cell_type": "code",
   "execution_count": 125,
   "metadata": {},
   "outputs": [],
   "source": [
    "# Lets take a random subset of a DataFrame\n",
    "def SampleRows(df, nrows, replace=False):\n",
    "    indices = np.random.choice(df.index, nrows, replace = replace)\n",
    "    sample = df.loc[indices]\n",
    "    return sample"
   ]
  },
  {
   "cell_type": "code",
   "execution_count": 148,
   "metadata": {},
   "outputs": [],
   "source": [
    "# Lets extract the price in '$' and the Sold Count in number from the sample\n",
    "sample = SampleRows(df, 5000)\n",
    "price, soldCnt = sample.PriceReg, sample.SoldCount"
   ]
  },
  {
   "cell_type": "code",
   "execution_count": 167,
   "metadata": {},
   "outputs": [
    {
     "data": {
      "image/png": "[encoded data removed]",
      "text/plain": [
       "<Figure size 432x288 with 1 Axes>"
      ]
     },
     "metadata": {
      "needs_background": "light"
     },
     "output_type": "display_data"
    }
   ],
   "source": [
    "# here is the simple scatter plot\n",
    "thinkplot.Scatter(price, soldCnt, alpha = 1)\n",
    "thinkplot.Config(title = 'Scatter plot of Price and Items Sold',\n",
    "                xlabel = 'Price',\n",
    "                ylabel = 'Items Sold',\n",
    "                axis=[0, 500, 0, 15],\n",
    "                legend = False)\n",
    "# plt.savefig('fig8.png', dpi=300, bbox_inches='tight')"
   ]
  },
  {
   "cell_type": "code",
   "execution_count": 150,
   "metadata": {},
   "outputs": [],
   "source": [
    "# Lets extract the two prices from the sample\n",
    "sample = SampleRows(df, 5000)\n",
    "userprice, netprice = sample.LowUserPrice, sample.LowNetPrice"
   ]
  },
  {
   "cell_type": "code",
   "execution_count": 168,
   "metadata": {},
   "outputs": [
    {
     "data": {
      "image/png": "[encoded data removed]",
      "text/plain": [
       "<Figure size 432x288 with 1 Axes>"
      ]
     },
     "metadata": {
      "needs_background": "light"
     },
     "output_type": "display_data"
    }
   ],
   "source": [
    "# here is the simple scatter plot\n",
    "thinkplot.Scatter(userprice, netprice, alpha = 1)\n",
    "thinkplot.Config(title = 'Scatter plot of User Price and Net Price',\n",
    "                xlabel = 'User Price',\n",
    "                ylabel = 'Net Price',\n",
    "                axis=[0, 400, 0, 300],\n",
    "                legend = False)\n",
    "# plt.savefig('fig9.png', dpi=300, bbox_inches='tight')"
   ]
  },
  {
   "cell_type": "code",
   "execution_count": 152,
   "metadata": {},
   "outputs": [],
   "source": [
    "# using spearman correlation provided by the pandas series\n",
    "def SpearmanCorr(xs, ys):\n",
    "    xs = pd.Series(xs)\n",
    "    ys = pd.Series(ys)\n",
    "    return xs.corr(ys, method='spearman')"
   ]
  },
  {
   "cell_type": "code",
   "execution_count": 153,
   "metadata": {},
   "outputs": [
    {
     "data": {
      "text/plain": [
       "0.07274698160337743"
      ]
     },
     "execution_count": 153,
     "metadata": {},
     "output_type": "execute_result"
    }
   ],
   "source": [
    "# Calculating the Spearman Correlation for the two sets of variables\n",
    "SpearmanCorr(price, soldCnt)"
   ]
  },
  {
   "cell_type": "code",
   "execution_count": 154,
   "metadata": {},
   "outputs": [
    {
     "data": {
      "text/plain": [
       "0.20503117946374924"
      ]
     },
     "execution_count": 154,
     "metadata": {},
     "output_type": "execute_result"
    }
   ],
   "source": [
    "# Calculating the Spearman Correlation for the two sets of variables\n",
    "SpearmanCorr(userprice, netprice)"
   ]
  },
  {
   "cell_type": "markdown",
   "metadata": {},
   "source": [
    "Covariance is useful for some calculations, but it doesn't mean much by itself. The coefficient of correlation is a standardized version of covariance that is easier to interpret.\n",
    "Spearman's correlation is more robust, and it can handle non-linear relationships as long as they are monotonic.\n",
    "In my above two cases the correlation of coeff is higher for the second relationship, although not very significant.\n",
    "As the relationship is very weak we cannot say anything related to the causation from the correlation."
   ]
  },
  {
   "cell_type": "markdown",
   "metadata": {},
   "source": [
    "Hypothesis Testing \n",
    "\n",
    "Testing the difference in the mean price for the items sold is less than the mean price of the items not sold. We will test if the effect is statistically significant.\n",
    "The Null hypothesis is that the distributions for the two groups are the same. One way to model the hypothesis is by permutation; that is we can take values for the mean price of items sold and others and shuffle them.\n",
    "\n",
    "The hypothesis under test is that price of item sold is less than the price of item not sold, so using test statistic of raw difference between the prices, and the absolute value of the difference. In both the cases, the p-value is significantly small, so the null hypothesis is ignored."
   ]
  },
  {
   "cell_type": "code",
   "execution_count": 169,
   "metadata": {},
   "outputs": [],
   "source": [
    "\n",
    "class DiffMeansPermute(thinkstats2.HypothesisTest):\n",
    "\n",
    "    def TestStatistic(self, data):\n",
    "        group1, group2 = data\n",
    "        test_stat = abs(group1.mean() - group2.mean())\n",
    "        return test_stat\n",
    "\n",
    "    def MakeModel(self):\n",
    "        group1, group2 = self.data\n",
    "        self.n, self.m = len(group1), len(group2)\n",
    "        self.pool = np.hstack((group1, group2))\n",
    "\n",
    "    def RunModel(self):\n",
    "        np.random.shuffle(self.pool)\n",
    "        data = self.pool[:self.n], self.pool[self.n:]\n",
    "        return data"
   ]
  },
  {
   "cell_type": "code",
   "execution_count": 172,
   "metadata": {},
   "outputs": [
    {
     "data": {
      "text/plain": [
       "(array([100.  , 121.95, 120.39, ...,  45.  ,  50.  ,  49.99]),\n",
       " array([ 44.99,  24.81,  46.  , ..., 142.75,  50.  ,  46.95]))"
      ]
     },
     "execution_count": 172,
     "metadata": {},
     "output_type": "execute_result"
    }
   ],
   "source": [
    "df = sales_data_orig[sales_data_orig['File_Type'] == 'Historical']\n",
    "# Taking the mean price of items sold and the items not sold\n",
    "price_sold = df[df.SoldFlag > 0]\n",
    "price_notsold = df[df.SoldFlag == 0]\n",
    "\n",
    "data = price_sold.PriceReg.values, price_notsold.PriceReg.values\n"
   ]
  },
  {
   "cell_type": "code",
   "execution_count": 173,
   "metadata": {},
   "outputs": [
    {
     "data": {
      "text/plain": [
       "0.0"
      ]
     },
     "execution_count": 173,
     "metadata": {},
     "output_type": "execute_result"
    }
   ],
   "source": [
    "# The p-value is , which means it is plausible that the observed difference is just the result of random sampling, \n",
    "# and might not be generally true in the population.\n",
    "ht = DiffMeansPermute(data)\n",
    "pvalue = ht.PValue()\n",
    "pvalue"
   ]
  },
  {
   "cell_type": "code",
   "execution_count": 174,
   "metadata": {},
   "outputs": [
    {
     "data": {
      "image/png": "[encoded data removed]",
      "text/plain": [
       "<Figure size 432x288 with 1 Axes>"
      ]
     },
     "metadata": {
      "needs_background": "light"
     },
     "output_type": "display_data"
    }
   ],
   "source": [
    "ht.PlotCdf()\n",
    "thinkplot.Config(xlabel='test statistic',\n",
    "                   ylabel='CDF')"
   ]
  },
  {
   "cell_type": "code",
   "execution_count": 175,
   "metadata": {},
   "outputs": [],
   "source": [
    "class DiffMeansOneSided(DiffMeansPermute):\n",
    "\n",
    "    def TestStatistic(self, data):\n",
    "        group1, group2 = data\n",
    "        test_stat = group1.mean() - group2.mean()\n",
    "        return test_stat"
   ]
  },
  {
   "cell_type": "code",
   "execution_count": 176,
   "metadata": {},
   "outputs": [
    {
     "data": {
      "text/plain": [
       "0.0"
      ]
     },
     "execution_count": 176,
     "metadata": {},
     "output_type": "execute_result"
    }
   ],
   "source": [
    "ht = DiffMeansOneSided(data)\n",
    "pvalue = ht.PValue()\n",
    "pvalue"
   ]
  },
  {
   "cell_type": "markdown",
   "metadata": {},
   "source": [
    "Logistic Regression\n",
    "We are trying to predict the endogenous variable (dependant) variable sold flag using a logistic model. So that the retail firm can decide which products to keep in the inventory and which ones to discard.\n",
    "We would be modeling this variable using the history dataset df.\n",
    "1) Initially we are trying to predict the SoldFlag using the PriceReg explanatory variable. As per the below output, the PriceReg is positive which suggests that higher priced items should be mainatined in the inventory. \n",
    "But the p-value of 0.000 suggest it is purely due to chance.\n",
    "2) Now let us build the model with more explanatory variables like, PriceReg, StrengthFactor, ReleaseYear, ItemCount, LowUserPrice, LowNetPrice"
   ]
  },
  {
   "cell_type": "code",
   "execution_count": 163,
   "metadata": {},
   "outputs": [
    {
     "name": "stdout",
     "output_type": "stream",
     "text": [
      "Optimization terminated successfully.\n",
      "         Current function value: 0.454239\n",
      "         Iterations 6\n"
     ]
    },
    {
     "data": {
      "text/html": [
       "<table class=\"simpletable\">\n",
       "<caption>Logit Regression Results</caption>\n",
       "<tr>\n",
       "  <th>Dep. Variable:</th>       <td>SoldFlag</td>     <th>  No. Observations:  </th>   <td> 75996</td>  \n",
       "</tr>\n",
       "<tr>\n",
       "  <th>Model:</th>                 <td>Logit</td>      <th>  Df Residuals:      </th>   <td> 75994</td>  \n",
       "</tr>\n",
       "<tr>\n",
       "  <th>Method:</th>                 <td>MLE</td>       <th>  Df Model:          </th>   <td>     1</td>  \n",
       "</tr>\n",
       "<tr>\n",
       "  <th>Date:</th>            <td>Fri, 07 Aug 2020</td> <th>  Pseudo R-squ.:     </th>  <td>0.007089</td> \n",
       "</tr>\n",
       "<tr>\n",
       "  <th>Time:</th>                <td>20:08:48</td>     <th>  Log-Likelihood:    </th>  <td> -34520.</td> \n",
       "</tr>\n",
       "<tr>\n",
       "  <th>converged:</th>             <td>True</td>       <th>  LL-Null:           </th>  <td> -34767.</td> \n",
       "</tr>\n",
       "<tr>\n",
       "  <th>Covariance Type:</th>     <td>nonrobust</td>    <th>  LLR p-value:       </th> <td>3.287e-109</td>\n",
       "</tr>\n",
       "</table>\n",
       "<table class=\"simpletable\">\n",
       "<tr>\n",
       "      <td></td>         <th>coef</th>     <th>std err</th>      <th>z</th>      <th>P>|z|</th>  <th>[0.025</th>    <th>0.975]</th>  \n",
       "</tr>\n",
       "<tr>\n",
       "  <th>Intercept</th> <td>   -1.8502</td> <td>    0.016</td> <td> -114.739</td> <td> 0.000</td> <td>   -1.882</td> <td>   -1.819</td>\n",
       "</tr>\n",
       "<tr>\n",
       "  <th>PriceReg</th>  <td>    0.0026</td> <td>    0.000</td> <td>   21.899</td> <td> 0.000</td> <td>    0.002</td> <td>    0.003</td>\n",
       "</tr>\n",
       "</table>"
      ],
      "text/plain": [
       "<class 'statsmodels.iolib.summary.Summary'>\n",
       "\"\"\"\n",
       "                           Logit Regression Results                           \n",
       "==============================================================================\n",
       "Dep. Variable:               SoldFlag   No. Observations:                75996\n",
       "Model:                          Logit   Df Residuals:                    75994\n",
       "Method:                           MLE   Df Model:                            1\n",
       "Date:                Fri, 07 Aug 2020   Pseudo R-squ.:                0.007089\n",
       "Time:                        20:08:48   Log-Likelihood:                -34520.\n",
       "converged:                       True   LL-Null:                       -34767.\n",
       "Covariance Type:            nonrobust   LLR p-value:                3.287e-109\n",
       "==============================================================================\n",
       "                 coef    std err          z      P>|z|      [0.025      0.975]\n",
       "------------------------------------------------------------------------------\n",
       "Intercept     -1.8502      0.016   -114.739      0.000      -1.882      -1.819\n",
       "PriceReg       0.0026      0.000     21.899      0.000       0.002       0.003\n",
       "==============================================================================\n",
       "\"\"\""
      ]
     },
     "execution_count": 163,
     "metadata": {},
     "output_type": "execute_result"
    }
   ],
   "source": [
    "import statsmodels.formula.api as smf\n",
    "\n",
    "model = smf.logit('SoldFlag ~ PriceReg', data = df)\n",
    "results = model.fit()\n",
    "results.summary()"
   ]
  },
  {
   "cell_type": "code",
   "execution_count": 164,
   "metadata": {},
   "outputs": [
    {
     "name": "stdout",
     "output_type": "stream",
     "text": [
      "Optimization terminated successfully.\n",
      "         Current function value: 0.424272\n",
      "         Iterations 7\n"
     ]
    },
    {
     "data": {
      "text/html": [
       "<table class=\"simpletable\">\n",
       "<caption>Logit Regression Results</caption>\n",
       "<tr>\n",
       "  <th>Dep. Variable:</th>       <td>SoldFlag</td>     <th>  No. Observations:  </th>  <td> 75996</td> \n",
       "</tr>\n",
       "<tr>\n",
       "  <th>Model:</th>                 <td>Logit</td>      <th>  Df Residuals:      </th>  <td> 75989</td> \n",
       "</tr>\n",
       "<tr>\n",
       "  <th>Method:</th>                 <td>MLE</td>       <th>  Df Model:          </th>  <td>     6</td> \n",
       "</tr>\n",
       "<tr>\n",
       "  <th>Date:</th>            <td>Fri, 07 Aug 2020</td> <th>  Pseudo R-squ.:     </th>  <td>0.07259</td>\n",
       "</tr>\n",
       "<tr>\n",
       "  <th>Time:</th>                <td>20:22:52</td>     <th>  Log-Likelihood:    </th> <td> -32243.</td>\n",
       "</tr>\n",
       "<tr>\n",
       "  <th>converged:</th>             <td>True</td>       <th>  LL-Null:           </th> <td> -34767.</td>\n",
       "</tr>\n",
       "<tr>\n",
       "  <th>Covariance Type:</th>     <td>nonrobust</td>    <th>  LLR p-value:       </th>  <td> 0.000</td> \n",
       "</tr>\n",
       "</table>\n",
       "<table class=\"simpletable\">\n",
       "<tr>\n",
       "         <td></td>           <th>coef</th>     <th>std err</th>      <th>z</th>      <th>P>|z|</th>  <th>[0.025</th>    <th>0.975]</th>  \n",
       "</tr>\n",
       "<tr>\n",
       "  <th>Intercept</th>      <td>  -16.8969</td> <td>    3.843</td> <td>   -4.397</td> <td> 0.000</td> <td>  -24.429</td> <td>   -9.365</td>\n",
       "</tr>\n",
       "<tr>\n",
       "  <th>PriceReg</th>       <td>    0.0017</td> <td>    0.000</td> <td>   13.013</td> <td> 0.000</td> <td>    0.001</td> <td>    0.002</td>\n",
       "</tr>\n",
       "<tr>\n",
       "  <th>StrengthFactor</th> <td>-2.791e-07</td> <td> 1.17e-08</td> <td>  -23.848</td> <td> 0.000</td> <td>-3.02e-07</td> <td>-2.56e-07</td>\n",
       "</tr>\n",
       "<tr>\n",
       "  <th>ReleaseYear</th>    <td>    0.0074</td> <td>    0.002</td> <td>    3.842</td> <td> 0.000</td> <td>    0.004</td> <td>    0.011</td>\n",
       "</tr>\n",
       "<tr>\n",
       "  <th>ItemCount</th>      <td>    0.0116</td> <td>    0.000</td> <td>   41.262</td> <td> 0.000</td> <td>    0.011</td> <td>    0.012</td>\n",
       "</tr>\n",
       "<tr>\n",
       "  <th>LowUserPrice</th>   <td>    0.0020</td> <td>    0.000</td> <td>   10.921</td> <td> 0.000</td> <td>    0.002</td> <td>    0.002</td>\n",
       "</tr>\n",
       "<tr>\n",
       "  <th>LowNetPrice</th>    <td>   -0.0004</td> <td>    0.000</td> <td>   -2.046</td> <td> 0.041</td> <td>   -0.001</td> <td>-1.65e-05</td>\n",
       "</tr>\n",
       "</table>"
      ],
      "text/plain": [
       "<class 'statsmodels.iolib.summary.Summary'>\n",
       "\"\"\"\n",
       "                           Logit Regression Results                           \n",
       "==============================================================================\n",
       "Dep. Variable:               SoldFlag   No. Observations:                75996\n",
       "Model:                          Logit   Df Residuals:                    75989\n",
       "Method:                           MLE   Df Model:                            6\n",
       "Date:                Fri, 07 Aug 2020   Pseudo R-squ.:                 0.07259\n",
       "Time:                        20:22:52   Log-Likelihood:                -32243.\n",
       "converged:                       True   LL-Null:                       -34767.\n",
       "Covariance Type:            nonrobust   LLR p-value:                     0.000\n",
       "==================================================================================\n",
       "                     coef    std err          z      P>|z|      [0.025      0.975]\n",
       "----------------------------------------------------------------------------------\n",
       "Intercept        -16.8969      3.843     -4.397      0.000     -24.429      -9.365\n",
       "PriceReg           0.0017      0.000     13.013      0.000       0.001       0.002\n",
       "StrengthFactor -2.791e-07   1.17e-08    -23.848      0.000   -3.02e-07   -2.56e-07\n",
       "ReleaseYear        0.0074      0.002      3.842      0.000       0.004       0.011\n",
       "ItemCount          0.0116      0.000     41.262      0.000       0.011       0.012\n",
       "LowUserPrice       0.0020      0.000     10.921      0.000       0.002       0.002\n",
       "LowNetPrice       -0.0004      0.000     -2.046      0.041      -0.001   -1.65e-05\n",
       "==================================================================================\n",
       "\"\"\""
      ]
     },
     "execution_count": 164,
     "metadata": {},
     "output_type": "execute_result"
    }
   ],
   "source": [
    "# Explanatory variables: PriceReg, StrengthFactor, ReleaseYear, ItemCount, LowUserPrice, LowNetPrice\n",
    "formula = 'SoldFlag ~ PriceReg + StrengthFactor + ReleaseYear + ItemCount + LowUserPrice + LowNetPrice'\n",
    "model = smf.logit(formula, data = df)\n",
    "results = model.fit()\n",
    "results.summary()"
   ]
  },
  {
   "cell_type": "code",
   "execution_count": 165,
   "metadata": {},
   "outputs": [
    {
     "name": "stdout",
     "output_type": "stream",
     "text": [
      "Optimization terminated successfully.\n",
      "         Current function value: 0.424309\n",
      "         Iterations 7\n"
     ]
    },
    {
     "data": {
      "text/html": [
       "<table class=\"simpletable\">\n",
       "<caption>Logit Regression Results</caption>\n",
       "<tr>\n",
       "  <th>Dep. Variable:</th>       <td>SoldFlag</td>     <th>  No. Observations:  </th>  <td> 75996</td> \n",
       "</tr>\n",
       "<tr>\n",
       "  <th>Model:</th>                 <td>Logit</td>      <th>  Df Residuals:      </th>  <td> 75990</td> \n",
       "</tr>\n",
       "<tr>\n",
       "  <th>Method:</th>                 <td>MLE</td>       <th>  Df Model:          </th>  <td>     5</td> \n",
       "</tr>\n",
       "<tr>\n",
       "  <th>Date:</th>            <td>Fri, 07 Aug 2020</td> <th>  Pseudo R-squ.:     </th>  <td>0.07251</td>\n",
       "</tr>\n",
       "<tr>\n",
       "  <th>Time:</th>                <td>20:24:05</td>     <th>  Log-Likelihood:    </th> <td> -32246.</td>\n",
       "</tr>\n",
       "<tr>\n",
       "  <th>converged:</th>             <td>True</td>       <th>  LL-Null:           </th> <td> -34767.</td>\n",
       "</tr>\n",
       "<tr>\n",
       "  <th>Covariance Type:</th>     <td>nonrobust</td>    <th>  LLR p-value:       </th>  <td> 0.000</td> \n",
       "</tr>\n",
       "</table>\n",
       "<table class=\"simpletable\">\n",
       "<tr>\n",
       "         <td></td>           <th>coef</th>     <th>std err</th>      <th>z</th>      <th>P>|z|</th>  <th>[0.025</th>    <th>0.975]</th>  \n",
       "</tr>\n",
       "<tr>\n",
       "  <th>Intercept</th>      <td>  -16.6151</td> <td>    3.834</td> <td>   -4.334</td> <td> 0.000</td> <td>  -24.129</td> <td>   -9.101</td>\n",
       "</tr>\n",
       "<tr>\n",
       "  <th>PriceReg</th>       <td>    0.0016</td> <td>    0.000</td> <td>   12.893</td> <td> 0.000</td> <td>    0.001</td> <td>    0.002</td>\n",
       "</tr>\n",
       "<tr>\n",
       "  <th>StrengthFactor</th> <td>-2.781e-07</td> <td> 1.17e-08</td> <td>  -23.816</td> <td> 0.000</td> <td>-3.01e-07</td> <td>-2.55e-07</td>\n",
       "</tr>\n",
       "<tr>\n",
       "  <th>ReleaseYear</th>    <td>    0.0072</td> <td>    0.002</td> <td>    3.774</td> <td> 0.000</td> <td>    0.003</td> <td>    0.011</td>\n",
       "</tr>\n",
       "<tr>\n",
       "  <th>ItemCount</th>      <td>    0.0117</td> <td>    0.000</td> <td>   42.635</td> <td> 0.000</td> <td>    0.011</td> <td>    0.012</td>\n",
       "</tr>\n",
       "<tr>\n",
       "  <th>LowUserPrice</th>   <td>    0.0020</td> <td>    0.000</td> <td>   10.826</td> <td> 0.000</td> <td>    0.002</td> <td>    0.002</td>\n",
       "</tr>\n",
       "</table>"
      ],
      "text/plain": [
       "<class 'statsmodels.iolib.summary.Summary'>\n",
       "\"\"\"\n",
       "                           Logit Regression Results                           \n",
       "==============================================================================\n",
       "Dep. Variable:               SoldFlag   No. Observations:                75996\n",
       "Model:                          Logit   Df Residuals:                    75990\n",
       "Method:                           MLE   Df Model:                            5\n",
       "Date:                Fri, 07 Aug 2020   Pseudo R-squ.:                 0.07251\n",
       "Time:                        20:24:05   Log-Likelihood:                -32246.\n",
       "converged:                       True   LL-Null:                       -34767.\n",
       "Covariance Type:            nonrobust   LLR p-value:                     0.000\n",
       "==================================================================================\n",
       "                     coef    std err          z      P>|z|      [0.025      0.975]\n",
       "----------------------------------------------------------------------------------\n",
       "Intercept        -16.6151      3.834     -4.334      0.000     -24.129      -9.101\n",
       "PriceReg           0.0016      0.000     12.893      0.000       0.001       0.002\n",
       "StrengthFactor -2.781e-07   1.17e-08    -23.816      0.000   -3.01e-07   -2.55e-07\n",
       "ReleaseYear        0.0072      0.002      3.774      0.000       0.003       0.011\n",
       "ItemCount          0.0117      0.000     42.635      0.000       0.011       0.012\n",
       "LowUserPrice       0.0020      0.000     10.826      0.000       0.002       0.002\n",
       "==================================================================================\n",
       "\"\"\""
      ]
     },
     "execution_count": 165,
     "metadata": {},
     "output_type": "execute_result"
    }
   ],
   "source": [
    "# Explanatory variables: PriceReg, StrengthFactor, ReleaseYear, ItemCount, LowUserPrice, LowNetPrice\n",
    "formula = 'SoldFlag ~ PriceReg + StrengthFactor + ReleaseYear + ItemCount + LowUserPrice'\n",
    "model = smf.logit(formula, data = df)\n",
    "results = model.fit()\n",
    "results.summary()"
   ]
  },
  {
   "cell_type": "code",
   "execution_count": null,
   "metadata": {},
   "outputs": [],
   "source": []
  }
 ],
 "metadata": {
  "kernelspec": {
   "display_name": "Python 3",
   "language": "python",
   "name": "python3"
  },
  "language_info": {
   "codemirror_mode": {
    "name": "ipython",
    "version": 3
   },
   "file_extension": ".py",
   "mimetype": "text/x-python",
   "name": "python",
   "nbconvert_exporter": "python",
   "pygments_lexer": "ipython3",
   "version": "3.7.6"
  }
 },
 "nbformat": 4,
 "nbformat_minor": 4
}
